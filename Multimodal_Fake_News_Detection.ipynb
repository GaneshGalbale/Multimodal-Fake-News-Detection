{
 "nbformat": 4,
 "nbformat_minor": 0,
 "metadata": {
  "colab": {
   "provenance": [],
   "gpuType": "T4"
  },
  "kernelspec": {
   "name": "python3",
   "display_name": "Python 3"
  },
  "language_info": {
   "name": "python"
  },
  "accelerator": "GPU",
  "widgets": {
   "application/vnd.jupyter.widget-state+json": {
    "state": {},
    "version_major": 2,
    "version_minor": 0
   }
  }
 },
 "cells": [
  {
   "cell_type": "code",
   "execution_count": null,
   "metadata": {
    "id": "DHFul2y3iySn",
    "colab": {
     "base_uri": "https://localhost:8080/",
     "height": 73
    },
    "outputId": "53e231e3-9422-478a-ad56-be9bc525f7f7"
   },
   "outputs": [
    {
     "output_type": "display_data",
     "data": {
      "text/plain": [
       "<IPython.core.display.HTML object>"
      ],
      "text/html": [
       "\n",
       "     <input type=\"file\" id=\"files-182063be-8079-4730-b9bf-08fa2ec4637b\" name=\"files[]\" multiple disabled\n",
       "        style=\"border:none\" />\n",
       "     <output id=\"result-182063be-8079-4730-b9bf-08fa2ec4637b\">\n",
       "      Upload widget is only available when the cell has been executed in the\n",
       "      current browser session. Please rerun this cell to enable.\n",
       "      </output>\n",
       "      <script>// Copyright 2017 Google LLC\n",
       "//\n",
       "// Licensed under the Apache License, Version 2.0 (the \"License\");\n",
       "// you may not use this file except in compliance with the License.\n",
       "// You may obtain a copy of the License at\n",
       "//\n",
       "//      http://www.apache.org/licenses/LICENSE-2.0\n",
       "//\n",
       "// Unless required by applicable law or agreed to in writing, software\n",
       "// distributed under the License is distributed on an \"AS IS\" BASIS,\n",
       "// WITHOUT WARRANTIES OR CONDITIONS OF ANY KIND, either express or implied.\n",
       "// See the License for the specific language governing permissions and\n",
       "// limitations under the License.\n",
       "\n",
       "/**\n",
       " * @fileoverview Helpers for google.colab Python module.\n",
       " */\n",
       "(function(scope) {\n",
       "function span(text, styleAttributes = {}) {\n",
       "  const element = document.createElement('span');\n",
       "  element.textContent = text;\n",
       "  for (const key of Object.keys(styleAttributes)) {\n",
       "    element.style[key] = styleAttributes[key];\n",
       "  }\n",
       "  return element;\n",
       "}\n",
       "\n",
       "// Max number of bytes which will be uploaded at a time.\n",
       "const MAX_PAYLOAD_SIZE = 100 * 1024;\n",
       "\n",
       "function _uploadFiles(inputId, outputId) {\n",
       "  const steps = uploadFilesStep(inputId, outputId);\n",
       "  const outputElement = document.getElementById(outputId);\n",
       "  // Cache steps on the outputElement to make it available for the next call\n",
       "  // to uploadFilesContinue from Python.\n",
       "  outputElement.steps = steps;\n",
       "\n",
       "  return _uploadFilesContinue(outputId);\n",
       "}\n",
       "\n",
       "// This is roughly an async generator (not supported in the browser yet),\n",
       "// where there are multiple asynchronous steps and the Python side is going\n",
       "// to poll for completion of each step.\n",
       "// This uses a Promise to block the python side on completion of each step,\n",
       "// then passes the result of the previous step as the input to the next step.\n",
       "function _uploadFilesContinue(outputId) {\n",
       "  const outputElement = document.getElementById(outputId);\n",
       "  const steps = outputElement.steps;\n",
       "\n",
       "  const next = steps.next(outputElement.lastPromiseValue);\n",
       "  return Promise.resolve(next.value.promise).then((value) => {\n",
       "    // Cache the last promise value to make it available to the next\n",
       "    // step of the generator.\n",
       "    outputElement.lastPromiseValue = value;\n",
       "    return next.value.response;\n",
       "  });\n",
       "}\n",
       "\n",
       "/**\n",
       " * Generator function which is called between each async step of the upload\n",
       " * process.\n",
       " * @param {string} inputId Element ID of the input file picker element.\n",
       " * @param {string} outputId Element ID of the output display.\n",
       " * @return {!Iterable<!Object>} Iterable of next steps.\n",
       " */\n",
       "function* uploadFilesStep(inputId, outputId) {\n",
       "  const inputElement = document.getElementById(inputId);\n",
       "  inputElement.disabled = false;\n",
       "\n",
       "  const outputElement = document.getElementById(outputId);\n",
       "  outputElement.innerHTML = '';\n",
       "\n",
       "  const pickedPromise = new Promise((resolve) => {\n",
       "    inputElement.addEventListener('change', (e) => {\n",
       "      resolve(e.target.files);\n",
       "    });\n",
       "  });\n",
       "\n",
       "  const cancel = document.createElement('button');\n",
       "  inputElement.parentElement.appendChild(cancel);\n",
       "  cancel.textContent = 'Cancel upload';\n",
       "  const cancelPromise = new Promise((resolve) => {\n",
       "    cancel.onclick = () => {\n",
       "      resolve(null);\n",
       "    };\n",
       "  });\n",
       "\n",
       "  // Wait for the user to pick the files.\n",
       "  const files = yield {\n",
       "    promise: Promise.race([pickedPromise, cancelPromise]),\n",
       "    response: {\n",
       "      action: 'starting',\n",
       "    }\n",
       "  };\n",
       "\n",
       "  cancel.remove();\n",
       "\n",
       "  // Disable the input element since further picks are not allowed.\n",
       "  inputElement.disabled = true;\n",
       "\n",
       "  if (!files) {\n",
       "    return {\n",
       "      response: {\n",
       "        action: 'complete',\n",
       "      }\n",
       "    };\n",
       "  }\n",
       "\n",
       "  for (const file of files) {\n",
       "    const li = document.createElement('li');\n",
       "    li.append(span(file.name, {fontWeight: 'bold'}));\n",
       "    li.append(span(\n",
       "        `(${file.type || 'n/a'}) - ${file.size} bytes, ` +\n",
       "        `last modified: ${\n",
       "            file.lastModifiedDate ? file.lastModifiedDate.toLocaleDateString() :\n",
       "                                    'n/a'} - `));\n",
       "    const percent = span('0% done');\n",
       "    li.appendChild(percent);\n",
       "\n",
       "    outputElement.appendChild(li);\n",
       "\n",
       "    const fileDataPromise = new Promise((resolve) => {\n",
       "      const reader = new FileReader();\n",
       "      reader.onload = (e) => {\n",
       "        resolve(e.target.result);\n",
       "      };\n",
       "      reader.readAsArrayBuffer(file);\n",
       "    });\n",
       "    // Wait for the data to be ready.\n",
       "    let fileData = yield {\n",
       "      promise: fileDataPromise,\n",
       "      response: {\n",
       "        action: 'continue',\n",
       "      }\n",
       "    };\n",
       "\n",
       "    // Use a chunked sending to avoid message size limits. See b/62115660.\n",
       "    let position = 0;\n",
       "    do {\n",
       "      const length = Math.min(fileData.byteLength - position, MAX_PAYLOAD_SIZE);\n",
       "      const chunk = new Uint8Array(fileData, position, length);\n",
       "      position += length;\n",
       "\n",
       "      const base64 = btoa(String.fromCharCode.apply(null, chunk));\n",
       "      yield {\n",
       "        response: {\n",
       "          action: 'append',\n",
       "          file: file.name,\n",
       "          data: base64,\n",
       "        },\n",
       "      };\n",
       "\n",
       "      let percentDone = fileData.byteLength === 0 ?\n",
       "          100 :\n",
       "          Math.round((position / fileData.byteLength) * 100);\n",
       "      percent.textContent = `${percentDone}% done`;\n",
       "\n",
       "    } while (position < fileData.byteLength);\n",
       "  }\n",
       "\n",
       "  // All done.\n",
       "  yield {\n",
       "    response: {\n",
       "      action: 'complete',\n",
       "    }\n",
       "  };\n",
       "}\n",
       "\n",
       "scope.google = scope.google || {};\n",
       "scope.google.colab = scope.google.colab || {};\n",
       "scope.google.colab._files = {\n",
       "  _uploadFiles,\n",
       "  _uploadFilesContinue,\n",
       "};\n",
       "})(self);\n",
       "</script> "
      ]
     },
     "metadata": {}
    },
    {
     "output_type": "stream",
     "name": "stdout",
     "text": [
      "Saving multimodal_only_samples.zip to multimodal_only_samples.zip\n"
     ]
    }
   ],
   "source": [
    "from google.colab import files\n",
    "\n",
    "uploaded = files.upload()"
   ]
  },
  {
   "cell_type": "code",
   "source": [
    "import zipfile\n",
    "import os\n",
    "\n",
    "zip_path = \"multimodal_only_samples.zip\"\n",
    "extract_path = \"/content/fakeddit_data\"\n",
    "\n",
    "with zipfile.ZipFile(zip_path, 'r') as zip_ref:\n",
    "    zip_ref.extractall(extract_path)\n",
    "\n",
    "print(\"Unzipped files:\")\n",
    "os.listdir(extract_path)"
   ],
   "metadata": {
    "colab": {
     "base_uri": "https://localhost:8080/"
    },
    "id": "LCNuFOMbjYkw",
    "outputId": "cfa2297d-68c9-4fb9-d377-19fdb6d58853"
   },
   "execution_count": null,
   "outputs": [
    {
     "output_type": "stream",
     "name": "stdout",
     "text": [
      "Unzipped files:\n"
     ]
    },
    {
     "output_type": "execute_result",
     "data": {
      "text/plain": [
       "['multimodal_only_samples']"
      ]
     },
     "metadata": {},
     "execution_count": 2
    }
   ]
  },
  {
   "cell_type": "code",
   "source": [
    "import pandas as pd\n",
    "\n",
    "train_df = pd.read_csv('/content/fakeddit_data/multimodal_only_samples/multimodal_train.tsv', sep='\\t')\n",
    "val_df = pd.read_csv('/content/fakeddit_data/multimodal_only_samples/multimodal_validate.tsv', sep='\\t')\n",
    "test_df = pd.read_csv('/content/fakeddit_data/multimodal_only_samples/multimodal_test_public.tsv', sep='\\t')\n",
    "\n",
    "print(\"Original dataset sizes:\")\n",
    "print(f\"Training samples:   {len(train_df)}\")\n",
    "print(f\"Validation samples: {len(val_df)}\")\n",
    "print(f\"Test samples:       {len(test_df)}\")"
   ],
   "metadata": {
    "colab": {
     "base_uri": "https://localhost:8080/"
    },
    "id": "A5_RIbiDjdjV",
    "outputId": "b48f5300-e394-45f7-bbe1-1cab74f97986"
   },
   "execution_count": null,
   "outputs": [
    {
     "output_type": "stream",
     "name": "stdout",
     "text": [
      "Original dataset sizes:\n",
      "Training samples:   564000\n",
      "Validation samples: 59342\n",
      "Test samples:       59319\n"
     ]
    }
   ]
  },
  {
   "cell_type": "code",
   "source": [
    "train_df = train_df.sample(n=50000, random_state=42)\n",
    "val_df = val_df.sample(n=8000, random_state=42)\n",
    "test_df = test_df.sample(n=8000, random_state=42)"
   ],
   "metadata": {
    "id": "psx8--QvjfkA"
   },
   "execution_count": null,
   "outputs": []
  },
  {
   "cell_type": "code",
   "source": [
    "columns = [\"clean_title\", \"image_url\", \"2_way_label\"]\n",
    "train_df = train_df[columns].dropna()\n",
    "val_df   = val_df[columns].dropna()\n",
    "test_df  = test_df[columns].dropna()"
   ],
   "metadata": {
    "id": "JuFhGqf1jhCJ"
   },
   "execution_count": null,
   "outputs": []
  },
  {
   "cell_type": "code",
   "source": [
    "for df in [train_df, val_df, test_df]:\n",
    "    df.rename(columns={\"clean_title\": \"text\", \"image_url\": \"image_url\", \"2_way_label\": \"label\"}, inplace=True)"
   ],
   "metadata": {
    "id": "j1YmhBuWjj6B"
   },
   "execution_count": null,
   "outputs": []
  },
  {
   "cell_type": "code",
   "source": [
    "train_df.head()"
   ],
   "metadata": {
    "colab": {
     "base_uri": "https://localhost:8080/",
     "height": 206
    },
    "id": "9zzEU26FkEpe",
    "outputId": "01b80b70-f01f-4d1a-8d74-169d52d56c8c"
   },
   "execution_count": null,
   "outputs": [
    {
     "output_type": "execute_result",
     "data": {
      "text/plain": [
       "                                    text  \\\n",
       "91547                      feeling lucky   \n",
       "424990                           cutouts   \n",
       "495536  my ceiling looks like an sd card   \n",
       "200727                     join the raaf   \n",
       "186353                          hangover   \n",
       "\n",
       "                                                image_url  label  \n",
       "91547                        http://i.imgur.com/Zu6Sx.jpg      0  \n",
       "424990  https://31.media.tumblr.com/d7100866f676a6a376...      0  \n",
       "495536  https://preview.redd.it/zqg8c8fteqe31.jpg?widt...      0  \n",
       "200727  https://external-preview.redd.it/q9DNAI6S1OC2v...      0  \n",
       "186353                     http://i.imgur.com/wLCYVSv.jpg      0  "
      ],
      "text/html": [
       "\n",
       "  <div id=\"df-75b0cbb3-b026-452d-97c0-c79339274b99\" class=\"colab-df-container\">\n",
       "    <div>\n",
       "<style scoped>\n",
       "    .dataframe tbody tr th:only-of-type {\n",
       "        vertical-align: middle;\n",
       "    }\n",
       "\n",
       "    .dataframe tbody tr th {\n",
       "        vertical-align: top;\n",
       "    }\n",
       "\n",
       "    .dataframe thead th {\n",
       "        text-align: right;\n",
       "    }\n",
       "</style>\n",
       "<table border=\"1\" class=\"dataframe\">\n",
       "  <thead>\n",
       "    <tr style=\"text-align: right;\">\n",
       "      <th></th>\n",
       "      <th>text</th>\n",
       "      <th>image_url</th>\n",
       "      <th>label</th>\n",
       "    </tr>\n",
       "  </thead>\n",
       "  <tbody>\n",
       "    <tr>\n",
       "      <th>91547</th>\n",
       "      <td>feeling lucky</td>\n",
       "      <td>http://i.imgur.com/Zu6Sx.jpg</td>\n",
       "      <td>0</td>\n",
       "    </tr>\n",
       "    <tr>\n",
       "      <th>424990</th>\n",
       "      <td>cutouts</td>\n",
       "      <td>https://31.media.tumblr.com/d7100866f676a6a376...</td>\n",
       "      <td>0</td>\n",
       "    </tr>\n",
       "    <tr>\n",
       "      <th>495536</th>\n",
       "      <td>my ceiling looks like an sd card</td>\n",
       "      <td>https://preview.redd.it/zqg8c8fteqe31.jpg?widt...</td>\n",
       "      <td>0</td>\n",
       "    </tr>\n",
       "    <tr>\n",
       "      <th>200727</th>\n",
       "      <td>join the raaf</td>\n",
       "      <td>https://external-preview.redd.it/q9DNAI6S1OC2v...</td>\n",
       "      <td>0</td>\n",
       "    </tr>\n",
       "    <tr>\n",
       "      <th>186353</th>\n",
       "      <td>hangover</td>\n",
       "      <td>http://i.imgur.com/wLCYVSv.jpg</td>\n",
       "      <td>0</td>\n",
       "    </tr>\n",
       "  </tbody>\n",
       "</table>\n",
       "</div>\n",
       "    <div class=\"colab-df-buttons\">\n",
       "\n",
       "  <div class=\"colab-df-container\">\n",
       "    <button class=\"colab-df-convert\" onclick=\"convertToInteractive('df-75b0cbb3-b026-452d-97c0-c79339274b99')\"\n",
       "            title=\"Convert this dataframe to an interactive table.\"\n",
       "            style=\"display:none;\">\n",
       "\n",
       "  <svg xmlns=\"http://www.w3.org/2000/svg\" height=\"24px\" viewBox=\"0 -960 960 960\">\n",
       "    <path d=\"M120-120v-720h720v720H120Zm60-500h600v-160H180v160Zm220 220h160v-160H400v160Zm0 220h160v-160H400v160ZM180-400h160v-160H180v160Zm440 0h160v-160H620v160ZM180-180h160v-160H180v160Zm440 0h160v-160H620v160Z\"/>\n",
       "  </svg>\n",
       "    </button>\n",
       "\n",
       "  <style>\n",
       "    .colab-df-container {\n",
       "      display:flex;\n",
       "      gap: 12px;\n",
       "    }\n",
       "\n",
       "    .colab-df-convert {\n",
       "      background-color: #E8F0FE;\n",
       "      border: none;\n",
       "      border-radius: 50%;\n",
       "      cursor: pointer;\n",
       "      display: none;\n",
       "      fill: #1967D2;\n",
       "      height: 32px;\n",
       "      padding: 0 0 0 0;\n",
       "      width: 32px;\n",
       "    }\n",
       "\n",
       "    .colab-df-convert:hover {\n",
       "      background-color: #E2EBFA;\n",
       "      box-shadow: 0px 1px 2px rgba(60, 64, 67, 0.3), 0px 1px 3px 1px rgba(60, 64, 67, 0.15);\n",
       "      fill: #174EA6;\n",
       "    }\n",
       "\n",
       "    .colab-df-buttons div {\n",
       "      margin-bottom: 4px;\n",
       "    }\n",
       "\n",
       "    [theme=dark] .colab-df-convert {\n",
       "      background-color: #3B4455;\n",
       "      fill: #D2E3FC;\n",
       "    }\n",
       "\n",
       "    [theme=dark] .colab-df-convert:hover {\n",
       "      background-color: #434B5C;\n",
       "      box-shadow: 0px 1px 3px 1px rgba(0, 0, 0, 0.15);\n",
       "      filter: drop-shadow(0px 1px 2px rgba(0, 0, 0, 0.3));\n",
       "      fill: #FFFFFF;\n",
       "    }\n",
       "  </style>\n",
       "\n",
       "    <script>\n",
       "      const buttonEl =\n",
       "        document.querySelector('#df-75b0cbb3-b026-452d-97c0-c79339274b99 button.colab-df-convert');\n",
       "      buttonEl.style.display =\n",
       "        google.colab.kernel.accessAllowed ? 'block' : 'none';\n",
       "\n",
       "      async function convertToInteractive(key) {\n",
       "        const element = document.querySelector('#df-75b0cbb3-b026-452d-97c0-c79339274b99');\n",
       "        const dataTable =\n",
       "          await google.colab.kernel.invokeFunction('convertToInteractive',\n",
       "                                                    [key], {});\n",
       "        if (!dataTable) return;\n",
       "\n",
       "        const docLinkHtml = 'Like what you see? Visit the ' +\n",
       "          '<a target=\"_blank\" href=https://colab.research.google.com/notebooks/data_table.ipynb>data table notebook</a>'\n",
       "          + ' to learn more about interactive tables.';\n",
       "        element.innerHTML = '';\n",
       "        dataTable['output_type'] = 'display_data';\n",
       "        await google.colab.output.renderOutput(dataTable, element);\n",
       "        const docLink = document.createElement('div');\n",
       "        docLink.innerHTML = docLinkHtml;\n",
       "        element.appendChild(docLink);\n",
       "      }\n",
       "    </script>\n",
       "  </div>\n",
       "\n",
       "\n",
       "    <div id=\"df-2dfc9863-7cea-4ffd-bbb2-1fb386398d02\">\n",
       "      <button class=\"colab-df-quickchart\" onclick=\"quickchart('df-2dfc9863-7cea-4ffd-bbb2-1fb386398d02')\"\n",
       "                title=\"Suggest charts\"\n",
       "                style=\"display:none;\">\n",
       "\n",
       "<svg xmlns=\"http://www.w3.org/2000/svg\" height=\"24px\"viewBox=\"0 0 24 24\"\n",
       "     width=\"24px\">\n",
       "    <g>\n",
       "        <path d=\"M19 3H5c-1.1 0-2 .9-2 2v14c0 1.1.9 2 2 2h14c1.1 0 2-.9 2-2V5c0-1.1-.9-2-2-2zM9 17H7v-7h2v7zm4 0h-2V7h2v10zm4 0h-2v-4h2v4z\"/>\n",
       "    </g>\n",
       "</svg>\n",
       "      </button>\n",
       "\n",
       "<style>\n",
       "  .colab-df-quickchart {\n",
       "      --bg-color: #E8F0FE;\n",
       "      --fill-color: #1967D2;\n",
       "      --hover-bg-color: #E2EBFA;\n",
       "      --hover-fill-color: #174EA6;\n",
       "      --disabled-fill-color: #AAA;\n",
       "      --disabled-bg-color: #DDD;\n",
       "  }\n",
       "\n",
       "  [theme=dark] .colab-df-quickchart {\n",
       "      --bg-color: #3B4455;\n",
       "      --fill-color: #D2E3FC;\n",
       "      --hover-bg-color: #434B5C;\n",
       "      --hover-fill-color: #FFFFFF;\n",
       "      --disabled-bg-color: #3B4455;\n",
       "      --disabled-fill-color: #666;\n",
       "  }\n",
       "\n",
       "  .colab-df-quickchart {\n",
       "    background-color: var(--bg-color);\n",
       "    border: none;\n",
       "    border-radius: 50%;\n",
       "    cursor: pointer;\n",
       "    display: none;\n",
       "    fill: var(--fill-color);\n",
       "    height: 32px;\n",
       "    padding: 0;\n",
       "    width: 32px;\n",
       "  }\n",
       "\n",
       "  .colab-df-quickchart:hover {\n",
       "    background-color: var(--hover-bg-color);\n",
       "    box-shadow: 0 1px 2px rgba(60, 64, 67, 0.3), 0 1px 3px 1px rgba(60, 64, 67, 0.15);\n",
       "    fill: var(--button-hover-fill-color);\n",
       "  }\n",
       "\n",
       "  .colab-df-quickchart-complete:disabled,\n",
       "  .colab-df-quickchart-complete:disabled:hover {\n",
       "    background-color: var(--disabled-bg-color);\n",
       "    fill: var(--disabled-fill-color);\n",
       "    box-shadow: none;\n",
       "  }\n",
       "\n",
       "  .colab-df-spinner {\n",
       "    border: 2px solid var(--fill-color);\n",
       "    border-color: transparent;\n",
       "    border-bottom-color: var(--fill-color);\n",
       "    animation:\n",
       "      spin 1s steps(1) infinite;\n",
       "  }\n",
       "\n",
       "  @keyframes spin {\n",
       "    0% {\n",
       "      border-color: transparent;\n",
       "      border-bottom-color: var(--fill-color);\n",
       "      border-left-color: var(--fill-color);\n",
       "    }\n",
       "    20% {\n",
       "      border-color: transparent;\n",
       "      border-left-color: var(--fill-color);\n",
       "      border-top-color: var(--fill-color);\n",
       "    }\n",
       "    30% {\n",
       "      border-color: transparent;\n",
       "      border-left-color: var(--fill-color);\n",
       "      border-top-color: var(--fill-color);\n",
       "      border-right-color: var(--fill-color);\n",
       "    }\n",
       "    40% {\n",
       "      border-color: transparent;\n",
       "      border-right-color: var(--fill-color);\n",
       "      border-top-color: var(--fill-color);\n",
       "    }\n",
       "    60% {\n",
       "      border-color: transparent;\n",
       "      border-right-color: var(--fill-color);\n",
       "    }\n",
       "    80% {\n",
       "      border-color: transparent;\n",
       "      border-right-color: var(--fill-color);\n",
       "      border-bottom-color: var(--fill-color);\n",
       "    }\n",
       "    90% {\n",
       "      border-color: transparent;\n",
       "      border-bottom-color: var(--fill-color);\n",
       "    }\n",
       "  }\n",
       "</style>\n",
       "\n",
       "      <script>\n",
       "        async function quickchart(key) {\n",
       "          const quickchartButtonEl =\n",
       "            document.querySelector('#' + key + ' button');\n",
       "          quickchartButtonEl.disabled = true;  // To prevent multiple clicks.\n",
       "          quickchartButtonEl.classList.add('colab-df-spinner');\n",
       "          try {\n",
       "            const charts = await google.colab.kernel.invokeFunction(\n",
       "                'suggestCharts', [key], {});\n",
       "          } catch (error) {\n",
       "            console.error('Error during call to suggestCharts:', error);\n",
       "          }\n",
       "          quickchartButtonEl.classList.remove('colab-df-spinner');\n",
       "          quickchartButtonEl.classList.add('colab-df-quickchart-complete');\n",
       "        }\n",
       "        (() => {\n",
       "          let quickchartButtonEl =\n",
       "            document.querySelector('#df-2dfc9863-7cea-4ffd-bbb2-1fb386398d02 button');\n",
       "          quickchartButtonEl.style.display =\n",
       "            google.colab.kernel.accessAllowed ? 'block' : 'none';\n",
       "        })();\n",
       "      </script>\n",
       "    </div>\n",
       "\n",
       "    </div>\n",
       "  </div>\n"
      ],
      "application/vnd.google.colaboratory.intrinsic+json": {
       "type": "dataframe",
       "variable_name": "train_df",
       "summary": "{\n  \"name\": \"train_df\",\n  \"rows\": 49866,\n  \"fields\": [\n    {\n      \"column\": \"text\",\n      \"properties\": {\n        \"dtype\": \"string\",\n        \"num_unique_values\": 46922,\n        \"samples\": [\n          \"poor guy it probably wont happen\",\n          \"bwoooomm\",\n          \"crying soul\"\n        ],\n        \"semantic_type\": \"\",\n        \"description\": \"\"\n      }\n    },\n    {\n      \"column\": \"image_url\",\n      \"properties\": {\n        \"dtype\": \"string\",\n        \"num_unique_values\": 49197,\n        \"samples\": [\n          \"http://i.imgur.com/QBlAl.jpg\",\n          \"https://preview.redd.it/9ryc4kds1tt31.jpg?width=320&crop=smart&auto=webp&s=4300db7ad6ef14008df0dec19380ffe3de75eb36\",\n          \"http://i.imgur.com/C98rBvt.jpg\"\n        ],\n        \"semantic_type\": \"\",\n        \"description\": \"\"\n      }\n    },\n    {\n      \"column\": \"label\",\n      \"properties\": {\n        \"dtype\": \"number\",\n        \"std\": 0,\n        \"min\": 0,\n        \"max\": 1,\n        \"num_unique_values\": 2,\n        \"samples\": [\n          1,\n          0\n        ],\n        \"semantic_type\": \"\",\n        \"description\": \"\"\n      }\n    }\n  ]\n}"
      }
     },
     "metadata": {},
     "execution_count": 7
    }
   ]
  },
  {
   "cell_type": "code",
   "source": [
    "def plot_dataset_distribution(dataframe, title=\"Dataset Distribution\"):\n",
    "    \"\"\"\n",
    "    Generate a pie chart showing the distribution of classes in a pandas DataFrame.\n",
    "\n",
    "    Parameters:\n",
    "    -----------\n",
    "    dataframe : pandas.DataFrame\n",
    "        DataFrame containing the dataset with a 'label' column\n",
    "    title : str\n",
    "        Title for the plot\n",
    "    \"\"\"\n",
    "    import matplotlib.pyplot as plt\n",
    "    import numpy as np\n",
    "    from collections import Counter\n",
    "\n",
    "    labels = dataframe['label'].values\n",
    "    label_counts = Counter(labels)\n",
    "\n",
    "    class_names = {0: \"Real News\", 1: \"Fake News\"}\n",
    "    pie_labels = []\n",
    "    sizes = []\n",
    "\n",
    "    for label_idx in sorted(label_counts.keys()):\n",
    "        count = label_counts[label_idx]\n",
    "        label = class_names.get(label_idx, f\"Class {label_idx}\")\n",
    "\n",
    "        pie_labels.append(f\"{label} ({count})\")\n",
    "        sizes.append(count)\n",
    "\n",
    "    total = sum(sizes)\n",
    "    percentages = [(size / total) * 100 for size in sizes]\n",
    "    pie_labels = [f\"{pie_labels[i]} - {percentages[i]:.1f}%\" for i in range(len(pie_labels))]\n",
    "\n",
    "    plt.figure(figsize=(10, 7))\n",
    "    colors = ['#3274A1', '#E1812C']\n",
    "\n",
    "    wedges, texts, autotexts = plt.pie(\n",
    "        sizes,\n",
    "        labels=None,\n",
    "        autopct='%1.1f%%',\n",
    "        startangle=90,\n",
    "        colors=colors,\n",
    "        explode=[0.05] * len(sizes),\n",
    "        shadow=True,\n",
    "        wedgeprops={'edgecolor': 'white', 'linewidth': 1}\n",
    "    )\n",
    "\n",
    "    for autotext in autotexts:\n",
    "        autotext.set_color('white')\n",
    "        autotext.set_fontweight('bold')\n",
    "\n",
    "    plt.legend(\n",
    "        wedges,\n",
    "        pie_labels,\n",
    "        title=\"Classes\",\n",
    "        loc=\"center left\",\n",
    "        bbox_to_anchor=(1, 0, 0.5, 1)\n",
    "    )\n",
    "\n",
    "    plt.title(title, fontsize=16, fontweight='bold', pad=20)\n",
    "\n",
    "    plt.axis('equal')\n",
    "    plt.tight_layout()\n",
    "\n",
    "    safe_title = title.replace(\" \", \"_\").lower()\n",
    "    plt.savefig(f'{safe_title}.png', dpi=300, bbox_inches='tight')\n",
    "    plt.show()\n",
    "\n",
    "    print(f\"\\n=== {title} Summary ===\")\n",
    "    for i, (label, count, percentage) in enumerate(zip(pie_labels, sizes, percentages)):\n",
    "        print(f\"{label.split(' (')[0]}: {count} instances ({percentage:.1f}%)\")\n",
    "    print(f\"Total: {total} instances\")\n",
    "\n",
    "    return label_counts\n",
    "\n",
    "def plot_combined_distribution(train_df, val_df, test_df):\n",
    "    \"\"\"\n",
    "    Generate a bar chart comparing the distribution across train, validation and test sets\n",
    "    \"\"\"\n",
    "    import matplotlib.pyplot as plt\n",
    "    import numpy as np\n",
    "    import pandas as pd\n",
    "\n",
    "    class_names = {0: \"Real News\", 1: \"Fake News\"}\n",
    "\n",
    "    train_counts = train_df['label'].value_counts().sort_index()\n",
    "    val_counts = val_df['label'].value_counts().sort_index()\n",
    "    test_counts = test_df['label'].value_counts().sort_index()\n",
    "\n",
    "    all_indices = sorted(set(\n",
    "        list(train_counts.index) +\n",
    "        list(val_counts.index) +\n",
    "        list(test_counts.index)\n",
    "    ))\n",
    "    df_dict = {\n",
    "        'Training': pd.Series(train_counts).reindex(all_indices).fillna(0).astype(int),\n",
    "        'Validation': pd.Series(val_counts).reindex(all_indices).fillna(0).astype(int),\n",
    "        'Testing': pd.Series(test_counts).reindex(all_indices).fillna(0).astype(int)\n",
    "    }\n",
    "\n",
    "    counts_df = pd.DataFrame(df_dict)\n",
    "    counts_df.index = [class_names.get(idx, f\"Class {idx}\") for idx in counts_df.index]\n",
    "\n",
    "    fig, ax = plt.subplots(figsize=(12, 7))\n",
    "    bar_width = 0.25\n",
    "    r = np.arange(len(counts_df.index))\n",
    "\n",
    "    train_bars = ax.bar(r - bar_width, counts_df['Training'], width=bar_width, label='Training Set', color='#3274A1', edgecolor='black')\n",
    "    val_bars = ax.bar(r, counts_df['Validation'], width=bar_width, label='Validation Set', color='#32A17F', edgecolor='black')\n",
    "    test_bars = ax.bar(r + bar_width, counts_df['Testing'], width=bar_width, label='Test Set', color='#E1812C', edgecolor='black')\n",
    "\n",
    "    def add_labels(bars):\n",
    "        for bar in bars:\n",
    "            height = bar.get_height()\n",
    "            ax.annotate(f'{int(height)}',\n",
    "                       xy=(bar.get_x() + bar.get_width() / 2, height),\n",
    "                       xytext=(0, 3),\n",
    "                       textcoords=\"offset points\",\n",
    "                       ha='center', va='bottom',\n",
    "                       fontweight='bold')\n",
    "\n",
    "    add_labels(train_bars)\n",
    "    add_labels(val_bars)\n",
    "    add_labels(test_bars)\n",
    "\n",
    "    ax.set_xlabel('Classes', fontweight='bold', fontsize=12)\n",
    "    ax.set_ylabel('Count', fontweight='bold', fontsize=12)\n",
    "    ax.set_title('News Dataset Distribution Comparison', fontweight='bold', fontsize=16)\n",
    "    ax.set_xticks(r)\n",
    "    ax.set_xticklabels(counts_df.index)\n",
    "\n",
    "    ax.legend()\n",
    "    ax.yaxis.grid(True, linestyle='--', alpha=0.7)\n",
    "    plt.tight_layout()\n",
    "\n",
    "    plt.savefig('news_dataset_distribution_comparison.png', dpi=300, bbox_inches='tight')\n",
    "    plt.show()\n",
    "\n",
    "    print(\"\\n=== Dataset Balance Summary ===\")\n",
    "    total_rows = len(train_df) + len(val_df) + len(test_df)\n",
    "    print(f\"Total dataset size: {total_rows} instances\")\n",
    "    print(f\"Training set: {len(train_df)} instances ({len(train_df)/total_rows*100:.1f}%)\")\n",
    "    print(f\"Validation set: {len(val_df)} instances ({len(val_df)/total_rows*100:.1f}%)\")\n",
    "    print(f\"Test set: {len(test_df)} instances ({len(test_df)/total_rows*100:.1f}%)\")\n",
    "\n",
    "    print(\"\\n=== Class Distribution Within Sets ===\")\n",
    "    train_perc = train_df['label'].value_counts(normalize=True).sort_index() * 100\n",
    "    val_perc = val_df['label'].value_counts(normalize=True).sort_index() * 100\n",
    "    test_perc = test_df['label'].value_counts(normalize=True).sort_index() * 100\n",
    "\n",
    "    distribution_df = pd.DataFrame({\n",
    "        'Training %': train_perc,\n",
    "        'Validation %': val_perc,\n",
    "        'Testing %': test_perc\n",
    "    }).round(1)\n",
    "\n",
    "    distribution_df.index = [class_names.get(idx, f\"Class {idx}\") for idx in distribution_df.index]\n",
    "\n",
    "    print(distribution_df)\n",
    "\n",
    "import pandas as pd\n",
    "print(\"Analyzing class distribution in datasets...\")\n",
    "\n",
    "print(\"\\nTraining Dataset Distribution:\")\n",
    "train_counts = plot_dataset_distribution(train_df, title=\"Training Dataset Distribution\")\n",
    "\n",
    "print(\"\\nValidation Dataset Distribution:\")\n",
    "val_counts = plot_dataset_distribution(val_df, title=\"Validation Dataset Distribution\")\n",
    "\n",
    "print(\"\\nTest Dataset Distribution:\")\n",
    "test_counts = plot_dataset_distribution(test_df, title=\"Test Dataset Distribution\")\n",
    "\n",
    "print(\"\\nGenerating combined distribution visualization...\")\n",
    "plot_combined_distribution(train_df, val_df, test_df)\n",
    "\n",
    "print(\"\\n=== Class Imbalance Analysis ===\")\n",
    "for name, df in [(\"Training\", train_df), (\"Validation\", val_df), (\"Testing\", test_df)]:\n",
    "    class_ratio = df['label'].value_counts().values\n",
    "    if len(class_ratio) > 1:\n",
    "        imbalance_ratio = max(class_ratio) / min(class_ratio)\n",
    "        print(f\"{name} set imbalance ratio: {imbalance_ratio:.2f}:1\")"
   ],
   "metadata": {
    "colab": {
     "base_uri": "https://localhost:8080/",
     "height": 1000
    },
    "id": "tCLOkS9FqYFe",
    "outputId": "6163b986-7865-4b61-e7b9-119c4d0e157a"
   },
   "execution_count": null,
   "outputs": [
    {
     "output_type": "stream",
     "name": "stdout",
     "text": [
      "Analyzing class distribution in datasets...\n",
      "\n",
      "Training Dataset Distribution:\n"
     ]
    },
    {
     "output_type": "display_data",
     "data": {
      "text/plain": [
       "<Figure size 1000x700 with 1 Axes>"
      ],
      "image/png": "[encoded data removed]"
     },
     "metadata": {}
    },
    {
     "output_type": "stream",
     "name": "stdout",
     "text": [
      "\n",
      "=== Training Dataset Distribution Summary ===\n",
      "Real News: 30296 instances (60.8%)\n",
      "Fake News: 19570 instances (39.2%)\n",
      "Total: 49866 instances\n",
      "\n",
      "Validation Dataset Distribution:\n"
     ]
    },
    {
     "output_type": "display_data",
     "data": {
      "text/plain": [
       "<Figure size 1000x700 with 1 Axes>"
      ],
      "image/png": "[encoded data removed]"
     },
     "metadata": {}
    },
    {
     "output_type": "stream",
     "name": "stdout",
     "text": [
      "\n",
      "=== Validation Dataset Distribution Summary ===\n",
      "Real News: 4846 instances (60.7%)\n",
      "Fake News: 3136 instances (39.3%)\n",
      "Total: 7982 instances\n",
      "\n",
      "Test Dataset Distribution:\n"
     ]
    },
    {
     "output_type": "display_data",
     "data": {
      "text/plain": [
       "<Figure size 1000x700 with 1 Axes>"
      ],
      "image/png": "[encoded data removed]"
     },
     "metadata": {}
    },
    {
     "output_type": "stream",
     "name": "stdout",
     "text": [
      "\n",
      "=== Test Dataset Distribution Summary ===\n",
      "Real News: 4844 instances (60.7%)\n",
      "Fake News: 3136 instances (39.3%)\n",
      "Total: 7980 instances\n",
      "\n",
      "Generating combined distribution visualization...\n"
     ]
    },
    {
     "output_type": "display_data",
     "data": {
      "text/plain": [
       "<Figure size 1200x700 with 1 Axes>"
      ],
      "image/png": "[encoded data removed]"
     },
     "metadata": {}
    },
    {
     "output_type": "stream",
     "name": "stdout",
     "text": [
      "\n",
      "=== Dataset Balance Summary ===\n",
      "Total dataset size: 65828 instances\n",
      "Training set: 49866 instances (75.8%)\n",
      "Validation set: 7982 instances (12.1%)\n",
      "Test set: 7980 instances (12.1%)\n",
      "\n",
      "=== Class Distribution Within Sets ===\n",
      "           Training %  Validation %  Testing %\n",
      "Real News        60.8          60.7       60.7\n",
      "Fake News        39.2          39.3       39.3\n",
      "\n",
      "=== Class Imbalance Analysis ===\n",
      "Training set imbalance ratio: 1.55:1\n",
      "Validation set imbalance ratio: 1.55:1\n",
      "Testing set imbalance ratio: 1.54:1\n"
     ]
    }
   ]
  },
  {
   "cell_type": "code",
   "source": [
    "import warnings\n",
    "warnings.filterwarnings(\"ignore\")"
   ],
   "metadata": {
    "id": "GhcJowuFkH43"
   },
   "execution_count": null,
   "outputs": []
  },
  {
   "cell_type": "code",
   "source": [
    "!pip install git+https://github.com/openai/CLIP.git"
   ],
   "metadata": {
    "colab": {
     "base_uri": "https://localhost:8080/"
    },
    "id": "rKMrq41xkLdM",
    "outputId": "42f193e2-7135-4d4e-a325-1ca2b39713df"
   },
   "execution_count": null,
   "outputs": [
    {
     "output_type": "stream",
     "name": "stdout",
     "text": [
      "Collecting git+https://github.com/openai/CLIP.git\n",
      "  Cloning https://github.com/openai/CLIP.git to /tmp/pip-req-build-j3rzyoj2\n",
      "  Running command git clone --filter=blob:none --quiet https://github.com/openai/CLIP.git /tmp/pip-req-build-j3rzyoj2\n",
      "  Resolved https://github.com/openai/CLIP.git to commit dcba3cb2e2827b402d2701e7e1c7d9fed8a20ef1\n",
      "  Preparing metadata (setup.py) ... \u001b[?25l\u001b[?25hdone\n",
      "Collecting ftfy (from clip==1.0)\n",
      "  Downloading ftfy-6.3.1-py3-none-any.whl.metadata (7.3 kB)\n",
      "Requirement already satisfied: packaging in /usr/local/lib/python3.11/dist-packages (from clip==1.0) (24.2)\n",
      "Requirement already satisfied: regex in /usr/local/lib/python3.11/dist-packages (from clip==1.0) (2024.11.6)\n",
      "Requirement already satisfied: tqdm in /usr/local/lib/python3.11/dist-packages (from clip==1.0) (4.67.1)\n",
      "Requirement already satisfied: torch in /usr/local/lib/python3.11/dist-packages (from clip==1.0) (2.6.0+cu124)\n",
      "Requirement already satisfied: torchvision in /usr/local/lib/python3.11/dist-packages (from clip==1.0) (0.21.0+cu124)\n",
      "Requirement already satisfied: wcwidth in /usr/local/lib/python3.11/dist-packages (from ftfy->clip==1.0) (0.2.13)\n",
      "Requirement already satisfied: filelock in /usr/local/lib/python3.11/dist-packages (from torch->clip==1.0) (3.18.0)\n",
      "Requirement already satisfied: typing-extensions>=4.10.0 in /usr/local/lib/python3.11/dist-packages (from torch->clip==1.0) (4.13.2)\n",
      "Requirement already satisfied: networkx in /usr/local/lib/python3.11/dist-packages (from torch->clip==1.0) (3.4.2)\n",
      "Requirement already satisfied: jinja2 in /usr/local/lib/python3.11/dist-packages (from torch->clip==1.0) (3.1.6)\n",
      "Requirement already satisfied: fsspec in /usr/local/lib/python3.11/dist-packages (from torch->clip==1.0) (2025.3.2)\n",
      "Collecting nvidia-cuda-nvrtc-cu12==12.4.127 (from torch->clip==1.0)\n",
      "  Downloading nvidia_cuda_nvrtc_cu12-12.4.127-py3-none-manylinux2014_x86_64.whl.metadata (1.5 kB)\n",
      "Collecting nvidia-cuda-runtime-cu12==12.4.127 (from torch->clip==1.0)\n",
      "  Downloading nvidia_cuda_runtime_cu12-12.4.127-py3-none-manylinux2014_x86_64.whl.metadata (1.5 kB)\n",
      "Collecting nvidia-cuda-cupti-cu12==12.4.127 (from torch->clip==1.0)\n",
      "  Downloading nvidia_cuda_cupti_cu12-12.4.127-py3-none-manylinux2014_x86_64.whl.metadata (1.6 kB)\n",
      "Collecting nvidia-cudnn-cu12==9.1.0.70 (from torch->clip==1.0)\n",
      "  Downloading nvidia_cudnn_cu12-9.1.0.70-py3-none-manylinux2014_x86_64.whl.metadata (1.6 kB)\n",
      "Collecting nvidia-cublas-cu12==12.4.5.8 (from torch->clip==1.0)\n",
      "  Downloading nvidia_cublas_cu12-12.4.5.8-py3-none-manylinux2014_x86_64.whl.metadata (1.5 kB)\n",
      "Collecting nvidia-cufft-cu12==11.2.1.3 (from torch->clip==1.0)\n",
      "  Downloading nvidia_cufft_cu12-11.2.1.3-py3-none-manylinux2014_x86_64.whl.metadata (1.5 kB)\n",
      "Collecting nvidia-curand-cu12==10.3.5.147 (from torch->clip==1.0)\n",
      "  Downloading nvidia_curand_cu12-10.3.5.147-py3-none-manylinux2014_x86_64.whl.metadata (1.5 kB)\n",
      "Collecting nvidia-cusolver-cu12==11.6.1.9 (from torch->clip==1.0)\n",
      "  Downloading nvidia_cusolver_cu12-11.6.1.9-py3-none-manylinux2014_x86_64.whl.metadata (1.6 kB)\n",
      "Collecting nvidia-cusparse-cu12==12.3.1.170 (from torch->clip==1.0)\n",
      "  Downloading nvidia_cusparse_cu12-12.3.1.170-py3-none-manylinux2014_x86_64.whl.metadata (1.6 kB)\n",
      "Requirement already satisfied: nvidia-cusparselt-cu12==0.6.2 in /usr/local/lib/python3.11/dist-packages (from torch->clip==1.0) (0.6.2)\n",
      "Requirement already satisfied: nvidia-nccl-cu12==2.21.5 in /usr/local/lib/python3.11/dist-packages (from torch->clip==1.0) (2.21.5)\n",
      "Requirement already satisfied: nvidia-nvtx-cu12==12.4.127 in /usr/local/lib/python3.11/dist-packages (from torch->clip==1.0) (12.4.127)\n",
      "Collecting nvidia-nvjitlink-cu12==12.4.127 (from torch->clip==1.0)\n",
      "  Downloading nvidia_nvjitlink_cu12-12.4.127-py3-none-manylinux2014_x86_64.whl.metadata (1.5 kB)\n",
      "Requirement already satisfied: triton==3.2.0 in /usr/local/lib/python3.11/dist-packages (from torch->clip==1.0) (3.2.0)\n",
      "Requirement already satisfied: sympy==1.13.1 in /usr/local/lib/python3.11/dist-packages (from torch->clip==1.0) (1.13.1)\n",
      "Requirement already satisfied: mpmath<1.4,>=1.1.0 in /usr/local/lib/python3.11/dist-packages (from sympy==1.13.1->torch->clip==1.0) (1.3.0)\n",
      "Requirement already satisfied: numpy in /usr/local/lib/python3.11/dist-packages (from torchvision->clip==1.0) (2.0.2)\n",
      "Requirement already satisfied: pillow!=8.3.*,>=5.3.0 in /usr/local/lib/python3.11/dist-packages (from torchvision->clip==1.0) (11.2.1)\n",
      "Requirement already satisfied: MarkupSafe>=2.0 in /usr/local/lib/python3.11/dist-packages (from jinja2->torch->clip==1.0) (3.0.2)\n",
      "Downloading ftfy-6.3.1-py3-none-any.whl (44 kB)\n",
      "\u001b[2K   \u001b[90m\u2501\u2501\u2501\u2501\u2501\u2501\u2501\u2501\u2501\u2501\u2501\u2501\u2501\u2501\u2501\u2501\u2501\u2501\u2501\u2501\u2501\u2501\u2501\u2501\u2501\u2501\u2501\u2501\u2501\u2501\u2501\u2501\u2501\u2501\u2501\u2501\u2501\u2501\u2501\u2501\u001b[0m \u001b[32m44.8/44.8 kB\u001b[0m \u001b[31m2.9 MB/s\u001b[0m eta \u001b[36m0:00:00\u001b[0m\n",
      "\u001b[?25hDownloading nvidia_cublas_cu12-12.4.5.8-py3-none-manylinux2014_x86_64.whl (363.4 MB)\n",
      "\u001b[2K   \u001b[90m\u2501\u2501\u2501\u2501\u2501\u2501\u2501\u2501\u2501\u2501\u2501\u2501\u2501\u2501\u2501\u2501\u2501\u2501\u2501\u2501\u2501\u2501\u2501\u2501\u2501\u2501\u2501\u2501\u2501\u2501\u2501\u2501\u2501\u2501\u2501\u2501\u2501\u2501\u2501\u2501\u001b[0m \u001b[32m363.4/363.4 MB\u001b[0m \u001b[31m2.7 MB/s\u001b[0m eta \u001b[36m0:00:00\u001b[0m\n",
      "\u001b[?25hDownloading nvidia_cuda_cupti_cu12-12.4.127-py3-none-manylinux2014_x86_64.whl (13.8 MB)\n",
      "\u001b[2K   \u001b[90m\u2501\u2501\u2501\u2501\u2501\u2501\u2501\u2501\u2501\u2501\u2501\u2501\u2501\u2501\u2501\u2501\u2501\u2501\u2501\u2501\u2501\u2501\u2501\u2501\u2501\u2501\u2501\u2501\u2501\u2501\u2501\u2501\u2501\u2501\u2501\u2501\u2501\u2501\u2501\u2501\u001b[0m \u001b[32m13.8/13.8 MB\u001b[0m \u001b[31m101.3 MB/s\u001b[0m eta \u001b[36m0:00:00\u001b[0m\n",
      "\u001b[?25hDownloading nvidia_cuda_nvrtc_cu12-12.4.127-py3-none-manylinux2014_x86_64.whl (24.6 MB)\n",
      "\u001b[2K   \u001b[90m\u2501\u2501\u2501\u2501\u2501\u2501\u2501\u2501\u2501\u2501\u2501\u2501\u2501\u2501\u2501\u2501\u2501\u2501\u2501\u2501\u2501\u2501\u2501\u2501\u2501\u2501\u2501\u2501\u2501\u2501\u2501\u2501\u2501\u2501\u2501\u2501\u2501\u2501\u2501\u2501\u001b[0m \u001b[32m24.6/24.6 MB\u001b[0m \u001b[31m75.6 MB/s\u001b[0m eta \u001b[36m0:00:00\u001b[0m\n",
      "\u001b[?25hDownloading nvidia_cuda_runtime_cu12-12.4.127-py3-none-manylinux2014_x86_64.whl (883 kB)\n",
      "\u001b[2K   \u001b[90m\u2501\u2501\u2501\u2501\u2501\u2501\u2501\u2501\u2501\u2501\u2501\u2501\u2501\u2501\u2501\u2501\u2501\u2501\u2501\u2501\u2501\u2501\u2501\u2501\u2501\u2501\u2501\u2501\u2501\u2501\u2501\u2501\u2501\u2501\u2501\u2501\u2501\u2501\u2501\u2501\u001b[0m \u001b[32m883.7/883.7 kB\u001b[0m \u001b[31m52.5 MB/s\u001b[0m eta \u001b[36m0:00:00\u001b[0m\n",
      "\u001b[?25hDownloading nvidia_cudnn_cu12-9.1.0.70-py3-none-manylinux2014_x86_64.whl (664.8 MB)\n",
      "\u001b[2K   \u001b[90m\u2501\u2501\u2501\u2501\u2501\u2501\u2501\u2501\u2501\u2501\u2501\u2501\u2501\u2501\u2501\u2501\u2501\u2501\u2501\u2501\u2501\u2501\u2501\u2501\u2501\u2501\u2501\u2501\u2501\u2501\u2501\u2501\u2501\u2501\u2501\u2501\u2501\u2501\u2501\u2501\u001b[0m \u001b[32m664.8/664.8 MB\u001b[0m \u001b[31m1.3 MB/s\u001b[0m eta \u001b[36m0:00:00\u001b[0m\n",
      "\u001b[?25hDownloading nvidia_cufft_cu12-11.2.1.3-py3-none-manylinux2014_x86_64.whl (211.5 MB)\n",
      "\u001b[2K   \u001b[90m\u2501\u2501\u2501\u2501\u2501\u2501\u2501\u2501\u2501\u2501\u2501\u2501\u2501\u2501\u2501\u2501\u2501\u2501\u2501\u2501\u2501\u2501\u2501\u2501\u2501\u2501\u2501\u2501\u2501\u2501\u2501\u2501\u2501\u2501\u2501\u2501\u2501\u2501\u2501\u2501\u001b[0m \u001b[32m211.5/211.5 MB\u001b[0m \u001b[31m5.7 MB/s\u001b[0m eta \u001b[36m0:00:00\u001b[0m\n",
      "\u001b[?25hDownloading nvidia_curand_cu12-10.3.5.147-py3-none-manylinux2014_x86_64.whl (56.3 MB)\n",
      "\u001b[2K   \u001b[90m\u2501\u2501\u2501\u2501\u2501\u2501\u2501\u2501\u2501\u2501\u2501\u2501\u2501\u2501\u2501\u2501\u2501\u2501\u2501\u2501\u2501\u2501\u2501\u2501\u2501\u2501\u2501\u2501\u2501\u2501\u2501\u2501\u2501\u2501\u2501\u2501\u2501\u2501\u2501\u2501\u001b[0m \u001b[32m56.3/56.3 MB\u001b[0m \u001b[31m15.1 MB/s\u001b[0m eta \u001b[36m0:00:00\u001b[0m\n",
      "\u001b[?25hDownloading nvidia_cusolver_cu12-11.6.1.9-py3-none-manylinux2014_x86_64.whl (127.9 MB)\n",
      "\u001b[2K   \u001b[90m\u2501\u2501\u2501\u2501\u2501\u2501\u2501\u2501\u2501\u2501\u2501\u2501\u2501\u2501\u2501\u2501\u2501\u2501\u2501\u2501\u2501\u2501\u2501\u2501\u2501\u2501\u2501\u2501\u2501\u2501\u2501\u2501\u2501\u2501\u2501\u2501\u2501\u2501\u2501\u2501\u001b[0m \u001b[32m127.9/127.9 MB\u001b[0m \u001b[31m7.7 MB/s\u001b[0m eta \u001b[36m0:00:00\u001b[0m\n",
      "\u001b[?25hDownloading nvidia_cusparse_cu12-12.3.1.170-py3-none-manylinux2014_x86_64.whl (207.5 MB)\n",
      "\u001b[2K   \u001b[90m\u2501\u2501\u2501\u2501\u2501\u2501\u2501\u2501\u2501\u2501\u2501\u2501\u2501\u2501\u2501\u2501\u2501\u2501\u2501\u2501\u2501\u2501\u2501\u2501\u2501\u2501\u2501\u2501\u2501\u2501\u2501\u2501\u2501\u2501\u2501\u2501\u2501\u2501\u2501\u2501\u001b[0m \u001b[32m207.5/207.5 MB\u001b[0m \u001b[31m7.0 MB/s\u001b[0m eta \u001b[36m0:00:00\u001b[0m\n",
      "\u001b[?25hDownloading nvidia_nvjitlink_cu12-12.4.127-py3-none-manylinux2014_x86_64.whl (21.1 MB)\n",
      "\u001b[2K   \u001b[90m\u2501\u2501\u2501\u2501\u2501\u2501\u2501\u2501\u2501\u2501\u2501\u2501\u2501\u2501\u2501\u2501\u2501\u2501\u2501\u2501\u2501\u2501\u2501\u2501\u2501\u2501\u2501\u2501\u2501\u2501\u2501\u2501\u2501\u2501\u2501\u2501\u2501\u2501\u2501\u2501\u001b[0m \u001b[32m21.1/21.1 MB\u001b[0m \u001b[31m83.1 MB/s\u001b[0m eta \u001b[36m0:00:00\u001b[0m\n",
      "\u001b[?25hBuilding wheels for collected packages: clip\n",
      "  Building wheel for clip (setup.py) ... \u001b[?25l\u001b[?25hdone\n",
      "  Created wheel for clip: filename=clip-1.0-py3-none-any.whl size=1369490 sha256=7e4fc086a74e777809f0c8856eaf88d04645c0c587d48a41b5e8acd7e7498da8\n",
      "  Stored in directory: /tmp/pip-ephem-wheel-cache-2jom2n2s/wheels/3f/7c/a4/9b490845988bf7a4db33674d52f709f088f64392063872eb9a\n",
      "Successfully built clip\n",
      "Installing collected packages: nvidia-nvjitlink-cu12, nvidia-curand-cu12, nvidia-cufft-cu12, nvidia-cuda-runtime-cu12, nvidia-cuda-nvrtc-cu12, nvidia-cuda-cupti-cu12, nvidia-cublas-cu12, ftfy, nvidia-cusparse-cu12, nvidia-cudnn-cu12, nvidia-cusolver-cu12, clip\n",
      "  Attempting uninstall: nvidia-nvjitlink-cu12\n",
      "    Found existing installation: nvidia-nvjitlink-cu12 12.5.82\n",
      "    Uninstalling nvidia-nvjitlink-cu12-12.5.82:\n",
      "      Successfully uninstalled nvidia-nvjitlink-cu12-12.5.82\n",
      "  Attempting uninstall: nvidia-curand-cu12\n",
      "    Found existing installation: nvidia-curand-cu12 10.3.6.82\n",
      "    Uninstalling nvidia-curand-cu12-10.3.6.82:\n",
      "      Successfully uninstalled nvidia-curand-cu12-10.3.6.82\n",
      "  Attempting uninstall: nvidia-cufft-cu12\n",
      "    Found existing installation: nvidia-cufft-cu12 11.2.3.61\n",
      "    Uninstalling nvidia-cufft-cu12-11.2.3.61:\n",
      "      Successfully uninstalled nvidia-cufft-cu12-11.2.3.61\n",
      "  Attempting uninstall: nvidia-cuda-runtime-cu12\n",
      "    Found existing installation: nvidia-cuda-runtime-cu12 12.5.82\n",
      "    Uninstalling nvidia-cuda-runtime-cu12-12.5.82:\n",
      "      Successfully uninstalled nvidia-cuda-runtime-cu12-12.5.82\n",
      "  Attempting uninstall: nvidia-cuda-nvrtc-cu12\n",
      "    Found existing installation: nvidia-cuda-nvrtc-cu12 12.5.82\n",
      "    Uninstalling nvidia-cuda-nvrtc-cu12-12.5.82:\n",
      "      Successfully uninstalled nvidia-cuda-nvrtc-cu12-12.5.82\n",
      "  Attempting uninstall: nvidia-cuda-cupti-cu12\n",
      "    Found existing installation: nvidia-cuda-cupti-cu12 12.5.82\n",
      "    Uninstalling nvidia-cuda-cupti-cu12-12.5.82:\n",
      "      Successfully uninstalled nvidia-cuda-cupti-cu12-12.5.82\n",
      "  Attempting uninstall: nvidia-cublas-cu12\n",
      "    Found existing installation: nvidia-cublas-cu12 12.5.3.2\n",
      "    Uninstalling nvidia-cublas-cu12-12.5.3.2:\n",
      "      Successfully uninstalled nvidia-cublas-cu12-12.5.3.2\n",
      "  Attempting uninstall: nvidia-cusparse-cu12\n",
      "    Found existing installation: nvidia-cusparse-cu12 12.5.1.3\n",
      "    Uninstalling nvidia-cusparse-cu12-12.5.1.3:\n",
      "      Successfully uninstalled nvidia-cusparse-cu12-12.5.1.3\n",
      "  Attempting uninstall: nvidia-cudnn-cu12\n",
      "    Found existing installation: nvidia-cudnn-cu12 9.3.0.75\n",
      "    Uninstalling nvidia-cudnn-cu12-9.3.0.75:\n",
      "      Successfully uninstalled nvidia-cudnn-cu12-9.3.0.75\n",
      "  Attempting uninstall: nvidia-cusolver-cu12\n",
      "    Found existing installation: nvidia-cusolver-cu12 11.6.3.83\n",
      "    Uninstalling nvidia-cusolver-cu12-11.6.3.83:\n",
      "      Successfully uninstalled nvidia-cusolver-cu12-11.6.3.83\n",
      "Successfully installed clip-1.0 ftfy-6.3.1 nvidia-cublas-cu12-12.4.5.8 nvidia-cuda-cupti-cu12-12.4.127 nvidia-cuda-nvrtc-cu12-12.4.127 nvidia-cuda-runtime-cu12-12.4.127 nvidia-cudnn-cu12-9.1.0.70 nvidia-cufft-cu12-11.2.1.3 nvidia-curand-cu12-10.3.5.147 nvidia-cusolver-cu12-11.6.1.9 nvidia-cusparse-cu12-12.3.1.170 nvidia-nvjitlink-cu12-12.4.127\n"
     ]
    }
   ]
  },
  {
   "cell_type": "code",
   "source": [
    "from torch.utils.data import Dataset, DataLoader\n",
    "from PIL import Image\n",
    "import requests\n",
    "from io import BytesIO\n",
    "import clip\n",
    "from transformers import pipeline\n",
    "import torch\n",
    "import torch.nn as nn\n",
    "from sklearn.metrics import accuracy_score, classification_report, confusion_matrix,roc_curve, auc, roc_auc_score\n",
    "from sklearn.preprocessing import label_binarize"
   ],
   "metadata": {
    "id": "Vn04BOkskNGd"
   },
   "execution_count": null,
   "outputs": []
  },
  {
   "cell_type": "code",
   "source": [
    "summarizer = pipeline(\"summarization\", model=\"facebook/bart-large-cnn\")\n",
    "\n",
    "class FakedditURLDataset(Dataset):\n",
    "    def __init__(self, dataframe, preprocess):\n",
    "        self.df = dataframe\n",
    "        self.preprocess = preprocess\n",
    "\n",
    "    def __len__(self):\n",
    "        return len(self.df)\n",
    "\n",
    "    def __getitem__(self, idx):\n",
    "        row = self.df.iloc[idx]\n",
    "        url = row[\"image_url\"]\n",
    "        text = row[\"text\"]\n",
    "        label = int(row[\"label\"])\n",
    "\n",
    "        # Load image from URL\n",
    "        try:\n",
    "            response = requests.get(url, timeout=5)\n",
    "            image = Image.open(BytesIO(response.content)).convert(\"RGB\")\n",
    "            image = self.preprocess(image)\n",
    "        except:\n",
    "            image = Image.new(\"RGB\", (224, 224), (255, 255, 255))\n",
    "            image = self.preprocess(image)\n",
    "\n",
    "        try:\n",
    "            if len(text.split()) > 75:\n",
    "                summary = summarizer(text, max_length=60, min_length=30, do_sample=False)[0][\"summary_text\"]\n",
    "            else:\n",
    "                summary = text\n",
    "        except Exception as e:\n",
    "            print(f\"Summarization failed for sample {idx}: {e}\")\n",
    "            summary = text[:300]\n",
    "\n",
    "        tokenized_text = clip.tokenize([summary], truncate=True)[0]\n",
    "\n",
    "        return image, tokenized_text, torch.tensor(label)"
   ],
   "metadata": {
    "colab": {
     "base_uri": "https://localhost:8080/",
     "height": 226,
     "referenced_widgets": [
      "174906a97dd44af8be6d36191f56ccd9",
      "98f65ae0a9044bcba02c337edfec52e2",
      "c3b32bf836364e589edce30adfec93d2",
      "ddf63429fc414728a5d8c10206ae8774",
      "30fccc60bb4e4c7dae0d7ed2bf895ec1",
      "0dcd5e9b289b4950a0b9b842e614884c",
      "7b9c8212d01941d29a8616d9a460544f",
      "da4d2fbb1843474b9f9f933690d91c20",
      "43c8cc252242459d8e94063bd5b28b0e",
      "ccae28e01dad4b4493b1d92639b56934",
      "507474df07ef43f3b539c3ba22d45fe9",
      "24f3af3903454bae9cc66793eec54c72",
      "5706e99e7afe46658bb11dad74710639",
      "43a092dbb7c043018c74becd45c1b768",
      "684ded1972fa4282a8e1d64856981ed2",
      "7ac97b4960ee4d09ad2b091349972695",
      "d0a30b38e7754495b5fd8e6f3fb8527d",
      "65bd8a16663845a4958ff6e0c4b66ecf",
      "d1ad3976463a46fd8bb6eec1023a33a0",
      "7a7b1f6fe02e435b9a433a86b6ac7baa",
      "40bf1e94e0de462f9119068e3ac8a884",
      "a0f7a6b0310a499083255aaf6502402c",
      "50612ce93f4d4728995e070c5b1414ae",
      "baeb22594a2542a68a814a424ea9c360",
      "935c930384bd40a6b949ffaf074525f5",
      "586d3f8a05ea4cec80882c95863e598b",
      "226f29b830e44c4fa2098361998ba67a",
      "02a03b734a4a4c67a83e55c12b4d31ad",
      "b8de244ebb22455db532d54f720f1b3f",
      "7ce1ae1bd1ac4284bd6e031b3c94677a",
      "e909d46b48b54d138a00497a18ea6a69",
      "f2dc5e8794b9460dbffca1f7f1794d56",
      "f8561b9ff5094ab381419e5660d12b57",
      "27ea93ef212a4454b8640a0791464493",
      "0b70449ffbc046b09031bfe8e5a66ea2",
      "a9ef9f4cb8d94378928a42a38ebe8a18",
      "c6ed4405e0574ed482d17f2e5780f3d0",
      "c9d9702fa1bc433da12b140a34fbae7c",
      "ea098c67db2246c799d4e46115d579a1",
      "67b68ee2d8264d758e10da30e6ec3bf7",
      "eabe23a270c145f49e0b96f997d26888",
      "14bc7cd434754d33b355ad36ce58ea80",
      "b1e3a02728194b2bb1aa54779e936595",
      "df323fe6db874f0892b2a3f174fdc23d",
      "a655d25057bc432389d80d0c82a263fd",
      "d272b0c939464c4d85ec39eee0a53396",
      "c9093685c0224aaaa6d1adb183cf2cb2",
      "22a2d5030bf74b6488afa01774e7e92d",
      "b5c47e2500344a21827feebbec8b9608",
      "624ec4d6637c429994ee7e00ca4bf96a",
      "0cbee2fb83014547883de59d59b9fdf2",
      "eb71c759928248be947308576daac4b2",
      "7428d1eee8d54d9b91f2410a2e34a219",
      "b5595763b6b7441e89eebd5e557ce0a9",
      "a40b9aab96624a699282f44b4b6bffbe",
      "5521adfe840144e58edeafc3af09f5ce",
      "3319722be94242bf8732fce387c7c727",
      "f3362920c7a94bc29635fb1ba0addf39",
      "4147b8b771c04f7886088102c6f72e6f",
      "fd305b8ae93645049513d4f22b63564c",
      "97693ad0b2fc49059dd956bc3952d3d4",
      "e0d44800a7df4a7bbfabed697625ef5d",
      "2eb83de10d8449bfbd45620133080ed0",
      "7213eb5c5132430499686b505db1e5dd",
      "47cf90f29c404028ad7db1b947539fe2",
      "342f3f178e7e49c0869adf9236c40d3e"
     ]
    },
    "id": "KXpCyHCkkPSo",
    "outputId": "38a93520-71f3-45a9-a4bc-5803389e437a"
   },
   "execution_count": null,
   "outputs": [
    {
     "output_type": "display_data",
     "data": {
      "text/plain": [
       "config.json:   0%|          | 0.00/1.58k [00:00<?, ?B/s]"
      ],
      "application/vnd.jupyter.widget-view+json": {
       "version_major": 2,
       "version_minor": 0,
       "model_id": "174906a97dd44af8be6d36191f56ccd9"
      }
     },
     "metadata": {}
    },
    {
     "output_type": "display_data",
     "data": {
      "text/plain": [
       "model.safetensors:   0%|          | 0.00/1.63G [00:00<?, ?B/s]"
      ],
      "application/vnd.jupyter.widget-view+json": {
       "version_major": 2,
       "version_minor": 0,
       "model_id": "24f3af3903454bae9cc66793eec54c72"
      }
     },
     "metadata": {}
    },
    {
     "output_type": "display_data",
     "data": {
      "text/plain": [
       "generation_config.json:   0%|          | 0.00/363 [00:00<?, ?B/s]"
      ],
      "application/vnd.jupyter.widget-view+json": {
       "version_major": 2,
       "version_minor": 0,
       "model_id": "50612ce93f4d4728995e070c5b1414ae"
      }
     },
     "metadata": {}
    },
    {
     "output_type": "display_data",
     "data": {
      "text/plain": [
       "vocab.json:   0%|          | 0.00/899k [00:00<?, ?B/s]"
      ],
      "application/vnd.jupyter.widget-view+json": {
       "version_major": 2,
       "version_minor": 0,
       "model_id": "27ea93ef212a4454b8640a0791464493"
      }
     },
     "metadata": {}
    },
    {
     "output_type": "display_data",
     "data": {
      "text/plain": [
       "merges.txt:   0%|          | 0.00/456k [00:00<?, ?B/s]"
      ],
      "application/vnd.jupyter.widget-view+json": {
       "version_major": 2,
       "version_minor": 0,
       "model_id": "a655d25057bc432389d80d0c82a263fd"
      }
     },
     "metadata": {}
    },
    {
     "output_type": "display_data",
     "data": {
      "text/plain": [
       "tokenizer.json:   0%|          | 0.00/1.36M [00:00<?, ?B/s]"
      ],
      "application/vnd.jupyter.widget-view+json": {
       "version_major": 2,
       "version_minor": 0,
       "model_id": "5521adfe840144e58edeafc3af09f5ce"
      }
     },
     "metadata": {}
    },
    {
     "output_type": "stream",
     "name": "stderr",
     "text": [
      "Device set to use cuda:0\n"
     ]
    }
   ]
  },
  {
   "cell_type": "code",
   "source": [
    "device = \"cuda\" if torch.cuda.is_available() else \"cpu\"\n",
    "clip_model, preprocess = clip.load(\"ViT-B/32\", device=device)\n",
    "\n",
    "train_dataset = FakedditURLDataset(train_df, preprocess)\n",
    "val_dataset   = FakedditURLDataset(val_df, preprocess)\n",
    "test_dataset  = FakedditURLDataset(test_df, preprocess)\n",
    "\n",
    "train_loader = DataLoader(train_dataset, batch_size=256, shuffle=True)\n",
    "val_loader   = DataLoader(val_dataset, batch_size=256)\n",
    "test_loader  = DataLoader(test_dataset, batch_size=256)"
   ],
   "metadata": {
    "colab": {
     "base_uri": "https://localhost:8080/"
    },
    "id": "p2ztkCJXkccK",
    "outputId": "c89ba4d0-001b-4858-cbc1-28d4d81bc3f9"
   },
   "execution_count": null,
   "outputs": [
    {
     "output_type": "stream",
     "name": "stderr",
     "text": [
      "100%|\u2588\u2588\u2588\u2588\u2588\u2588\u2588\u2588\u2588\u2588\u2588\u2588\u2588\u2588\u2588\u2588\u2588\u2588\u2588\u2588\u2588\u2588\u2588\u2588\u2588\u2588\u2588\u2588\u2588\u2588\u2588\u2588\u2588\u2588\u2588\u2588\u2588\u2588\u2588\u2588| 338M/338M [00:03<00:00, 102MiB/s]\n"
     ]
    }
   ]
  },
  {
   "cell_type": "code",
   "source": [
    "import torch.nn as nn\n",
    "\n",
    "class FakeNewsClassifier(nn.Module):\n",
    "    def __init__(self, embed_dim=512):\n",
    "        super(FakeNewsClassifier, self).__init__()\n",
    "        self.classifier = nn.Sequential(\n",
    "            nn.Linear(embed_dim * 2, 1024),\n",
    "            nn.BatchNorm1d(1024),\n",
    "            nn.ReLU(),\n",
    "            nn.Dropout(0.4),\n",
    "\n",
    "            nn.Linear(1024, 512),\n",
    "            nn.BatchNorm1d(512),\n",
    "            nn.ReLU(),\n",
    "            nn.Dropout(0.4),\n",
    "\n",
    "            nn.Linear(512, 128),\n",
    "            nn.BatchNorm1d(128),\n",
    "            nn.ReLU(),\n",
    "            nn.Dropout(0.3),\n",
    "\n",
    "            nn.Linear(128, 2)\n",
    "        )\n",
    "\n",
    "    def forward(self, image_feat, text_feat):\n",
    "        x = torch.cat((image_feat, text_feat), dim=1)\n",
    "        return self.classifier(x)"
   ],
   "metadata": {
    "id": "y0neVV4ZkeJU"
   },
   "execution_count": null,
   "outputs": []
  },
  {
   "cell_type": "code",
   "source": [
    "print(f\"Number of batches in train_loader: {len(train_loader)}\")\n",
    "print(f\"Number of batches in val_loader: {len(val_loader)}\")"
   ],
   "metadata": {
    "colab": {
     "base_uri": "https://localhost:8080/"
    },
    "id": "q6q5YClckpEV",
    "outputId": "212eec10-7d34-43c7-e3b7-45d0f199f6de"
   },
   "execution_count": null,
   "outputs": [
    {
     "output_type": "stream",
     "name": "stdout",
     "text": [
      "Number of batches in train_loader: 195\n",
      "Number of batches in val_loader: 32\n"
     ]
    }
   ]
  },
  {
   "cell_type": "code",
   "source": [
    "!pip install tqdm"
   ],
   "metadata": {
    "colab": {
     "base_uri": "https://localhost:8080/"
    },
    "id": "Mu4WAMbxksVx",
    "outputId": "b8e78f41-ab79-468b-cb77-7a696ad57d61"
   },
   "execution_count": null,
   "outputs": [
    {
     "output_type": "stream",
     "name": "stdout",
     "text": [
      "Requirement already satisfied: tqdm in /usr/local/lib/python3.11/dist-packages (4.67.1)\n"
     ]
    }
   ]
  },
  {
   "cell_type": "code",
   "source": [
    "from tqdm import tqdm\n",
    "def evaluate_model(model, data_loader, clip_model, device, return_metrics=False):\n",
    "    \"\"\"\n",
    "    Evaluate the model on a given data loader.\n",
    "\n",
    "    Args:\n",
    "        model: The model to evaluate.\n",
    "        data_loader: The data loader for the evaluation data.\n",
    "        clip_model: The CLIP model for encoding images and text.\n",
    "        device: The device to use for computation (e.g., \"cuda\" or \"cpu\").\n",
    "        return_metrics: Whether to return loss and accuracy metrics.\n",
    "\n",
    "    Returns:\n",
    "        If return_metrics is True, returns a tuple containing the average loss and accuracy.\n",
    "        Otherwise, returns None.\n",
    "    \"\"\"\n",
    "    model.eval()\n",
    "    loss = 0\n",
    "    correct = 0\n",
    "    total = 0\n",
    "    criterion = nn.CrossEntropyLoss()\n",
    "\n",
    "    with torch.no_grad():\n",
    "        for images, texts, labels in data_loader:\n",
    "            images, texts, labels = images.to(device), texts.to(device), labels.to(device)\n",
    "\n",
    "            image_features = clip_model.encode_image(images).float()\n",
    "            text_features = clip_model.encode_text(texts).float()\n",
    "\n",
    "            outputs = model(image_features, text_features)\n",
    "            loss += criterion(outputs, labels).item()\n",
    "\n",
    "            _, predicted = torch.max(outputs.data, 1)\n",
    "            total += labels.size(0)\n",
    "            correct += (predicted == labels).sum().item()\n",
    "\n",
    "    avg_loss = loss / len(data_loader)\n",
    "    accuracy = 100 * correct / total\n",
    "\n",
    "    if return_metrics:\n",
    "        return avg_loss, accuracy\n",
    "    else:\n",
    "        print(f\"Validation Loss: {avg_loss:.4f}, Accuracy: {accuracy:.2f}%\")\n",
    "\n",
    "print(\"Starting training...\")\n",
    "\n",
    "model = FakeNewsClassifier(embed_dim=512).to(device)\n",
    "optimizer = torch.optim.Adam(model.parameters(), lr=1e-4)\n",
    "criterion = nn.CrossEntropyLoss()\n",
    "\n",
    "train_losses = []\n",
    "val_losses = []\n",
    "train_accuracies = []\n",
    "val_accuracies = []\n",
    "\n",
    "for epoch in range(5):\n",
    "    print(f\"\\n=== Epoch {epoch+1} ===\")\n",
    "\n",
    "    model.train()\n",
    "    epoch_loss = 0\n",
    "    correct = 0\n",
    "    total = 0\n",
    "\n",
    "    progress_bar = tqdm(train_loader, desc=f\"Training\")\n",
    "\n",
    "    for batch_idx, (images, texts, labels) in enumerate(progress_bar):\n",
    "        images, texts, labels = images.to(device), texts.to(device), labels.to(device)\n",
    "\n",
    "        with torch.no_grad():\n",
    "            image_features = clip_model.encode_image(images).float()\n",
    "            text_features = clip_model.encode_text(texts).float()\n",
    "\n",
    "        outputs = model(image_features, text_features)\n",
    "        loss = criterion(outputs, labels)\n",
    "\n",
    "        optimizer.zero_grad()\n",
    "        loss.backward()\n",
    "        optimizer.step()\n",
    "\n",
    "        _, predicted = torch.max(outputs.data, 1)\n",
    "        batch_correct = (predicted == labels).sum().item()\n",
    "        batch_total = labels.size(0)\n",
    "        batch_accuracy = 100 * batch_correct / batch_total\n",
    "\n",
    "        epoch_loss += loss.item()\n",
    "        correct += batch_correct\n",
    "        total += batch_total\n",
    "\n",
    "        progress_bar.set_postfix(loss=f\"{loss.item():.4f}\", acc=f\"{batch_accuracy:.2f}%\")\n",
    "\n",
    "        print(f\"Batch {batch_idx+1}: Loss = {loss.item():.4f}, Accuracy = {batch_accuracy:.2f}%\")\n",
    "\n",
    "    avg_train_loss = epoch_loss / len(train_loader)\n",
    "    train_accuracy = 100 * correct / total\n",
    "\n",
    "    train_losses.append(avg_train_loss)\n",
    "    train_accuracies.append(train_accuracy)\n",
    "    model.eval()\n",
    "    val_loss, val_accuracy = evaluate_model(model, val_loader, clip_model, device, return_metrics=True)\n",
    "\n",
    "    val_losses.append(val_loss)\n",
    "    val_accuracies.append(val_accuracy)\n",
    "\n",
    "    print(f\"\\nEpoch {epoch+1} Summary:\")\n",
    "    print(f\"Training   - Loss: {avg_train_loss:.4f}, Accuracy: {train_accuracy:.2f}%\")\n",
    "    print(f\"Validation - Loss: {val_loss:.4f}, Accuracy: {val_accuracy:.2f}%\")\n",
    "\n",
    "print(\"\\nTraining completed!\")"
   ],
   "metadata": {
    "colab": {
     "base_uri": "https://localhost:8080/"
    },
    "id": "RS74JWJitFpD",
    "outputId": "6dd89cdd-4350-4bd8-d29f-f2cbe0058428"
   },
   "execution_count": null,
   "outputs": [
    {
     "metadata": {
      "tags": null
     },
     "name": "stdout",
     "output_type": "stream",
     "text": [
      "Starting training...\n",
      "\n",
      "=== Epoch 1 ===\n"
     ]
    },
    {
     "metadata": {
      "tags": null
     },
     "name": "stderr",
     "output_type": "stream",
     "text": [
      "Training:   1%|          | 1/195 [00:17<58:05, 17.97s/it, acc=43.36%, loss=0.8071]"
     ]
    },
    {
     "metadata": {
      "tags": null
     },
     "name": "stdout",
     "output_type": "stream",
     "text": [
      "Batch 1: Loss = 0.8071, Accuracy = 43.36%\n"
     ]
    },
    {
     "metadata": {
      "tags": null
     },
     "name": "stderr",
     "output_type": "stream",
     "text": [
      "Training:   1%|          | 2/195 [00:31<49:15, 15.31s/it, acc=57.03%, loss=0.7011]"
     ]
    },
    {
     "metadata": {
      "tags": null
     },
     "name": "stdout",
     "output_type": "stream",
     "text": [
      "Batch 2: Loss = 0.7011, Accuracy = 57.03%\n"
     ]
    },
    {
     "metadata": {
      "tags": null
     },
     "name": "stderr",
     "output_type": "stream",
     "text": [
      "Training:   2%|\u258f         | 3/195 [00:45<47:00, 14.69s/it, acc=58.98%, loss=0.6947]"
     ]
    },
    {
     "metadata": {
      "tags": null
     },
     "name": "stdout",
     "output_type": "stream",
     "text": [
      "Batch 3: Loss = 0.6947, Accuracy = 58.98%\n"
     ]
    },
    {
     "metadata": {
      "tags": null
     },
     "name": "stderr",
     "output_type": "stream",
     "text": [
      "Training:   2%|\u258f         | 4/195 [01:00<47:28, 14.92s/it, acc=66.41%, loss=0.6872]"
     ]
    },
    {
     "metadata": {
      "tags": null
     },
     "name": "stdout",
     "output_type": "stream",
     "text": [
      "Batch 4: Loss = 0.6872, Accuracy = 66.41%\n"
     ]
    },
    {
     "metadata": {
      "tags": null
     },
     "name": "stderr",
     "output_type": "stream",
     "text": [
      "Training:   3%|\u258e         | 5/195 [01:14<46:02, 14.54s/it, acc=60.94%, loss=0.7461]"
     ]
    },
    {
     "metadata": {
      "tags": null
     },
     "name": "stdout",
     "output_type": "stream",
     "text": [
      "Batch 5: Loss = 0.7461, Accuracy = 60.94%\n"
     ]
    },
    {
     "metadata": {
      "tags": null
     },
     "name": "stderr",
     "output_type": "stream",
     "text": [
      "Training:   3%|\u258e         | 6/195 [01:29<46:40, 14.82s/it, acc=69.14%, loss=0.6388]"
     ]
    },
    {
     "metadata": {
      "tags": null
     },
     "name": "stdout",
     "output_type": "stream",
     "text": [
      "Batch 6: Loss = 0.6388, Accuracy = 69.14%\n"
     ]
    },
    {
     "metadata": {
      "tags": null
     },
     "name": "stderr",
     "output_type": "stream",
     "text": [
      "Training:   4%|\u258e         | 7/195 [01:45<47:03, 15.02s/it, acc=65.23%, loss=0.6607]"
     ]
    },
    {
     "metadata": {
      "tags": null
     },
     "name": "stdout",
     "output_type": "stream",
     "text": [
      "Batch 7: Loss = 0.6607, Accuracy = 65.23%\n"
     ]
    },
    {
     "metadata": {
      "tags": null
     },
     "name": "stderr",
     "output_type": "stream",
     "text": [
      "Training:   4%|\u258d         | 8/195 [01:59<45:39, 14.65s/it, acc=67.19%, loss=0.6537]"
     ]
    },
    {
     "metadata": {
      "tags": null
     },
     "name": "stdout",
     "output_type": "stream",
     "text": [
      "Batch 8: Loss = 0.6537, Accuracy = 67.19%\n"
     ]
    },
    {
     "metadata": {
      "tags": null
     },
     "name": "stderr",
     "output_type": "stream",
     "text": [
      "Training:   5%|\u258d         | 9/195 [02:14<45:45, 14.76s/it, acc=68.36%, loss=0.6521]"
     ]
    },
    {
     "metadata": {
      "tags": null
     },
     "name": "stdout",
     "output_type": "stream",
     "text": [
      "Batch 9: Loss = 0.6521, Accuracy = 68.36%\n"
     ]
    },
    {
     "metadata": {
      "tags": null
     },
     "name": "stderr",
     "output_type": "stream",
     "text": [
      "Training:   5%|\u258c         | 10/195 [02:28<44:56, 14.58s/it, acc=72.27%, loss=0.5855]"
     ]
    },
    {
     "metadata": {
      "tags": null
     },
     "name": "stdout",
     "output_type": "stream",
     "text": [
      "Batch 10: Loss = 0.5855, Accuracy = 72.27%\n"
     ]
    },
    {
     "metadata": {
      "tags": null
     },
     "name": "stderr",
     "output_type": "stream",
     "text": [
      "Training:   6%|\u258c         | 11/195 [02:46<48:27, 15.80s/it, acc=72.27%, loss=0.5593]"
     ]
    },
    {
     "metadata": {
      "tags": null
     },
     "name": "stdout",
     "output_type": "stream",
     "text": [
      "Batch 11: Loss = 0.5593, Accuracy = 72.27%\n"
     ]
    },
    {
     "metadata": {
      "tags": null
     },
     "name": "stderr",
     "output_type": "stream",
     "text": [
      "Training:   6%|\u258c         | 12/195 [03:01<47:31, 15.58s/it, acc=73.05%, loss=0.5428]"
     ]
    },
    {
     "metadata": {
      "tags": null
     },
     "name": "stdout",
     "output_type": "stream",
     "text": [
      "Batch 12: Loss = 0.5428, Accuracy = 73.05%\n"
     ]
    },
    {
     "metadata": {
      "tags": null
     },
     "name": "stderr",
     "output_type": "stream",
     "text": [
      "Training:   7%|\u258b         | 13/195 [03:18<47:43, 15.73s/it, acc=71.88%, loss=0.5612]"
     ]
    },
    {
     "metadata": {
      "tags": null
     },
     "name": "stdout",
     "output_type": "stream",
     "text": [
      "Batch 13: Loss = 0.5612, Accuracy = 71.88%\n"
     ]
    },
    {
     "metadata": {
      "tags": null
     },
     "name": "stderr",
     "output_type": "stream",
     "text": [
      "Training:   7%|\u258b         | 14/195 [03:30<44:35, 14.78s/it, acc=76.56%, loss=0.5192]"
     ]
    },
    {
     "metadata": {
      "tags": null
     },
     "name": "stdout",
     "output_type": "stream",
     "text": [
      "Batch 14: Loss = 0.5192, Accuracy = 76.56%\n"
     ]
    },
    {
     "metadata": {
      "tags": null
     },
     "name": "stderr",
     "output_type": "stream",
     "text": [
      "Training:   8%|\u258a         | 15/195 [03:48<46:57, 15.65s/it, acc=66.41%, loss=0.6113]"
     ]
    },
    {
     "metadata": {
      "tags": null
     },
     "name": "stdout",
     "output_type": "stream",
     "text": [
      "Batch 15: Loss = 0.6113, Accuracy = 66.41%\n"
     ]
    },
    {
     "metadata": {
      "tags": null
     },
     "name": "stderr",
     "output_type": "stream",
     "text": [
      "Training:   8%|\u258a         | 16/195 [04:01<44:17, 14.85s/it, acc=71.48%, loss=0.5156]"
     ]
    },
    {
     "metadata": {
      "tags": null
     },
     "name": "stdout",
     "output_type": "stream",
     "text": [
      "Batch 16: Loss = 0.5156, Accuracy = 71.48%\n"
     ]
    },
    {
     "metadata": {
      "tags": null
     },
     "name": "stderr",
     "output_type": "stream",
     "text": [
      "Training:   9%|\u258a         | 17/195 [04:13<41:42, 14.06s/it, acc=76.17%, loss=0.5252]"
     ]
    },
    {
     "metadata": {
      "tags": null
     },
     "name": "stdout",
     "output_type": "stream",
     "text": [
      "Batch 17: Loss = 0.5252, Accuracy = 76.17%\n"
     ]
    },
    {
     "metadata": {
      "tags": null
     },
     "name": "stderr",
     "output_type": "stream",
     "text": [
      "Training:   9%|\u2589         | 18/195 [04:29<43:18, 14.68s/it, acc=72.66%, loss=0.5240]"
     ]
    },
    {
     "metadata": {
      "tags": null
     },
     "name": "stdout",
     "output_type": "stream",
     "text": [
      "Batch 18: Loss = 0.5240, Accuracy = 72.66%\n"
     ]
    },
    {
     "metadata": {
      "tags": null
     },
     "name": "stderr",
     "output_type": "stream",
     "text": [
      "Training:  10%|\u2589         | 19/195 [04:43<42:27, 14.47s/it, acc=78.12%, loss=0.4574]"
     ]
    },
    {
     "metadata": {
      "tags": null
     },
     "name": "stdout",
     "output_type": "stream",
     "text": [
      "Batch 19: Loss = 0.4574, Accuracy = 78.12%\n"
     ]
    },
    {
     "metadata": {
      "tags": null
     },
     "name": "stderr",
     "output_type": "stream",
     "text": [
      "Training:  10%|\u2588         | 20/195 [04:57<41:30, 14.23s/it, acc=72.66%, loss=0.5515]"
     ]
    },
    {
     "metadata": {
      "tags": null
     },
     "name": "stdout",
     "output_type": "stream",
     "text": [
      "Batch 20: Loss = 0.5515, Accuracy = 72.66%\n"
     ]
    },
    {
     "metadata": {
      "tags": null
     },
     "name": "stderr",
     "output_type": "stream",
     "text": [
      "Training:  11%|\u2588         | 21/195 [05:11<41:09, 14.19s/it, acc=73.83%, loss=0.5013]"
     ]
    },
    {
     "metadata": {
      "tags": null
     },
     "name": "stdout",
     "output_type": "stream",
     "text": [
      "Batch 21: Loss = 0.5013, Accuracy = 73.83%\n"
     ]
    },
    {
     "metadata": {
      "tags": null
     },
     "name": "stderr",
     "output_type": "stream",
     "text": [
      "Training:  11%|\u2588\u258f        | 22/195 [05:26<41:19, 14.33s/it, acc=72.27%, loss=0.5410]"
     ]
    },
    {
     "metadata": {
      "tags": null
     },
     "name": "stdout",
     "output_type": "stream",
     "text": [
      "Batch 22: Loss = 0.5410, Accuracy = 72.27%\n"
     ]
    },
    {
     "metadata": {
      "tags": null
     },
     "name": "stderr",
     "output_type": "stream",
     "text": [
      "Training:  12%|\u2588\u258f        | 23/195 [05:38<39:34, 13.81s/it, acc=78.12%, loss=0.4780]"
     ]
    },
    {
     "metadata": {
      "tags": null
     },
     "name": "stdout",
     "output_type": "stream",
     "text": [
      "Batch 23: Loss = 0.4780, Accuracy = 78.12%\n"
     ]
    },
    {
     "metadata": {
      "tags": null
     },
     "name": "stderr",
     "output_type": "stream",
     "text": [
      "Training:  12%|\u2588\u258f        | 24/195 [05:52<39:33, 13.88s/it, acc=73.44%, loss=0.5421]"
     ]
    },
    {
     "metadata": {
      "tags": null
     },
     "name": "stdout",
     "output_type": "stream",
     "text": [
      "Batch 24: Loss = 0.5421, Accuracy = 73.44%\n"
     ]
    },
    {
     "metadata": {
      "tags": null
     },
     "name": "stderr",
     "output_type": "stream",
     "text": [
      "Training:  13%|\u2588\u258e        | 25/195 [06:07<40:07, 14.16s/it, acc=79.69%, loss=0.4456]"
     ]
    },
    {
     "metadata": {
      "tags": null
     },
     "name": "stdout",
     "output_type": "stream",
     "text": [
      "Batch 25: Loss = 0.4456, Accuracy = 79.69%\n"
     ]
    },
    {
     "metadata": {
      "tags": null
     },
     "name": "stderr",
     "output_type": "stream",
     "text": [
      "Training:  13%|\u2588\u258e        | 26/195 [06:22<40:50, 14.50s/it, acc=74.22%, loss=0.5169]"
     ]
    },
    {
     "metadata": {
      "tags": null
     },
     "name": "stdout",
     "output_type": "stream",
     "text": [
      "Batch 26: Loss = 0.5169, Accuracy = 74.22%\n"
     ]
    },
    {
     "metadata": {
      "tags": null
     },
     "name": "stderr",
     "output_type": "stream",
     "text": [
      "Training:  14%|\u2588\u258d        | 27/195 [06:36<39:32, 14.12s/it, acc=69.92%, loss=0.5625]"
     ]
    },
    {
     "metadata": {
      "tags": null
     },
     "name": "stdout",
     "output_type": "stream",
     "text": [
      "Batch 27: Loss = 0.5625, Accuracy = 69.92%\n"
     ]
    },
    {
     "metadata": {
      "tags": null
     },
     "name": "stderr",
     "output_type": "stream",
     "text": [
      "Training:  14%|\u2588\u258d        | 28/195 [06:49<38:32, 13.85s/it, acc=76.95%, loss=0.4888]"
     ]
    },
    {
     "metadata": {
      "tags": null
     },
     "name": "stdout",
     "output_type": "stream",
     "text": [
      "Batch 28: Loss = 0.4888, Accuracy = 76.95%\n"
     ]
    },
    {
     "metadata": {
      "tags": null
     },
     "name": "stderr",
     "output_type": "stream",
     "text": [
      "Training:  15%|\u2588\u258d        | 29/195 [07:04<39:12, 14.17s/it, acc=77.73%, loss=0.4251]"
     ]
    },
    {
     "metadata": {
      "tags": null
     },
     "name": "stdout",
     "output_type": "stream",
     "text": [
      "Batch 29: Loss = 0.4251, Accuracy = 77.73%\n"
     ]
    },
    {
     "metadata": {
      "tags": null
     },
     "name": "stderr",
     "output_type": "stream",
     "text": [
      "Training:  15%|\u2588\u258c        | 30/195 [07:17<38:09, 13.88s/it, acc=76.17%, loss=0.5166]"
     ]
    },
    {
     "metadata": {
      "tags": null
     },
     "name": "stdout",
     "output_type": "stream",
     "text": [
      "Batch 30: Loss = 0.5166, Accuracy = 76.17%\n"
     ]
    },
    {
     "metadata": {
      "tags": null
     },
     "name": "stderr",
     "output_type": "stream",
     "text": [
      "Training:  16%|\u2588\u258c        | 31/195 [07:31<38:17, 14.01s/it, acc=76.17%, loss=0.4986]"
     ]
    },
    {
     "metadata": {
      "tags": null
     },
     "name": "stdout",
     "output_type": "stream",
     "text": [
      "Batch 31: Loss = 0.4986, Accuracy = 76.17%\n"
     ]
    },
    {
     "metadata": {
      "tags": null
     },
     "name": "stderr",
     "output_type": "stream",
     "text": [
      "Training:  16%|\u2588\u258b        | 32/195 [07:45<37:38, 13.86s/it, acc=76.95%, loss=0.4578]"
     ]
    },
    {
     "metadata": {
      "tags": null
     },
     "name": "stdout",
     "output_type": "stream",
     "text": [
      "Batch 32: Loss = 0.4578, Accuracy = 76.95%\n"
     ]
    },
    {
     "metadata": {
      "tags": null
     },
     "name": "stderr",
     "output_type": "stream",
     "text": [
      "Training:  17%|\u2588\u258b        | 33/195 [07:59<37:30, 13.89s/it, acc=76.95%, loss=0.4941]"
     ]
    },
    {
     "metadata": {
      "tags": null
     },
     "name": "stdout",
     "output_type": "stream",
     "text": [
      "Batch 33: Loss = 0.4941, Accuracy = 76.95%\n"
     ]
    },
    {
     "metadata": {
      "tags": null
     },
     "name": "stderr",
     "output_type": "stream",
     "text": [
      "Training:  17%|\u2588\u258b        | 34/195 [08:13<37:28, 13.97s/it, acc=74.61%, loss=0.5003]"
     ]
    },
    {
     "metadata": {
      "tags": null
     },
     "name": "stdout",
     "output_type": "stream",
     "text": [
      "Batch 34: Loss = 0.5003, Accuracy = 74.61%\n"
     ]
    },
    {
     "metadata": {
      "tags": null
     },
     "name": "stderr",
     "output_type": "stream",
     "text": [
      "Training:  18%|\u2588\u258a        | 35/195 [08:27<37:28, 14.05s/it, acc=78.91%, loss=0.4653]"
     ]
    },
    {
     "metadata": {
      "tags": null
     },
     "name": "stdout",
     "output_type": "stream",
     "text": [
      "Batch 35: Loss = 0.4653, Accuracy = 78.91%\n"
     ]
    },
    {
     "metadata": {
      "tags": null
     },
     "name": "stderr",
     "output_type": "stream",
     "text": [
      "Training:  18%|\u2588\u258a        | 36/195 [08:41<37:28, 14.14s/it, acc=78.52%, loss=0.4706]"
     ]
    },
    {
     "metadata": {
      "tags": null
     },
     "name": "stdout",
     "output_type": "stream",
     "text": [
      "Batch 36: Loss = 0.4706, Accuracy = 78.52%\n"
     ]
    },
    {
     "metadata": {
      "tags": null
     },
     "name": "stderr",
     "output_type": "stream",
     "text": [
      "Training:  19%|\u2588\u2589        | 37/195 [08:57<38:23, 14.58s/it, acc=77.34%, loss=0.4964]"
     ]
    },
    {
     "metadata": {
      "tags": null
     },
     "name": "stdout",
     "output_type": "stream",
     "text": [
      "Batch 37: Loss = 0.4964, Accuracy = 77.34%\n"
     ]
    },
    {
     "metadata": {
      "tags": null
     },
     "name": "stderr",
     "output_type": "stream",
     "text": [
      "Training:  19%|\u2588\u2589        | 38/195 [09:11<37:38, 14.38s/it, acc=81.25%, loss=0.4153]"
     ]
    },
    {
     "metadata": {
      "tags": null
     },
     "name": "stdout",
     "output_type": "stream",
     "text": [
      "Batch 38: Loss = 0.4153, Accuracy = 81.25%\n"
     ]
    },
    {
     "metadata": {
      "tags": null
     },
     "name": "stderr",
     "output_type": "stream",
     "text": [
      "Training:  20%|\u2588\u2588        | 39/195 [09:25<37:31, 14.43s/it, acc=79.30%, loss=0.4224]"
     ]
    },
    {
     "metadata": {
      "tags": null
     },
     "name": "stdout",
     "output_type": "stream",
     "text": [
      "Batch 39: Loss = 0.4224, Accuracy = 79.30%\n"
     ]
    },
    {
     "metadata": {
      "tags": null
     },
     "name": "stderr",
     "output_type": "stream",
     "text": [
      "Training:  21%|\u2588\u2588        | 40/195 [09:38<36:10, 14.00s/it, acc=82.81%, loss=0.4243]"
     ]
    },
    {
     "metadata": {
      "tags": null
     },
     "name": "stdout",
     "output_type": "stream",
     "text": [
      "Batch 40: Loss = 0.4243, Accuracy = 82.81%\n"
     ]
    },
    {
     "metadata": {
      "tags": null
     },
     "name": "stderr",
     "output_type": "stream",
     "text": [
      "Training:  21%|\u2588\u2588        | 41/195 [09:53<36:11, 14.10s/it, acc=76.95%, loss=0.4881]"
     ]
    },
    {
     "metadata": {
      "tags": null
     },
     "name": "stdout",
     "output_type": "stream",
     "text": [
      "Batch 41: Loss = 0.4881, Accuracy = 76.95%\n"
     ]
    },
    {
     "metadata": {
      "tags": null
     },
     "name": "stderr",
     "output_type": "stream",
     "text": [
      "Training:  22%|\u2588\u2588\u258f       | 42/195 [10:07<35:41, 14.00s/it, acc=78.91%, loss=0.4501]"
     ]
    },
    {
     "metadata": {
      "tags": null
     },
     "name": "stdout",
     "output_type": "stream",
     "text": [
      "Batch 42: Loss = 0.4501, Accuracy = 78.91%\n"
     ]
    },
    {
     "metadata": {
      "tags": null
     },
     "name": "stderr",
     "output_type": "stream",
     "text": [
      "Training:  22%|\u2588\u2588\u258f       | 43/195 [10:21<36:09, 14.27s/it, acc=82.42%, loss=0.4219]"
     ]
    },
    {
     "metadata": {
      "tags": null
     },
     "name": "stdout",
     "output_type": "stream",
     "text": [
      "Batch 43: Loss = 0.4219, Accuracy = 82.42%\n"
     ]
    },
    {
     "metadata": {
      "tags": null
     },
     "name": "stderr",
     "output_type": "stream",
     "text": [
      "Training:  23%|\u2588\u2588\u258e       | 44/195 [10:37<36:59, 14.70s/it, acc=83.20%, loss=0.4105]"
     ]
    },
    {
     "metadata": {
      "tags": null
     },
     "name": "stdout",
     "output_type": "stream",
     "text": [
      "Batch 44: Loss = 0.4105, Accuracy = 83.20%\n"
     ]
    },
    {
     "metadata": {
      "tags": null
     },
     "name": "stderr",
     "output_type": "stream",
     "text": [
      "Training:  23%|\u2588\u2588\u258e       | 45/195 [10:51<36:12, 14.48s/it, acc=80.86%, loss=0.4616]"
     ]
    },
    {
     "metadata": {
      "tags": null
     },
     "name": "stdout",
     "output_type": "stream",
     "text": [
      "Batch 45: Loss = 0.4616, Accuracy = 80.86%\n"
     ]
    },
    {
     "metadata": {
      "tags": null
     },
     "name": "stderr",
     "output_type": "stream",
     "text": [
      "Training:  24%|\u2588\u2588\u258e       | 46/195 [11:05<35:30, 14.30s/it, acc=81.64%, loss=0.4233]"
     ]
    },
    {
     "metadata": {
      "tags": null
     },
     "name": "stdout",
     "output_type": "stream",
     "text": [
      "Batch 46: Loss = 0.4233, Accuracy = 81.64%\n"
     ]
    },
    {
     "metadata": {
      "tags": null
     },
     "name": "stderr",
     "output_type": "stream",
     "text": [
      "Training:  24%|\u2588\u2588\u258d       | 47/195 [11:20<35:32, 14.41s/it, acc=81.25%, loss=0.4489]"
     ]
    },
    {
     "metadata": {
      "tags": null
     },
     "name": "stdout",
     "output_type": "stream",
     "text": [
      "Batch 47: Loss = 0.4489, Accuracy = 81.25%\n"
     ]
    },
    {
     "metadata": {
      "tags": null
     },
     "name": "stderr",
     "output_type": "stream",
     "text": [
      "Training:  25%|\u2588\u2588\u258d       | 48/195 [11:35<35:46, 14.60s/it, acc=82.42%, loss=0.4204]"
     ]
    },
    {
     "metadata": {
      "tags": null
     },
     "name": "stdout",
     "output_type": "stream",
     "text": [
      "Batch 48: Loss = 0.4204, Accuracy = 82.42%\n"
     ]
    },
    {
     "metadata": {
      "tags": null
     },
     "name": "stderr",
     "output_type": "stream",
     "text": [
      "Training:  25%|\u2588\u2588\u258c       | 49/195 [11:49<34:57, 14.37s/it, acc=83.20%, loss=0.3830]"
     ]
    },
    {
     "metadata": {
      "tags": null
     },
     "name": "stdout",
     "output_type": "stream",
     "text": [
      "Batch 49: Loss = 0.3830, Accuracy = 83.20%\n"
     ]
    },
    {
     "metadata": {
      "tags": null
     },
     "name": "stderr",
     "output_type": "stream",
     "text": [
      "Training:  26%|\u2588\u2588\u258c       | 50/195 [12:03<34:57, 14.47s/it, acc=86.72%, loss=0.3568]"
     ]
    },
    {
     "metadata": {
      "tags": null
     },
     "name": "stdout",
     "output_type": "stream",
     "text": [
      "Batch 50: Loss = 0.3568, Accuracy = 86.72%\n"
     ]
    },
    {
     "metadata": {
      "tags": null
     },
     "name": "stderr",
     "output_type": "stream",
     "text": [
      "Training:  26%|\u2588\u2588\u258c       | 51/195 [12:19<35:38, 14.85s/it, acc=89.45%, loss=0.3149]"
     ]
    },
    {
     "metadata": {
      "tags": null
     },
     "name": "stdout",
     "output_type": "stream",
     "text": [
      "Batch 51: Loss = 0.3149, Accuracy = 89.45%\n"
     ]
    },
    {
     "metadata": {
      "tags": null
     },
     "name": "stderr",
     "output_type": "stream",
     "text": [
      "Training:  27%|\u2588\u2588\u258b       | 52/195 [12:33<34:38, 14.54s/it, acc=87.50%, loss=0.3420]"
     ]
    },
    {
     "metadata": {
      "tags": null
     },
     "name": "stdout",
     "output_type": "stream",
     "text": [
      "Batch 52: Loss = 0.3420, Accuracy = 87.50%\n"
     ]
    },
    {
     "metadata": {
      "tags": null
     },
     "name": "stderr",
     "output_type": "stream",
     "text": [
      "Training:  27%|\u2588\u2588\u258b       | 53/195 [12:46<33:44, 14.26s/it, acc=81.25%, loss=0.4764]"
     ]
    },
    {
     "metadata": {
      "tags": null
     },
     "name": "stdout",
     "output_type": "stream",
     "text": [
      "Batch 53: Loss = 0.4764, Accuracy = 81.25%\n"
     ]
    },
    {
     "metadata": {
      "tags": null
     },
     "name": "stderr",
     "output_type": "stream",
     "text": [
      "Training:  28%|\u2588\u2588\u258a       | 54/195 [13:01<34:03, 14.49s/it, acc=82.03%, loss=0.4316]"
     ]
    },
    {
     "metadata": {
      "tags": null
     },
     "name": "stdout",
     "output_type": "stream",
     "text": [
      "Batch 54: Loss = 0.4316, Accuracy = 82.03%\n"
     ]
    },
    {
     "metadata": {
      "tags": null
     },
     "name": "stderr",
     "output_type": "stream",
     "text": [
      "Training:  28%|\u2588\u2588\u258a       | 55/195 [13:15<33:20, 14.29s/it, acc=84.38%, loss=0.3770]"
     ]
    },
    {
     "metadata": {
      "tags": null
     },
     "name": "stdout",
     "output_type": "stream",
     "text": [
      "Batch 55: Loss = 0.3770, Accuracy = 84.38%\n"
     ]
    },
    {
     "metadata": {
      "tags": null
     },
     "name": "stderr",
     "output_type": "stream",
     "text": [
      "Training:  29%|\u2588\u2588\u258a       | 56/195 [13:30<33:35, 14.50s/it, acc=85.94%, loss=0.3532]"
     ]
    },
    {
     "metadata": {
      "tags": null
     },
     "name": "stdout",
     "output_type": "stream",
     "text": [
      "Batch 56: Loss = 0.3532, Accuracy = 85.94%\n"
     ]
    },
    {
     "metadata": {
      "tags": null
     },
     "name": "stderr",
     "output_type": "stream",
     "text": [
      "Training:  29%|\u2588\u2588\u2589       | 57/195 [13:45<33:42, 14.66s/it, acc=78.91%, loss=0.4192]"
     ]
    },
    {
     "metadata": {
      "tags": null
     },
     "name": "stdout",
     "output_type": "stream",
     "text": [
      "Batch 57: Loss = 0.4192, Accuracy = 78.91%\n"
     ]
    },
    {
     "metadata": {
      "tags": null
     },
     "name": "stderr",
     "output_type": "stream",
     "text": [
      "Training:  30%|\u2588\u2588\u2589       | 58/195 [14:00<33:39, 14.74s/it, acc=82.42%, loss=0.3951]"
     ]
    },
    {
     "metadata": {
      "tags": null
     },
     "name": "stdout",
     "output_type": "stream",
     "text": [
      "Batch 58: Loss = 0.3951, Accuracy = 82.42%\n"
     ]
    },
    {
     "metadata": {
      "tags": null
     },
     "name": "stderr",
     "output_type": "stream",
     "text": [
      "Training:  30%|\u2588\u2588\u2588       | 59/195 [14:14<32:52, 14.51s/it, acc=83.59%, loss=0.3774]"
     ]
    },
    {
     "metadata": {
      "tags": null
     },
     "name": "stdout",
     "output_type": "stream",
     "text": [
      "Batch 59: Loss = 0.3774, Accuracy = 83.59%\n"
     ]
    },
    {
     "metadata": {
      "tags": null
     },
     "name": "stderr",
     "output_type": "stream",
     "text": [
      "Training:  31%|\u2588\u2588\u2588       | 60/195 [14:30<33:17, 14.80s/it, acc=81.64%, loss=0.4106]"
     ]
    },
    {
     "metadata": {
      "tags": null
     },
     "name": "stdout",
     "output_type": "stream",
     "text": [
      "Batch 60: Loss = 0.4106, Accuracy = 81.64%\n"
     ]
    },
    {
     "metadata": {
      "tags": null
     },
     "name": "stderr",
     "output_type": "stream",
     "text": [
      "Training:  31%|\u2588\u2588\u2588\u258f      | 61/195 [14:44<32:50, 14.70s/it, acc=82.03%, loss=0.3860]"
     ]
    },
    {
     "metadata": {
      "tags": null
     },
     "name": "stdout",
     "output_type": "stream",
     "text": [
      "Batch 61: Loss = 0.3860, Accuracy = 82.03%\n"
     ]
    },
    {
     "metadata": {
      "tags": null
     },
     "name": "stderr",
     "output_type": "stream",
     "text": [
      "Training:  32%|\u2588\u2588\u2588\u258f      | 62/195 [14:57<31:30, 14.22s/it, acc=83.20%, loss=0.3944]"
     ]
    },
    {
     "metadata": {
      "tags": null
     },
     "name": "stdout",
     "output_type": "stream",
     "text": [
      "Batch 62: Loss = 0.3944, Accuracy = 83.20%\n"
     ]
    },
    {
     "metadata": {
      "tags": null
     },
     "name": "stderr",
     "output_type": "stream",
     "text": [
      "Training:  32%|\u2588\u2588\u2588\u258f      | 63/195 [15:12<31:53, 14.50s/it, acc=83.20%, loss=0.3948]"
     ]
    },
    {
     "metadata": {
      "tags": null
     },
     "name": "stdout",
     "output_type": "stream",
     "text": [
      "Batch 63: Loss = 0.3948, Accuracy = 83.20%\n"
     ]
    },
    {
     "metadata": {
      "tags": null
     },
     "name": "stderr",
     "output_type": "stream",
     "text": [
      "Training:  33%|\u2588\u2588\u2588\u258e      | 64/195 [15:34<36:33, 16.75s/it, acc=85.55%, loss=0.3864]"
     ]
    },
    {
     "metadata": {
      "tags": null
     },
     "name": "stdout",
     "output_type": "stream",
     "text": [
      "Batch 64: Loss = 0.3864, Accuracy = 85.55%\n"
     ]
    },
    {
     "metadata": {
      "tags": null
     },
     "name": "stderr",
     "output_type": "stream",
     "text": [
      "Training:  33%|\u2588\u2588\u2588\u258e      | 65/195 [15:51<36:01, 16.62s/it, acc=85.16%, loss=0.3681]"
     ]
    },
    {
     "metadata": {
      "tags": null
     },
     "name": "stdout",
     "output_type": "stream",
     "text": [
      "Batch 65: Loss = 0.3681, Accuracy = 85.16%\n"
     ]
    },
    {
     "metadata": {
      "tags": null
     },
     "name": "stderr",
     "output_type": "stream",
     "text": [
      "Training:  34%|\u2588\u2588\u2588\u258d      | 66/195 [16:06<34:53, 16.22s/it, acc=83.98%, loss=0.3850]"
     ]
    },
    {
     "metadata": {
      "tags": null
     },
     "name": "stdout",
     "output_type": "stream",
     "text": [
      "Batch 66: Loss = 0.3850, Accuracy = 83.98%\n"
     ]
    },
    {
     "metadata": {
      "tags": null
     },
     "name": "stderr",
     "output_type": "stream",
     "text": [
      "Training:  34%|\u2588\u2588\u2588\u258d      | 67/195 [16:20<33:13, 15.57s/it, acc=85.16%, loss=0.3620]"
     ]
    },
    {
     "metadata": {
      "tags": null
     },
     "name": "stdout",
     "output_type": "stream",
     "text": [
      "Batch 67: Loss = 0.3620, Accuracy = 85.16%\n"
     ]
    },
    {
     "metadata": {
      "tags": null
     },
     "name": "stderr",
     "output_type": "stream",
     "text": [
      "Training:  35%|\u2588\u2588\u2588\u258d      | 68/195 [16:33<30:59, 14.64s/it, acc=85.16%, loss=0.3934]"
     ]
    },
    {
     "metadata": {
      "tags": null
     },
     "name": "stdout",
     "output_type": "stream",
     "text": [
      "Batch 68: Loss = 0.3934, Accuracy = 85.16%\n"
     ]
    },
    {
     "metadata": {
      "tags": null
     },
     "name": "stderr",
     "output_type": "stream",
     "text": [
      "Training:  35%|\u2588\u2588\u2588\u258c      | 69/195 [16:46<30:19, 14.44s/it, acc=84.77%, loss=0.3777]"
     ]
    },
    {
     "metadata": {
      "tags": null
     },
     "name": "stdout",
     "output_type": "stream",
     "text": [
      "Batch 69: Loss = 0.3777, Accuracy = 84.77%\n"
     ]
    },
    {
     "metadata": {
      "tags": null
     },
     "name": "stderr",
     "output_type": "stream",
     "text": [
      "Training:  36%|\u2588\u2588\u2588\u258c      | 70/195 [17:01<30:20, 14.56s/it, acc=85.94%, loss=0.3323]"
     ]
    },
    {
     "metadata": {
      "tags": null
     },
     "name": "stdout",
     "output_type": "stream",
     "text": [
      "Batch 70: Loss = 0.3323, Accuracy = 85.94%\n"
     ]
    },
    {
     "metadata": {
      "tags": null
     },
     "name": "stderr",
     "output_type": "stream",
     "text": [
      "Training:  36%|\u2588\u2588\u2588\u258b      | 71/195 [17:14<29:12, 14.13s/it, acc=84.38%, loss=0.4071]"
     ]
    },
    {
     "metadata": {
      "tags": null
     },
     "name": "stdout",
     "output_type": "stream",
     "text": [
      "Batch 71: Loss = 0.4071, Accuracy = 84.38%\n"
     ]
    },
    {
     "metadata": {
      "tags": null
     },
     "name": "stderr",
     "output_type": "stream",
     "text": [
      "Training:  37%|\u2588\u2588\u2588\u258b      | 72/195 [17:29<29:25, 14.35s/it, acc=82.81%, loss=0.3672]"
     ]
    },
    {
     "metadata": {
      "tags": null
     },
     "name": "stdout",
     "output_type": "stream",
     "text": [
      "Batch 72: Loss = 0.3672, Accuracy = 82.81%\n"
     ]
    },
    {
     "metadata": {
      "tags": null
     },
     "name": "stderr",
     "output_type": "stream",
     "text": [
      "Training:  37%|\u2588\u2588\u2588\u258b      | 73/195 [17:46<30:30, 15.00s/it, acc=83.20%, loss=0.3872]"
     ]
    },
    {
     "metadata": {
      "tags": null
     },
     "name": "stdout",
     "output_type": "stream",
     "text": [
      "Batch 73: Loss = 0.3872, Accuracy = 83.20%\n"
     ]
    },
    {
     "metadata": {
      "tags": null
     },
     "name": "stderr",
     "output_type": "stream",
     "text": [
      "Training:  38%|\u2588\u2588\u2588\u258a      | 74/195 [18:01<30:31, 15.14s/it, acc=89.06%, loss=0.3227]"
     ]
    },
    {
     "metadata": {
      "tags": null
     },
     "name": "stdout",
     "output_type": "stream",
     "text": [
      "Batch 74: Loss = 0.3227, Accuracy = 89.06%\n"
     ]
    },
    {
     "metadata": {
      "tags": null
     },
     "name": "stderr",
     "output_type": "stream",
     "text": [
      "Training:  38%|\u2588\u2588\u2588\u258a      | 75/195 [18:14<28:38, 14.32s/it, acc=84.38%, loss=0.3936]"
     ]
    },
    {
     "metadata": {
      "tags": null
     },
     "name": "stdout",
     "output_type": "stream",
     "text": [
      "Batch 75: Loss = 0.3936, Accuracy = 84.38%\n"
     ]
    },
    {
     "metadata": {
      "tags": null
     },
     "name": "stderr",
     "output_type": "stream",
     "text": [
      "Training:  39%|\u2588\u2588\u2588\u2589      | 76/195 [18:27<27:49, 14.03s/it, acc=87.89%, loss=0.3075]"
     ]
    },
    {
     "metadata": {
      "tags": null
     },
     "name": "stdout",
     "output_type": "stream",
     "text": [
      "Batch 76: Loss = 0.3075, Accuracy = 87.89%\n"
     ]
    },
    {
     "metadata": {
      "tags": null
     },
     "name": "stderr",
     "output_type": "stream",
     "text": [
      "Training:  39%|\u2588\u2588\u2588\u2589      | 77/195 [18:43<28:43, 14.60s/it, acc=88.28%, loss=0.3181]"
     ]
    },
    {
     "metadata": {
      "tags": null
     },
     "name": "stdout",
     "output_type": "stream",
     "text": [
      "Batch 77: Loss = 0.3181, Accuracy = 88.28%\n"
     ]
    },
    {
     "metadata": {
      "tags": null
     },
     "name": "stderr",
     "output_type": "stream",
     "text": [
      "Training:  40%|\u2588\u2588\u2588\u2588      | 78/195 [18:58<28:29, 14.61s/it, acc=83.98%, loss=0.3429]"
     ]
    },
    {
     "metadata": {
      "tags": null
     },
     "name": "stdout",
     "output_type": "stream",
     "text": [
      "Batch 78: Loss = 0.3429, Accuracy = 83.98%\n"
     ]
    },
    {
     "metadata": {
      "tags": null
     },
     "name": "stderr",
     "output_type": "stream",
     "text": [
      "Training:  41%|\u2588\u2588\u2588\u2588      | 79/195 [19:11<27:29, 14.22s/it, acc=85.55%, loss=0.3531]"
     ]
    },
    {
     "metadata": {
      "tags": null
     },
     "name": "stdout",
     "output_type": "stream",
     "text": [
      "Batch 79: Loss = 0.3531, Accuracy = 85.55%\n"
     ]
    },
    {
     "metadata": {
      "tags": null
     },
     "name": "stderr",
     "output_type": "stream",
     "text": [
      "Training:  41%|\u2588\u2588\u2588\u2588      | 80/195 [19:26<27:29, 14.34s/it, acc=86.72%, loss=0.3329]"
     ]
    },
    {
     "metadata": {
      "tags": null
     },
     "name": "stdout",
     "output_type": "stream",
     "text": [
      "Batch 80: Loss = 0.3329, Accuracy = 86.72%\n"
     ]
    },
    {
     "metadata": {
      "tags": null
     },
     "name": "stderr",
     "output_type": "stream",
     "text": [
      "Training:  42%|\u2588\u2588\u2588\u2588\u258f     | 81/195 [19:39<26:43, 14.06s/it, acc=80.47%, loss=0.3865]"
     ]
    },
    {
     "metadata": {
      "tags": null
     },
     "name": "stdout",
     "output_type": "stream",
     "text": [
      "Batch 81: Loss = 0.3865, Accuracy = 80.47%\n"
     ]
    },
    {
     "metadata": {
      "tags": null
     },
     "name": "stderr",
     "output_type": "stream",
     "text": [
      "Training:  42%|\u2588\u2588\u2588\u2588\u258f     | 82/195 [19:53<26:28, 14.06s/it, acc=89.45%, loss=0.3189]"
     ]
    },
    {
     "metadata": {
      "tags": null
     },
     "name": "stdout",
     "output_type": "stream",
     "text": [
      "Batch 82: Loss = 0.3189, Accuracy = 89.45%\n"
     ]
    },
    {
     "metadata": {
      "tags": null
     },
     "name": "stderr",
     "output_type": "stream",
     "text": [
      "Training:  43%|\u2588\u2588\u2588\u2588\u258e     | 83/195 [20:07<25:57, 13.90s/it, acc=83.98%, loss=0.4162]"
     ]
    },
    {
     "metadata": {
      "tags": null
     },
     "name": "stdout",
     "output_type": "stream",
     "text": [
      "Batch 83: Loss = 0.4162, Accuracy = 83.98%\n"
     ]
    },
    {
     "metadata": {
      "tags": null
     },
     "name": "stderr",
     "output_type": "stream",
     "text": [
      "Training:  43%|\u2588\u2588\u2588\u2588\u258e     | 84/195 [20:19<24:46, 13.39s/it, acc=85.16%, loss=0.3633]"
     ]
    },
    {
     "metadata": {
      "tags": null
     },
     "name": "stdout",
     "output_type": "stream",
     "text": [
      "Batch 84: Loss = 0.3633, Accuracy = 85.16%\n"
     ]
    },
    {
     "metadata": {
      "tags": null
     },
     "name": "stderr",
     "output_type": "stream",
     "text": [
      "Training:  44%|\u2588\u2588\u2588\u2588\u258e     | 85/195 [20:32<24:27, 13.34s/it, acc=89.06%, loss=0.3044]"
     ]
    },
    {
     "metadata": {
      "tags": null
     },
     "name": "stdout",
     "output_type": "stream",
     "text": [
      "Batch 85: Loss = 0.3044, Accuracy = 89.06%\n"
     ]
    },
    {
     "metadata": {
      "tags": null
     },
     "name": "stderr",
     "output_type": "stream",
     "text": [
      "Training:  44%|\u2588\u2588\u2588\u2588\u258d     | 86/195 [20:47<25:15, 13.91s/it, acc=88.28%, loss=0.2951]"
     ]
    },
    {
     "metadata": {
      "tags": null
     },
     "name": "stdout",
     "output_type": "stream",
     "text": [
      "Batch 86: Loss = 0.2951, Accuracy = 88.28%\n"
     ]
    },
    {
     "metadata": {
      "tags": null
     },
     "name": "stderr",
     "output_type": "stream",
     "text": [
      "Training:  45%|\u2588\u2588\u2588\u2588\u258d     | 87/195 [21:01<24:48, 13.78s/it, acc=86.33%, loss=0.3771]"
     ]
    },
    {
     "metadata": {
      "tags": null
     },
     "name": "stdout",
     "output_type": "stream",
     "text": [
      "Batch 87: Loss = 0.3771, Accuracy = 86.33%\n"
     ]
    },
    {
     "metadata": {
      "tags": null
     },
     "name": "stderr",
     "output_type": "stream",
     "text": [
      "Training:  45%|\u2588\u2588\u2588\u2588\u258c     | 88/195 [21:15<25:01, 14.04s/it, acc=86.33%, loss=0.3382]"
     ]
    },
    {
     "metadata": {
      "tags": null
     },
     "name": "stdout",
     "output_type": "stream",
     "text": [
      "Batch 88: Loss = 0.3382, Accuracy = 86.33%\n"
     ]
    },
    {
     "metadata": {
      "tags": null
     },
     "name": "stderr",
     "output_type": "stream",
     "text": [
      "Training:  46%|\u2588\u2588\u2588\u2588\u258c     | 89/195 [21:29<24:45, 14.01s/it, acc=87.89%, loss=0.3214]"
     ]
    },
    {
     "metadata": {
      "tags": null
     },
     "name": "stdout",
     "output_type": "stream",
     "text": [
      "Batch 89: Loss = 0.3214, Accuracy = 87.89%\n"
     ]
    },
    {
     "metadata": {
      "tags": null
     },
     "name": "stderr",
     "output_type": "stream",
     "text": [
      "Training:  46%|\u2588\u2588\u2588\u2588\u258c     | 90/195 [21:44<25:01, 14.30s/it, acc=85.94%, loss=0.3407]"
     ]
    },
    {
     "metadata": {
      "tags": null
     },
     "name": "stdout",
     "output_type": "stream",
     "text": [
      "Batch 90: Loss = 0.3407, Accuracy = 85.94%\n"
     ]
    },
    {
     "metadata": {
      "tags": null
     },
     "name": "stderr",
     "output_type": "stream",
     "text": [
      "Training:  47%|\u2588\u2588\u2588\u2588\u258b     | 91/195 [21:59<25:12, 14.55s/it, acc=86.33%, loss=0.3543]"
     ]
    },
    {
     "metadata": {
      "tags": null
     },
     "name": "stdout",
     "output_type": "stream",
     "text": [
      "Batch 91: Loss = 0.3543, Accuracy = 86.33%\n"
     ]
    },
    {
     "metadata": {
      "tags": null
     },
     "name": "stderr",
     "output_type": "stream",
     "text": [
      "Training:  47%|\u2588\u2588\u2588\u2588\u258b     | 92/195 [22:13<24:25, 14.23s/it, acc=91.02%, loss=0.2676]"
     ]
    },
    {
     "metadata": {
      "tags": null
     },
     "name": "stdout",
     "output_type": "stream",
     "text": [
      "Batch 92: Loss = 0.2676, Accuracy = 91.02%\n"
     ]
    },
    {
     "metadata": {
      "tags": null
     },
     "name": "stderr",
     "output_type": "stream",
     "text": [
      "Training:  48%|\u2588\u2588\u2588\u2588\u258a     | 93/195 [22:27<24:00, 14.12s/it, acc=88.67%, loss=0.2833]"
     ]
    },
    {
     "metadata": {
      "tags": null
     },
     "name": "stdout",
     "output_type": "stream",
     "text": [
      "Batch 93: Loss = 0.2833, Accuracy = 88.67%\n"
     ]
    },
    {
     "metadata": {
      "tags": null
     },
     "name": "stderr",
     "output_type": "stream",
     "text": [
      "Training:  48%|\u2588\u2588\u2588\u2588\u258a     | 94/195 [22:40<23:11, 13.78s/it, acc=85.55%, loss=0.3369]"
     ]
    },
    {
     "metadata": {
      "tags": null
     },
     "name": "stdout",
     "output_type": "stream",
     "text": [
      "Batch 94: Loss = 0.3369, Accuracy = 85.55%\n"
     ]
    },
    {
     "metadata": {
      "tags": null
     },
     "name": "stderr",
     "output_type": "stream",
     "text": [
      "Training:  49%|\u2588\u2588\u2588\u2588\u258a     | 95/195 [22:52<21:59, 13.20s/it, acc=88.28%, loss=0.2981]"
     ]
    },
    {
     "metadata": {
      "tags": null
     },
     "name": "stdout",
     "output_type": "stream",
     "text": [
      "Batch 95: Loss = 0.2981, Accuracy = 88.28%\n"
     ]
    },
    {
     "metadata": {
      "tags": null
     },
     "name": "stderr",
     "output_type": "stream",
     "text": [
      "Training:  49%|\u2588\u2588\u2588\u2588\u2589     | 96/195 [23:09<23:44, 14.39s/it, acc=88.67%, loss=0.2827]"
     ]
    },
    {
     "metadata": {
      "tags": null
     },
     "name": "stdout",
     "output_type": "stream",
     "text": [
      "Batch 96: Loss = 0.2827, Accuracy = 88.67%\n"
     ]
    },
    {
     "metadata": {
      "tags": null
     },
     "name": "stderr",
     "output_type": "stream",
     "text": [
      "Training:  50%|\u2588\u2588\u2588\u2588\u2589     | 97/195 [23:22<22:59, 14.08s/it, acc=86.33%, loss=0.3375]"
     ]
    },
    {
     "metadata": {
      "tags": null
     },
     "name": "stdout",
     "output_type": "stream",
     "text": [
      "Batch 97: Loss = 0.3375, Accuracy = 86.33%\n"
     ]
    },
    {
     "metadata": {
      "tags": null
     },
     "name": "stderr",
     "output_type": "stream",
     "text": [
      "Training:  50%|\u2588\u2588\u2588\u2588\u2588     | 98/195 [23:35<22:15, 13.77s/it, acc=89.84%, loss=0.2816]"
     ]
    },
    {
     "metadata": {
      "tags": null
     },
     "name": "stdout",
     "output_type": "stream",
     "text": [
      "Batch 98: Loss = 0.2816, Accuracy = 89.84%\n"
     ]
    },
    {
     "metadata": {
      "tags": null
     },
     "name": "stderr",
     "output_type": "stream",
     "text": [
      "Training:  51%|\u2588\u2588\u2588\u2588\u2588     | 99/195 [23:50<22:40, 14.17s/it, acc=88.28%, loss=0.2944]"
     ]
    },
    {
     "metadata": {
      "tags": null
     },
     "name": "stdout",
     "output_type": "stream",
     "text": [
      "Batch 99: Loss = 0.2944, Accuracy = 88.28%\n"
     ]
    },
    {
     "metadata": {
      "tags": null
     },
     "name": "stderr",
     "output_type": "stream",
     "text": [
      "Training:  51%|\u2588\u2588\u2588\u2588\u2588\u258f    | 100/195 [24:04<22:08, 13.99s/it, acc=90.23%, loss=0.2810]"
     ]
    },
    {
     "metadata": {
      "tags": null
     },
     "name": "stdout",
     "output_type": "stream",
     "text": [
      "Batch 100: Loss = 0.2810, Accuracy = 90.23%\n"
     ]
    },
    {
     "metadata": {
      "tags": null
     },
     "name": "stderr",
     "output_type": "stream",
     "text": [
      "Training:  52%|\u2588\u2588\u2588\u2588\u2588\u258f    | 101/195 [24:25<25:07, 16.03s/it, acc=87.11%, loss=0.2919]"
     ]
    },
    {
     "metadata": {
      "tags": null
     },
     "name": "stdout",
     "output_type": "stream",
     "text": [
      "Batch 101: Loss = 0.2919, Accuracy = 87.11%\n"
     ]
    },
    {
     "metadata": {
      "tags": null
     },
     "name": "stderr",
     "output_type": "stream",
     "text": [
      "Training:  52%|\u2588\u2588\u2588\u2588\u2588\u258f    | 102/195 [24:39<23:59, 15.48s/it, acc=85.94%, loss=0.3184]"
     ]
    },
    {
     "metadata": {
      "tags": null
     },
     "name": "stdout",
     "output_type": "stream",
     "text": [
      "Batch 102: Loss = 0.3184, Accuracy = 85.94%\n"
     ]
    },
    {
     "metadata": {
      "tags": null
     },
     "name": "stderr",
     "output_type": "stream",
     "text": [
      "Training:  53%|\u2588\u2588\u2588\u2588\u2588\u258e    | 103/195 [24:54<23:47, 15.52s/it, acc=86.33%, loss=0.3375]"
     ]
    },
    {
     "metadata": {
      "tags": null
     },
     "name": "stdout",
     "output_type": "stream",
     "text": [
      "Batch 103: Loss = 0.3375, Accuracy = 86.33%\n"
     ]
    },
    {
     "metadata": {
      "tags": null
     },
     "name": "stderr",
     "output_type": "stream",
     "text": [
      "Training:  53%|\u2588\u2588\u2588\u2588\u2588\u258e    | 104/195 [25:09<22:56, 15.12s/it, acc=86.72%, loss=0.3288]"
     ]
    },
    {
     "metadata": {
      "tags": null
     },
     "name": "stdout",
     "output_type": "stream",
     "text": [
      "Batch 104: Loss = 0.3288, Accuracy = 86.72%\n"
     ]
    },
    {
     "metadata": {
      "tags": null
     },
     "name": "stderr",
     "output_type": "stream",
     "text": [
      "Training:  54%|\u2588\u2588\u2588\u2588\u2588\u258d    | 105/195 [25:23<22:20, 14.89s/it, acc=82.81%, loss=0.3670]"
     ]
    },
    {
     "metadata": {
      "tags": null
     },
     "name": "stdout",
     "output_type": "stream",
     "text": [
      "Batch 105: Loss = 0.3670, Accuracy = 82.81%\n"
     ]
    },
    {
     "metadata": {
      "tags": null
     },
     "name": "stderr",
     "output_type": "stream",
     "text": [
      "Training:  54%|\u2588\u2588\u2588\u2588\u2588\u258d    | 106/195 [25:36<21:18, 14.37s/it, acc=91.80%, loss=0.2554]"
     ]
    },
    {
     "metadata": {
      "tags": null
     },
     "name": "stdout",
     "output_type": "stream",
     "text": [
      "Batch 106: Loss = 0.2554, Accuracy = 91.80%\n"
     ]
    },
    {
     "metadata": {
      "tags": null
     },
     "name": "stderr",
     "output_type": "stream",
     "text": [
      "Training:  55%|\u2588\u2588\u2588\u2588\u2588\u258d    | 107/195 [25:53<21:58, 14.99s/it, acc=85.16%, loss=0.3132]"
     ]
    },
    {
     "metadata": {
      "tags": null
     },
     "name": "stdout",
     "output_type": "stream",
     "text": [
      "Batch 107: Loss = 0.3132, Accuracy = 85.16%\n"
     ]
    },
    {
     "metadata": {
      "tags": null
     },
     "name": "stderr",
     "output_type": "stream",
     "text": [
      "Training:  55%|\u2588\u2588\u2588\u2588\u2588\u258c    | 108/195 [26:06<21:05, 14.54s/it, acc=88.28%, loss=0.3209]"
     ]
    },
    {
     "metadata": {
      "tags": null
     },
     "name": "stdout",
     "output_type": "stream",
     "text": [
      "Batch 108: Loss = 0.3209, Accuracy = 88.28%\n"
     ]
    },
    {
     "metadata": {
      "tags": null
     },
     "name": "stderr",
     "output_type": "stream",
     "text": [
      "Training:  56%|\u2588\u2588\u2588\u2588\u2588\u258c    | 109/195 [26:21<21:03, 14.69s/it, acc=84.38%, loss=0.3163]"
     ]
    },
    {
     "metadata": {
      "tags": null
     },
     "name": "stdout",
     "output_type": "stream",
     "text": [
      "Batch 109: Loss = 0.3163, Accuracy = 84.38%\n"
     ]
    },
    {
     "metadata": {
      "tags": null
     },
     "name": "stderr",
     "output_type": "stream",
     "text": [
      "Training:  56%|\u2588\u2588\u2588\u2588\u2588\u258b    | 110/195 [26:35<20:31, 14.49s/it, acc=85.16%, loss=0.3199]"
     ]
    },
    {
     "metadata": {
      "tags": null
     },
     "name": "stdout",
     "output_type": "stream",
     "text": [
      "Batch 110: Loss = 0.3199, Accuracy = 85.16%\n"
     ]
    },
    {
     "metadata": {
      "tags": null
     },
     "name": "stderr",
     "output_type": "stream",
     "text": [
      "Training:  57%|\u2588\u2588\u2588\u2588\u2588\u258b    | 111/195 [26:48<19:43, 14.09s/it, acc=85.16%, loss=0.3471]"
     ]
    },
    {
     "metadata": {
      "tags": null
     },
     "name": "stdout",
     "output_type": "stream",
     "text": [
      "Batch 111: Loss = 0.3471, Accuracy = 85.16%\n"
     ]
    },
    {
     "metadata": {
      "tags": null
     },
     "name": "stderr",
     "output_type": "stream",
     "text": [
      "Training:  57%|\u2588\u2588\u2588\u2588\u2588\u258b    | 112/195 [27:02<19:22, 14.01s/it, acc=85.16%, loss=0.3495]"
     ]
    },
    {
     "metadata": {
      "tags": null
     },
     "name": "stdout",
     "output_type": "stream",
     "text": [
      "Batch 112: Loss = 0.3495, Accuracy = 85.16%\n"
     ]
    },
    {
     "metadata": {
      "tags": null
     },
     "name": "stderr",
     "output_type": "stream",
     "text": [
      "Training:  58%|\u2588\u2588\u2588\u2588\u2588\u258a    | 113/195 [27:16<19:13, 14.07s/it, acc=86.33%, loss=0.3257]"
     ]
    },
    {
     "metadata": {
      "tags": null
     },
     "name": "stdout",
     "output_type": "stream",
     "text": [
      "Batch 113: Loss = 0.3257, Accuracy = 86.33%\n"
     ]
    },
    {
     "metadata": {
      "tags": null
     },
     "name": "stderr",
     "output_type": "stream",
     "text": [
      "Training:  58%|\u2588\u2588\u2588\u2588\u2588\u258a    | 114/195 [27:30<18:45, 13.90s/it, acc=88.28%, loss=0.2898]"
     ]
    },
    {
     "metadata": {
      "tags": null
     },
     "name": "stdout",
     "output_type": "stream",
     "text": [
      "Batch 114: Loss = 0.2898, Accuracy = 88.28%\n"
     ]
    },
    {
     "metadata": {
      "tags": null
     },
     "name": "stderr",
     "output_type": "stream",
     "text": [
      "Training:  59%|\u2588\u2588\u2588\u2588\u2588\u2589    | 115/195 [27:42<17:59, 13.49s/it, acc=85.55%, loss=0.3194]"
     ]
    },
    {
     "metadata": {
      "tags": null
     },
     "name": "stdout",
     "output_type": "stream",
     "text": [
      "Batch 115: Loss = 0.3194, Accuracy = 85.55%\n"
     ]
    },
    {
     "metadata": {
      "tags": null
     },
     "name": "stderr",
     "output_type": "stream",
     "text": [
      "Training:  59%|\u2588\u2588\u2588\u2588\u2588\u2589    | 116/195 [28:01<19:50, 15.07s/it, acc=89.84%, loss=0.3035]"
     ]
    },
    {
     "metadata": {
      "tags": null
     },
     "name": "stdout",
     "output_type": "stream",
     "text": [
      "Batch 116: Loss = 0.3035, Accuracy = 89.84%\n"
     ]
    },
    {
     "metadata": {
      "tags": null
     },
     "name": "stderr",
     "output_type": "stream",
     "text": [
      "Training:  60%|\u2588\u2588\u2588\u2588\u2588\u2588    | 117/195 [28:14<18:45, 14.43s/it, acc=85.94%, loss=0.2924]"
     ]
    },
    {
     "metadata": {
      "tags": null
     },
     "name": "stdout",
     "output_type": "stream",
     "text": [
      "Batch 117: Loss = 0.2924, Accuracy = 85.94%\n"
     ]
    },
    {
     "metadata": {
      "tags": null
     },
     "name": "stderr",
     "output_type": "stream",
     "text": [
      "Training:  61%|\u2588\u2588\u2588\u2588\u2588\u2588    | 118/195 [28:28<18:09, 14.15s/it, acc=91.02%, loss=0.2399]"
     ]
    },
    {
     "metadata": {
      "tags": null
     },
     "name": "stdout",
     "output_type": "stream",
     "text": [
      "Batch 118: Loss = 0.2399, Accuracy = 91.02%\n"
     ]
    },
    {
     "metadata": {
      "tags": null
     },
     "name": "stderr",
     "output_type": "stream",
     "text": [
      "Training:  61%|\u2588\u2588\u2588\u2588\u2588\u2588    | 119/195 [28:42<18:04, 14.27s/it, acc=83.20%, loss=0.3481]"
     ]
    },
    {
     "metadata": {
      "tags": null
     },
     "name": "stdout",
     "output_type": "stream",
     "text": [
      "Batch 119: Loss = 0.3481, Accuracy = 83.20%\n"
     ]
    },
    {
     "metadata": {
      "tags": null
     },
     "name": "stderr",
     "output_type": "stream",
     "text": [
      "Training:  62%|\u2588\u2588\u2588\u2588\u2588\u2588\u258f   | 120/195 [28:55<17:28, 13.98s/it, acc=83.20%, loss=0.3622]"
     ]
    },
    {
     "metadata": {
      "tags": null
     },
     "name": "stdout",
     "output_type": "stream",
     "text": [
      "Batch 120: Loss = 0.3622, Accuracy = 83.20%\n"
     ]
    },
    {
     "metadata": {
      "tags": null
     },
     "name": "stderr",
     "output_type": "stream",
     "text": [
      "Training:  62%|\u2588\u2588\u2588\u2588\u2588\u2588\u258f   | 121/195 [29:08<16:54, 13.71s/it, acc=86.33%, loss=0.3731]"
     ]
    },
    {
     "metadata": {
      "tags": null
     },
     "name": "stdout",
     "output_type": "stream",
     "text": [
      "Batch 121: Loss = 0.3731, Accuracy = 86.33%\n"
     ]
    },
    {
     "metadata": {
      "tags": null
     },
     "name": "stderr",
     "output_type": "stream",
     "text": [
      "Training:  63%|\u2588\u2588\u2588\u2588\u2588\u2588\u258e   | 122/195 [29:21<16:21, 13.45s/it, acc=88.28%, loss=0.2614]"
     ]
    },
    {
     "metadata": {
      "tags": null
     },
     "name": "stdout",
     "output_type": "stream",
     "text": [
      "Batch 122: Loss = 0.2614, Accuracy = 88.28%\n"
     ]
    },
    {
     "metadata": {
      "tags": null
     },
     "name": "stderr",
     "output_type": "stream",
     "text": [
      "Training:  63%|\u2588\u2588\u2588\u2588\u2588\u2588\u258e   | 123/195 [29:34<15:54, 13.25s/it, acc=88.67%, loss=0.2707]"
     ]
    },
    {
     "metadata": {
      "tags": null
     },
     "name": "stdout",
     "output_type": "stream",
     "text": [
      "Batch 123: Loss = 0.2707, Accuracy = 88.67%\n"
     ]
    },
    {
     "metadata": {
      "tags": null
     },
     "name": "stderr",
     "output_type": "stream",
     "text": [
      "Training:  64%|\u2588\u2588\u2588\u2588\u2588\u2588\u258e   | 124/195 [29:48<15:52, 13.41s/it, acc=86.33%, loss=0.3519]"
     ]
    },
    {
     "metadata": {
      "tags": null
     },
     "name": "stdout",
     "output_type": "stream",
     "text": [
      "Batch 124: Loss = 0.3519, Accuracy = 86.33%\n"
     ]
    },
    {
     "metadata": {
      "tags": null
     },
     "name": "stderr",
     "output_type": "stream",
     "text": [
      "Training:  64%|\u2588\u2588\u2588\u2588\u2588\u2588\u258d   | 125/195 [30:02<15:57, 13.68s/it, acc=88.67%, loss=0.2744]"
     ]
    },
    {
     "metadata": {
      "tags": null
     },
     "name": "stdout",
     "output_type": "stream",
     "text": [
      "Batch 125: Loss = 0.2744, Accuracy = 88.67%\n"
     ]
    },
    {
     "metadata": {
      "tags": null
     },
     "name": "stderr",
     "output_type": "stream",
     "text": [
      "Training:  65%|\u2588\u2588\u2588\u2588\u2588\u2588\u258d   | 126/195 [30:18<16:26, 14.29s/it, acc=83.98%, loss=0.3297]"
     ]
    },
    {
     "metadata": {
      "tags": null
     },
     "name": "stdout",
     "output_type": "stream",
     "text": [
      "Batch 126: Loss = 0.3297, Accuracy = 83.98%\n"
     ]
    },
    {
     "output_type": "stream",
     "name": "stderr",
     "text": [
      "Training:  65%|\u2588\u2588\u2588\u2588\u2588\u2588\u258c   | 127/195 [30:32<16:06, 14.21s/it, acc=82.42%, loss=0.3622]"
     ]
    },
    {
     "output_type": "stream",
     "name": "stdout",
     "text": [
      "Batch 127: Loss = 0.3622, Accuracy = 82.42%\n"
     ]
    },
    {
     "output_type": "stream",
     "name": "stderr",
     "text": [
      "Training:  66%|\u2588\u2588\u2588\u2588\u2588\u2588\u258c   | 128/195 [30:46<15:52, 14.22s/it, acc=90.23%, loss=0.3037]"
     ]
    },
    {
     "output_type": "stream",
     "name": "stdout",
     "text": [
      "Batch 128: Loss = 0.3037, Accuracy = 90.23%\n"
     ]
    },
    {
     "output_type": "stream",
     "name": "stderr",
     "text": [
      "Training:  66%|\u2588\u2588\u2588\u2588\u2588\u2588\u258c   | 129/195 [31:00<15:35, 14.17s/it, acc=88.67%, loss=0.2960]"
     ]
    },
    {
     "output_type": "stream",
     "name": "stdout",
     "text": [
      "Batch 129: Loss = 0.2960, Accuracy = 88.67%\n"
     ]
    },
    {
     "output_type": "stream",
     "name": "stderr",
     "text": [
      "Training:  67%|\u2588\u2588\u2588\u2588\u2588\u2588\u258b   | 130/195 [31:14<15:19, 14.15s/it, acc=85.94%, loss=0.3128]"
     ]
    },
    {
     "output_type": "stream",
     "name": "stdout",
     "text": [
      "Batch 130: Loss = 0.3128, Accuracy = 85.94%\n"
     ]
    },
    {
     "output_type": "stream",
     "name": "stderr",
     "text": [
      "Training:  67%|\u2588\u2588\u2588\u2588\u2588\u2588\u258b   | 131/195 [31:29<15:15, 14.31s/it, acc=90.23%, loss=0.2927]"
     ]
    },
    {
     "output_type": "stream",
     "name": "stdout",
     "text": [
      "Batch 131: Loss = 0.2927, Accuracy = 90.23%\n"
     ]
    },
    {
     "output_type": "stream",
     "name": "stderr",
     "text": [
      "Training:  68%|\u2588\u2588\u2588\u2588\u2588\u2588\u258a   | 132/195 [31:43<15:02, 14.32s/it, acc=88.28%, loss=0.2570]"
     ]
    },
    {
     "output_type": "stream",
     "name": "stdout",
     "text": [
      "Batch 132: Loss = 0.2570, Accuracy = 88.28%\n"
     ]
    },
    {
     "output_type": "stream",
     "name": "stderr",
     "text": [
      "Training:  68%|\u2588\u2588\u2588\u2588\u2588\u2588\u258a   | 133/195 [32:02<16:07, 15.61s/it, acc=88.28%, loss=0.2687]"
     ]
    },
    {
     "output_type": "stream",
     "name": "stdout",
     "text": [
      "Batch 133: Loss = 0.2687, Accuracy = 88.28%\n"
     ]
    },
    {
     "output_type": "stream",
     "name": "stderr",
     "text": [
      "Training:  69%|\u2588\u2588\u2588\u2588\u2588\u2588\u258a   | 134/195 [32:16<15:26, 15.19s/it, acc=84.77%, loss=0.3754]"
     ]
    },
    {
     "output_type": "stream",
     "name": "stdout",
     "text": [
      "Batch 134: Loss = 0.3754, Accuracy = 84.77%\n"
     ]
    },
    {
     "output_type": "stream",
     "name": "stderr",
     "text": [
      "Training:  69%|\u2588\u2588\u2588\u2588\u2588\u2588\u2589   | 135/195 [32:31<15:02, 15.03s/it, acc=87.11%, loss=0.2745]"
     ]
    },
    {
     "output_type": "stream",
     "name": "stdout",
     "text": [
      "Batch 135: Loss = 0.2745, Accuracy = 87.11%\n"
     ]
    },
    {
     "output_type": "stream",
     "name": "stderr",
     "text": [
      "Training:  70%|\u2588\u2588\u2588\u2588\u2588\u2588\u2589   | 136/195 [32:47<15:01, 15.29s/it, acc=87.11%, loss=0.3167]"
     ]
    },
    {
     "output_type": "stream",
     "name": "stdout",
     "text": [
      "Batch 136: Loss = 0.3167, Accuracy = 87.11%\n"
     ]
    },
    {
     "output_type": "stream",
     "name": "stderr",
     "text": [
      "Training:  70%|\u2588\u2588\u2588\u2588\u2588\u2588\u2588   | 137/195 [33:00<14:12, 14.69s/it, acc=87.11%, loss=0.3077]"
     ]
    },
    {
     "output_type": "stream",
     "name": "stdout",
     "text": [
      "Batch 137: Loss = 0.3077, Accuracy = 87.11%\n"
     ]
    },
    {
     "output_type": "stream",
     "name": "stderr",
     "text": [
      "Training:  71%|\u2588\u2588\u2588\u2588\u2588\u2588\u2588   | 138/195 [33:17<14:30, 15.27s/it, acc=89.06%, loss=0.2898]"
     ]
    },
    {
     "output_type": "stream",
     "name": "stdout",
     "text": [
      "Batch 138: Loss = 0.2898, Accuracy = 89.06%\n"
     ]
    },
    {
     "output_type": "stream",
     "name": "stderr",
     "text": [
      "Training:  71%|\u2588\u2588\u2588\u2588\u2588\u2588\u2588\u258f  | 139/195 [33:36<15:20, 16.43s/it, acc=86.33%, loss=0.3169]"
     ]
    },
    {
     "output_type": "stream",
     "name": "stdout",
     "text": [
      "Batch 139: Loss = 0.3169, Accuracy = 86.33%\n"
     ]
    },
    {
     "output_type": "stream",
     "name": "stderr",
     "text": [
      "Training:  72%|\u2588\u2588\u2588\u2588\u2588\u2588\u2588\u258f  | 140/195 [33:49<14:17, 15.59s/it, acc=84.38%, loss=0.3056]"
     ]
    },
    {
     "output_type": "stream",
     "name": "stdout",
     "text": [
      "Batch 140: Loss = 0.3056, Accuracy = 84.38%\n"
     ]
    },
    {
     "output_type": "stream",
     "name": "stderr",
     "text": [
      "Training:  72%|\u2588\u2588\u2588\u2588\u2588\u2588\u2588\u258f  | 141/195 [34:06<14:16, 15.87s/it, acc=90.23%, loss=0.2655]"
     ]
    },
    {
     "output_type": "stream",
     "name": "stdout",
     "text": [
      "Batch 141: Loss = 0.2655, Accuracy = 90.23%\n"
     ]
    },
    {
     "output_type": "stream",
     "name": "stderr",
     "text": [
      "Training:  73%|\u2588\u2588\u2588\u2588\u2588\u2588\u2588\u258e  | 142/195 [34:20<13:35, 15.39s/it, acc=88.67%, loss=0.2915]"
     ]
    },
    {
     "output_type": "stream",
     "name": "stdout",
     "text": [
      "Batch 142: Loss = 0.2915, Accuracy = 88.67%\n"
     ]
    },
    {
     "output_type": "stream",
     "name": "stderr",
     "text": [
      "Training:  73%|\u2588\u2588\u2588\u2588\u2588\u2588\u2588\u258e  | 143/195 [34:36<13:23, 15.44s/it, acc=87.50%, loss=0.3353]"
     ]
    },
    {
     "output_type": "stream",
     "name": "stdout",
     "text": [
      "Batch 143: Loss = 0.3353, Accuracy = 87.50%\n"
     ]
    },
    {
     "output_type": "stream",
     "name": "stderr",
     "text": [
      "Training:  74%|\u2588\u2588\u2588\u2588\u2588\u2588\u2588\u258d  | 144/195 [34:52<13:17, 15.64s/it, acc=89.06%, loss=0.2792]"
     ]
    },
    {
     "output_type": "stream",
     "name": "stdout",
     "text": [
      "Batch 144: Loss = 0.2792, Accuracy = 89.06%\n"
     ]
    },
    {
     "output_type": "stream",
     "name": "stderr",
     "text": [
      "Training:  74%|\u2588\u2588\u2588\u2588\u2588\u2588\u2588\u258d  | 145/195 [35:06<12:35, 15.12s/it, acc=87.89%, loss=0.2664]"
     ]
    },
    {
     "output_type": "stream",
     "name": "stdout",
     "text": [
      "Batch 145: Loss = 0.2664, Accuracy = 87.89%\n"
     ]
    },
    {
     "output_type": "stream",
     "name": "stderr",
     "text": [
      "Training:  75%|\u2588\u2588\u2588\u2588\u2588\u2588\u2588\u258d  | 146/195 [35:20<12:13, 14.96s/it, acc=89.06%, loss=0.3262]"
     ]
    },
    {
     "output_type": "stream",
     "name": "stdout",
     "text": [
      "Batch 146: Loss = 0.3262, Accuracy = 89.06%\n"
     ]
    },
    {
     "output_type": "stream",
     "name": "stderr",
     "text": [
      "Training:  75%|\u2588\u2588\u2588\u2588\u2588\u2588\u2588\u258c  | 147/195 [35:34<11:34, 14.47s/it, acc=87.11%, loss=0.3602]"
     ]
    },
    {
     "output_type": "stream",
     "name": "stdout",
     "text": [
      "Batch 147: Loss = 0.3602, Accuracy = 87.11%\n"
     ]
    },
    {
     "output_type": "stream",
     "name": "stderr",
     "text": [
      "Training:  76%|\u2588\u2588\u2588\u2588\u2588\u2588\u2588\u258c  | 148/195 [35:48<11:13, 14.34s/it, acc=88.28%, loss=0.2785]"
     ]
    },
    {
     "output_type": "stream",
     "name": "stdout",
     "text": [
      "Batch 148: Loss = 0.2785, Accuracy = 88.28%\n"
     ]
    },
    {
     "output_type": "stream",
     "name": "stderr",
     "text": [
      "Training:  76%|\u2588\u2588\u2588\u2588\u2588\u2588\u2588\u258b  | 149/195 [36:02<11:00, 14.36s/it, acc=87.50%, loss=0.2795]"
     ]
    },
    {
     "output_type": "stream",
     "name": "stdout",
     "text": [
      "Batch 149: Loss = 0.2795, Accuracy = 87.50%\n"
     ]
    },
    {
     "output_type": "stream",
     "name": "stderr",
     "text": [
      "Training:  77%|\u2588\u2588\u2588\u2588\u2588\u2588\u2588\u258b  | 150/195 [36:15<10:30, 14.02s/it, acc=85.55%, loss=0.3287]"
     ]
    },
    {
     "output_type": "stream",
     "name": "stdout",
     "text": [
      "Batch 150: Loss = 0.3287, Accuracy = 85.55%\n"
     ]
    },
    {
     "output_type": "stream",
     "name": "stderr",
     "text": [
      "Training:  77%|\u2588\u2588\u2588\u2588\u2588\u2588\u2588\u258b  | 151/195 [36:31<10:44, 14.64s/it, acc=87.89%, loss=0.2732]"
     ]
    },
    {
     "output_type": "stream",
     "name": "stdout",
     "text": [
      "Batch 151: Loss = 0.2732, Accuracy = 87.89%\n"
     ]
    },
    {
     "output_type": "stream",
     "name": "stderr",
     "text": [
      "Training:  78%|\u2588\u2588\u2588\u2588\u2588\u2588\u2588\u258a  | 152/195 [36:46<10:24, 14.52s/it, acc=90.62%, loss=0.2698]"
     ]
    },
    {
     "output_type": "stream",
     "name": "stdout",
     "text": [
      "Batch 152: Loss = 0.2698, Accuracy = 90.62%\n"
     ]
    },
    {
     "output_type": "stream",
     "name": "stderr",
     "text": [
      "Training:  78%|\u2588\u2588\u2588\u2588\u2588\u2588\u2588\u258a  | 153/195 [37:02<10:26, 14.92s/it, acc=86.33%, loss=0.3149]"
     ]
    },
    {
     "output_type": "stream",
     "name": "stdout",
     "text": [
      "Batch 153: Loss = 0.3149, Accuracy = 86.33%\n"
     ]
    },
    {
     "output_type": "stream",
     "name": "stderr",
     "text": [
      "Training:  79%|\u2588\u2588\u2588\u2588\u2588\u2588\u2588\u2589  | 154/195 [37:20<10:59, 16.08s/it, acc=87.50%, loss=0.3012]"
     ]
    },
    {
     "output_type": "stream",
     "name": "stdout",
     "text": [
      "Batch 154: Loss = 0.3012, Accuracy = 87.50%\n"
     ]
    },
    {
     "output_type": "stream",
     "name": "stderr",
     "text": [
      "Training:  79%|\u2588\u2588\u2588\u2588\u2588\u2588\u2588\u2589  | 155/195 [37:34<10:18, 15.47s/it, acc=88.28%, loss=0.3453]"
     ]
    },
    {
     "output_type": "stream",
     "name": "stdout",
     "text": [
      "Batch 155: Loss = 0.3453, Accuracy = 88.28%\n"
     ]
    },
    {
     "output_type": "stream",
     "name": "stderr",
     "text": [
      "Training:  80%|\u2588\u2588\u2588\u2588\u2588\u2588\u2588\u2588  | 156/195 [37:49<09:50, 15.15s/it, acc=87.11%, loss=0.2949]"
     ]
    },
    {
     "output_type": "stream",
     "name": "stdout",
     "text": [
      "Batch 156: Loss = 0.2949, Accuracy = 87.11%\n"
     ]
    },
    {
     "output_type": "stream",
     "name": "stderr",
     "text": [
      "Training:  81%|\u2588\u2588\u2588\u2588\u2588\u2588\u2588\u2588  | 157/195 [38:03<09:26, 14.91s/it, acc=87.89%, loss=0.3062]"
     ]
    },
    {
     "output_type": "stream",
     "name": "stdout",
     "text": [
      "Batch 157: Loss = 0.3062, Accuracy = 87.89%\n"
     ]
    },
    {
     "output_type": "stream",
     "name": "stderr",
     "text": [
      "Training:  81%|\u2588\u2588\u2588\u2588\u2588\u2588\u2588\u2588  | 158/195 [38:16<08:51, 14.38s/it, acc=88.28%, loss=0.3113]"
     ]
    },
    {
     "output_type": "stream",
     "name": "stdout",
     "text": [
      "Batch 158: Loss = 0.3113, Accuracy = 88.28%\n"
     ]
    },
    {
     "output_type": "stream",
     "name": "stderr",
     "text": [
      "Training:  82%|\u2588\u2588\u2588\u2588\u2588\u2588\u2588\u2588\u258f | 159/195 [38:32<08:47, 14.65s/it, acc=82.42%, loss=0.3542]"
     ]
    },
    {
     "output_type": "stream",
     "name": "stdout",
     "text": [
      "Batch 159: Loss = 0.3542, Accuracy = 82.42%\n"
     ]
    },
    {
     "output_type": "stream",
     "name": "stderr",
     "text": [
      "Training:  82%|\u2588\u2588\u2588\u2588\u2588\u2588\u2588\u2588\u258f | 160/195 [38:46<08:28, 14.53s/it, acc=88.28%, loss=0.2914]"
     ]
    },
    {
     "output_type": "stream",
     "name": "stdout",
     "text": [
      "Batch 160: Loss = 0.2914, Accuracy = 88.28%\n"
     ]
    },
    {
     "output_type": "stream",
     "name": "stderr",
     "text": [
      "Training:  83%|\u2588\u2588\u2588\u2588\u2588\u2588\u2588\u2588\u258e | 161/195 [38:59<07:56, 14.03s/it, acc=90.62%, loss=0.2646]"
     ]
    },
    {
     "output_type": "stream",
     "name": "stdout",
     "text": [
      "Batch 161: Loss = 0.2646, Accuracy = 90.62%\n"
     ]
    },
    {
     "output_type": "stream",
     "name": "stderr",
     "text": [
      "Training:  83%|\u2588\u2588\u2588\u2588\u2588\u2588\u2588\u2588\u258e | 162/195 [39:14<07:55, 14.40s/it, acc=90.23%, loss=0.2423]"
     ]
    },
    {
     "output_type": "stream",
     "name": "stdout",
     "text": [
      "Batch 162: Loss = 0.2423, Accuracy = 90.23%\n"
     ]
    },
    {
     "output_type": "stream",
     "name": "stderr",
     "text": [
      "Training:  84%|\u2588\u2588\u2588\u2588\u2588\u2588\u2588\u2588\u258e | 163/195 [39:28<07:40, 14.39s/it, acc=89.06%, loss=0.2523]"
     ]
    },
    {
     "output_type": "stream",
     "name": "stdout",
     "text": [
      "Batch 163: Loss = 0.2523, Accuracy = 89.06%\n"
     ]
    },
    {
     "output_type": "stream",
     "name": "stderr",
     "text": [
      "Training:  84%|\u2588\u2588\u2588\u2588\u2588\u2588\u2588\u2588\u258d | 164/195 [39:40<07:02, 13.64s/it, acc=86.33%, loss=0.3169]"
     ]
    },
    {
     "output_type": "stream",
     "name": "stdout",
     "text": [
      "Batch 164: Loss = 0.3169, Accuracy = 86.33%\n"
     ]
    },
    {
     "output_type": "stream",
     "name": "stderr",
     "text": [
      "Training:  85%|\u2588\u2588\u2588\u2588\u2588\u2588\u2588\u2588\u258d | 165/195 [39:55<06:56, 13.90s/it, acc=87.11%, loss=0.3083]"
     ]
    },
    {
     "output_type": "stream",
     "name": "stdout",
     "text": [
      "Batch 165: Loss = 0.3083, Accuracy = 87.11%\n"
     ]
    },
    {
     "output_type": "stream",
     "name": "stderr",
     "text": [
      "Training:  85%|\u2588\u2588\u2588\u2588\u2588\u2588\u2588\u2588\u258c | 166/195 [40:09<06:49, 14.13s/it, acc=85.94%, loss=0.3302]"
     ]
    },
    {
     "output_type": "stream",
     "name": "stdout",
     "text": [
      "Batch 166: Loss = 0.3302, Accuracy = 85.94%\n"
     ]
    },
    {
     "output_type": "stream",
     "name": "stderr",
     "text": [
      "Training:  86%|\u2588\u2588\u2588\u2588\u2588\u2588\u2588\u2588\u258c | 167/195 [40:25<06:44, 14.46s/it, acc=89.84%, loss=0.2651]"
     ]
    },
    {
     "output_type": "stream",
     "name": "stdout",
     "text": [
      "Batch 167: Loss = 0.2651, Accuracy = 89.84%\n"
     ]
    },
    {
     "output_type": "stream",
     "name": "stderr",
     "text": [
      "Training:  86%|\u2588\u2588\u2588\u2588\u2588\u2588\u2588\u2588\u258c | 168/195 [40:38<06:21, 14.15s/it, acc=90.23%, loss=0.2813]"
     ]
    },
    {
     "output_type": "stream",
     "name": "stdout",
     "text": [
      "Batch 168: Loss = 0.2813, Accuracy = 90.23%\n"
     ]
    },
    {
     "output_type": "stream",
     "name": "stderr",
     "text": [
      "Training:  87%|\u2588\u2588\u2588\u2588\u2588\u2588\u2588\u2588\u258b | 169/195 [40:51<06:01, 13.89s/it, acc=88.67%, loss=0.3062]"
     ]
    },
    {
     "output_type": "stream",
     "name": "stdout",
     "text": [
      "Batch 169: Loss = 0.3062, Accuracy = 88.67%\n"
     ]
    },
    {
     "output_type": "stream",
     "name": "stderr",
     "text": [
      "Training:  87%|\u2588\u2588\u2588\u2588\u2588\u2588\u2588\u2588\u258b | 170/195 [41:06<05:51, 14.07s/it, acc=85.94%, loss=0.2836]"
     ]
    },
    {
     "output_type": "stream",
     "name": "stdout",
     "text": [
      "Batch 170: Loss = 0.2836, Accuracy = 85.94%\n"
     ]
    },
    {
     "output_type": "stream",
     "name": "stderr",
     "text": [
      "Training:  88%|\u2588\u2588\u2588\u2588\u2588\u2588\u2588\u2588\u258a | 171/195 [41:20<05:37, 14.08s/it, acc=85.94%, loss=0.3330]"
     ]
    },
    {
     "output_type": "stream",
     "name": "stdout",
     "text": [
      "Batch 171: Loss = 0.3330, Accuracy = 85.94%\n"
     ]
    },
    {
     "output_type": "stream",
     "name": "stderr",
     "text": [
      "Training:  88%|\u2588\u2588\u2588\u2588\u2588\u2588\u2588\u2588\u258a | 172/195 [41:34<05:26, 14.21s/it, acc=85.94%, loss=0.3293]"
     ]
    },
    {
     "output_type": "stream",
     "name": "stdout",
     "text": [
      "Batch 172: Loss = 0.3293, Accuracy = 85.94%\n"
     ]
    },
    {
     "output_type": "stream",
     "name": "stderr",
     "text": [
      "Training:  89%|\u2588\u2588\u2588\u2588\u2588\u2588\u2588\u2588\u258a | 173/195 [41:48<05:05, 13.89s/it, acc=90.23%, loss=0.2697]"
     ]
    },
    {
     "output_type": "stream",
     "name": "stdout",
     "text": [
      "Batch 173: Loss = 0.2697, Accuracy = 90.23%\n"
     ]
    },
    {
     "output_type": "stream",
     "name": "stderr",
     "text": [
      "Training:  89%|\u2588\u2588\u2588\u2588\u2588\u2588\u2588\u2588\u2589 | 174/195 [42:06<05:21, 15.33s/it, acc=87.50%, loss=0.3216]"
     ]
    },
    {
     "output_type": "stream",
     "name": "stdout",
     "text": [
      "Batch 174: Loss = 0.3216, Accuracy = 87.50%\n"
     ]
    },
    {
     "output_type": "stream",
     "name": "stderr",
     "text": [
      "Training:  90%|\u2588\u2588\u2588\u2588\u2588\u2588\u2588\u2588\u2589 | 175/195 [42:19<04:52, 14.61s/it, acc=91.41%, loss=0.2481]"
     ]
    },
    {
     "output_type": "stream",
     "name": "stdout",
     "text": [
      "Batch 175: Loss = 0.2481, Accuracy = 91.41%\n"
     ]
    },
    {
     "output_type": "stream",
     "name": "stderr",
     "text": [
      "Training:  90%|\u2588\u2588\u2588\u2588\u2588\u2588\u2588\u2588\u2588 | 176/195 [42:33<04:33, 14.42s/it, acc=87.11%, loss=0.3334]"
     ]
    },
    {
     "output_type": "stream",
     "name": "stdout",
     "text": [
      "Batch 176: Loss = 0.3334, Accuracy = 87.11%\n"
     ]
    },
    {
     "output_type": "stream",
     "name": "stderr",
     "text": [
      "Training:  91%|\u2588\u2588\u2588\u2588\u2588\u2588\u2588\u2588\u2588 | 177/195 [42:46<04:13, 14.08s/it, acc=86.33%, loss=0.2988]"
     ]
    },
    {
     "output_type": "stream",
     "name": "stdout",
     "text": [
      "Batch 177: Loss = 0.2988, Accuracy = 86.33%\n"
     ]
    },
    {
     "output_type": "stream",
     "name": "stderr",
     "text": [
      "Training:  91%|\u2588\u2588\u2588\u2588\u2588\u2588\u2588\u2588\u2588\u258f| 178/195 [43:00<03:59, 14.06s/it, acc=87.89%, loss=0.2703]"
     ]
    },
    {
     "output_type": "stream",
     "name": "stdout",
     "text": [
      "Batch 178: Loss = 0.2703, Accuracy = 87.89%\n"
     ]
    },
    {
     "output_type": "stream",
     "name": "stderr",
     "text": [
      "Training:  92%|\u2588\u2588\u2588\u2588\u2588\u2588\u2588\u2588\u2588\u258f| 179/195 [43:16<03:50, 14.38s/it, acc=88.28%, loss=0.2794]"
     ]
    },
    {
     "output_type": "stream",
     "name": "stdout",
     "text": [
      "Batch 179: Loss = 0.2794, Accuracy = 88.28%\n"
     ]
    },
    {
     "output_type": "stream",
     "name": "stderr",
     "text": [
      "Training:  92%|\u2588\u2588\u2588\u2588\u2588\u2588\u2588\u2588\u2588\u258f| 180/195 [43:31<03:39, 14.66s/it, acc=87.50%, loss=0.3050]"
     ]
    },
    {
     "output_type": "stream",
     "name": "stdout",
     "text": [
      "Batch 180: Loss = 0.3050, Accuracy = 87.50%\n"
     ]
    },
    {
     "output_type": "stream",
     "name": "stderr",
     "text": [
      "Training:  93%|\u2588\u2588\u2588\u2588\u2588\u2588\u2588\u2588\u2588\u258e| 181/195 [43:44<03:18, 14.20s/it, acc=89.45%, loss=0.2677]"
     ]
    },
    {
     "output_type": "stream",
     "name": "stdout",
     "text": [
      "Batch 181: Loss = 0.2677, Accuracy = 89.45%\n"
     ]
    },
    {
     "output_type": "stream",
     "name": "stderr",
     "text": [
      "Training:  93%|\u2588\u2588\u2588\u2588\u2588\u2588\u2588\u2588\u2588\u258e| 182/195 [44:02<03:18, 15.23s/it, acc=85.94%, loss=0.3165]"
     ]
    },
    {
     "output_type": "stream",
     "name": "stdout",
     "text": [
      "Batch 182: Loss = 0.3165, Accuracy = 85.94%\n"
     ]
    },
    {
     "output_type": "stream",
     "name": "stderr",
     "text": [
      "Training:  94%|\u2588\u2588\u2588\u2588\u2588\u2588\u2588\u2588\u2588\u258d| 183/195 [44:15<02:56, 14.73s/it, acc=83.20%, loss=0.3415]"
     ]
    },
    {
     "output_type": "stream",
     "name": "stdout",
     "text": [
      "Batch 183: Loss = 0.3415, Accuracy = 83.20%\n"
     ]
    },
    {
     "output_type": "stream",
     "name": "stderr",
     "text": [
      "Training:  94%|\u2588\u2588\u2588\u2588\u2588\u2588\u2588\u2588\u2588\u258d| 184/195 [44:29<02:38, 14.40s/it, acc=89.84%, loss=0.2855]"
     ]
    },
    {
     "output_type": "stream",
     "name": "stdout",
     "text": [
      "Batch 184: Loss = 0.2855, Accuracy = 89.84%\n"
     ]
    },
    {
     "output_type": "stream",
     "name": "stderr",
     "text": [
      "Training:  95%|\u2588\u2588\u2588\u2588\u2588\u2588\u2588\u2588\u2588\u258d| 185/195 [44:43<02:23, 14.37s/it, acc=86.33%, loss=0.3408]"
     ]
    },
    {
     "output_type": "stream",
     "name": "stdout",
     "text": [
      "Batch 185: Loss = 0.3408, Accuracy = 86.33%\n"
     ]
    },
    {
     "output_type": "stream",
     "name": "stderr",
     "text": [
      "Training:  95%|\u2588\u2588\u2588\u2588\u2588\u2588\u2588\u2588\u2588\u258c| 186/195 [44:57<02:06, 14.09s/it, acc=85.94%, loss=0.3480]"
     ]
    },
    {
     "output_type": "stream",
     "name": "stdout",
     "text": [
      "Batch 186: Loss = 0.3480, Accuracy = 85.94%\n"
     ]
    },
    {
     "output_type": "stream",
     "name": "stderr",
     "text": [
      "Training:  96%|\u2588\u2588\u2588\u2588\u2588\u2588\u2588\u2588\u2588\u258c| 187/195 [45:12<01:56, 14.61s/it, acc=88.28%, loss=0.3082]"
     ]
    },
    {
     "output_type": "stream",
     "name": "stdout",
     "text": [
      "Batch 187: Loss = 0.3082, Accuracy = 88.28%\n"
     ]
    },
    {
     "output_type": "stream",
     "name": "stderr",
     "text": [
      "Training:  96%|\u2588\u2588\u2588\u2588\u2588\u2588\u2588\u2588\u2588\u258b| 188/195 [45:28<01:43, 14.76s/it, acc=87.50%, loss=0.2994]"
     ]
    },
    {
     "output_type": "stream",
     "name": "stdout",
     "text": [
      "Batch 188: Loss = 0.2994, Accuracy = 87.50%\n"
     ]
    },
    {
     "output_type": "stream",
     "name": "stderr",
     "text": [
      "Training:  97%|\u2588\u2588\u2588\u2588\u2588\u2588\u2588\u2588\u2588\u258b| 189/195 [45:40<01:23, 13.99s/it, acc=87.50%, loss=0.2951]"
     ]
    },
    {
     "output_type": "stream",
     "name": "stdout",
     "text": [
      "Batch 189: Loss = 0.2951, Accuracy = 87.50%\n"
     ]
    },
    {
     "output_type": "stream",
     "name": "stderr",
     "text": [
      "Training:  97%|\u2588\u2588\u2588\u2588\u2588\u2588\u2588\u2588\u2588\u258b| 190/195 [45:54<01:09, 13.94s/it, acc=89.84%, loss=0.2802]"
     ]
    },
    {
     "output_type": "stream",
     "name": "stdout",
     "text": [
      "Batch 190: Loss = 0.2802, Accuracy = 89.84%\n"
     ]
    },
    {
     "output_type": "stream",
     "name": "stderr",
     "text": [
      "Training:  98%|\u2588\u2588\u2588\u2588\u2588\u2588\u2588\u2588\u2588\u258a| 191/195 [46:06<00:54, 13.60s/it, acc=88.67%, loss=0.2754]"
     ]
    },
    {
     "output_type": "stream",
     "name": "stdout",
     "text": [
      "Batch 191: Loss = 0.2754, Accuracy = 88.67%\n"
     ]
    },
    {
     "output_type": "stream",
     "name": "stderr",
     "text": [
      "Training:  98%|\u2588\u2588\u2588\u2588\u2588\u2588\u2588\u2588\u2588\u258a| 192/195 [46:20<00:41, 13.76s/it, acc=89.45%, loss=0.2936]"
     ]
    },
    {
     "output_type": "stream",
     "name": "stdout",
     "text": [
      "Batch 192: Loss = 0.2936, Accuracy = 89.45%\n"
     ]
    },
    {
     "output_type": "stream",
     "name": "stderr",
     "text": [
      "Training:  99%|\u2588\u2588\u2588\u2588\u2588\u2588\u2588\u2588\u2588\u2589| 193/195 [46:35<00:28, 14.03s/it, acc=86.72%, loss=0.3389]"
     ]
    },
    {
     "output_type": "stream",
     "name": "stdout",
     "text": [
      "Batch 193: Loss = 0.3389, Accuracy = 86.72%\n"
     ]
    },
    {
     "output_type": "stream",
     "name": "stderr",
     "text": [
      "Training:  99%|\u2588\u2588\u2588\u2588\u2588\u2588\u2588\u2588\u2588\u2589| 194/195 [46:52<00:15, 15.01s/it, acc=87.11%, loss=0.2875]"
     ]
    },
    {
     "output_type": "stream",
     "name": "stdout",
     "text": [
      "Batch 194: Loss = 0.2875, Accuracy = 87.11%\n"
     ]
    },
    {
     "output_type": "stream",
     "name": "stderr",
     "text": [
      "Training: 100%|\u2588\u2588\u2588\u2588\u2588\u2588\u2588\u2588\u2588\u2588| 195/195 [47:03<00:00, 14.48s/it, acc=87.62%, loss=0.2765]\n"
     ]
    },
    {
     "output_type": "stream",
     "name": "stdout",
     "text": [
      "Batch 195: Loss = 0.2765, Accuracy = 87.62%\n",
      "\n",
      "Epoch 1 Summary:\n",
      "Training   - Loss: 0.3732, Accuracy: 83.57%\n",
      "Validation - Loss: 0.2641, Accuracy: 89.43%\n",
      "\n",
      "=== Epoch 2 ===\n"
     ]
    },
    {
     "output_type": "stream",
     "name": "stderr",
     "text": [
      "Training:   1%|          | 1/195 [00:09<30:42,  9.50s/it, acc=89.45%, loss=0.2419]"
     ]
    },
    {
     "output_type": "stream",
     "name": "stdout",
     "text": [
      "Batch 1: Loss = 0.2419, Accuracy = 89.45%\n"
     ]
    },
    {
     "output_type": "stream",
     "name": "stderr",
     "text": [
      "Training:   1%|          | 2/195 [00:19<31:01,  9.64s/it, acc=87.11%, loss=0.2647]"
     ]
    },
    {
     "output_type": "stream",
     "name": "stdout",
     "text": [
      "Batch 2: Loss = 0.2647, Accuracy = 87.11%\n"
     ]
    },
    {
     "output_type": "stream",
     "name": "stderr",
     "text": [
      "Training:   2%|\u258f         | 3/195 [00:29<32:22, 10.12s/it, acc=87.50%, loss=0.2696]"
     ]
    },
    {
     "output_type": "stream",
     "name": "stdout",
     "text": [
      "Batch 3: Loss = 0.2696, Accuracy = 87.50%\n"
     ]
    },
    {
     "output_type": "stream",
     "name": "stderr",
     "text": [
      "Training:   2%|\u258f         | 4/195 [00:40<32:40, 10.26s/it, acc=91.02%, loss=0.2559]"
     ]
    },
    {
     "output_type": "stream",
     "name": "stdout",
     "text": [
      "Batch 4: Loss = 0.2559, Accuracy = 91.02%\n"
     ]
    },
    {
     "output_type": "stream",
     "name": "stderr",
     "text": [
      "Training:   3%|\u258e         | 5/195 [00:49<31:30,  9.95s/it, acc=88.67%, loss=0.2566]"
     ]
    },
    {
     "output_type": "stream",
     "name": "stdout",
     "text": [
      "Batch 5: Loss = 0.2566, Accuracy = 88.67%\n"
     ]
    },
    {
     "output_type": "stream",
     "name": "stderr",
     "text": [
      "Training:   3%|\u258e         | 6/195 [00:59<30:54,  9.81s/it, acc=89.06%, loss=0.2715]"
     ]
    },
    {
     "output_type": "stream",
     "name": "stdout",
     "text": [
      "Batch 6: Loss = 0.2715, Accuracy = 89.06%\n"
     ]
    },
    {
     "output_type": "stream",
     "name": "stderr",
     "text": [
      "Training:   4%|\u258e         | 7/195 [01:09<30:46,  9.82s/it, acc=85.55%, loss=0.3272]"
     ]
    },
    {
     "output_type": "stream",
     "name": "stdout",
     "text": [
      "Batch 7: Loss = 0.3272, Accuracy = 85.55%\n"
     ]
    },
    {
     "output_type": "stream",
     "name": "stderr",
     "text": [
      "Training:   4%|\u258d         | 8/195 [01:18<29:55,  9.60s/it, acc=89.84%, loss=0.2354]"
     ]
    },
    {
     "output_type": "stream",
     "name": "stdout",
     "text": [
      "Batch 8: Loss = 0.2354, Accuracy = 89.84%\n"
     ]
    },
    {
     "output_type": "stream",
     "name": "stderr",
     "text": [
      "Training:   5%|\u258d         | 9/195 [01:27<28:54,  9.32s/it, acc=89.06%, loss=0.2576]"
     ]
    },
    {
     "output_type": "stream",
     "name": "stdout",
     "text": [
      "Batch 9: Loss = 0.2576, Accuracy = 89.06%\n"
     ]
    },
    {
     "output_type": "stream",
     "name": "stderr",
     "text": [
      "Training:   5%|\u258c         | 10/195 [01:36<29:03,  9.42s/it, acc=88.67%, loss=0.3231]"
     ]
    },
    {
     "output_type": "stream",
     "name": "stdout",
     "text": [
      "Batch 10: Loss = 0.3231, Accuracy = 88.67%\n"
     ]
    },
    {
     "output_type": "stream",
     "name": "stderr",
     "text": [
      "Training:   6%|\u258c         | 11/195 [01:45<28:44,  9.37s/it, acc=89.84%, loss=0.2806]"
     ]
    },
    {
     "output_type": "stream",
     "name": "stdout",
     "text": [
      "Batch 11: Loss = 0.2806, Accuracy = 89.84%\n"
     ]
    },
    {
     "output_type": "stream",
     "name": "stderr",
     "text": [
      "Training:   6%|\u258c         | 12/195 [01:56<29:23,  9.64s/it, acc=84.77%, loss=0.3288]"
     ]
    },
    {
     "output_type": "stream",
     "name": "stdout",
     "text": [
      "Batch 12: Loss = 0.3288, Accuracy = 84.77%\n"
     ]
    },
    {
     "output_type": "stream",
     "name": "stderr",
     "text": [
      "Training:   7%|\u258b         | 13/195 [02:05<29:05,  9.59s/it, acc=87.89%, loss=0.2919]"
     ]
    },
    {
     "output_type": "stream",
     "name": "stdout",
     "text": [
      "Batch 13: Loss = 0.2919, Accuracy = 87.89%\n"
     ]
    },
    {
     "output_type": "stream",
     "name": "stderr",
     "text": [
      "Training:   7%|\u258b         | 14/195 [02:14<28:37,  9.49s/it, acc=91.02%, loss=0.2361]"
     ]
    },
    {
     "output_type": "stream",
     "name": "stdout",
     "text": [
      "Batch 14: Loss = 0.2361, Accuracy = 91.02%\n"
     ]
    },
    {
     "output_type": "stream",
     "name": "stderr",
     "text": [
      "Training:   8%|\u258a         | 15/195 [02:24<28:29,  9.50s/it, acc=89.84%, loss=0.2623]"
     ]
    },
    {
     "output_type": "stream",
     "name": "stdout",
     "text": [
      "Batch 15: Loss = 0.2623, Accuracy = 89.84%\n"
     ]
    },
    {
     "output_type": "stream",
     "name": "stderr",
     "text": [
      "Training:   8%|\u258a         | 16/195 [02:35<30:09, 10.11s/it, acc=89.45%, loss=0.2601]"
     ]
    },
    {
     "output_type": "stream",
     "name": "stdout",
     "text": [
      "Batch 16: Loss = 0.2601, Accuracy = 89.45%\n"
     ]
    },
    {
     "output_type": "stream",
     "name": "stderr",
     "text": [
      "Training:   9%|\u258a         | 17/195 [02:46<30:26, 10.26s/it, acc=89.06%, loss=0.2712]"
     ]
    },
    {
     "output_type": "stream",
     "name": "stdout",
     "text": [
      "Batch 17: Loss = 0.2712, Accuracy = 89.06%\n"
     ]
    },
    {
     "output_type": "stream",
     "name": "stderr",
     "text": [
      "Training:   9%|\u2589         | 18/195 [02:56<29:49, 10.11s/it, acc=89.06%, loss=0.2656]"
     ]
    },
    {
     "output_type": "stream",
     "name": "stdout",
     "text": [
      "Batch 18: Loss = 0.2656, Accuracy = 89.06%\n"
     ]
    },
    {
     "output_type": "stream",
     "name": "stderr",
     "text": [
      "Training:  10%|\u2589         | 19/195 [03:06<29:22, 10.01s/it, acc=88.67%, loss=0.2695]"
     ]
    },
    {
     "output_type": "stream",
     "name": "stdout",
     "text": [
      "Batch 19: Loss = 0.2695, Accuracy = 88.67%\n"
     ]
    },
    {
     "output_type": "stream",
     "name": "stderr",
     "text": [
      "Training:  10%|\u2588         | 20/195 [03:17<30:28, 10.45s/it, acc=87.89%, loss=0.2779]"
     ]
    },
    {
     "output_type": "stream",
     "name": "stdout",
     "text": [
      "Batch 20: Loss = 0.2779, Accuracy = 87.89%\n"
     ]
    },
    {
     "output_type": "stream",
     "name": "stderr",
     "text": [
      "Training:  11%|\u2588         | 21/195 [03:27<29:26, 10.16s/it, acc=89.45%, loss=0.2513]"
     ]
    },
    {
     "output_type": "stream",
     "name": "stdout",
     "text": [
      "Batch 21: Loss = 0.2513, Accuracy = 89.45%\n"
     ]
    },
    {
     "output_type": "stream",
     "name": "stderr",
     "text": [
      "Training:  11%|\u2588\u258f        | 22/195 [03:36<28:50, 10.00s/it, acc=88.67%, loss=0.2562]"
     ]
    },
    {
     "output_type": "stream",
     "name": "stdout",
     "text": [
      "Batch 22: Loss = 0.2562, Accuracy = 88.67%\n"
     ]
    },
    {
     "output_type": "stream",
     "name": "stderr",
     "text": [
      "Training:  12%|\u2588\u258f        | 23/195 [03:48<29:50, 10.41s/it, acc=84.77%, loss=0.2984]"
     ]
    },
    {
     "output_type": "stream",
     "name": "stdout",
     "text": [
      "Batch 23: Loss = 0.2984, Accuracy = 84.77%\n"
     ]
    },
    {
     "output_type": "stream",
     "name": "stderr",
     "text": [
      "Training:  12%|\u2588\u258f        | 24/195 [03:59<30:15, 10.62s/it, acc=89.84%, loss=0.2338]"
     ]
    },
    {
     "output_type": "stream",
     "name": "stdout",
     "text": [
      "Batch 24: Loss = 0.2338, Accuracy = 89.84%\n"
     ]
    },
    {
     "output_type": "stream",
     "name": "stderr",
     "text": [
      "Training:  13%|\u2588\u258e        | 25/195 [04:11<31:35, 11.15s/it, acc=87.89%, loss=0.2600]"
     ]
    },
    {
     "output_type": "stream",
     "name": "stdout",
     "text": [
      "Batch 25: Loss = 0.2600, Accuracy = 87.89%\n"
     ]
    },
    {
     "output_type": "stream",
     "name": "stderr",
     "text": [
      "Training:  13%|\u2588\u258e        | 26/195 [04:20<29:50, 10.60s/it, acc=90.23%, loss=0.2622]"
     ]
    },
    {
     "output_type": "stream",
     "name": "stdout",
     "text": [
      "Batch 26: Loss = 0.2622, Accuracy = 90.23%\n"
     ]
    },
    {
     "output_type": "stream",
     "name": "stderr",
     "text": [
      "Training:  14%|\u2588\u258d        | 27/195 [04:31<29:29, 10.53s/it, acc=89.06%, loss=0.2757]"
     ]
    },
    {
     "output_type": "stream",
     "name": "stdout",
     "text": [
      "Batch 27: Loss = 0.2757, Accuracy = 89.06%\n"
     ]
    },
    {
     "output_type": "stream",
     "name": "stderr",
     "text": [
      "Training:  14%|\u2588\u258d        | 28/195 [04:41<29:12, 10.49s/it, acc=89.06%, loss=0.3173]"
     ]
    },
    {
     "output_type": "stream",
     "name": "stdout",
     "text": [
      "Batch 28: Loss = 0.3173, Accuracy = 89.06%\n"
     ]
    },
    {
     "output_type": "stream",
     "name": "stderr",
     "text": [
      "Training:  15%|\u2588\u258d        | 29/195 [04:51<28:25, 10.27s/it, acc=89.84%, loss=0.2598]"
     ]
    },
    {
     "output_type": "stream",
     "name": "stdout",
     "text": [
      "Batch 29: Loss = 0.2598, Accuracy = 89.84%\n"
     ]
    },
    {
     "output_type": "stream",
     "name": "stderr",
     "text": [
      "Training:  15%|\u2588\u258c        | 30/195 [05:01<27:54, 10.15s/it, acc=88.67%, loss=0.2739]"
     ]
    },
    {
     "output_type": "stream",
     "name": "stdout",
     "text": [
      "Batch 30: Loss = 0.2739, Accuracy = 88.67%\n"
     ]
    },
    {
     "output_type": "stream",
     "name": "stderr",
     "text": [
      "Training:  16%|\u2588\u258c        | 31/195 [05:11<27:40, 10.12s/it, acc=86.33%, loss=0.2776]"
     ]
    },
    {
     "output_type": "stream",
     "name": "stdout",
     "text": [
      "Batch 31: Loss = 0.2776, Accuracy = 86.33%\n"
     ]
    },
    {
     "output_type": "stream",
     "name": "stderr",
     "text": [
      "Training:  16%|\u2588\u258b        | 32/195 [05:22<28:02, 10.32s/it, acc=90.62%, loss=0.2558]"
     ]
    },
    {
     "output_type": "stream",
     "name": "stdout",
     "text": [
      "Batch 32: Loss = 0.2558, Accuracy = 90.62%\n"
     ]
    },
    {
     "output_type": "stream",
     "name": "stderr",
     "text": [
      "Training:  17%|\u2588\u258b        | 33/195 [05:31<27:27, 10.17s/it, acc=88.67%, loss=0.2688]"
     ]
    },
    {
     "output_type": "stream",
     "name": "stdout",
     "text": [
      "Batch 33: Loss = 0.2688, Accuracy = 88.67%\n"
     ]
    },
    {
     "output_type": "stream",
     "name": "stderr",
     "text": [
      "Training:  17%|\u2588\u258b        | 34/195 [05:41<26:42,  9.95s/it, acc=90.23%, loss=0.2703]"
     ]
    },
    {
     "output_type": "stream",
     "name": "stdout",
     "text": [
      "Batch 34: Loss = 0.2703, Accuracy = 90.23%\n"
     ]
    },
    {
     "output_type": "stream",
     "name": "stderr",
     "text": [
      "Training:  18%|\u2588\u258a        | 35/195 [05:50<25:58,  9.74s/it, acc=89.45%, loss=0.2552]"
     ]
    },
    {
     "output_type": "stream",
     "name": "stdout",
     "text": [
      "Batch 35: Loss = 0.2552, Accuracy = 89.45%\n"
     ]
    },
    {
     "output_type": "stream",
     "name": "stderr",
     "text": [
      "Training:  18%|\u2588\u258a        | 36/195 [06:00<25:57,  9.79s/it, acc=91.02%, loss=0.2096]"
     ]
    },
    {
     "output_type": "stream",
     "name": "stdout",
     "text": [
      "Batch 36: Loss = 0.2096, Accuracy = 91.02%\n"
     ]
    },
    {
     "output_type": "stream",
     "name": "stderr",
     "text": [
      "Training:  19%|\u2588\u2589        | 37/195 [06:09<25:16,  9.60s/it, acc=87.11%, loss=0.2943]"
     ]
    },
    {
     "output_type": "stream",
     "name": "stdout",
     "text": [
      "Batch 37: Loss = 0.2943, Accuracy = 87.11%\n"
     ]
    },
    {
     "output_type": "stream",
     "name": "stderr",
     "text": [
      "Training:  19%|\u2588\u2589        | 38/195 [06:19<24:57,  9.54s/it, acc=87.11%, loss=0.2708]"
     ]
    },
    {
     "output_type": "stream",
     "name": "stdout",
     "text": [
      "Batch 38: Loss = 0.2708, Accuracy = 87.11%\n"
     ]
    },
    {
     "output_type": "stream",
     "name": "stderr",
     "text": [
      "Training:  20%|\u2588\u2588        | 39/195 [06:28<25:05,  9.65s/it, acc=88.28%, loss=0.2551]"
     ]
    },
    {
     "output_type": "stream",
     "name": "stdout",
     "text": [
      "Batch 39: Loss = 0.2551, Accuracy = 88.28%\n"
     ]
    },
    {
     "output_type": "stream",
     "name": "stderr",
     "text": [
      "Training:  21%|\u2588\u2588        | 40/195 [06:38<24:31,  9.50s/it, acc=91.80%, loss=0.1934]"
     ]
    },
    {
     "output_type": "stream",
     "name": "stdout",
     "text": [
      "Batch 40: Loss = 0.1934, Accuracy = 91.80%\n"
     ]
    },
    {
     "output_type": "stream",
     "name": "stderr",
     "text": [
      "Training:  21%|\u2588\u2588        | 41/195 [06:47<24:31,  9.55s/it, acc=92.97%, loss=0.2248]"
     ]
    },
    {
     "output_type": "stream",
     "name": "stdout",
     "text": [
      "Batch 41: Loss = 0.2248, Accuracy = 92.97%\n"
     ]
    },
    {
     "output_type": "stream",
     "name": "stderr",
     "text": [
      "Training:  22%|\u2588\u2588\u258f       | 42/195 [06:57<24:10,  9.48s/it, acc=86.33%, loss=0.3073]"
     ]
    },
    {
     "output_type": "stream",
     "name": "stdout",
     "text": [
      "Batch 42: Loss = 0.3073, Accuracy = 86.33%\n"
     ]
    },
    {
     "output_type": "stream",
     "name": "stderr",
     "text": [
      "Training:  22%|\u2588\u2588\u258f       | 43/195 [07:07<24:54,  9.83s/it, acc=92.19%, loss=0.2384]"
     ]
    },
    {
     "output_type": "stream",
     "name": "stdout",
     "text": [
      "Batch 43: Loss = 0.2384, Accuracy = 92.19%\n"
     ]
    },
    {
     "output_type": "stream",
     "name": "stderr",
     "text": [
      "Training:  23%|\u2588\u2588\u258e       | 44/195 [07:18<25:05,  9.97s/it, acc=85.16%, loss=0.3150]"
     ]
    },
    {
     "output_type": "stream",
     "name": "stdout",
     "text": [
      "Batch 44: Loss = 0.3150, Accuracy = 85.16%\n"
     ]
    },
    {
     "output_type": "stream",
     "name": "stderr",
     "text": [
      "Training:  23%|\u2588\u2588\u258e       | 45/195 [07:32<28:15, 11.30s/it, acc=89.06%, loss=0.2352]"
     ]
    },
    {
     "output_type": "stream",
     "name": "stdout",
     "text": [
      "Batch 45: Loss = 0.2352, Accuracy = 89.06%\n"
     ]
    },
    {
     "output_type": "stream",
     "name": "stderr",
     "text": [
      "Training:  24%|\u2588\u2588\u258e       | 46/195 [07:43<27:37, 11.13s/it, acc=91.02%, loss=0.2390]"
     ]
    },
    {
     "output_type": "stream",
     "name": "stdout",
     "text": [
      "Batch 46: Loss = 0.2390, Accuracy = 91.02%\n"
     ]
    },
    {
     "output_type": "stream",
     "name": "stderr",
     "text": [
      "Training:  24%|\u2588\u2588\u258d       | 47/195 [07:55<28:17, 11.47s/it, acc=92.19%, loss=0.1953]"
     ]
    },
    {
     "output_type": "stream",
     "name": "stdout",
     "text": [
      "Batch 47: Loss = 0.1953, Accuracy = 92.19%\n"
     ]
    },
    {
     "output_type": "stream",
     "name": "stderr",
     "text": [
      "Training:  25%|\u2588\u2588\u258d       | 48/195 [08:05<26:58, 11.01s/it, acc=91.02%, loss=0.2296]"
     ]
    },
    {
     "output_type": "stream",
     "name": "stdout",
     "text": [
      "Batch 48: Loss = 0.2296, Accuracy = 91.02%\n"
     ]
    },
    {
     "output_type": "stream",
     "name": "stderr",
     "text": [
      "Training:  25%|\u2588\u2588\u258c       | 49/195 [08:14<25:20, 10.42s/it, acc=89.84%, loss=0.2667]"
     ]
    },
    {
     "output_type": "stream",
     "name": "stdout",
     "text": [
      "Batch 49: Loss = 0.2667, Accuracy = 89.84%\n"
     ]
    },
    {
     "output_type": "stream",
     "name": "stderr",
     "text": [
      "Training:  26%|\u2588\u2588\u258c       | 50/195 [08:23<24:14, 10.03s/it, acc=87.89%, loss=0.2478]"
     ]
    },
    {
     "output_type": "stream",
     "name": "stdout",
     "text": [
      "Batch 50: Loss = 0.2478, Accuracy = 87.89%\n"
     ]
    },
    {
     "output_type": "stream",
     "name": "stderr",
     "text": [
      "Training:  26%|\u2588\u2588\u258c       | 51/195 [08:33<24:10, 10.08s/it, acc=89.84%, loss=0.2437]"
     ]
    },
    {
     "output_type": "stream",
     "name": "stdout",
     "text": [
      "Batch 51: Loss = 0.2437, Accuracy = 89.84%\n"
     ]
    },
    {
     "output_type": "stream",
     "name": "stderr",
     "text": [
      "Training:  27%|\u2588\u2588\u258b       | 52/195 [08:43<24:07, 10.12s/it, acc=89.45%, loss=0.2656]"
     ]
    },
    {
     "output_type": "stream",
     "name": "stdout",
     "text": [
      "Batch 52: Loss = 0.2656, Accuracy = 89.45%\n"
     ]
    },
    {
     "output_type": "stream",
     "name": "stderr",
     "text": [
      "Training:  27%|\u2588\u2588\u258b       | 53/195 [08:54<24:02, 10.16s/it, acc=86.33%, loss=0.2850]"
     ]
    },
    {
     "output_type": "stream",
     "name": "stdout",
     "text": [
      "Batch 53: Loss = 0.2850, Accuracy = 86.33%\n"
     ]
    },
    {
     "output_type": "stream",
     "name": "stderr",
     "text": [
      "Training:  28%|\u2588\u2588\u258a       | 54/195 [09:04<23:50, 10.15s/it, acc=91.41%, loss=0.2342]"
     ]
    },
    {
     "output_type": "stream",
     "name": "stdout",
     "text": [
      "Batch 54: Loss = 0.2342, Accuracy = 91.41%\n"
     ]
    },
    {
     "output_type": "stream",
     "name": "stderr",
     "text": [
      "Training:  28%|\u2588\u2588\u258a       | 55/195 [09:13<22:49,  9.78s/it, acc=88.28%, loss=0.2790]"
     ]
    },
    {
     "output_type": "stream",
     "name": "stdout",
     "text": [
      "Batch 55: Loss = 0.2790, Accuracy = 88.28%\n"
     ]
    },
    {
     "output_type": "stream",
     "name": "stderr",
     "text": [
      "Training:  29%|\u2588\u2588\u258a       | 56/195 [09:28<26:11, 11.30s/it, acc=93.75%, loss=0.1880]"
     ]
    },
    {
     "output_type": "stream",
     "name": "stdout",
     "text": [
      "Batch 56: Loss = 0.1880, Accuracy = 93.75%\n"
     ]
    },
    {
     "output_type": "stream",
     "name": "stderr",
     "text": [
      "Training:  29%|\u2588\u2588\u2589       | 57/195 [09:39<25:58, 11.29s/it, acc=89.45%, loss=0.2410]"
     ]
    },
    {
     "output_type": "stream",
     "name": "stdout",
     "text": [
      "Batch 57: Loss = 0.2410, Accuracy = 89.45%\n"
     ]
    },
    {
     "output_type": "stream",
     "name": "stderr",
     "text": [
      "Training:  30%|\u2588\u2588\u2589       | 58/195 [09:49<25:09, 11.02s/it, acc=87.89%, loss=0.2909]"
     ]
    },
    {
     "output_type": "stream",
     "name": "stdout",
     "text": [
      "Batch 58: Loss = 0.2909, Accuracy = 87.89%\n"
     ]
    },
    {
     "output_type": "stream",
     "name": "stderr",
     "text": [
      "Training:  30%|\u2588\u2588\u2588       | 59/195 [09:59<23:59, 10.58s/it, acc=87.50%, loss=0.2616]"
     ]
    },
    {
     "output_type": "stream",
     "name": "stdout",
     "text": [
      "Batch 59: Loss = 0.2616, Accuracy = 87.50%\n"
     ]
    },
    {
     "output_type": "stream",
     "name": "stderr",
     "text": [
      "Training:  31%|\u2588\u2588\u2588       | 60/195 [10:08<23:09, 10.29s/it, acc=86.72%, loss=0.2815]"
     ]
    },
    {
     "output_type": "stream",
     "name": "stdout",
     "text": [
      "Batch 60: Loss = 0.2815, Accuracy = 86.72%\n"
     ]
    },
    {
     "output_type": "stream",
     "name": "stderr",
     "text": [
      "Training:  31%|\u2588\u2588\u2588\u258f      | 61/195 [10:24<26:29, 11.87s/it, acc=91.41%, loss=0.2227]"
     ]
    },
    {
     "output_type": "stream",
     "name": "stdout",
     "text": [
      "Batch 61: Loss = 0.2227, Accuracy = 91.41%\n"
     ]
    },
    {
     "output_type": "stream",
     "name": "stderr",
     "text": [
      "Training:  32%|\u2588\u2588\u2588\u258f      | 62/195 [10:33<24:38, 11.12s/it, acc=91.02%, loss=0.2336]"
     ]
    },
    {
     "output_type": "stream",
     "name": "stdout",
     "text": [
      "Batch 62: Loss = 0.2336, Accuracy = 91.02%\n"
     ]
    },
    {
     "output_type": "stream",
     "name": "stderr",
     "text": [
      "Training:  32%|\u2588\u2588\u2588\u258f      | 63/195 [10:43<23:24, 10.64s/it, acc=92.97%, loss=0.2223]"
     ]
    },
    {
     "output_type": "stream",
     "name": "stdout",
     "text": [
      "Batch 63: Loss = 0.2223, Accuracy = 92.97%\n"
     ]
    },
    {
     "output_type": "stream",
     "name": "stderr",
     "text": [
      "Training:  33%|\u2588\u2588\u2588\u258e      | 64/195 [10:53<22:55, 10.50s/it, acc=89.06%, loss=0.2735]"
     ]
    },
    {
     "output_type": "stream",
     "name": "stdout",
     "text": [
      "Batch 64: Loss = 0.2735, Accuracy = 89.06%\n"
     ]
    },
    {
     "output_type": "stream",
     "name": "stderr",
     "text": [
      "Training:  33%|\u2588\u2588\u2588\u258e      | 65/195 [11:02<21:53, 10.11s/it, acc=87.11%, loss=0.2717]"
     ]
    },
    {
     "output_type": "stream",
     "name": "stdout",
     "text": [
      "Batch 65: Loss = 0.2717, Accuracy = 87.11%\n"
     ]
    },
    {
     "output_type": "stream",
     "name": "stderr",
     "text": [
      "Training:  34%|\u2588\u2588\u2588\u258d      | 66/195 [11:12<21:18,  9.91s/it, acc=92.19%, loss=0.2191]"
     ]
    },
    {
     "output_type": "stream",
     "name": "stdout",
     "text": [
      "Batch 66: Loss = 0.2191, Accuracy = 92.19%\n"
     ]
    },
    {
     "output_type": "stream",
     "name": "stderr",
     "text": [
      "Training:  34%|\u2588\u2588\u2588\u258d      | 67/195 [11:21<20:43,  9.71s/it, acc=89.84%, loss=0.2662]"
     ]
    },
    {
     "output_type": "stream",
     "name": "stdout",
     "text": [
      "Batch 67: Loss = 0.2662, Accuracy = 89.84%\n"
     ]
    },
    {
     "output_type": "stream",
     "name": "stderr",
     "text": [
      "Training:  35%|\u2588\u2588\u2588\u258d      | 68/195 [11:31<20:58,  9.91s/it, acc=91.02%, loss=0.2292]"
     ]
    },
    {
     "output_type": "stream",
     "name": "stdout",
     "text": [
      "Batch 68: Loss = 0.2292, Accuracy = 91.02%\n"
     ]
    },
    {
     "output_type": "stream",
     "name": "stderr",
     "text": [
      "Training:  35%|\u2588\u2588\u2588\u258c      | 69/195 [11:42<21:16, 10.13s/it, acc=93.36%, loss=0.2289]"
     ]
    },
    {
     "output_type": "stream",
     "name": "stdout",
     "text": [
      "Batch 69: Loss = 0.2289, Accuracy = 93.36%\n"
     ]
    },
    {
     "output_type": "stream",
     "name": "stderr",
     "text": [
      "Training:  36%|\u2588\u2588\u2588\u258c      | 70/195 [11:53<21:26, 10.29s/it, acc=93.75%, loss=0.2171]"
     ]
    },
    {
     "output_type": "stream",
     "name": "stdout",
     "text": [
      "Batch 70: Loss = 0.2171, Accuracy = 93.75%\n"
     ]
    },
    {
     "output_type": "stream",
     "name": "stderr",
     "text": [
      "Training:  36%|\u2588\u2588\u2588\u258b      | 71/195 [12:03<21:12, 10.26s/it, acc=86.72%, loss=0.3084]"
     ]
    },
    {
     "output_type": "stream",
     "name": "stdout",
     "text": [
      "Batch 71: Loss = 0.3084, Accuracy = 86.72%\n"
     ]
    },
    {
     "output_type": "stream",
     "name": "stderr",
     "text": [
      "Training:  37%|\u2588\u2588\u2588\u258b      | 72/195 [12:13<20:46, 10.13s/it, acc=90.23%, loss=0.2472]"
     ]
    },
    {
     "output_type": "stream",
     "name": "stdout",
     "text": [
      "Batch 72: Loss = 0.2472, Accuracy = 90.23%\n"
     ]
    },
    {
     "output_type": "stream",
     "name": "stderr",
     "text": [
      "Training:  37%|\u2588\u2588\u2588\u258b      | 73/195 [12:23<20:25, 10.05s/it, acc=88.28%, loss=0.2936]"
     ]
    },
    {
     "output_type": "stream",
     "name": "stdout",
     "text": [
      "Batch 73: Loss = 0.2936, Accuracy = 88.28%\n"
     ]
    },
    {
     "output_type": "stream",
     "name": "stderr",
     "text": [
      "Training:  38%|\u2588\u2588\u2588\u258a      | 74/195 [12:32<19:46,  9.80s/it, acc=87.11%, loss=0.2577]"
     ]
    },
    {
     "output_type": "stream",
     "name": "stdout",
     "text": [
      "Batch 74: Loss = 0.2577, Accuracy = 87.11%\n"
     ]
    },
    {
     "output_type": "stream",
     "name": "stderr",
     "text": [
      "Training:  38%|\u2588\u2588\u2588\u258a      | 75/195 [12:42<19:40,  9.84s/it, acc=88.28%, loss=0.2857]"
     ]
    },
    {
     "output_type": "stream",
     "name": "stdout",
     "text": [
      "Batch 75: Loss = 0.2857, Accuracy = 88.28%\n"
     ]
    },
    {
     "output_type": "stream",
     "name": "stderr",
     "text": [
      "Training:  39%|\u2588\u2588\u2588\u2589      | 76/195 [12:51<19:11,  9.68s/it, acc=90.23%, loss=0.2177]"
     ]
    },
    {
     "output_type": "stream",
     "name": "stdout",
     "text": [
      "Batch 76: Loss = 0.2177, Accuracy = 90.23%\n"
     ]
    },
    {
     "output_type": "stream",
     "name": "stderr",
     "text": [
      "Training:  39%|\u2588\u2588\u2588\u2589      | 77/195 [13:01<19:23,  9.86s/it, acc=92.19%, loss=0.2164]"
     ]
    },
    {
     "output_type": "stream",
     "name": "stdout",
     "text": [
      "Batch 77: Loss = 0.2164, Accuracy = 92.19%\n"
     ]
    },
    {
     "output_type": "stream",
     "name": "stderr",
     "text": [
      "Training:  40%|\u2588\u2588\u2588\u2588      | 78/195 [13:12<19:56, 10.23s/it, acc=89.84%, loss=0.2602]"
     ]
    },
    {
     "output_type": "stream",
     "name": "stdout",
     "text": [
      "Batch 78: Loss = 0.2602, Accuracy = 89.84%\n"
     ]
    },
    {
     "output_type": "stream",
     "name": "stderr",
     "text": [
      "Training:  41%|\u2588\u2588\u2588\u2588      | 79/195 [13:22<19:24, 10.04s/it, acc=89.06%, loss=0.2484]"
     ]
    },
    {
     "output_type": "stream",
     "name": "stdout",
     "text": [
      "Batch 79: Loss = 0.2484, Accuracy = 89.06%\n"
     ]
    },
    {
     "output_type": "stream",
     "name": "stderr",
     "text": [
      "Training:  41%|\u2588\u2588\u2588\u2588      | 80/195 [13:31<18:53,  9.86s/it, acc=91.02%, loss=0.2338]"
     ]
    },
    {
     "output_type": "stream",
     "name": "stdout",
     "text": [
      "Batch 80: Loss = 0.2338, Accuracy = 91.02%\n"
     ]
    },
    {
     "output_type": "stream",
     "name": "stderr",
     "text": [
      "Training:  42%|\u2588\u2588\u2588\u2588\u258f     | 81/195 [13:41<18:47,  9.89s/it, acc=89.84%, loss=0.2896]"
     ]
    },
    {
     "output_type": "stream",
     "name": "stdout",
     "text": [
      "Batch 81: Loss = 0.2896, Accuracy = 89.84%\n"
     ]
    },
    {
     "output_type": "stream",
     "name": "stderr",
     "text": [
      "Training:  42%|\u2588\u2588\u2588\u2588\u258f     | 82/195 [13:51<18:37,  9.89s/it, acc=89.45%, loss=0.2350]"
     ]
    },
    {
     "output_type": "stream",
     "name": "stdout",
     "text": [
      "Batch 82: Loss = 0.2350, Accuracy = 89.45%\n"
     ]
    },
    {
     "output_type": "stream",
     "name": "stderr",
     "text": [
      "Training:  43%|\u2588\u2588\u2588\u2588\u258e     | 83/195 [14:00<17:53,  9.58s/it, acc=87.11%, loss=0.3071]"
     ]
    },
    {
     "output_type": "stream",
     "name": "stdout",
     "text": [
      "Batch 83: Loss = 0.3071, Accuracy = 87.11%\n"
     ]
    },
    {
     "output_type": "stream",
     "name": "stderr",
     "text": [
      "Training:  43%|\u2588\u2588\u2588\u2588\u258e     | 84/195 [14:10<18:00,  9.73s/it, acc=87.11%, loss=0.2907]"
     ]
    },
    {
     "output_type": "stream",
     "name": "stdout",
     "text": [
      "Batch 84: Loss = 0.2907, Accuracy = 87.11%\n"
     ]
    },
    {
     "output_type": "stream",
     "name": "stderr",
     "text": [
      "Training:  44%|\u2588\u2588\u2588\u2588\u258e     | 85/195 [14:20<17:48,  9.72s/it, acc=87.50%, loss=0.2711]"
     ]
    },
    {
     "output_type": "stream",
     "name": "stdout",
     "text": [
      "Batch 85: Loss = 0.2711, Accuracy = 87.50%\n"
     ]
    },
    {
     "output_type": "stream",
     "name": "stderr",
     "text": [
      "Training:  44%|\u2588\u2588\u2588\u2588\u258d     | 86/195 [14:29<17:26,  9.60s/it, acc=89.84%, loss=0.2237]"
     ]
    },
    {
     "output_type": "stream",
     "name": "stdout",
     "text": [
      "Batch 86: Loss = 0.2237, Accuracy = 89.84%\n"
     ]
    },
    {
     "output_type": "stream",
     "name": "stderr",
     "text": [
      "Training:  45%|\u2588\u2588\u2588\u2588\u258d     | 87/195 [14:38<17:04,  9.49s/it, acc=91.41%, loss=0.1982]"
     ]
    },
    {
     "output_type": "stream",
     "name": "stdout",
     "text": [
      "Batch 87: Loss = 0.1982, Accuracy = 91.41%\n"
     ]
    },
    {
     "output_type": "stream",
     "name": "stderr",
     "text": [
      "Training:  45%|\u2588\u2588\u2588\u2588\u258c     | 88/195 [14:48<16:55,  9.49s/it, acc=88.28%, loss=0.2657]"
     ]
    },
    {
     "output_type": "stream",
     "name": "stdout",
     "text": [
      "Batch 88: Loss = 0.2657, Accuracy = 88.28%\n"
     ]
    },
    {
     "output_type": "stream",
     "name": "stderr",
     "text": [
      "Training:  46%|\u2588\u2588\u2588\u2588\u258c     | 89/195 [15:02<18:56, 10.72s/it, acc=87.89%, loss=0.2582]"
     ]
    },
    {
     "output_type": "stream",
     "name": "stdout",
     "text": [
      "Batch 89: Loss = 0.2582, Accuracy = 87.89%\n"
     ]
    },
    {
     "output_type": "stream",
     "name": "stderr",
     "text": [
      "Training:  46%|\u2588\u2588\u2588\u2588\u258c     | 90/195 [15:12<18:36, 10.64s/it, acc=92.97%, loss=0.1936]"
     ]
    },
    {
     "output_type": "stream",
     "name": "stdout",
     "text": [
      "Batch 90: Loss = 0.1936, Accuracy = 92.97%\n"
     ]
    },
    {
     "output_type": "stream",
     "name": "stderr",
     "text": [
      "Training:  47%|\u2588\u2588\u2588\u2588\u258b     | 91/195 [15:22<17:56, 10.35s/it, acc=88.28%, loss=0.2876]"
     ]
    },
    {
     "output_type": "stream",
     "name": "stdout",
     "text": [
      "Batch 91: Loss = 0.2876, Accuracy = 88.28%\n"
     ]
    },
    {
     "output_type": "stream",
     "name": "stderr",
     "text": [
      "Training:  47%|\u2588\u2588\u2588\u2588\u258b     | 92/195 [15:31<17:17, 10.07s/it, acc=89.45%, loss=0.2622]"
     ]
    },
    {
     "output_type": "stream",
     "name": "stdout",
     "text": [
      "Batch 92: Loss = 0.2622, Accuracy = 89.45%\n"
     ]
    },
    {
     "output_type": "stream",
     "name": "stderr",
     "text": [
      "Training:  48%|\u2588\u2588\u2588\u2588\u258a     | 93/195 [15:40<16:40,  9.81s/it, acc=92.19%, loss=0.2112]"
     ]
    },
    {
     "output_type": "stream",
     "name": "stdout",
     "text": [
      "Batch 93: Loss = 0.2112, Accuracy = 92.19%\n"
     ]
    },
    {
     "output_type": "stream",
     "name": "stderr",
     "text": [
      "Training:  48%|\u2588\u2588\u2588\u2588\u258a     | 94/195 [15:51<16:47,  9.98s/it, acc=90.62%, loss=0.2230]"
     ]
    },
    {
     "output_type": "stream",
     "name": "stdout",
     "text": [
      "Batch 94: Loss = 0.2230, Accuracy = 90.62%\n"
     ]
    },
    {
     "output_type": "stream",
     "name": "stderr",
     "text": [
      "Training:  49%|\u2588\u2588\u2588\u2588\u258a     | 95/195 [16:00<16:24,  9.84s/it, acc=90.23%, loss=0.2450]"
     ]
    },
    {
     "output_type": "stream",
     "name": "stdout",
     "text": [
      "Batch 95: Loss = 0.2450, Accuracy = 90.23%\n"
     ]
    },
    {
     "output_type": "stream",
     "name": "stderr",
     "text": [
      "Training:  49%|\u2588\u2588\u2588\u2588\u2589     | 96/195 [16:10<16:15,  9.85s/it, acc=88.28%, loss=0.2669]"
     ]
    },
    {
     "output_type": "stream",
     "name": "stdout",
     "text": [
      "Batch 96: Loss = 0.2669, Accuracy = 88.28%\n"
     ]
    },
    {
     "output_type": "stream",
     "name": "stderr",
     "text": [
      "Training:  50%|\u2588\u2588\u2588\u2588\u2589     | 97/195 [16:21<16:41, 10.22s/it, acc=89.06%, loss=0.2799]"
     ]
    },
    {
     "output_type": "stream",
     "name": "stdout",
     "text": [
      "Batch 97: Loss = 0.2799, Accuracy = 89.06%\n"
     ]
    },
    {
     "output_type": "stream",
     "name": "stderr",
     "text": [
      "Training:  50%|\u2588\u2588\u2588\u2588\u2588     | 98/195 [16:30<16:03,  9.93s/it, acc=89.06%, loss=0.2539]"
     ]
    },
    {
     "output_type": "stream",
     "name": "stdout",
     "text": [
      "Batch 98: Loss = 0.2539, Accuracy = 89.06%\n"
     ]
    },
    {
     "output_type": "stream",
     "name": "stderr",
     "text": [
      "Training:  51%|\u2588\u2588\u2588\u2588\u2588     | 99/195 [16:39<15:27,  9.66s/it, acc=92.19%, loss=0.1909]"
     ]
    },
    {
     "output_type": "stream",
     "name": "stdout",
     "text": [
      "Batch 99: Loss = 0.1909, Accuracy = 92.19%\n"
     ]
    },
    {
     "output_type": "stream",
     "name": "stderr",
     "text": [
      "Training:  51%|\u2588\u2588\u2588\u2588\u2588\u258f    | 100/195 [16:49<15:04,  9.52s/it, acc=88.28%, loss=0.2684]"
     ]
    },
    {
     "output_type": "stream",
     "name": "stdout",
     "text": [
      "Batch 100: Loss = 0.2684, Accuracy = 88.28%\n"
     ]
    },
    {
     "output_type": "stream",
     "name": "stderr",
     "text": [
      "Training:  52%|\u2588\u2588\u2588\u2588\u2588\u258f    | 101/195 [16:59<15:28,  9.88s/it, acc=89.06%, loss=0.2786]"
     ]
    },
    {
     "output_type": "stream",
     "name": "stdout",
     "text": [
      "Batch 101: Loss = 0.2786, Accuracy = 89.06%\n"
     ]
    },
    {
     "output_type": "stream",
     "name": "stderr",
     "text": [
      "Training:  52%|\u2588\u2588\u2588\u2588\u2588\u258f    | 102/195 [17:09<15:07,  9.76s/it, acc=90.23%, loss=0.2253]"
     ]
    },
    {
     "output_type": "stream",
     "name": "stdout",
     "text": [
      "Batch 102: Loss = 0.2253, Accuracy = 90.23%\n"
     ]
    },
    {
     "output_type": "stream",
     "name": "stderr",
     "text": [
      "Training:  53%|\u2588\u2588\u2588\u2588\u2588\u258e    | 103/195 [17:19<14:58,  9.77s/it, acc=89.45%, loss=0.2773]"
     ]
    },
    {
     "output_type": "stream",
     "name": "stdout",
     "text": [
      "Batch 103: Loss = 0.2773, Accuracy = 89.45%\n"
     ]
    },
    {
     "output_type": "stream",
     "name": "stderr",
     "text": [
      "Training:  53%|\u2588\u2588\u2588\u2588\u2588\u258e    | 104/195 [17:28<14:39,  9.66s/it, acc=90.62%, loss=0.2393]"
     ]
    },
    {
     "output_type": "stream",
     "name": "stdout",
     "text": [
      "Batch 104: Loss = 0.2393, Accuracy = 90.62%\n"
     ]
    },
    {
     "output_type": "stream",
     "name": "stderr",
     "text": [
      "Training:  54%|\u2588\u2588\u2588\u2588\u2588\u258d    | 105/195 [17:38<14:26,  9.62s/it, acc=91.41%, loss=0.2251]"
     ]
    },
    {
     "output_type": "stream",
     "name": "stdout",
     "text": [
      "Batch 105: Loss = 0.2251, Accuracy = 91.41%\n"
     ]
    },
    {
     "output_type": "stream",
     "name": "stderr",
     "text": [
      "Training:  54%|\u2588\u2588\u2588\u2588\u2588\u258d    | 106/195 [17:49<15:11, 10.24s/it, acc=87.89%, loss=0.2851]"
     ]
    },
    {
     "output_type": "stream",
     "name": "stdout",
     "text": [
      "Batch 106: Loss = 0.2851, Accuracy = 87.89%\n"
     ]
    },
    {
     "output_type": "stream",
     "name": "stderr",
     "text": [
      "Training:  55%|\u2588\u2588\u2588\u2588\u2588\u258d    | 107/195 [17:59<14:51, 10.13s/it, acc=92.19%, loss=0.2308]"
     ]
    },
    {
     "output_type": "stream",
     "name": "stdout",
     "text": [
      "Batch 107: Loss = 0.2308, Accuracy = 92.19%\n"
     ]
    },
    {
     "output_type": "stream",
     "name": "stderr",
     "text": [
      "Training:  55%|\u2588\u2588\u2588\u2588\u2588\u258c    | 108/195 [18:09<14:33, 10.04s/it, acc=86.72%, loss=0.2846]"
     ]
    },
    {
     "output_type": "stream",
     "name": "stdout",
     "text": [
      "Batch 108: Loss = 0.2846, Accuracy = 86.72%\n"
     ]
    },
    {
     "output_type": "stream",
     "name": "stderr",
     "text": [
      "Training:  56%|\u2588\u2588\u2588\u2588\u2588\u258c    | 109/195 [18:19<14:14,  9.94s/it, acc=87.50%, loss=0.2856]"
     ]
    },
    {
     "output_type": "stream",
     "name": "stdout",
     "text": [
      "Batch 109: Loss = 0.2856, Accuracy = 87.50%\n"
     ]
    },
    {
     "output_type": "stream",
     "name": "stderr",
     "text": [
      "Training:  56%|\u2588\u2588\u2588\u2588\u2588\u258b    | 110/195 [18:28<14:04,  9.93s/it, acc=91.02%, loss=0.2382]"
     ]
    },
    {
     "output_type": "stream",
     "name": "stdout",
     "text": [
      "Batch 110: Loss = 0.2382, Accuracy = 91.02%\n"
     ]
    },
    {
     "output_type": "stream",
     "name": "stderr",
     "text": [
      "Training:  57%|\u2588\u2588\u2588\u2588\u2588\u258b    | 111/195 [18:39<14:04, 10.06s/it, acc=89.45%, loss=0.2712]"
     ]
    },
    {
     "output_type": "stream",
     "name": "stdout",
     "text": [
      "Batch 111: Loss = 0.2712, Accuracy = 89.45%\n"
     ]
    },
    {
     "output_type": "stream",
     "name": "stderr",
     "text": [
      "Training:  57%|\u2588\u2588\u2588\u2588\u2588\u258b    | 112/195 [18:49<13:51, 10.01s/it, acc=86.72%, loss=0.2455]"
     ]
    },
    {
     "output_type": "stream",
     "name": "stdout",
     "text": [
      "Batch 112: Loss = 0.2455, Accuracy = 86.72%\n"
     ]
    },
    {
     "output_type": "stream",
     "name": "stderr",
     "text": [
      "Training:  58%|\u2588\u2588\u2588\u2588\u2588\u258a    | 113/195 [18:58<13:33,  9.92s/it, acc=87.50%, loss=0.2548]"
     ]
    },
    {
     "output_type": "stream",
     "name": "stdout",
     "text": [
      "Batch 113: Loss = 0.2548, Accuracy = 87.50%\n"
     ]
    },
    {
     "output_type": "stream",
     "name": "stderr",
     "text": [
      "Training:  58%|\u2588\u2588\u2588\u2588\u2588\u258a    | 114/195 [19:09<13:32, 10.03s/it, acc=86.33%, loss=0.2767]"
     ]
    },
    {
     "output_type": "stream",
     "name": "stdout",
     "text": [
      "Batch 114: Loss = 0.2767, Accuracy = 86.33%\n"
     ]
    },
    {
     "output_type": "stream",
     "name": "stderr",
     "text": [
      "Training:  59%|\u2588\u2588\u2588\u2588\u2588\u2589    | 115/195 [19:18<13:11,  9.90s/it, acc=88.67%, loss=0.2439]"
     ]
    },
    {
     "output_type": "stream",
     "name": "stdout",
     "text": [
      "Batch 115: Loss = 0.2439, Accuracy = 88.67%\n"
     ]
    },
    {
     "output_type": "stream",
     "name": "stderr",
     "text": [
      "Training:  59%|\u2588\u2588\u2588\u2588\u2588\u2589    | 116/195 [19:29<13:13, 10.04s/it, acc=92.97%, loss=0.1949]"
     ]
    },
    {
     "output_type": "stream",
     "name": "stdout",
     "text": [
      "Batch 116: Loss = 0.1949, Accuracy = 92.97%\n"
     ]
    },
    {
     "output_type": "stream",
     "name": "stderr",
     "text": [
      "Training:  60%|\u2588\u2588\u2588\u2588\u2588\u2588    | 117/195 [19:39<13:13, 10.18s/it, acc=87.50%, loss=0.2845]"
     ]
    },
    {
     "output_type": "stream",
     "name": "stdout",
     "text": [
      "Batch 117: Loss = 0.2845, Accuracy = 87.50%\n"
     ]
    },
    {
     "output_type": "stream",
     "name": "stderr",
     "text": [
      "Training:  61%|\u2588\u2588\u2588\u2588\u2588\u2588    | 118/195 [19:50<13:09, 10.26s/it, acc=89.84%, loss=0.2311]"
     ]
    },
    {
     "output_type": "stream",
     "name": "stdout",
     "text": [
      "Batch 118: Loss = 0.2311, Accuracy = 89.84%\n"
     ]
    },
    {
     "output_type": "stream",
     "name": "stderr",
     "text": [
      "Training:  61%|\u2588\u2588\u2588\u2588\u2588\u2588    | 119/195 [20:00<13:06, 10.35s/it, acc=90.62%, loss=0.2428]"
     ]
    },
    {
     "output_type": "stream",
     "name": "stdout",
     "text": [
      "Batch 119: Loss = 0.2428, Accuracy = 90.62%\n"
     ]
    },
    {
     "output_type": "stream",
     "name": "stderr",
     "text": [
      "Training:  62%|\u2588\u2588\u2588\u2588\u2588\u2588\u258f   | 120/195 [20:10<12:33, 10.05s/it, acc=89.45%, loss=0.2536]"
     ]
    },
    {
     "output_type": "stream",
     "name": "stdout",
     "text": [
      "Batch 120: Loss = 0.2536, Accuracy = 89.45%\n"
     ]
    },
    {
     "output_type": "stream",
     "name": "stderr",
     "text": [
      "Training:  62%|\u2588\u2588\u2588\u2588\u2588\u2588\u258f   | 121/195 [20:19<12:14,  9.92s/it, acc=88.28%, loss=0.2345]"
     ]
    },
    {
     "output_type": "stream",
     "name": "stdout",
     "text": [
      "Batch 121: Loss = 0.2345, Accuracy = 88.28%\n"
     ]
    },
    {
     "output_type": "stream",
     "name": "stderr",
     "text": [
      "Training:  63%|\u2588\u2588\u2588\u2588\u2588\u2588\u258e   | 122/195 [20:29<11:51,  9.75s/it, acc=86.72%, loss=0.2655]"
     ]
    },
    {
     "output_type": "stream",
     "name": "stdout",
     "text": [
      "Batch 122: Loss = 0.2655, Accuracy = 86.72%\n"
     ]
    },
    {
     "output_type": "stream",
     "name": "stderr",
     "text": [
      "Training:  63%|\u2588\u2588\u2588\u2588\u2588\u2588\u258e   | 123/195 [20:39<11:49,  9.85s/it, acc=83.98%, loss=0.3194]"
     ]
    },
    {
     "output_type": "stream",
     "name": "stdout",
     "text": [
      "Batch 123: Loss = 0.3194, Accuracy = 83.98%\n"
     ]
    },
    {
     "output_type": "stream",
     "name": "stderr",
     "text": [
      "Training:  64%|\u2588\u2588\u2588\u2588\u2588\u2588\u258e   | 124/195 [20:50<12:12, 10.32s/it, acc=92.58%, loss=0.2183]"
     ]
    },
    {
     "output_type": "stream",
     "name": "stdout",
     "text": [
      "Batch 124: Loss = 0.2183, Accuracy = 92.58%\n"
     ]
    },
    {
     "output_type": "stream",
     "name": "stderr",
     "text": [
      "Training:  64%|\u2588\u2588\u2588\u2588\u2588\u2588\u258d   | 125/195 [21:00<11:47, 10.11s/it, acc=89.45%, loss=0.2834]"
     ]
    },
    {
     "output_type": "stream",
     "name": "stdout",
     "text": [
      "Batch 125: Loss = 0.2834, Accuracy = 89.45%\n"
     ]
    },
    {
     "output_type": "stream",
     "name": "stderr",
     "text": [
      "Training:  65%|\u2588\u2588\u2588\u2588\u2588\u2588\u258d   | 126/195 [21:10<11:34, 10.07s/it, acc=88.67%, loss=0.2641]"
     ]
    },
    {
     "output_type": "stream",
     "name": "stdout",
     "text": [
      "Batch 126: Loss = 0.2641, Accuracy = 88.67%\n"
     ]
    },
    {
     "output_type": "stream",
     "name": "stderr",
     "text": [
      "Training:  65%|\u2588\u2588\u2588\u2588\u2588\u2588\u258c   | 127/195 [21:20<11:22, 10.04s/it, acc=86.72%, loss=0.2973]"
     ]
    },
    {
     "output_type": "stream",
     "name": "stdout",
     "text": [
      "Batch 127: Loss = 0.2973, Accuracy = 86.72%\n"
     ]
    },
    {
     "output_type": "stream",
     "name": "stderr",
     "text": [
      "Training:  66%|\u2588\u2588\u2588\u2588\u2588\u2588\u258c   | 128/195 [21:29<10:58,  9.83s/it, acc=87.50%, loss=0.3082]"
     ]
    },
    {
     "output_type": "stream",
     "name": "stdout",
     "text": [
      "Batch 128: Loss = 0.3082, Accuracy = 87.50%\n"
     ]
    },
    {
     "output_type": "stream",
     "name": "stderr",
     "text": [
      "Training:  66%|\u2588\u2588\u2588\u2588\u2588\u2588\u258c   | 129/195 [21:38<10:31,  9.57s/it, acc=90.62%, loss=0.2702]"
     ]
    },
    {
     "output_type": "stream",
     "name": "stdout",
     "text": [
      "Batch 129: Loss = 0.2702, Accuracy = 90.62%\n"
     ]
    },
    {
     "output_type": "stream",
     "name": "stderr",
     "text": [
      "Training:  67%|\u2588\u2588\u2588\u2588\u2588\u2588\u258b   | 130/195 [21:49<10:46,  9.95s/it, acc=88.28%, loss=0.3016]"
     ]
    },
    {
     "output_type": "stream",
     "name": "stdout",
     "text": [
      "Batch 130: Loss = 0.3016, Accuracy = 88.28%\n"
     ]
    },
    {
     "output_type": "stream",
     "name": "stderr",
     "text": [
      "Training:  67%|\u2588\u2588\u2588\u2588\u2588\u2588\u258b   | 131/195 [21:59<10:45, 10.08s/it, acc=89.06%, loss=0.2642]"
     ]
    },
    {
     "output_type": "stream",
     "name": "stdout",
     "text": [
      "Batch 131: Loss = 0.2642, Accuracy = 89.06%\n"
     ]
    },
    {
     "output_type": "stream",
     "name": "stderr",
     "text": [
      "Training:  68%|\u2588\u2588\u2588\u2588\u2588\u2588\u258a   | 132/195 [22:08<10:19,  9.84s/it, acc=91.41%, loss=0.2383]"
     ]
    },
    {
     "output_type": "stream",
     "name": "stdout",
     "text": [
      "Batch 132: Loss = 0.2383, Accuracy = 91.41%\n"
     ]
    },
    {
     "output_type": "stream",
     "name": "stderr",
     "text": [
      "Training:  68%|\u2588\u2588\u2588\u2588\u2588\u2588\u258a   | 133/195 [22:18<10:08,  9.81s/it, acc=91.02%, loss=0.2557]"
     ]
    },
    {
     "output_type": "stream",
     "name": "stdout",
     "text": [
      "Batch 133: Loss = 0.2557, Accuracy = 91.02%\n"
     ]
    },
    {
     "output_type": "stream",
     "name": "stderr",
     "text": [
      "Training:  69%|\u2588\u2588\u2588\u2588\u2588\u2588\u258a   | 134/195 [22:27<09:48,  9.64s/it, acc=89.84%, loss=0.2239]"
     ]
    },
    {
     "output_type": "stream",
     "name": "stdout",
     "text": [
      "Batch 134: Loss = 0.2239, Accuracy = 89.84%\n"
     ]
    },
    {
     "output_type": "stream",
     "name": "stderr",
     "text": [
      "Training:  69%|\u2588\u2588\u2588\u2588\u2588\u2588\u2589   | 135/195 [22:37<09:36,  9.61s/it, acc=89.84%, loss=0.2428]"
     ]
    },
    {
     "output_type": "stream",
     "name": "stdout",
     "text": [
      "Batch 135: Loss = 0.2428, Accuracy = 89.84%\n"
     ]
    },
    {
     "output_type": "stream",
     "name": "stderr",
     "text": [
      "Training:  70%|\u2588\u2588\u2588\u2588\u2588\u2588\u2589   | 136/195 [22:47<09:42,  9.87s/it, acc=87.50%, loss=0.3287]"
     ]
    },
    {
     "output_type": "stream",
     "name": "stdout",
     "text": [
      "Batch 136: Loss = 0.3287, Accuracy = 87.50%\n"
     ]
    },
    {
     "output_type": "stream",
     "name": "stderr",
     "text": [
      "Training:  70%|\u2588\u2588\u2588\u2588\u2588\u2588\u2588   | 137/195 [22:57<09:27,  9.79s/it, acc=92.19%, loss=0.2306]"
     ]
    },
    {
     "output_type": "stream",
     "name": "stdout",
     "text": [
      "Batch 137: Loss = 0.2306, Accuracy = 92.19%\n"
     ]
    },
    {
     "output_type": "stream",
     "name": "stderr",
     "text": [
      "Training:  71%|\u2588\u2588\u2588\u2588\u2588\u2588\u2588   | 138/195 [23:06<09:09,  9.65s/it, acc=90.62%, loss=0.2263]"
     ]
    },
    {
     "output_type": "stream",
     "name": "stdout",
     "text": [
      "Batch 138: Loss = 0.2263, Accuracy = 90.62%\n"
     ]
    },
    {
     "output_type": "stream",
     "name": "stderr",
     "text": [
      "Training:  71%|\u2588\u2588\u2588\u2588\u2588\u2588\u2588\u258f  | 139/195 [23:16<09:03,  9.70s/it, acc=86.72%, loss=0.2719]"
     ]
    },
    {
     "output_type": "stream",
     "name": "stdout",
     "text": [
      "Batch 139: Loss = 0.2719, Accuracy = 86.72%\n"
     ]
    },
    {
     "output_type": "stream",
     "name": "stderr",
     "text": [
      "Training:  72%|\u2588\u2588\u2588\u2588\u2588\u2588\u2588\u258f  | 140/195 [23:26<08:59,  9.81s/it, acc=88.28%, loss=0.2806]"
     ]
    },
    {
     "output_type": "stream",
     "name": "stdout",
     "text": [
      "Batch 140: Loss = 0.2806, Accuracy = 88.28%\n"
     ]
    },
    {
     "output_type": "stream",
     "name": "stderr",
     "text": [
      "Training:  72%|\u2588\u2588\u2588\u2588\u2588\u2588\u2588\u258f  | 141/195 [23:36<08:48,  9.79s/it, acc=90.23%, loss=0.2541]"
     ]
    },
    {
     "output_type": "stream",
     "name": "stdout",
     "text": [
      "Batch 141: Loss = 0.2541, Accuracy = 90.23%\n"
     ]
    },
    {
     "output_type": "stream",
     "name": "stderr",
     "text": [
      "Training:  73%|\u2588\u2588\u2588\u2588\u2588\u2588\u2588\u258e  | 142/195 [23:46<08:42,  9.86s/it, acc=87.50%, loss=0.2627]"
     ]
    },
    {
     "output_type": "stream",
     "name": "stdout",
     "text": [
      "Batch 142: Loss = 0.2627, Accuracy = 87.50%\n"
     ]
    },
    {
     "output_type": "stream",
     "name": "stderr",
     "text": [
      "Training:  73%|\u2588\u2588\u2588\u2588\u2588\u2588\u2588\u258e  | 143/195 [23:55<08:25,  9.73s/it, acc=92.19%, loss=0.2159]"
     ]
    },
    {
     "output_type": "stream",
     "name": "stdout",
     "text": [
      "Batch 143: Loss = 0.2159, Accuracy = 92.19%\n"
     ]
    },
    {
     "output_type": "stream",
     "name": "stderr",
     "text": [
      "Training:  74%|\u2588\u2588\u2588\u2588\u2588\u2588\u2588\u258d  | 144/195 [24:07<08:40, 10.21s/it, acc=92.19%, loss=0.2082]"
     ]
    },
    {
     "output_type": "stream",
     "name": "stdout",
     "text": [
      "Batch 144: Loss = 0.2082, Accuracy = 92.19%\n"
     ]
    },
    {
     "output_type": "stream",
     "name": "stderr",
     "text": [
      "Training:  74%|\u2588\u2588\u2588\u2588\u2588\u2588\u2588\u258d  | 145/195 [24:16<08:09,  9.79s/it, acc=89.06%, loss=0.2524]"
     ]
    },
    {
     "output_type": "stream",
     "name": "stdout",
     "text": [
      "Batch 145: Loss = 0.2524, Accuracy = 89.06%\n"
     ]
    },
    {
     "output_type": "stream",
     "name": "stderr",
     "text": [
      "Training:  75%|\u2588\u2588\u2588\u2588\u2588\u2588\u2588\u258d  | 146/195 [24:25<07:59,  9.79s/it, acc=92.58%, loss=0.2168]"
     ]
    },
    {
     "output_type": "stream",
     "name": "stdout",
     "text": [
      "Batch 146: Loss = 0.2168, Accuracy = 92.58%\n"
     ]
    },
    {
     "output_type": "stream",
     "name": "stderr",
     "text": [
      "Training:  75%|\u2588\u2588\u2588\u2588\u2588\u2588\u2588\u258c  | 147/195 [24:35<07:44,  9.67s/it, acc=90.23%, loss=0.2201]"
     ]
    },
    {
     "output_type": "stream",
     "name": "stdout",
     "text": [
      "Batch 147: Loss = 0.2201, Accuracy = 90.23%\n"
     ]
    },
    {
     "output_type": "stream",
     "name": "stderr",
     "text": [
      "Training:  76%|\u2588\u2588\u2588\u2588\u2588\u2588\u2588\u258c  | 148/195 [24:45<07:39,  9.77s/it, acc=89.45%, loss=0.2424]"
     ]
    },
    {
     "output_type": "stream",
     "name": "stdout",
     "text": [
      "Batch 148: Loss = 0.2424, Accuracy = 89.45%\n"
     ]
    },
    {
     "output_type": "stream",
     "name": "stderr",
     "text": [
      "Training:  76%|\u2588\u2588\u2588\u2588\u2588\u2588\u2588\u258b  | 149/195 [24:54<07:28,  9.75s/it, acc=88.28%, loss=0.2774]"
     ]
    },
    {
     "output_type": "stream",
     "name": "stdout",
     "text": [
      "Batch 149: Loss = 0.2774, Accuracy = 88.28%\n"
     ]
    },
    {
     "output_type": "stream",
     "name": "stderr",
     "text": [
      "Training:  77%|\u2588\u2588\u2588\u2588\u2588\u2588\u2588\u258b  | 150/195 [25:05<07:32, 10.06s/it, acc=89.45%, loss=0.2499]"
     ]
    },
    {
     "output_type": "stream",
     "name": "stdout",
     "text": [
      "Batch 150: Loss = 0.2499, Accuracy = 89.45%\n"
     ]
    },
    {
     "output_type": "stream",
     "name": "stderr",
     "text": [
      "Training:  77%|\u2588\u2588\u2588\u2588\u2588\u2588\u2588\u258b  | 151/195 [25:15<07:23, 10.09s/it, acc=89.45%, loss=0.2411]"
     ]
    },
    {
     "output_type": "stream",
     "name": "stdout",
     "text": [
      "Batch 151: Loss = 0.2411, Accuracy = 89.45%\n"
     ]
    },
    {
     "output_type": "stream",
     "name": "stderr",
     "text": [
      "Training:  78%|\u2588\u2588\u2588\u2588\u2588\u2588\u2588\u258a  | 152/195 [25:25<07:06,  9.92s/it, acc=89.45%, loss=0.2709]"
     ]
    },
    {
     "output_type": "stream",
     "name": "stdout",
     "text": [
      "Batch 152: Loss = 0.2709, Accuracy = 89.45%\n"
     ]
    },
    {
     "output_type": "stream",
     "name": "stderr",
     "text": [
      "Training:  78%|\u2588\u2588\u2588\u2588\u2588\u2588\u2588\u258a  | 153/195 [25:35<07:00, 10.02s/it, acc=88.28%, loss=0.2498]"
     ]
    },
    {
     "output_type": "stream",
     "name": "stdout",
     "text": [
      "Batch 153: Loss = 0.2498, Accuracy = 88.28%\n"
     ]
    },
    {
     "output_type": "stream",
     "name": "stderr",
     "text": [
      "Training:  79%|\u2588\u2588\u2588\u2588\u2588\u2588\u2588\u2589  | 154/195 [25:46<06:58, 10.21s/it, acc=87.50%, loss=0.2828]"
     ]
    },
    {
     "output_type": "stream",
     "name": "stdout",
     "text": [
      "Batch 154: Loss = 0.2828, Accuracy = 87.50%\n"
     ]
    },
    {
     "output_type": "stream",
     "name": "stderr",
     "text": [
      "Training:  79%|\u2588\u2588\u2588\u2588\u2588\u2588\u2588\u2589  | 155/195 [25:56<06:44, 10.10s/it, acc=90.23%, loss=0.2987]"
     ]
    },
    {
     "output_type": "stream",
     "name": "stdout",
     "text": [
      "Batch 155: Loss = 0.2987, Accuracy = 90.23%\n"
     ]
    },
    {
     "output_type": "stream",
     "name": "stderr",
     "text": [
      "Training:  80%|\u2588\u2588\u2588\u2588\u2588\u2588\u2588\u2588  | 156/195 [26:05<06:26,  9.91s/it, acc=85.55%, loss=0.3124]"
     ]
    },
    {
     "output_type": "stream",
     "name": "stdout",
     "text": [
      "Batch 156: Loss = 0.3124, Accuracy = 85.55%\n"
     ]
    },
    {
     "output_type": "stream",
     "name": "stderr",
     "text": [
      "Training:  81%|\u2588\u2588\u2588\u2588\u2588\u2588\u2588\u2588  | 157/195 [26:15<06:19,  9.98s/it, acc=89.06%, loss=0.2684]"
     ]
    },
    {
     "output_type": "stream",
     "name": "stdout",
     "text": [
      "Batch 157: Loss = 0.2684, Accuracy = 89.06%\n"
     ]
    },
    {
     "output_type": "stream",
     "name": "stderr",
     "text": [
      "Training:  81%|\u2588\u2588\u2588\u2588\u2588\u2588\u2588\u2588  | 158/195 [26:26<06:22, 10.35s/it, acc=91.41%, loss=0.2238]"
     ]
    },
    {
     "output_type": "stream",
     "name": "stdout",
     "text": [
      "Batch 158: Loss = 0.2238, Accuracy = 91.41%\n"
     ]
    },
    {
     "output_type": "stream",
     "name": "stderr",
     "text": [
      "Training:  82%|\u2588\u2588\u2588\u2588\u2588\u2588\u2588\u2588\u258f | 159/195 [26:38<06:19, 10.56s/it, acc=90.23%, loss=0.2346]"
     ]
    },
    {
     "output_type": "stream",
     "name": "stdout",
     "text": [
      "Batch 159: Loss = 0.2346, Accuracy = 90.23%\n"
     ]
    },
    {
     "output_type": "stream",
     "name": "stderr",
     "text": [
      "Training:  82%|\u2588\u2588\u2588\u2588\u2588\u2588\u2588\u2588\u258f | 160/195 [26:47<05:54, 10.14s/it, acc=87.11%, loss=0.2639]"
     ]
    },
    {
     "output_type": "stream",
     "name": "stdout",
     "text": [
      "Batch 160: Loss = 0.2639, Accuracy = 87.11%\n"
     ]
    },
    {
     "output_type": "stream",
     "name": "stderr",
     "text": [
      "Training:  83%|\u2588\u2588\u2588\u2588\u2588\u2588\u2588\u2588\u258e | 161/195 [26:56<05:32,  9.78s/it, acc=89.84%, loss=0.2565]"
     ]
    },
    {
     "output_type": "stream",
     "name": "stdout",
     "text": [
      "Batch 161: Loss = 0.2565, Accuracy = 89.84%\n"
     ]
    },
    {
     "output_type": "stream",
     "name": "stderr",
     "text": [
      "Training:  83%|\u2588\u2588\u2588\u2588\u2588\u2588\u2588\u2588\u258e | 162/195 [27:05<05:21,  9.73s/it, acc=90.62%, loss=0.2393]"
     ]
    },
    {
     "output_type": "stream",
     "name": "stdout",
     "text": [
      "Batch 162: Loss = 0.2393, Accuracy = 90.62%\n"
     ]
    },
    {
     "output_type": "stream",
     "name": "stderr",
     "text": [
      "Training:  84%|\u2588\u2588\u2588\u2588\u2588\u2588\u2588\u2588\u258e | 163/195 [27:17<05:35, 10.49s/it, acc=91.41%, loss=0.2011]"
     ]
    },
    {
     "output_type": "stream",
     "name": "stdout",
     "text": [
      "Batch 163: Loss = 0.2011, Accuracy = 91.41%\n"
     ]
    },
    {
     "output_type": "stream",
     "name": "stderr",
     "text": [
      "Training:  84%|\u2588\u2588\u2588\u2588\u2588\u2588\u2588\u2588\u258d | 164/195 [27:27<05:14, 10.15s/it, acc=87.11%, loss=0.2856]"
     ]
    },
    {
     "output_type": "stream",
     "name": "stdout",
     "text": [
      "Batch 164: Loss = 0.2856, Accuracy = 87.11%\n"
     ]
    },
    {
     "output_type": "stream",
     "name": "stderr",
     "text": [
      "Training:  85%|\u2588\u2588\u2588\u2588\u2588\u2588\u2588\u2588\u258d | 165/195 [27:36<04:59,  9.98s/it, acc=87.89%, loss=0.2709]"
     ]
    },
    {
     "output_type": "stream",
     "name": "stdout",
     "text": [
      "Batch 165: Loss = 0.2709, Accuracy = 87.89%\n"
     ]
    },
    {
     "output_type": "stream",
     "name": "stderr",
     "text": [
      "Training:  85%|\u2588\u2588\u2588\u2588\u2588\u2588\u2588\u2588\u258c | 166/195 [27:47<04:56, 10.21s/it, acc=89.84%, loss=0.2771]"
     ]
    },
    {
     "output_type": "stream",
     "name": "stdout",
     "text": [
      "Batch 166: Loss = 0.2771, Accuracy = 89.84%\n"
     ]
    },
    {
     "output_type": "stream",
     "name": "stderr",
     "text": [
      "Training:  86%|\u2588\u2588\u2588\u2588\u2588\u2588\u2588\u2588\u258c | 167/195 [27:57<04:40, 10.03s/it, acc=88.28%, loss=0.2417]"
     ]
    },
    {
     "output_type": "stream",
     "name": "stdout",
     "text": [
      "Batch 167: Loss = 0.2417, Accuracy = 88.28%\n"
     ]
    },
    {
     "output_type": "stream",
     "name": "stderr",
     "text": [
      "Training:  86%|\u2588\u2588\u2588\u2588\u2588\u2588\u2588\u2588\u258c | 168/195 [28:07<04:33, 10.12s/it, acc=89.45%, loss=0.2466]"
     ]
    },
    {
     "output_type": "stream",
     "name": "stdout",
     "text": [
      "Batch 168: Loss = 0.2466, Accuracy = 89.45%\n"
     ]
    },
    {
     "output_type": "stream",
     "name": "stderr",
     "text": [
      "Training:  87%|\u2588\u2588\u2588\u2588\u2588\u2588\u2588\u2588\u258b | 169/195 [28:17<04:18,  9.95s/it, acc=87.89%, loss=0.2723]"
     ]
    },
    {
     "output_type": "stream",
     "name": "stdout",
     "text": [
      "Batch 169: Loss = 0.2723, Accuracy = 87.89%\n"
     ]
    },
    {
     "output_type": "stream",
     "name": "stderr",
     "text": [
      "Training:  87%|\u2588\u2588\u2588\u2588\u2588\u2588\u2588\u2588\u258b | 170/195 [28:27<04:08,  9.92s/it, acc=91.02%, loss=0.2371]"
     ]
    },
    {
     "output_type": "stream",
     "name": "stdout",
     "text": [
      "Batch 170: Loss = 0.2371, Accuracy = 91.02%\n"
     ]
    },
    {
     "output_type": "stream",
     "name": "stderr",
     "text": [
      "Training:  88%|\u2588\u2588\u2588\u2588\u2588\u2588\u2588\u2588\u258a | 171/195 [28:37<03:59,  9.97s/it, acc=91.02%, loss=0.2209]"
     ]
    },
    {
     "output_type": "stream",
     "name": "stdout",
     "text": [
      "Batch 171: Loss = 0.2209, Accuracy = 91.02%\n"
     ]
    },
    {
     "output_type": "stream",
     "name": "stderr",
     "text": [
      "Training:  88%|\u2588\u2588\u2588\u2588\u2588\u2588\u2588\u2588\u258a | 172/195 [28:46<03:44,  9.75s/it, acc=89.06%, loss=0.2377]"
     ]
    },
    {
     "output_type": "stream",
     "name": "stdout",
     "text": [
      "Batch 172: Loss = 0.2377, Accuracy = 89.06%\n"
     ]
    },
    {
     "output_type": "stream",
     "name": "stderr",
     "text": [
      "Training:  89%|\u2588\u2588\u2588\u2588\u2588\u2588\u2588\u2588\u258a | 173/195 [28:55<03:28,  9.50s/it, acc=87.50%, loss=0.2515]"
     ]
    },
    {
     "output_type": "stream",
     "name": "stdout",
     "text": [
      "Batch 173: Loss = 0.2515, Accuracy = 87.50%\n"
     ]
    },
    {
     "output_type": "stream",
     "name": "stderr",
     "text": [
      "Training:  89%|\u2588\u2588\u2588\u2588\u2588\u2588\u2588\u2588\u2589 | 174/195 [29:05<03:26,  9.85s/it, acc=92.97%, loss=0.1932]"
     ]
    },
    {
     "output_type": "stream",
     "name": "stdout",
     "text": [
      "Batch 174: Loss = 0.1932, Accuracy = 92.97%\n"
     ]
    },
    {
     "output_type": "stream",
     "name": "stderr",
     "text": [
      "Training:  90%|\u2588\u2588\u2588\u2588\u2588\u2588\u2588\u2588\u2589 | 175/195 [29:21<03:48, 11.44s/it, acc=90.23%, loss=0.2402]"
     ]
    },
    {
     "output_type": "stream",
     "name": "stdout",
     "text": [
      "Batch 175: Loss = 0.2402, Accuracy = 90.23%\n"
     ]
    },
    {
     "output_type": "stream",
     "name": "stderr",
     "text": [
      "Training:  90%|\u2588\u2588\u2588\u2588\u2588\u2588\u2588\u2588\u2588 | 176/195 [29:31<03:31, 11.15s/it, acc=89.84%, loss=0.2377]"
     ]
    },
    {
     "output_type": "stream",
     "name": "stdout",
     "text": [
      "Batch 176: Loss = 0.2377, Accuracy = 89.84%\n"
     ]
    },
    {
     "output_type": "stream",
     "name": "stderr",
     "text": [
      "Training:  91%|\u2588\u2588\u2588\u2588\u2588\u2588\u2588\u2588\u2588 | 177/195 [29:40<03:09, 10.55s/it, acc=91.41%, loss=0.2238]"
     ]
    },
    {
     "output_type": "stream",
     "name": "stdout",
     "text": [
      "Batch 177: Loss = 0.2238, Accuracy = 91.41%\n"
     ]
    },
    {
     "output_type": "stream",
     "name": "stderr",
     "text": [
      "Training:  91%|\u2588\u2588\u2588\u2588\u2588\u2588\u2588\u2588\u2588\u258f| 178/195 [29:50<02:57, 10.45s/it, acc=87.11%, loss=0.3033]"
     ]
    },
    {
     "output_type": "stream",
     "name": "stdout",
     "text": [
      "Batch 178: Loss = 0.3033, Accuracy = 87.11%\n"
     ]
    },
    {
     "output_type": "stream",
     "name": "stderr",
     "text": [
      "Training:  92%|\u2588\u2588\u2588\u2588\u2588\u2588\u2588\u2588\u2588\u258f| 179/195 [30:00<02:43, 10.21s/it, acc=87.89%, loss=0.2844]"
     ]
    },
    {
     "output_type": "stream",
     "name": "stdout",
     "text": [
      "Batch 179: Loss = 0.2844, Accuracy = 87.89%\n"
     ]
    },
    {
     "output_type": "stream",
     "name": "stderr",
     "text": [
      "Training:  92%|\u2588\u2588\u2588\u2588\u2588\u2588\u2588\u2588\u2588\u258f| 180/195 [30:11<02:37, 10.47s/it, acc=89.84%, loss=0.2628]"
     ]
    },
    {
     "output_type": "stream",
     "name": "stdout",
     "text": [
      "Batch 180: Loss = 0.2628, Accuracy = 89.84%\n"
     ]
    },
    {
     "output_type": "stream",
     "name": "stderr",
     "text": [
      "Training:  93%|\u2588\u2588\u2588\u2588\u2588\u2588\u2588\u2588\u2588\u258e| 181/195 [30:22<02:26, 10.50s/it, acc=91.80%, loss=0.2351]"
     ]
    },
    {
     "output_type": "stream",
     "name": "stdout",
     "text": [
      "Batch 181: Loss = 0.2351, Accuracy = 91.80%\n"
     ]
    },
    {
     "output_type": "stream",
     "name": "stderr",
     "text": [
      "Training:  93%|\u2588\u2588\u2588\u2588\u2588\u2588\u2588\u2588\u2588\u258e| 182/195 [30:31<02:13, 10.24s/it, acc=88.28%, loss=0.2489]"
     ]
    },
    {
     "output_type": "stream",
     "name": "stdout",
     "text": [
      "Batch 182: Loss = 0.2489, Accuracy = 88.28%\n"
     ]
    },
    {
     "output_type": "stream",
     "name": "stderr",
     "text": [
      "Training:  94%|\u2588\u2588\u2588\u2588\u2588\u2588\u2588\u2588\u2588\u258d| 183/195 [30:42<02:05, 10.46s/it, acc=92.97%, loss=0.2100]"
     ]
    },
    {
     "output_type": "stream",
     "name": "stdout",
     "text": [
      "Batch 183: Loss = 0.2100, Accuracy = 92.97%\n"
     ]
    },
    {
     "output_type": "stream",
     "name": "stderr",
     "text": [
      "Training:  94%|\u2588\u2588\u2588\u2588\u2588\u2588\u2588\u2588\u2588\u258d| 184/195 [30:51<01:50, 10.03s/it, acc=84.77%, loss=0.3396]"
     ]
    },
    {
     "output_type": "stream",
     "name": "stdout",
     "text": [
      "Batch 184: Loss = 0.3396, Accuracy = 84.77%\n"
     ]
    },
    {
     "output_type": "stream",
     "name": "stderr",
     "text": [
      "Training:  95%|\u2588\u2588\u2588\u2588\u2588\u2588\u2588\u2588\u2588\u258d| 185/195 [31:04<01:48, 10.83s/it, acc=88.67%, loss=0.2695]"
     ]
    },
    {
     "output_type": "stream",
     "name": "stdout",
     "text": [
      "Batch 185: Loss = 0.2695, Accuracy = 88.67%\n"
     ]
    },
    {
     "output_type": "stream",
     "name": "stderr",
     "text": [
      "Training:  95%|\u2588\u2588\u2588\u2588\u2588\u2588\u2588\u2588\u2588\u258c| 186/195 [31:13<01:33, 10.34s/it, acc=90.23%, loss=0.2425]"
     ]
    },
    {
     "output_type": "stream",
     "name": "stdout",
     "text": [
      "Batch 186: Loss = 0.2425, Accuracy = 90.23%\n"
     ]
    },
    {
     "output_type": "stream",
     "name": "stderr",
     "text": [
      "Training:  96%|\u2588\u2588\u2588\u2588\u2588\u2588\u2588\u2588\u2588\u258c| 187/195 [31:23<01:20, 10.05s/it, acc=91.41%, loss=0.2272]"
     ]
    },
    {
     "output_type": "stream",
     "name": "stdout",
     "text": [
      "Batch 187: Loss = 0.2272, Accuracy = 91.41%\n"
     ]
    },
    {
     "output_type": "stream",
     "name": "stderr",
     "text": [
      "Training:  96%|\u2588\u2588\u2588\u2588\u2588\u2588\u2588\u2588\u2588\u258b| 188/195 [31:32<01:09,  9.97s/it, acc=89.84%, loss=0.2702]"
     ]
    },
    {
     "output_type": "stream",
     "name": "stdout",
     "text": [
      "Batch 188: Loss = 0.2702, Accuracy = 89.84%\n"
     ]
    },
    {
     "output_type": "stream",
     "name": "stderr",
     "text": [
      "Training:  97%|\u2588\u2588\u2588\u2588\u2588\u2588\u2588\u2588\u2588\u258b| 189/195 [31:48<01:10, 11.78s/it, acc=91.02%, loss=0.2094]"
     ]
    },
    {
     "output_type": "stream",
     "name": "stdout",
     "text": [
      "Batch 189: Loss = 0.2094, Accuracy = 91.02%\n"
     ]
    },
    {
     "output_type": "stream",
     "name": "stderr",
     "text": [
      "Training:  97%|\u2588\u2588\u2588\u2588\u2588\u2588\u2588\u2588\u2588\u258b| 190/195 [31:59<00:56, 11.30s/it, acc=91.02%, loss=0.2141]"
     ]
    },
    {
     "output_type": "stream",
     "name": "stdout",
     "text": [
      "Batch 190: Loss = 0.2141, Accuracy = 91.02%\n"
     ]
    },
    {
     "output_type": "stream",
     "name": "stderr",
     "text": [
      "Training:  98%|\u2588\u2588\u2588\u2588\u2588\u2588\u2588\u2588\u2588\u258a| 191/195 [32:13<00:48, 12.14s/it, acc=88.28%, loss=0.2766]"
     ]
    },
    {
     "output_type": "stream",
     "name": "stdout",
     "text": [
      "Batch 191: Loss = 0.2766, Accuracy = 88.28%\n"
     ]
    },
    {
     "output_type": "stream",
     "name": "stderr",
     "text": [
      "Training:  98%|\u2588\u2588\u2588\u2588\u2588\u2588\u2588\u2588\u2588\u258a| 192/195 [32:22<00:34, 11.39s/it, acc=89.84%, loss=0.2625]"
     ]
    },
    {
     "output_type": "stream",
     "name": "stdout",
     "text": [
      "Batch 192: Loss = 0.2625, Accuracy = 89.84%\n"
     ]
    },
    {
     "output_type": "stream",
     "name": "stderr",
     "text": [
      "Training:  99%|\u2588\u2588\u2588\u2588\u2588\u2588\u2588\u2588\u2588\u2589| 193/195 [32:35<00:23, 11.65s/it, acc=89.45%, loss=0.2401]"
     ]
    },
    {
     "output_type": "stream",
     "name": "stdout",
     "text": [
      "Batch 193: Loss = 0.2401, Accuracy = 89.45%\n"
     ]
    },
    {
     "output_type": "stream",
     "name": "stderr",
     "text": [
      "Training:  99%|\u2588\u2588\u2588\u2588\u2588\u2588\u2588\u2588\u2588\u2589| 194/195 [32:44<00:11, 11.09s/it, acc=88.28%, loss=0.2558]"
     ]
    },
    {
     "output_type": "stream",
     "name": "stdout",
     "text": [
      "Batch 194: Loss = 0.2558, Accuracy = 88.28%\n"
     ]
    },
    {
     "output_type": "stream",
     "name": "stderr",
     "text": [
      "Training: 100%|\u2588\u2588\u2588\u2588\u2588\u2588\u2588\u2588\u2588\u2588| 195/195 [32:53<00:00, 10.12s/it, acc=91.09%, loss=0.2316]\n"
     ]
    },
    {
     "output_type": "stream",
     "name": "stdout",
     "text": [
      "Batch 195: Loss = 0.2316, Accuracy = 91.09%\n",
      "\n",
      "Epoch 2 Summary:\n",
      "Training   - Loss: 0.2558, Accuracy: 89.36%\n",
      "Validation - Loss: 0.2352, Accuracy: 90.04%\n",
      "\n",
      "=== Epoch 3 ===\n"
     ]
    },
    {
     "output_type": "stream",
     "name": "stderr",
     "text": [
      "Training:   1%|          | 1/195 [00:09<29:23,  9.09s/it, acc=92.58%, loss=0.2218]"
     ]
    },
    {
     "output_type": "stream",
     "name": "stdout",
     "text": [
      "Batch 1: Loss = 0.2218, Accuracy = 92.58%\n"
     ]
    },
    {
     "output_type": "stream",
     "name": "stderr",
     "text": [
      "Training:   1%|          | 2/195 [00:18<29:05,  9.04s/it, acc=89.45%, loss=0.2555]"
     ]
    },
    {
     "output_type": "stream",
     "name": "stdout",
     "text": [
      "Batch 2: Loss = 0.2555, Accuracy = 89.45%\n"
     ]
    },
    {
     "output_type": "stream",
     "name": "stderr",
     "text": [
      "Training:   2%|\u258f         | 3/195 [00:27<29:30,  9.22s/it, acc=88.28%, loss=0.2793]"
     ]
    },
    {
     "output_type": "stream",
     "name": "stdout",
     "text": [
      "Batch 3: Loss = 0.2793, Accuracy = 88.28%\n"
     ]
    },
    {
     "output_type": "stream",
     "name": "stderr",
     "text": [
      "Training:   2%|\u258f         | 4/195 [00:36<29:38,  9.31s/it, acc=89.06%, loss=0.2548]"
     ]
    },
    {
     "output_type": "stream",
     "name": "stdout",
     "text": [
      "Batch 4: Loss = 0.2548, Accuracy = 89.06%\n"
     ]
    },
    {
     "output_type": "stream",
     "name": "stderr",
     "text": [
      "Training:   3%|\u258e         | 5/195 [00:45<28:57,  9.15s/it, acc=90.62%, loss=0.2148]"
     ]
    },
    {
     "output_type": "stream",
     "name": "stdout",
     "text": [
      "Batch 5: Loss = 0.2148, Accuracy = 90.62%\n"
     ]
    },
    {
     "output_type": "stream",
     "name": "stderr",
     "text": [
      "Training:   3%|\u258e         | 6/195 [00:55<29:05,  9.23s/it, acc=90.62%, loss=0.2297]"
     ]
    },
    {
     "output_type": "stream",
     "name": "stdout",
     "text": [
      "Batch 6: Loss = 0.2297, Accuracy = 90.62%\n"
     ]
    },
    {
     "output_type": "stream",
     "name": "stderr",
     "text": [
      "Training:   4%|\u258e         | 7/195 [01:04<28:44,  9.17s/it, acc=87.89%, loss=0.2525]"
     ]
    },
    {
     "output_type": "stream",
     "name": "stdout",
     "text": [
      "Batch 7: Loss = 0.2525, Accuracy = 87.89%\n"
     ]
    },
    {
     "output_type": "stream",
     "name": "stderr",
     "text": [
      "Training:   4%|\u258d         | 8/195 [01:13<28:52,  9.27s/it, acc=90.23%, loss=0.2144]"
     ]
    },
    {
     "output_type": "stream",
     "name": "stdout",
     "text": [
      "Batch 8: Loss = 0.2144, Accuracy = 90.23%\n"
     ]
    },
    {
     "output_type": "stream",
     "name": "stderr",
     "text": [
      "Training:   5%|\u258d         | 9/195 [01:24<30:32,  9.85s/it, acc=92.58%, loss=0.1991]"
     ]
    },
    {
     "output_type": "stream",
     "name": "stdout",
     "text": [
      "Batch 9: Loss = 0.1991, Accuracy = 92.58%\n"
     ]
    },
    {
     "output_type": "stream",
     "name": "stderr",
     "text": [
      "Training:   5%|\u258c         | 10/195 [01:36<31:56, 10.36s/it, acc=91.80%, loss=0.2070]"
     ]
    },
    {
     "output_type": "stream",
     "name": "stdout",
     "text": [
      "Batch 10: Loss = 0.2070, Accuracy = 91.80%\n"
     ]
    },
    {
     "output_type": "stream",
     "name": "stderr",
     "text": [
      "Training:   6%|\u258c         | 11/195 [01:46<31:40, 10.33s/it, acc=85.55%, loss=0.3146]"
     ]
    },
    {
     "output_type": "stream",
     "name": "stdout",
     "text": [
      "Batch 11: Loss = 0.3146, Accuracy = 85.55%\n"
     ]
    },
    {
     "output_type": "stream",
     "name": "stderr",
     "text": [
      "Training:   6%|\u258c         | 12/195 [01:56<30:39, 10.05s/it, acc=89.45%, loss=0.2370]"
     ]
    },
    {
     "output_type": "stream",
     "name": "stdout",
     "text": [
      "Batch 12: Loss = 0.2370, Accuracy = 89.45%\n"
     ]
    },
    {
     "output_type": "stream",
     "name": "stderr",
     "text": [
      "Training:   7%|\u258b         | 13/195 [02:05<29:41,  9.79s/it, acc=92.97%, loss=0.2048]"
     ]
    },
    {
     "output_type": "stream",
     "name": "stdout",
     "text": [
      "Batch 13: Loss = 0.2048, Accuracy = 92.97%\n"
     ]
    },
    {
     "output_type": "stream",
     "name": "stderr",
     "text": [
      "Training:   7%|\u258b         | 14/195 [02:14<29:13,  9.69s/it, acc=88.28%, loss=0.2503]"
     ]
    },
    {
     "output_type": "stream",
     "name": "stdout",
     "text": [
      "Batch 14: Loss = 0.2503, Accuracy = 88.28%\n"
     ]
    },
    {
     "output_type": "stream",
     "name": "stderr",
     "text": [
      "Training:   8%|\u258a         | 15/195 [02:25<29:59,  9.99s/it, acc=90.23%, loss=0.2268]"
     ]
    },
    {
     "output_type": "stream",
     "name": "stdout",
     "text": [
      "Batch 15: Loss = 0.2268, Accuracy = 90.23%\n"
     ]
    },
    {
     "output_type": "stream",
     "name": "stderr",
     "text": [
      "Training:   8%|\u258a         | 16/195 [02:34<29:25,  9.86s/it, acc=87.89%, loss=0.2927]"
     ]
    },
    {
     "output_type": "stream",
     "name": "stdout",
     "text": [
      "Batch 16: Loss = 0.2927, Accuracy = 87.89%\n"
     ]
    },
    {
     "output_type": "stream",
     "name": "stderr",
     "text": [
      "Training:   9%|\u258a         | 17/195 [02:44<28:31,  9.61s/it, acc=86.72%, loss=0.2873]"
     ]
    },
    {
     "output_type": "stream",
     "name": "stdout",
     "text": [
      "Batch 17: Loss = 0.2873, Accuracy = 86.72%\n"
     ]
    },
    {
     "output_type": "stream",
     "name": "stderr",
     "text": [
      "Training:   9%|\u2589         | 18/195 [02:53<28:22,  9.62s/it, acc=87.11%, loss=0.2899]"
     ]
    },
    {
     "output_type": "stream",
     "name": "stdout",
     "text": [
      "Batch 18: Loss = 0.2899, Accuracy = 87.11%\n"
     ]
    },
    {
     "output_type": "stream",
     "name": "stderr",
     "text": [
      "Training:  10%|\u2589         | 19/195 [03:03<28:15,  9.63s/it, acc=87.11%, loss=0.2831]"
     ]
    },
    {
     "output_type": "stream",
     "name": "stdout",
     "text": [
      "Batch 19: Loss = 0.2831, Accuracy = 87.11%\n"
     ]
    },
    {
     "output_type": "stream",
     "name": "stderr",
     "text": [
      "Training:  10%|\u2588         | 20/195 [03:14<29:09, 10.00s/it, acc=88.67%, loss=0.2683]"
     ]
    },
    {
     "output_type": "stream",
     "name": "stdout",
     "text": [
      "Batch 20: Loss = 0.2683, Accuracy = 88.67%\n"
     ]
    },
    {
     "output_type": "stream",
     "name": "stderr",
     "text": [
      "Training:  11%|\u2588         | 21/195 [03:29<33:22, 11.51s/it, acc=89.45%, loss=0.3002]"
     ]
    },
    {
     "output_type": "stream",
     "name": "stdout",
     "text": [
      "Batch 21: Loss = 0.3002, Accuracy = 89.45%\n"
     ]
    },
    {
     "output_type": "stream",
     "name": "stderr",
     "text": [
      "Training:  11%|\u2588\u258f        | 22/195 [03:40<32:53, 11.41s/it, acc=91.02%, loss=0.2335]"
     ]
    },
    {
     "output_type": "stream",
     "name": "stdout",
     "text": [
      "Batch 22: Loss = 0.2335, Accuracy = 91.02%\n"
     ]
    },
    {
     "output_type": "stream",
     "name": "stderr",
     "text": [
      "Training:  12%|\u2588\u258f        | 23/195 [04:01<41:16, 14.40s/it, acc=89.84%, loss=0.2255]"
     ]
    },
    {
     "output_type": "stream",
     "name": "stdout",
     "text": [
      "Batch 23: Loss = 0.2255, Accuracy = 89.84%\n"
     ]
    },
    {
     "output_type": "stream",
     "name": "stderr",
     "text": [
      "Training:  12%|\u2588\u258f        | 24/195 [04:11<36:56, 12.96s/it, acc=93.36%, loss=0.1837]"
     ]
    },
    {
     "output_type": "stream",
     "name": "stdout",
     "text": [
      "Batch 24: Loss = 0.1837, Accuracy = 93.36%\n"
     ]
    },
    {
     "output_type": "stream",
     "name": "stderr",
     "text": [
      "Training:  13%|\u2588\u258e        | 25/195 [04:20<33:52, 11.96s/it, acc=87.11%, loss=0.3020]"
     ]
    },
    {
     "output_type": "stream",
     "name": "stdout",
     "text": [
      "Batch 25: Loss = 0.3020, Accuracy = 87.11%\n"
     ]
    },
    {
     "output_type": "stream",
     "name": "stderr",
     "text": [
      "Training:  13%|\u2588\u258e        | 26/195 [04:30<31:32, 11.20s/it, acc=89.45%, loss=0.2225]"
     ]
    },
    {
     "output_type": "stream",
     "name": "stdout",
     "text": [
      "Batch 26: Loss = 0.2225, Accuracy = 89.45%\n"
     ]
    },
    {
     "output_type": "stream",
     "name": "stderr",
     "text": [
      "Training:  14%|\u2588\u258d        | 27/195 [04:41<31:11, 11.14s/it, acc=89.84%, loss=0.2408]"
     ]
    },
    {
     "output_type": "stream",
     "name": "stdout",
     "text": [
      "Batch 27: Loss = 0.2408, Accuracy = 89.84%\n"
     ]
    },
    {
     "output_type": "stream",
     "name": "stderr",
     "text": [
      "Training:  14%|\u2588\u258d        | 28/195 [04:50<29:42, 10.68s/it, acc=89.06%, loss=0.2380]"
     ]
    },
    {
     "output_type": "stream",
     "name": "stdout",
     "text": [
      "Batch 28: Loss = 0.2380, Accuracy = 89.06%\n"
     ]
    },
    {
     "output_type": "stream",
     "name": "stderr",
     "text": [
      "Training:  15%|\u2588\u258d        | 29/195 [05:00<28:14, 10.21s/it, acc=93.36%, loss=0.1967]"
     ]
    },
    {
     "output_type": "stream",
     "name": "stdout",
     "text": [
      "Batch 29: Loss = 0.1967, Accuracy = 93.36%\n"
     ]
    },
    {
     "output_type": "stream",
     "name": "stderr",
     "text": [
      "Training:  15%|\u2588\u258c        | 30/195 [05:11<29:02, 10.56s/it, acc=91.80%, loss=0.2179]"
     ]
    },
    {
     "output_type": "stream",
     "name": "stdout",
     "text": [
      "Batch 30: Loss = 0.2179, Accuracy = 91.80%\n"
     ]
    },
    {
     "output_type": "stream",
     "name": "stderr",
     "text": [
      "Training:  16%|\u2588\u258c        | 31/195 [05:21<28:08, 10.30s/it, acc=92.58%, loss=0.1951]"
     ]
    },
    {
     "output_type": "stream",
     "name": "stdout",
     "text": [
      "Batch 31: Loss = 0.1951, Accuracy = 92.58%\n"
     ]
    },
    {
     "output_type": "stream",
     "name": "stderr",
     "text": [
      "Training:  16%|\u2588\u258b        | 32/195 [05:30<27:29, 10.12s/it, acc=93.75%, loss=0.2032]"
     ]
    },
    {
     "output_type": "stream",
     "name": "stdout",
     "text": [
      "Batch 32: Loss = 0.2032, Accuracy = 93.75%\n"
     ]
    },
    {
     "output_type": "stream",
     "name": "stderr",
     "text": [
      "Training:  17%|\u2588\u258b        | 33/195 [05:40<27:03, 10.02s/it, acc=92.97%, loss=0.1756]"
     ]
    },
    {
     "output_type": "stream",
     "name": "stdout",
     "text": [
      "Batch 33: Loss = 0.1756, Accuracy = 92.97%\n"
     ]
    },
    {
     "output_type": "stream",
     "name": "stderr",
     "text": [
      "Training:  17%|\u2588\u258b        | 34/195 [05:55<30:29, 11.36s/it, acc=90.23%, loss=0.2040]"
     ]
    },
    {
     "output_type": "stream",
     "name": "stdout",
     "text": [
      "Batch 34: Loss = 0.2040, Accuracy = 90.23%\n"
     ]
    },
    {
     "output_type": "stream",
     "name": "stderr",
     "text": [
      "Training:  18%|\u2588\u258a        | 35/195 [06:05<29:51, 11.19s/it, acc=90.62%, loss=0.2036]"
     ]
    },
    {
     "output_type": "stream",
     "name": "stdout",
     "text": [
      "Batch 35: Loss = 0.2036, Accuracy = 90.62%\n"
     ]
    },
    {
     "output_type": "stream",
     "name": "stderr",
     "text": [
      "Training:  18%|\u2588\u258a        | 36/195 [06:15<28:21, 10.70s/it, acc=87.11%, loss=0.3158]"
     ]
    },
    {
     "output_type": "stream",
     "name": "stdout",
     "text": [
      "Batch 36: Loss = 0.3158, Accuracy = 87.11%\n"
     ]
    },
    {
     "output_type": "stream",
     "name": "stderr",
     "text": [
      "Training:  19%|\u2588\u2589        | 37/195 [06:24<26:40, 10.13s/it, acc=90.62%, loss=0.2055]"
     ]
    },
    {
     "output_type": "stream",
     "name": "stdout",
     "text": [
      "Batch 37: Loss = 0.2055, Accuracy = 90.62%\n"
     ]
    },
    {
     "output_type": "stream",
     "name": "stderr",
     "text": [
      "Training:  19%|\u2588\u2589        | 38/195 [06:34<26:18, 10.05s/it, acc=92.19%, loss=0.2354]"
     ]
    },
    {
     "output_type": "stream",
     "name": "stdout",
     "text": [
      "Batch 38: Loss = 0.2354, Accuracy = 92.19%\n"
     ]
    },
    {
     "output_type": "stream",
     "name": "stderr",
     "text": [
      "Training:  20%|\u2588\u2588        | 39/195 [06:45<26:57, 10.37s/it, acc=88.28%, loss=0.2364]"
     ]
    },
    {
     "output_type": "stream",
     "name": "stdout",
     "text": [
      "Batch 39: Loss = 0.2364, Accuracy = 88.28%\n"
     ]
    },
    {
     "output_type": "stream",
     "name": "stderr",
     "text": [
      "Training:  21%|\u2588\u2588        | 40/195 [06:55<26:19, 10.19s/it, acc=91.41%, loss=0.2307]"
     ]
    },
    {
     "output_type": "stream",
     "name": "stdout",
     "text": [
      "Batch 40: Loss = 0.2307, Accuracy = 91.41%\n"
     ]
    },
    {
     "output_type": "stream",
     "name": "stderr",
     "text": [
      "Training:  21%|\u2588\u2588        | 41/195 [07:05<26:16, 10.24s/it, acc=91.02%, loss=0.2417]"
     ]
    },
    {
     "output_type": "stream",
     "name": "stdout",
     "text": [
      "Batch 41: Loss = 0.2417, Accuracy = 91.02%\n"
     ]
    },
    {
     "output_type": "stream",
     "name": "stderr",
     "text": [
      "Training:  22%|\u2588\u2588\u258f       | 42/195 [07:15<26:14, 10.29s/it, acc=88.28%, loss=0.2849]"
     ]
    },
    {
     "output_type": "stream",
     "name": "stdout",
     "text": [
      "Batch 42: Loss = 0.2849, Accuracy = 88.28%\n"
     ]
    },
    {
     "output_type": "stream",
     "name": "stderr",
     "text": [
      "Training:  22%|\u2588\u2588\u258f       | 43/195 [07:25<25:30, 10.07s/it, acc=89.06%, loss=0.2449]"
     ]
    },
    {
     "output_type": "stream",
     "name": "stdout",
     "text": [
      "Batch 43: Loss = 0.2449, Accuracy = 89.06%\n"
     ]
    },
    {
     "output_type": "stream",
     "name": "stderr",
     "text": [
      "Training:  23%|\u2588\u2588\u258e       | 44/195 [07:35<25:02,  9.95s/it, acc=88.28%, loss=0.2586]"
     ]
    },
    {
     "output_type": "stream",
     "name": "stdout",
     "text": [
      "Batch 44: Loss = 0.2586, Accuracy = 88.28%\n"
     ]
    },
    {
     "output_type": "stream",
     "name": "stderr",
     "text": [
      "Training:  23%|\u2588\u2588\u258e       | 45/195 [07:44<24:43,  9.89s/it, acc=91.02%, loss=0.2221]"
     ]
    },
    {
     "output_type": "stream",
     "name": "stdout",
     "text": [
      "Batch 45: Loss = 0.2221, Accuracy = 91.02%\n"
     ]
    },
    {
     "output_type": "stream",
     "name": "stderr",
     "text": [
      "Training:  24%|\u2588\u2588\u258e       | 46/195 [07:54<24:11,  9.74s/it, acc=92.97%, loss=0.1797]"
     ]
    },
    {
     "output_type": "stream",
     "name": "stdout",
     "text": [
      "Batch 46: Loss = 0.1797, Accuracy = 92.97%\n"
     ]
    },
    {
     "output_type": "stream",
     "name": "stderr",
     "text": [
      "Training:  24%|\u2588\u2588\u258d       | 47/195 [08:04<24:13,  9.82s/it, acc=92.97%, loss=0.2026]"
     ]
    },
    {
     "output_type": "stream",
     "name": "stdout",
     "text": [
      "Batch 47: Loss = 0.2026, Accuracy = 92.97%\n"
     ]
    },
    {
     "output_type": "stream",
     "name": "stderr",
     "text": [
      "Training:  25%|\u2588\u2588\u258d       | 48/195 [08:14<24:14,  9.89s/it, acc=90.62%, loss=0.2286]"
     ]
    },
    {
     "output_type": "stream",
     "name": "stdout",
     "text": [
      "Batch 48: Loss = 0.2286, Accuracy = 90.62%\n"
     ]
    },
    {
     "output_type": "stream",
     "name": "stderr",
     "text": [
      "Training:  25%|\u2588\u2588\u258c       | 49/195 [08:24<24:16,  9.98s/it, acc=92.58%, loss=0.2095]"
     ]
    },
    {
     "output_type": "stream",
     "name": "stdout",
     "text": [
      "Batch 49: Loss = 0.2095, Accuracy = 92.58%\n"
     ]
    },
    {
     "output_type": "stream",
     "name": "stderr",
     "text": [
      "Training:  26%|\u2588\u2588\u258c       | 50/195 [08:33<23:30,  9.73s/it, acc=93.75%, loss=0.1592]"
     ]
    },
    {
     "output_type": "stream",
     "name": "stdout",
     "text": [
      "Batch 50: Loss = 0.1592, Accuracy = 93.75%\n"
     ]
    },
    {
     "output_type": "stream",
     "name": "stderr",
     "text": [
      "Training:  26%|\u2588\u2588\u258c       | 51/195 [08:43<23:12,  9.67s/it, acc=90.62%, loss=0.2152]"
     ]
    },
    {
     "output_type": "stream",
     "name": "stdout",
     "text": [
      "Batch 51: Loss = 0.2152, Accuracy = 90.62%\n"
     ]
    },
    {
     "output_type": "stream",
     "name": "stderr",
     "text": [
      "Training:  27%|\u2588\u2588\u258b       | 52/195 [08:53<23:19,  9.79s/it, acc=89.84%, loss=0.2269]"
     ]
    },
    {
     "output_type": "stream",
     "name": "stdout",
     "text": [
      "Batch 52: Loss = 0.2269, Accuracy = 89.84%\n"
     ]
    },
    {
     "output_type": "stream",
     "name": "stderr",
     "text": [
      "Training:  27%|\u2588\u2588\u258b       | 53/195 [09:04<24:15, 10.25s/it, acc=89.84%, loss=0.2524]"
     ]
    },
    {
     "output_type": "stream",
     "name": "stdout",
     "text": [
      "Batch 53: Loss = 0.2524, Accuracy = 89.84%\n"
     ]
    },
    {
     "output_type": "stream",
     "name": "stderr",
     "text": [
      "Training:  28%|\u2588\u2588\u258a       | 54/195 [09:14<24:11, 10.30s/it, acc=91.02%, loss=0.2168]"
     ]
    },
    {
     "output_type": "stream",
     "name": "stdout",
     "text": [
      "Batch 54: Loss = 0.2168, Accuracy = 91.02%\n"
     ]
    },
    {
     "output_type": "stream",
     "name": "stderr",
     "text": [
      "Training:  28%|\u2588\u2588\u258a       | 55/195 [09:26<24:48, 10.64s/it, acc=89.84%, loss=0.2218]"
     ]
    },
    {
     "output_type": "stream",
     "name": "stdout",
     "text": [
      "Batch 55: Loss = 0.2218, Accuracy = 89.84%\n"
     ]
    },
    {
     "output_type": "stream",
     "name": "stderr",
     "text": [
      "Training:  29%|\u2588\u2588\u258a       | 56/195 [09:37<24:58, 10.78s/it, acc=87.50%, loss=0.2635]"
     ]
    },
    {
     "output_type": "stream",
     "name": "stdout",
     "text": [
      "Batch 56: Loss = 0.2635, Accuracy = 87.50%\n"
     ]
    },
    {
     "output_type": "stream",
     "name": "stderr",
     "text": [
      "Training:  29%|\u2588\u2588\u2589       | 57/195 [09:48<25:03, 10.89s/it, acc=91.41%, loss=0.2226]"
     ]
    },
    {
     "output_type": "stream",
     "name": "stdout",
     "text": [
      "Batch 57: Loss = 0.2226, Accuracy = 91.41%\n"
     ]
    },
    {
     "output_type": "stream",
     "name": "stderr",
     "text": [
      "Training:  30%|\u2588\u2588\u2589       | 58/195 [10:00<25:32, 11.19s/it, acc=92.19%, loss=0.2035]"
     ]
    },
    {
     "output_type": "stream",
     "name": "stdout",
     "text": [
      "Batch 58: Loss = 0.2035, Accuracy = 92.19%\n"
     ]
    },
    {
     "output_type": "stream",
     "name": "stderr",
     "text": [
      "Training:  30%|\u2588\u2588\u2588       | 59/195 [10:10<24:22, 10.75s/it, acc=92.97%, loss=0.1845]"
     ]
    },
    {
     "output_type": "stream",
     "name": "stdout",
     "text": [
      "Batch 59: Loss = 0.1845, Accuracy = 92.97%\n"
     ]
    },
    {
     "output_type": "stream",
     "name": "stderr",
     "text": [
      "Training:  31%|\u2588\u2588\u2588       | 60/195 [10:22<24:59, 11.10s/it, acc=92.19%, loss=0.1896]"
     ]
    },
    {
     "output_type": "stream",
     "name": "stdout",
     "text": [
      "Batch 60: Loss = 0.1896, Accuracy = 92.19%\n"
     ]
    },
    {
     "output_type": "stream",
     "name": "stderr",
     "text": [
      "Training:  31%|\u2588\u2588\u2588\u258f      | 61/195 [10:33<24:55, 11.16s/it, acc=89.45%, loss=0.2753]"
     ]
    },
    {
     "output_type": "stream",
     "name": "stdout",
     "text": [
      "Batch 61: Loss = 0.2753, Accuracy = 89.45%\n"
     ]
    },
    {
     "output_type": "stream",
     "name": "stderr",
     "text": [
      "Training:  32%|\u2588\u2588\u2588\u258f      | 62/195 [10:46<26:04, 11.76s/it, acc=91.41%, loss=0.2190]"
     ]
    },
    {
     "output_type": "stream",
     "name": "stdout",
     "text": [
      "Batch 62: Loss = 0.2190, Accuracy = 91.41%\n"
     ]
    },
    {
     "output_type": "stream",
     "name": "stderr",
     "text": [
      "Training:  32%|\u2588\u2588\u2588\u258f      | 63/195 [10:55<24:13, 11.01s/it, acc=92.58%, loss=0.1823]"
     ]
    },
    {
     "output_type": "stream",
     "name": "stdout",
     "text": [
      "Batch 63: Loss = 0.1823, Accuracy = 92.58%\n"
     ]
    },
    {
     "output_type": "stream",
     "name": "stderr",
     "text": [
      "Training:  33%|\u2588\u2588\u2588\u258e      | 64/195 [11:06<23:44, 10.87s/it, acc=92.97%, loss=0.2040]"
     ]
    },
    {
     "output_type": "stream",
     "name": "stdout",
     "text": [
      "Batch 64: Loss = 0.2040, Accuracy = 92.97%\n"
     ]
    },
    {
     "output_type": "stream",
     "name": "stderr",
     "text": [
      "Training:  33%|\u2588\u2588\u2588\u258e      | 65/195 [11:16<23:07, 10.68s/it, acc=91.41%, loss=0.2089]"
     ]
    },
    {
     "output_type": "stream",
     "name": "stdout",
     "text": [
      "Batch 65: Loss = 0.2089, Accuracy = 91.41%\n"
     ]
    },
    {
     "output_type": "stream",
     "name": "stderr",
     "text": [
      "Training:  34%|\u2588\u2588\u2588\u258d      | 66/195 [11:27<22:51, 10.63s/it, acc=92.19%, loss=0.1979]"
     ]
    },
    {
     "output_type": "stream",
     "name": "stdout",
     "text": [
      "Batch 66: Loss = 0.1979, Accuracy = 92.19%\n"
     ]
    },
    {
     "output_type": "stream",
     "name": "stderr",
     "text": [
      "Training:  34%|\u2588\u2588\u2588\u258d      | 67/195 [11:38<22:53, 10.73s/it, acc=92.97%, loss=0.2085]"
     ]
    },
    {
     "output_type": "stream",
     "name": "stdout",
     "text": [
      "Batch 67: Loss = 0.2085, Accuracy = 92.97%\n"
     ]
    },
    {
     "output_type": "stream",
     "name": "stderr",
     "text": [
      "Training:  35%|\u2588\u2588\u2588\u258d      | 68/195 [11:50<23:27, 11.08s/it, acc=90.23%, loss=0.2380]"
     ]
    },
    {
     "output_type": "stream",
     "name": "stdout",
     "text": [
      "Batch 68: Loss = 0.2380, Accuracy = 90.23%\n"
     ]
    },
    {
     "output_type": "stream",
     "name": "stderr",
     "text": [
      "Training:  35%|\u2588\u2588\u2588\u258c      | 69/195 [12:00<23:07, 11.01s/it, acc=90.62%, loss=0.1953]"
     ]
    },
    {
     "output_type": "stream",
     "name": "stdout",
     "text": [
      "Batch 69: Loss = 0.1953, Accuracy = 90.62%\n"
     ]
    },
    {
     "output_type": "stream",
     "name": "stderr",
     "text": [
      "Training:  36%|\u2588\u2588\u2588\u258c      | 70/195 [12:11<22:30, 10.80s/it, acc=89.84%, loss=0.2302]"
     ]
    },
    {
     "output_type": "stream",
     "name": "stdout",
     "text": [
      "Batch 70: Loss = 0.2302, Accuracy = 89.84%\n"
     ]
    },
    {
     "output_type": "stream",
     "name": "stderr",
     "text": [
      "Training:  36%|\u2588\u2588\u2588\u258b      | 71/195 [12:22<22:24, 10.84s/it, acc=89.84%, loss=0.2593]"
     ]
    },
    {
     "output_type": "stream",
     "name": "stdout",
     "text": [
      "Batch 71: Loss = 0.2593, Accuracy = 89.84%\n"
     ]
    },
    {
     "output_type": "stream",
     "name": "stderr",
     "text": [
      "Training:  37%|\u2588\u2588\u2588\u258b      | 72/195 [12:32<22:06, 10.78s/it, acc=95.31%, loss=0.1446]"
     ]
    },
    {
     "output_type": "stream",
     "name": "stdout",
     "text": [
      "Batch 72: Loss = 0.1446, Accuracy = 95.31%\n"
     ]
    },
    {
     "output_type": "stream",
     "name": "stderr",
     "text": [
      "Training:  37%|\u2588\u2588\u2588\u258b      | 73/195 [12:43<21:40, 10.66s/it, acc=91.41%, loss=0.1979]"
     ]
    },
    {
     "output_type": "stream",
     "name": "stdout",
     "text": [
      "Batch 73: Loss = 0.1979, Accuracy = 91.41%\n"
     ]
    },
    {
     "output_type": "stream",
     "name": "stderr",
     "text": [
      "Training:  38%|\u2588\u2588\u2588\u258a      | 74/195 [12:54<21:58, 10.90s/it, acc=87.11%, loss=0.2864]"
     ]
    },
    {
     "output_type": "stream",
     "name": "stdout",
     "text": [
      "Batch 74: Loss = 0.2864, Accuracy = 87.11%\n"
     ]
    },
    {
     "output_type": "stream",
     "name": "stderr",
     "text": [
      "Training:  38%|\u2588\u2588\u2588\u258a      | 75/195 [13:04<21:04, 10.53s/it, acc=90.23%, loss=0.2337]"
     ]
    },
    {
     "output_type": "stream",
     "name": "stdout",
     "text": [
      "Batch 75: Loss = 0.2337, Accuracy = 90.23%\n"
     ]
    },
    {
     "output_type": "stream",
     "name": "stderr",
     "text": [
      "Training:  39%|\u2588\u2588\u2588\u2589      | 76/195 [13:14<20:28, 10.32s/it, acc=92.58%, loss=0.1835]"
     ]
    },
    {
     "output_type": "stream",
     "name": "stdout",
     "text": [
      "Batch 76: Loss = 0.1835, Accuracy = 92.58%\n"
     ]
    },
    {
     "output_type": "stream",
     "name": "stderr",
     "text": [
      "Training:  39%|\u2588\u2588\u2588\u2589      | 77/195 [13:23<19:53, 10.11s/it, acc=91.80%, loss=0.2164]"
     ]
    },
    {
     "output_type": "stream",
     "name": "stdout",
     "text": [
      "Batch 77: Loss = 0.2164, Accuracy = 91.80%\n"
     ]
    },
    {
     "output_type": "stream",
     "name": "stderr",
     "text": [
      "Training:  40%|\u2588\u2588\u2588\u2588      | 78/195 [13:34<20:18, 10.41s/it, acc=91.80%, loss=0.2471]"
     ]
    },
    {
     "output_type": "stream",
     "name": "stdout",
     "text": [
      "Batch 78: Loss = 0.2471, Accuracy = 91.80%\n"
     ]
    },
    {
     "output_type": "stream",
     "name": "stderr",
     "text": [
      "Training:  41%|\u2588\u2588\u2588\u2588      | 79/195 [13:44<19:57, 10.33s/it, acc=89.84%, loss=0.2024]"
     ]
    },
    {
     "output_type": "stream",
     "name": "stdout",
     "text": [
      "Batch 79: Loss = 0.2024, Accuracy = 89.84%\n"
     ]
    },
    {
     "output_type": "stream",
     "name": "stderr",
     "text": [
      "Training:  41%|\u2588\u2588\u2588\u2588      | 80/195 [14:05<25:52, 13.50s/it, acc=93.75%, loss=0.1950]"
     ]
    },
    {
     "output_type": "stream",
     "name": "stdout",
     "text": [
      "Batch 80: Loss = 0.1950, Accuracy = 93.75%\n"
     ]
    },
    {
     "output_type": "stream",
     "name": "stderr",
     "text": [
      "Training:  42%|\u2588\u2588\u2588\u2588\u258f     | 81/195 [14:15<23:25, 12.33s/it, acc=93.36%, loss=0.2018]"
     ]
    },
    {
     "output_type": "stream",
     "name": "stdout",
     "text": [
      "Batch 81: Loss = 0.2018, Accuracy = 93.36%\n"
     ]
    },
    {
     "output_type": "stream",
     "name": "stderr",
     "text": [
      "Training:  42%|\u2588\u2588\u2588\u2588\u258f     | 82/195 [14:25<22:12, 11.79s/it, acc=87.11%, loss=0.2623]"
     ]
    },
    {
     "output_type": "stream",
     "name": "stdout",
     "text": [
      "Batch 82: Loss = 0.2623, Accuracy = 87.11%\n"
     ]
    },
    {
     "output_type": "stream",
     "name": "stderr",
     "text": [
      "Training:  43%|\u2588\u2588\u2588\u2588\u258e     | 83/195 [14:35<20:45, 11.12s/it, acc=90.23%, loss=0.2272]"
     ]
    },
    {
     "output_type": "stream",
     "name": "stdout",
     "text": [
      "Batch 83: Loss = 0.2272, Accuracy = 90.23%\n"
     ]
    },
    {
     "output_type": "stream",
     "name": "stderr",
     "text": [
      "Training:  43%|\u2588\u2588\u2588\u2588\u258e     | 84/195 [14:51<23:08, 12.51s/it, acc=87.89%, loss=0.2509]"
     ]
    },
    {
     "output_type": "stream",
     "name": "stdout",
     "text": [
      "Batch 84: Loss = 0.2509, Accuracy = 87.89%\n"
     ]
    },
    {
     "output_type": "stream",
     "name": "stderr",
     "text": [
      "Training:  44%|\u2588\u2588\u2588\u2588\u258e     | 85/195 [15:02<22:24, 12.22s/it, acc=91.41%, loss=0.2284]"
     ]
    },
    {
     "output_type": "stream",
     "name": "stdout",
     "text": [
      "Batch 85: Loss = 0.2284, Accuracy = 91.41%\n"
     ]
    },
    {
     "output_type": "stream",
     "name": "stderr",
     "text": [
      "Training:  44%|\u2588\u2588\u2588\u2588\u258d     | 86/195 [15:13<21:31, 11.85s/it, acc=88.28%, loss=0.2464]"
     ]
    },
    {
     "output_type": "stream",
     "name": "stdout",
     "text": [
      "Batch 86: Loss = 0.2464, Accuracy = 88.28%\n"
     ]
    },
    {
     "output_type": "stream",
     "name": "stderr",
     "text": [
      "Training:  45%|\u2588\u2588\u2588\u2588\u258d     | 87/195 [15:24<20:26, 11.36s/it, acc=91.80%, loss=0.2269]"
     ]
    },
    {
     "output_type": "stream",
     "name": "stdout",
     "text": [
      "Batch 87: Loss = 0.2269, Accuracy = 91.80%\n"
     ]
    },
    {
     "output_type": "stream",
     "name": "stderr",
     "text": [
      "Training:  45%|\u2588\u2588\u2588\u2588\u258c     | 88/195 [15:34<19:54, 11.17s/it, acc=91.80%, loss=0.2044]"
     ]
    },
    {
     "output_type": "stream",
     "name": "stdout",
     "text": [
      "Batch 88: Loss = 0.2044, Accuracy = 91.80%\n"
     ]
    },
    {
     "output_type": "stream",
     "name": "stderr",
     "text": [
      "Training:  46%|\u2588\u2588\u2588\u2588\u258c     | 89/195 [15:45<19:17, 10.92s/it, acc=90.23%, loss=0.2339]"
     ]
    },
    {
     "output_type": "stream",
     "name": "stdout",
     "text": [
      "Batch 89: Loss = 0.2339, Accuracy = 90.23%\n"
     ]
    },
    {
     "output_type": "stream",
     "name": "stderr",
     "text": [
      "Training:  46%|\u2588\u2588\u2588\u2588\u258c     | 90/195 [15:54<18:15, 10.43s/it, acc=92.58%, loss=0.1727]"
     ]
    },
    {
     "output_type": "stream",
     "name": "stdout",
     "text": [
      "Batch 90: Loss = 0.1727, Accuracy = 92.58%\n"
     ]
    },
    {
     "output_type": "stream",
     "name": "stderr",
     "text": [
      "Training:  47%|\u2588\u2588\u2588\u2588\u258b     | 91/195 [16:05<18:14, 10.53s/it, acc=89.06%, loss=0.2356]"
     ]
    },
    {
     "output_type": "stream",
     "name": "stdout",
     "text": [
      "Batch 91: Loss = 0.2356, Accuracy = 89.06%\n"
     ]
    },
    {
     "output_type": "stream",
     "name": "stderr",
     "text": [
      "Training:  47%|\u2588\u2588\u2588\u2588\u258b     | 92/195 [16:14<17:42, 10.31s/it, acc=87.11%, loss=0.2924]"
     ]
    },
    {
     "output_type": "stream",
     "name": "stdout",
     "text": [
      "Batch 92: Loss = 0.2924, Accuracy = 87.11%\n"
     ]
    },
    {
     "output_type": "stream",
     "name": "stderr",
     "text": [
      "Training:  48%|\u2588\u2588\u2588\u2588\u258a     | 93/195 [16:25<17:31, 10.31s/it, acc=89.06%, loss=0.2275]"
     ]
    },
    {
     "output_type": "stream",
     "name": "stdout",
     "text": [
      "Batch 93: Loss = 0.2275, Accuracy = 89.06%\n"
     ]
    },
    {
     "output_type": "stream",
     "name": "stderr",
     "text": [
      "Training:  48%|\u2588\u2588\u2588\u2588\u258a     | 94/195 [16:34<17:03, 10.14s/it, acc=89.06%, loss=0.2335]"
     ]
    },
    {
     "output_type": "stream",
     "name": "stdout",
     "text": [
      "Batch 94: Loss = 0.2335, Accuracy = 89.06%\n"
     ]
    },
    {
     "output_type": "stream",
     "name": "stderr",
     "text": [
      "Training:  49%|\u2588\u2588\u2588\u2588\u258a     | 95/195 [16:44<16:23,  9.83s/it, acc=91.41%, loss=0.1938]"
     ]
    },
    {
     "output_type": "stream",
     "name": "stdout",
     "text": [
      "Batch 95: Loss = 0.1938, Accuracy = 91.41%\n"
     ]
    },
    {
     "output_type": "stream",
     "name": "stderr",
     "text": [
      "Training:  49%|\u2588\u2588\u2588\u2588\u2589     | 96/195 [16:54<16:37, 10.08s/it, acc=88.28%, loss=0.2415]"
     ]
    },
    {
     "output_type": "stream",
     "name": "stdout",
     "text": [
      "Batch 96: Loss = 0.2415, Accuracy = 88.28%\n"
     ]
    },
    {
     "output_type": "stream",
     "name": "stderr",
     "text": [
      "Training:  50%|\u2588\u2588\u2588\u2588\u2589     | 97/195 [17:04<16:08,  9.89s/it, acc=92.19%, loss=0.2094]"
     ]
    },
    {
     "output_type": "stream",
     "name": "stdout",
     "text": [
      "Batch 97: Loss = 0.2094, Accuracy = 92.19%\n"
     ]
    },
    {
     "output_type": "stream",
     "name": "stderr",
     "text": [
      "Training:  50%|\u2588\u2588\u2588\u2588\u2588     | 98/195 [17:13<15:51,  9.81s/it, acc=92.58%, loss=0.2054]"
     ]
    },
    {
     "output_type": "stream",
     "name": "stdout",
     "text": [
      "Batch 98: Loss = 0.2054, Accuracy = 92.58%\n"
     ]
    },
    {
     "output_type": "stream",
     "name": "stderr",
     "text": [
      "Training:  51%|\u2588\u2588\u2588\u2588\u2588     | 99/195 [17:24<15:52,  9.92s/it, acc=89.84%, loss=0.2427]"
     ]
    },
    {
     "output_type": "stream",
     "name": "stdout",
     "text": [
      "Batch 99: Loss = 0.2427, Accuracy = 89.84%\n"
     ]
    },
    {
     "output_type": "stream",
     "name": "stderr",
     "text": [
      "Training:  51%|\u2588\u2588\u2588\u2588\u2588\u258f    | 100/195 [17:33<15:32,  9.81s/it, acc=92.97%, loss=0.1846]"
     ]
    },
    {
     "output_type": "stream",
     "name": "stdout",
     "text": [
      "Batch 100: Loss = 0.1846, Accuracy = 92.97%\n"
     ]
    },
    {
     "output_type": "stream",
     "name": "stderr",
     "text": [
      "Training:  52%|\u2588\u2588\u2588\u2588\u2588\u258f    | 101/195 [17:44<16:02, 10.24s/it, acc=90.23%, loss=0.2276]"
     ]
    },
    {
     "output_type": "stream",
     "name": "stdout",
     "text": [
      "Batch 101: Loss = 0.2276, Accuracy = 90.23%\n"
     ]
    },
    {
     "output_type": "stream",
     "name": "stderr",
     "text": [
      "Training:  52%|\u2588\u2588\u2588\u2588\u2588\u258f    | 102/195 [17:55<15:54, 10.27s/it, acc=91.02%, loss=0.2188]"
     ]
    },
    {
     "output_type": "stream",
     "name": "stdout",
     "text": [
      "Batch 102: Loss = 0.2188, Accuracy = 91.02%\n"
     ]
    },
    {
     "output_type": "stream",
     "name": "stderr",
     "text": [
      "Training:  53%|\u2588\u2588\u2588\u2588\u2588\u258e    | 103/195 [18:04<15:16,  9.96s/it, acc=89.84%, loss=0.2386]"
     ]
    },
    {
     "output_type": "stream",
     "name": "stdout",
     "text": [
      "Batch 103: Loss = 0.2386, Accuracy = 89.84%\n"
     ]
    },
    {
     "output_type": "stream",
     "name": "stderr",
     "text": [
      "Training:  53%|\u2588\u2588\u2588\u2588\u2588\u258e    | 104/195 [18:13<14:56,  9.86s/it, acc=91.02%, loss=0.2111]"
     ]
    },
    {
     "output_type": "stream",
     "name": "stdout",
     "text": [
      "Batch 104: Loss = 0.2111, Accuracy = 91.02%\n"
     ]
    },
    {
     "output_type": "stream",
     "name": "stderr",
     "text": [
      "Training:  54%|\u2588\u2588\u2588\u2588\u2588\u258d    | 105/195 [18:23<14:35,  9.72s/it, acc=89.06%, loss=0.2441]"
     ]
    },
    {
     "output_type": "stream",
     "name": "stdout",
     "text": [
      "Batch 105: Loss = 0.2441, Accuracy = 89.06%\n"
     ]
    },
    {
     "output_type": "stream",
     "name": "stderr",
     "text": [
      "Training:  54%|\u2588\u2588\u2588\u2588\u2588\u258d    | 106/195 [18:33<14:41,  9.91s/it, acc=87.89%, loss=0.2583]"
     ]
    },
    {
     "output_type": "stream",
     "name": "stdout",
     "text": [
      "Batch 106: Loss = 0.2583, Accuracy = 87.89%\n"
     ]
    },
    {
     "output_type": "stream",
     "name": "stderr",
     "text": [
      "Training:  55%|\u2588\u2588\u2588\u2588\u2588\u258d    | 107/195 [18:43<14:20,  9.78s/it, acc=89.84%, loss=0.2267]"
     ]
    },
    {
     "output_type": "stream",
     "name": "stdout",
     "text": [
      "Batch 107: Loss = 0.2267, Accuracy = 89.84%\n"
     ]
    },
    {
     "output_type": "stream",
     "name": "stderr",
     "text": [
      "Training:  55%|\u2588\u2588\u2588\u2588\u2588\u258c    | 108/195 [18:52<13:57,  9.63s/it, acc=88.67%, loss=0.2821]"
     ]
    },
    {
     "output_type": "stream",
     "name": "stdout",
     "text": [
      "Batch 108: Loss = 0.2821, Accuracy = 88.67%\n"
     ]
    },
    {
     "output_type": "stream",
     "name": "stderr",
     "text": [
      "Training:  56%|\u2588\u2588\u2588\u2588\u2588\u258c    | 109/195 [19:01<13:42,  9.56s/it, acc=90.23%, loss=0.2316]"
     ]
    },
    {
     "output_type": "stream",
     "name": "stdout",
     "text": [
      "Batch 109: Loss = 0.2316, Accuracy = 90.23%\n"
     ]
    },
    {
     "output_type": "stream",
     "name": "stderr",
     "text": [
      "Training:  56%|\u2588\u2588\u2588\u2588\u2588\u258b    | 110/195 [19:11<13:31,  9.55s/it, acc=92.19%, loss=0.2137]"
     ]
    },
    {
     "output_type": "stream",
     "name": "stdout",
     "text": [
      "Batch 110: Loss = 0.2137, Accuracy = 92.19%\n"
     ]
    },
    {
     "output_type": "stream",
     "name": "stderr",
     "text": [
      "Training:  57%|\u2588\u2588\u2588\u2588\u2588\u258b    | 111/195 [19:21<13:23,  9.57s/it, acc=92.58%, loss=0.2312]"
     ]
    },
    {
     "output_type": "stream",
     "name": "stdout",
     "text": [
      "Batch 111: Loss = 0.2312, Accuracy = 92.58%\n"
     ]
    },
    {
     "output_type": "stream",
     "name": "stderr",
     "text": [
      "Training:  57%|\u2588\u2588\u2588\u2588\u2588\u258b    | 112/195 [19:30<13:15,  9.58s/it, acc=91.02%, loss=0.2091]"
     ]
    },
    {
     "output_type": "stream",
     "name": "stdout",
     "text": [
      "Batch 112: Loss = 0.2091, Accuracy = 91.02%\n"
     ]
    },
    {
     "output_type": "stream",
     "name": "stderr",
     "text": [
      "Training:  58%|\u2588\u2588\u2588\u2588\u2588\u258a    | 113/195 [19:40<13:18,  9.73s/it, acc=91.80%, loss=0.2326]"
     ]
    },
    {
     "output_type": "stream",
     "name": "stdout",
     "text": [
      "Batch 113: Loss = 0.2326, Accuracy = 91.80%\n"
     ]
    },
    {
     "output_type": "stream",
     "name": "stderr",
     "text": [
      "Training:  58%|\u2588\u2588\u2588\u2588\u2588\u258a    | 114/195 [19:50<13:09,  9.75s/it, acc=86.72%, loss=0.2913]"
     ]
    },
    {
     "output_type": "stream",
     "name": "stdout",
     "text": [
      "Batch 114: Loss = 0.2913, Accuracy = 86.72%\n"
     ]
    },
    {
     "output_type": "stream",
     "name": "stderr",
     "text": [
      "Training:  59%|\u2588\u2588\u2588\u2588\u2588\u2589    | 115/195 [20:00<13:10,  9.89s/it, acc=91.80%, loss=0.2382]"
     ]
    },
    {
     "output_type": "stream",
     "name": "stdout",
     "text": [
      "Batch 115: Loss = 0.2382, Accuracy = 91.80%\n"
     ]
    },
    {
     "output_type": "stream",
     "name": "stderr",
     "text": [
      "Training:  59%|\u2588\u2588\u2588\u2588\u2588\u2589    | 116/195 [20:10<12:54,  9.81s/it, acc=90.23%, loss=0.2333]"
     ]
    },
    {
     "output_type": "stream",
     "name": "stdout",
     "text": [
      "Batch 116: Loss = 0.2333, Accuracy = 90.23%\n"
     ]
    },
    {
     "output_type": "stream",
     "name": "stderr",
     "text": [
      "Training:  60%|\u2588\u2588\u2588\u2588\u2588\u2588    | 117/195 [20:20<12:58,  9.98s/it, acc=88.28%, loss=0.2693]"
     ]
    },
    {
     "output_type": "stream",
     "name": "stdout",
     "text": [
      "Batch 117: Loss = 0.2693, Accuracy = 88.28%\n"
     ]
    },
    {
     "output_type": "stream",
     "name": "stderr",
     "text": [
      "Training:  61%|\u2588\u2588\u2588\u2588\u2588\u2588    | 118/195 [20:30<12:46,  9.95s/it, acc=89.45%, loss=0.2509]"
     ]
    },
    {
     "output_type": "stream",
     "name": "stdout",
     "text": [
      "Batch 118: Loss = 0.2509, Accuracy = 89.45%\n"
     ]
    },
    {
     "output_type": "stream",
     "name": "stderr",
     "text": [
      "Training:  61%|\u2588\u2588\u2588\u2588\u2588\u2588    | 119/195 [20:39<12:22,  9.77s/it, acc=92.19%, loss=0.2050]"
     ]
    },
    {
     "output_type": "stream",
     "name": "stdout",
     "text": [
      "Batch 119: Loss = 0.2050, Accuracy = 92.19%\n"
     ]
    },
    {
     "output_type": "stream",
     "name": "stderr",
     "text": [
      "Training:  62%|\u2588\u2588\u2588\u2588\u2588\u2588\u258f   | 120/195 [20:51<12:41, 10.16s/it, acc=92.58%, loss=0.2164]"
     ]
    },
    {
     "output_type": "stream",
     "name": "stdout",
     "text": [
      "Batch 120: Loss = 0.2164, Accuracy = 92.58%\n"
     ]
    },
    {
     "output_type": "stream",
     "name": "stderr",
     "text": [
      "Training:  62%|\u2588\u2588\u2588\u2588\u2588\u2588\u258f   | 121/195 [21:00<12:15,  9.93s/it, acc=86.33%, loss=0.2643]"
     ]
    },
    {
     "output_type": "stream",
     "name": "stdout",
     "text": [
      "Batch 121: Loss = 0.2643, Accuracy = 86.33%\n"
     ]
    },
    {
     "output_type": "stream",
     "name": "stderr",
     "text": [
      "Training:  63%|\u2588\u2588\u2588\u2588\u2588\u2588\u258e   | 122/195 [21:09<11:52,  9.77s/it, acc=94.53%, loss=0.1821]"
     ]
    },
    {
     "output_type": "stream",
     "name": "stdout",
     "text": [
      "Batch 122: Loss = 0.1821, Accuracy = 94.53%\n"
     ]
    },
    {
     "output_type": "stream",
     "name": "stderr",
     "text": [
      "Training:  63%|\u2588\u2588\u2588\u2588\u2588\u2588\u258e   | 123/195 [21:19<11:39,  9.72s/it, acc=90.23%, loss=0.2147]"
     ]
    },
    {
     "output_type": "stream",
     "name": "stdout",
     "text": [
      "Batch 123: Loss = 0.2147, Accuracy = 90.23%\n"
     ]
    },
    {
     "output_type": "stream",
     "name": "stderr",
     "text": [
      "Training:  64%|\u2588\u2588\u2588\u2588\u2588\u2588\u258e   | 124/195 [21:28<11:24,  9.64s/it, acc=88.67%, loss=0.2514]"
     ]
    },
    {
     "output_type": "stream",
     "name": "stdout",
     "text": [
      "Batch 124: Loss = 0.2514, Accuracy = 88.67%\n"
     ]
    },
    {
     "output_type": "stream",
     "name": "stderr",
     "text": [
      "Training:  64%|\u2588\u2588\u2588\u2588\u2588\u2588\u258d   | 125/195 [21:38<11:11,  9.59s/it, acc=87.50%, loss=0.2807]"
     ]
    },
    {
     "output_type": "stream",
     "name": "stdout",
     "text": [
      "Batch 125: Loss = 0.2807, Accuracy = 87.50%\n"
     ]
    },
    {
     "output_type": "stream",
     "name": "stderr",
     "text": [
      "Training:  65%|\u2588\u2588\u2588\u2588\u2588\u2588\u258d   | 126/195 [21:53<12:49, 11.15s/it, acc=87.89%, loss=0.2209]"
     ]
    },
    {
     "output_type": "stream",
     "name": "stdout",
     "text": [
      "Batch 126: Loss = 0.2209, Accuracy = 87.89%\n"
     ]
    },
    {
     "output_type": "stream",
     "name": "stderr",
     "text": [
      "Training:  65%|\u2588\u2588\u2588\u2588\u2588\u2588\u258c   | 127/195 [22:05<13:01, 11.49s/it, acc=90.62%, loss=0.2129]"
     ]
    },
    {
     "output_type": "stream",
     "name": "stdout",
     "text": [
      "Batch 127: Loss = 0.2129, Accuracy = 90.62%\n"
     ]
    },
    {
     "output_type": "stream",
     "name": "stderr",
     "text": [
      "Training:  66%|\u2588\u2588\u2588\u2588\u2588\u2588\u258c   | 128/195 [22:15<12:12, 10.93s/it, acc=86.72%, loss=0.2740]"
     ]
    },
    {
     "output_type": "stream",
     "name": "stdout",
     "text": [
      "Batch 128: Loss = 0.2740, Accuracy = 86.72%\n"
     ]
    },
    {
     "output_type": "stream",
     "name": "stderr",
     "text": [
      "Training:  66%|\u2588\u2588\u2588\u2588\u2588\u2588\u258c   | 129/195 [22:24<11:24, 10.37s/it, acc=89.45%, loss=0.2577]"
     ]
    },
    {
     "output_type": "stream",
     "name": "stdout",
     "text": [
      "Batch 129: Loss = 0.2577, Accuracy = 89.45%\n"
     ]
    },
    {
     "output_type": "stream",
     "name": "stderr",
     "text": [
      "Training:  67%|\u2588\u2588\u2588\u2588\u2588\u2588\u258b   | 130/195 [22:34<11:09, 10.30s/it, acc=91.02%, loss=0.2240]"
     ]
    },
    {
     "output_type": "stream",
     "name": "stdout",
     "text": [
      "Batch 130: Loss = 0.2240, Accuracy = 91.02%\n"
     ]
    },
    {
     "output_type": "stream",
     "name": "stderr",
     "text": [
      "Training:  67%|\u2588\u2588\u2588\u2588\u2588\u2588\u258b   | 131/195 [22:44<10:50, 10.17s/it, acc=88.67%, loss=0.2433]"
     ]
    },
    {
     "output_type": "stream",
     "name": "stdout",
     "text": [
      "Batch 131: Loss = 0.2433, Accuracy = 88.67%\n"
     ]
    },
    {
     "output_type": "stream",
     "name": "stderr",
     "text": [
      "Training:  68%|\u2588\u2588\u2588\u2588\u2588\u2588\u258a   | 132/195 [22:54<10:47, 10.29s/it, acc=87.50%, loss=0.2693]"
     ]
    },
    {
     "output_type": "stream",
     "name": "stdout",
     "text": [
      "Batch 132: Loss = 0.2693, Accuracy = 87.50%\n"
     ]
    },
    {
     "output_type": "stream",
     "name": "stderr",
     "text": [
      "Training:  68%|\u2588\u2588\u2588\u2588\u2588\u2588\u258a   | 133/195 [23:04<10:22, 10.05s/it, acc=89.06%, loss=0.2266]"
     ]
    },
    {
     "output_type": "stream",
     "name": "stdout",
     "text": [
      "Batch 133: Loss = 0.2266, Accuracy = 89.06%\n"
     ]
    },
    {
     "output_type": "stream",
     "name": "stderr",
     "text": [
      "Training:  69%|\u2588\u2588\u2588\u2588\u2588\u2588\u258a   | 134/195 [23:14<10:09, 10.00s/it, acc=92.19%, loss=0.2400]"
     ]
    },
    {
     "output_type": "stream",
     "name": "stdout",
     "text": [
      "Batch 134: Loss = 0.2400, Accuracy = 92.19%\n"
     ]
    },
    {
     "output_type": "stream",
     "name": "stderr",
     "text": [
      "Training:  69%|\u2588\u2588\u2588\u2588\u2588\u2588\u2589   | 135/195 [23:24<10:04, 10.07s/it, acc=93.36%, loss=0.2173]"
     ]
    },
    {
     "output_type": "stream",
     "name": "stdout",
     "text": [
      "Batch 135: Loss = 0.2173, Accuracy = 93.36%\n"
     ]
    },
    {
     "output_type": "stream",
     "name": "stderr",
     "text": [
      "Training:  70%|\u2588\u2588\u2588\u2588\u2588\u2588\u2589   | 136/195 [23:35<10:14, 10.42s/it, acc=90.23%, loss=0.1963]"
     ]
    },
    {
     "output_type": "stream",
     "name": "stdout",
     "text": [
      "Batch 136: Loss = 0.1963, Accuracy = 90.23%\n"
     ]
    },
    {
     "output_type": "stream",
     "name": "stderr",
     "text": [
      "Training:  70%|\u2588\u2588\u2588\u2588\u2588\u2588\u2588   | 137/195 [23:44<09:41, 10.03s/it, acc=90.62%, loss=0.2229]"
     ]
    },
    {
     "output_type": "stream",
     "name": "stdout",
     "text": [
      "Batch 137: Loss = 0.2229, Accuracy = 90.62%\n"
     ]
    },
    {
     "output_type": "stream",
     "name": "stderr",
     "text": [
      "Training:  71%|\u2588\u2588\u2588\u2588\u2588\u2588\u2588   | 138/195 [23:53<09:08,  9.62s/it, acc=93.36%, loss=0.1695]"
     ]
    },
    {
     "output_type": "stream",
     "name": "stdout",
     "text": [
      "Batch 138: Loss = 0.1695, Accuracy = 93.36%\n"
     ]
    },
    {
     "output_type": "stream",
     "name": "stderr",
     "text": [
      "Training:  71%|\u2588\u2588\u2588\u2588\u2588\u2588\u2588\u258f  | 139/195 [24:03<09:00,  9.65s/it, acc=90.62%, loss=0.2356]"
     ]
    },
    {
     "output_type": "stream",
     "name": "stdout",
     "text": [
      "Batch 139: Loss = 0.2356, Accuracy = 90.62%\n"
     ]
    },
    {
     "output_type": "stream",
     "name": "stderr",
     "text": [
      "Training:  72%|\u2588\u2588\u2588\u2588\u2588\u2588\u2588\u258f  | 140/195 [24:12<08:45,  9.56s/it, acc=91.41%, loss=0.2235]"
     ]
    },
    {
     "output_type": "stream",
     "name": "stdout",
     "text": [
      "Batch 140: Loss = 0.2235, Accuracy = 91.41%\n"
     ]
    },
    {
     "output_type": "stream",
     "name": "stderr",
     "text": [
      "Training:  72%|\u2588\u2588\u2588\u2588\u2588\u2588\u2588\u258f  | 141/195 [24:26<09:52, 10.98s/it, acc=93.75%, loss=0.1911]"
     ]
    },
    {
     "output_type": "stream",
     "name": "stdout",
     "text": [
      "Batch 141: Loss = 0.1911, Accuracy = 93.75%\n"
     ]
    },
    {
     "output_type": "stream",
     "name": "stderr",
     "text": [
      "Training:  73%|\u2588\u2588\u2588\u2588\u2588\u2588\u2588\u258e  | 142/195 [24:36<09:22, 10.62s/it, acc=91.02%, loss=0.1973]"
     ]
    },
    {
     "output_type": "stream",
     "name": "stdout",
     "text": [
      "Batch 142: Loss = 0.1973, Accuracy = 91.02%\n"
     ]
    },
    {
     "output_type": "stream",
     "name": "stderr",
     "text": [
      "Training:  73%|\u2588\u2588\u2588\u2588\u2588\u2588\u2588\u258e  | 143/195 [24:47<09:12, 10.63s/it, acc=89.84%, loss=0.2298]"
     ]
    },
    {
     "output_type": "stream",
     "name": "stdout",
     "text": [
      "Batch 143: Loss = 0.2298, Accuracy = 89.84%\n"
     ]
    },
    {
     "output_type": "stream",
     "name": "stderr",
     "text": [
      "Training:  74%|\u2588\u2588\u2588\u2588\u2588\u2588\u2588\u258d  | 144/195 [24:56<08:47, 10.35s/it, acc=90.23%, loss=0.2179]"
     ]
    },
    {
     "output_type": "stream",
     "name": "stdout",
     "text": [
      "Batch 144: Loss = 0.2179, Accuracy = 90.23%\n"
     ]
    },
    {
     "output_type": "stream",
     "name": "stderr",
     "text": [
      "Training:  74%|\u2588\u2588\u2588\u2588\u2588\u2588\u2588\u258d  | 145/195 [25:07<08:40, 10.41s/it, acc=94.14%, loss=0.1758]"
     ]
    },
    {
     "output_type": "stream",
     "name": "stdout",
     "text": [
      "Batch 145: Loss = 0.1758, Accuracy = 94.14%\n"
     ]
    },
    {
     "output_type": "stream",
     "name": "stderr",
     "text": [
      "Training:  75%|\u2588\u2588\u2588\u2588\u2588\u2588\u2588\u258d  | 146/195 [25:16<08:14, 10.09s/it, acc=92.58%, loss=0.2143]"
     ]
    },
    {
     "output_type": "stream",
     "name": "stdout",
     "text": [
      "Batch 146: Loss = 0.2143, Accuracy = 92.58%\n"
     ]
    },
    {
     "output_type": "stream",
     "name": "stderr",
     "text": [
      "Training:  75%|\u2588\u2588\u2588\u2588\u2588\u2588\u2588\u258c  | 147/195 [25:26<08:01, 10.04s/it, acc=90.23%, loss=0.2671]"
     ]
    },
    {
     "output_type": "stream",
     "name": "stdout",
     "text": [
      "Batch 147: Loss = 0.2671, Accuracy = 90.23%\n"
     ]
    },
    {
     "output_type": "stream",
     "name": "stderr",
     "text": [
      "Training:  76%|\u2588\u2588\u2588\u2588\u2588\u2588\u2588\u258c  | 148/195 [25:36<07:43,  9.86s/it, acc=90.23%, loss=0.2424]"
     ]
    },
    {
     "output_type": "stream",
     "name": "stdout",
     "text": [
      "Batch 148: Loss = 0.2424, Accuracy = 90.23%\n"
     ]
    },
    {
     "output_type": "stream",
     "name": "stderr",
     "text": [
      "Training:  76%|\u2588\u2588\u2588\u2588\u2588\u2588\u2588\u258b  | 149/195 [25:45<07:34,  9.88s/it, acc=92.58%, loss=0.1618]"
     ]
    },
    {
     "output_type": "stream",
     "name": "stdout",
     "text": [
      "Batch 149: Loss = 0.1618, Accuracy = 92.58%\n"
     ]
    },
    {
     "output_type": "stream",
     "name": "stderr",
     "text": [
      "Training:  77%|\u2588\u2588\u2588\u2588\u2588\u2588\u2588\u258b  | 150/195 [25:55<07:17,  9.72s/it, acc=91.02%, loss=0.2073]"
     ]
    },
    {
     "output_type": "stream",
     "name": "stdout",
     "text": [
      "Batch 150: Loss = 0.2073, Accuracy = 91.02%\n"
     ]
    },
    {
     "output_type": "stream",
     "name": "stderr",
     "text": [
      "Training:  77%|\u2588\u2588\u2588\u2588\u2588\u2588\u2588\u258b  | 151/195 [26:04<07:02,  9.60s/it, acc=89.45%, loss=0.1920]"
     ]
    },
    {
     "output_type": "stream",
     "name": "stdout",
     "text": [
      "Batch 151: Loss = 0.1920, Accuracy = 89.45%\n"
     ]
    },
    {
     "output_type": "stream",
     "name": "stderr",
     "text": [
      "Training:  78%|\u2588\u2588\u2588\u2588\u2588\u2588\u2588\u258a  | 152/195 [26:13<06:41,  9.34s/it, acc=90.62%, loss=0.2277]"
     ]
    },
    {
     "output_type": "stream",
     "name": "stdout",
     "text": [
      "Batch 152: Loss = 0.2277, Accuracy = 90.62%\n"
     ]
    },
    {
     "output_type": "stream",
     "name": "stderr",
     "text": [
      "Training:  78%|\u2588\u2588\u2588\u2588\u2588\u2588\u2588\u258a  | 153/195 [26:23<06:36,  9.43s/it, acc=89.84%, loss=0.2181]"
     ]
    },
    {
     "output_type": "stream",
     "name": "stdout",
     "text": [
      "Batch 153: Loss = 0.2181, Accuracy = 89.84%\n"
     ]
    },
    {
     "output_type": "stream",
     "name": "stderr",
     "text": [
      "Training:  79%|\u2588\u2588\u2588\u2588\u2588\u2588\u2588\u2589  | 154/195 [26:32<06:29,  9.49s/it, acc=89.06%, loss=0.2660]"
     ]
    },
    {
     "output_type": "stream",
     "name": "stdout",
     "text": [
      "Batch 154: Loss = 0.2660, Accuracy = 89.06%\n"
     ]
    },
    {
     "output_type": "stream",
     "name": "stderr",
     "text": [
      "Training:  79%|\u2588\u2588\u2588\u2588\u2588\u2588\u2588\u2589  | 155/195 [26:43<06:31,  9.79s/it, acc=90.62%, loss=0.2601]"
     ]
    },
    {
     "output_type": "stream",
     "name": "stdout",
     "text": [
      "Batch 155: Loss = 0.2601, Accuracy = 90.62%\n"
     ]
    },
    {
     "output_type": "stream",
     "name": "stderr",
     "text": [
      "Training:  80%|\u2588\u2588\u2588\u2588\u2588\u2588\u2588\u2588  | 156/195 [26:52<06:18,  9.70s/it, acc=90.62%, loss=0.2088]"
     ]
    },
    {
     "output_type": "stream",
     "name": "stdout",
     "text": [
      "Batch 156: Loss = 0.2088, Accuracy = 90.62%\n"
     ]
    },
    {
     "output_type": "stream",
     "name": "stderr",
     "text": [
      "Training:  81%|\u2588\u2588\u2588\u2588\u2588\u2588\u2588\u2588  | 157/195 [27:03<06:22, 10.06s/it, acc=91.02%, loss=0.2121]"
     ]
    },
    {
     "output_type": "stream",
     "name": "stdout",
     "text": [
      "Batch 157: Loss = 0.2121, Accuracy = 91.02%\n"
     ]
    },
    {
     "output_type": "stream",
     "name": "stderr",
     "text": [
      "Training:  81%|\u2588\u2588\u2588\u2588\u2588\u2588\u2588\u2588  | 158/195 [27:13<06:06,  9.90s/it, acc=90.62%, loss=0.2367]"
     ]
    },
    {
     "output_type": "stream",
     "name": "stdout",
     "text": [
      "Batch 158: Loss = 0.2367, Accuracy = 90.62%\n"
     ]
    },
    {
     "output_type": "stream",
     "name": "stderr",
     "text": [
      "Training:  82%|\u2588\u2588\u2588\u2588\u2588\u2588\u2588\u2588\u258f | 159/195 [27:23<05:59,  9.99s/it, acc=90.23%, loss=0.2033]"
     ]
    },
    {
     "output_type": "stream",
     "name": "stdout",
     "text": [
      "Batch 159: Loss = 0.2033, Accuracy = 90.23%\n"
     ]
    },
    {
     "output_type": "stream",
     "name": "stderr",
     "text": [
      "Training:  82%|\u2588\u2588\u2588\u2588\u2588\u2588\u2588\u2588\u258f | 160/195 [27:32<05:43,  9.82s/it, acc=91.41%, loss=0.2239]"
     ]
    },
    {
     "output_type": "stream",
     "name": "stdout",
     "text": [
      "Batch 160: Loss = 0.2239, Accuracy = 91.41%\n"
     ]
    },
    {
     "output_type": "stream",
     "name": "stderr",
     "text": [
      "Training:  83%|\u2588\u2588\u2588\u2588\u2588\u2588\u2588\u2588\u258e | 161/195 [27:42<05:33,  9.82s/it, acc=89.06%, loss=0.2570]"
     ]
    },
    {
     "output_type": "stream",
     "name": "stdout",
     "text": [
      "Batch 161: Loss = 0.2570, Accuracy = 89.06%\n"
     ]
    },
    {
     "output_type": "stream",
     "name": "stderr",
     "text": [
      "Training:  83%|\u2588\u2588\u2588\u2588\u2588\u2588\u2588\u2588\u258e | 162/195 [27:52<05:21,  9.74s/it, acc=89.06%, loss=0.2565]"
     ]
    },
    {
     "output_type": "stream",
     "name": "stdout",
     "text": [
      "Batch 162: Loss = 0.2565, Accuracy = 89.06%\n"
     ]
    },
    {
     "output_type": "stream",
     "name": "stderr",
     "text": [
      "Training:  84%|\u2588\u2588\u2588\u2588\u2588\u2588\u2588\u2588\u258e | 163/195 [28:02<05:21, 10.04s/it, acc=92.19%, loss=0.2161]"
     ]
    },
    {
     "output_type": "stream",
     "name": "stdout",
     "text": [
      "Batch 163: Loss = 0.2161, Accuracy = 92.19%\n"
     ]
    },
    {
     "output_type": "stream",
     "name": "stderr",
     "text": [
      "Training:  84%|\u2588\u2588\u2588\u2588\u2588\u2588\u2588\u2588\u258d | 164/195 [28:12<05:11, 10.05s/it, acc=92.97%, loss=0.1621]"
     ]
    },
    {
     "output_type": "stream",
     "name": "stdout",
     "text": [
      "Batch 164: Loss = 0.1621, Accuracy = 92.97%\n"
     ]
    },
    {
     "output_type": "stream",
     "name": "stderr",
     "text": [
      "Training:  85%|\u2588\u2588\u2588\u2588\u2588\u2588\u2588\u2588\u258d | 165/195 [28:22<05:00, 10.00s/it, acc=92.19%, loss=0.2108]"
     ]
    },
    {
     "output_type": "stream",
     "name": "stdout",
     "text": [
      "Batch 165: Loss = 0.2108, Accuracy = 92.19%\n"
     ]
    },
    {
     "output_type": "stream",
     "name": "stderr",
     "text": [
      "Training:  85%|\u2588\u2588\u2588\u2588\u2588\u2588\u2588\u2588\u258c | 166/195 [28:32<04:47,  9.93s/it, acc=92.19%, loss=0.1807]"
     ]
    },
    {
     "output_type": "stream",
     "name": "stdout",
     "text": [
      "Batch 166: Loss = 0.1807, Accuracy = 92.19%\n"
     ]
    },
    {
     "output_type": "stream",
     "name": "stderr",
     "text": [
      "Training:  86%|\u2588\u2588\u2588\u2588\u2588\u2588\u2588\u2588\u258c | 167/195 [28:42<04:34,  9.82s/it, acc=92.97%, loss=0.1792]"
     ]
    },
    {
     "output_type": "stream",
     "name": "stdout",
     "text": [
      "Batch 167: Loss = 0.1792, Accuracy = 92.97%\n"
     ]
    },
    {
     "output_type": "stream",
     "name": "stderr",
     "text": [
      "Training:  86%|\u2588\u2588\u2588\u2588\u2588\u2588\u2588\u2588\u258c | 168/195 [28:51<04:21,  9.68s/it, acc=91.80%, loss=0.2008]"
     ]
    },
    {
     "output_type": "stream",
     "name": "stdout",
     "text": [
      "Batch 168: Loss = 0.2008, Accuracy = 91.80%\n"
     ]
    },
    {
     "output_type": "stream",
     "name": "stderr",
     "text": [
      "Training:  87%|\u2588\u2588\u2588\u2588\u2588\u2588\u2588\u2588\u258b | 169/195 [29:00<04:09,  9.60s/it, acc=89.45%, loss=0.2710]"
     ]
    },
    {
     "output_type": "stream",
     "name": "stdout",
     "text": [
      "Batch 169: Loss = 0.2710, Accuracy = 89.45%\n"
     ]
    },
    {
     "output_type": "stream",
     "name": "stderr",
     "text": [
      "Training:  87%|\u2588\u2588\u2588\u2588\u2588\u2588\u2588\u2588\u258b | 170/195 [29:10<03:59,  9.57s/it, acc=95.31%, loss=0.1598]"
     ]
    },
    {
     "output_type": "stream",
     "name": "stdout",
     "text": [
      "Batch 170: Loss = 0.1598, Accuracy = 95.31%\n"
     ]
    },
    {
     "output_type": "stream",
     "name": "stderr",
     "text": [
      "Training:  88%|\u2588\u2588\u2588\u2588\u2588\u2588\u2588\u2588\u258a | 171/195 [29:19<03:48,  9.51s/it, acc=91.41%, loss=0.2160]"
     ]
    },
    {
     "output_type": "stream",
     "name": "stdout",
     "text": [
      "Batch 171: Loss = 0.2160, Accuracy = 91.41%\n"
     ]
    },
    {
     "output_type": "stream",
     "name": "stderr",
     "text": [
      "Training:  88%|\u2588\u2588\u2588\u2588\u2588\u2588\u2588\u2588\u258a | 172/195 [29:28<03:36,  9.40s/it, acc=90.23%, loss=0.2083]"
     ]
    },
    {
     "output_type": "stream",
     "name": "stdout",
     "text": [
      "Batch 172: Loss = 0.2083, Accuracy = 90.23%\n"
     ]
    },
    {
     "output_type": "stream",
     "name": "stderr",
     "text": [
      "Training:  89%|\u2588\u2588\u2588\u2588\u2588\u2588\u2588\u2588\u258a | 173/195 [29:38<03:27,  9.44s/it, acc=91.80%, loss=0.2056]"
     ]
    },
    {
     "output_type": "stream",
     "name": "stdout",
     "text": [
      "Batch 173: Loss = 0.2056, Accuracy = 91.80%\n"
     ]
    },
    {
     "output_type": "stream",
     "name": "stderr",
     "text": [
      "Training:  89%|\u2588\u2588\u2588\u2588\u2588\u2588\u2588\u2588\u2589 | 174/195 [29:48<03:22,  9.65s/it, acc=90.62%, loss=0.2328]"
     ]
    },
    {
     "output_type": "stream",
     "name": "stdout",
     "text": [
      "Batch 174: Loss = 0.2328, Accuracy = 90.62%\n"
     ]
    },
    {
     "output_type": "stream",
     "name": "stderr",
     "text": [
      "Training:  90%|\u2588\u2588\u2588\u2588\u2588\u2588\u2588\u2588\u2589 | 175/195 [29:58<03:12,  9.64s/it, acc=88.28%, loss=0.2614]"
     ]
    },
    {
     "output_type": "stream",
     "name": "stdout",
     "text": [
      "Batch 175: Loss = 0.2614, Accuracy = 88.28%\n"
     ]
    },
    {
     "output_type": "stream",
     "name": "stderr",
     "text": [
      "Training:  90%|\u2588\u2588\u2588\u2588\u2588\u2588\u2588\u2588\u2588 | 176/195 [30:07<02:59,  9.42s/it, acc=91.80%, loss=0.1924]"
     ]
    },
    {
     "output_type": "stream",
     "name": "stdout",
     "text": [
      "Batch 176: Loss = 0.1924, Accuracy = 91.80%\n"
     ]
    },
    {
     "output_type": "stream",
     "name": "stderr",
     "text": [
      "Training:  91%|\u2588\u2588\u2588\u2588\u2588\u2588\u2588\u2588\u2588 | 177/195 [30:17<02:55,  9.78s/it, acc=91.02%, loss=0.2108]"
     ]
    },
    {
     "output_type": "stream",
     "name": "stdout",
     "text": [
      "Batch 177: Loss = 0.2108, Accuracy = 91.02%\n"
     ]
    },
    {
     "output_type": "stream",
     "name": "stderr",
     "text": [
      "Training:  91%|\u2588\u2588\u2588\u2588\u2588\u2588\u2588\u2588\u2588\u258f| 178/195 [30:27<02:46,  9.80s/it, acc=89.45%, loss=0.2329]"
     ]
    },
    {
     "output_type": "stream",
     "name": "stdout",
     "text": [
      "Batch 178: Loss = 0.2329, Accuracy = 89.45%\n"
     ]
    },
    {
     "output_type": "stream",
     "name": "stderr",
     "text": [
      "Training:  92%|\u2588\u2588\u2588\u2588\u2588\u2588\u2588\u2588\u2588\u258f| 179/195 [30:37<02:35,  9.74s/it, acc=90.62%, loss=0.2860]"
     ]
    },
    {
     "output_type": "stream",
     "name": "stdout",
     "text": [
      "Batch 179: Loss = 0.2860, Accuracy = 90.62%\n"
     ]
    },
    {
     "output_type": "stream",
     "name": "stderr",
     "text": [
      "Training:  92%|\u2588\u2588\u2588\u2588\u2588\u2588\u2588\u2588\u2588\u258f| 180/195 [30:47<02:31, 10.09s/it, acc=92.19%, loss=0.1693]"
     ]
    },
    {
     "output_type": "stream",
     "name": "stdout",
     "text": [
      "Batch 180: Loss = 0.1693, Accuracy = 92.19%\n"
     ]
    },
    {
     "output_type": "stream",
     "name": "stderr",
     "text": [
      "Training:  93%|\u2588\u2588\u2588\u2588\u2588\u2588\u2588\u2588\u2588\u258e| 181/195 [30:57<02:18,  9.91s/it, acc=91.80%, loss=0.2114]"
     ]
    },
    {
     "output_type": "stream",
     "name": "stdout",
     "text": [
      "Batch 181: Loss = 0.2114, Accuracy = 91.80%\n"
     ]
    },
    {
     "output_type": "stream",
     "name": "stderr",
     "text": [
      "Training:  93%|\u2588\u2588\u2588\u2588\u2588\u2588\u2588\u2588\u2588\u258e| 182/195 [31:07<02:07,  9.85s/it, acc=89.84%, loss=0.2277]"
     ]
    },
    {
     "output_type": "stream",
     "name": "stdout",
     "text": [
      "Batch 182: Loss = 0.2277, Accuracy = 89.84%\n"
     ]
    },
    {
     "output_type": "stream",
     "name": "stderr",
     "text": [
      "Training:  94%|\u2588\u2588\u2588\u2588\u2588\u2588\u2588\u2588\u2588\u258d| 183/195 [31:19<02:05, 10.48s/it, acc=93.36%, loss=0.1940]"
     ]
    },
    {
     "output_type": "stream",
     "name": "stdout",
     "text": [
      "Batch 183: Loss = 0.1940, Accuracy = 93.36%\n"
     ]
    },
    {
     "output_type": "stream",
     "name": "stderr",
     "text": [
      "Training:  94%|\u2588\u2588\u2588\u2588\u2588\u2588\u2588\u2588\u2588\u258d| 184/195 [31:29<01:53, 10.36s/it, acc=90.23%, loss=0.2175]"
     ]
    },
    {
     "output_type": "stream",
     "name": "stdout",
     "text": [
      "Batch 184: Loss = 0.2175, Accuracy = 90.23%\n"
     ]
    },
    {
     "output_type": "stream",
     "name": "stderr",
     "text": [
      "Training:  95%|\u2588\u2588\u2588\u2588\u2588\u2588\u2588\u2588\u2588\u258d| 185/195 [31:39<01:42, 10.21s/it, acc=90.62%, loss=0.2275]"
     ]
    },
    {
     "output_type": "stream",
     "name": "stdout",
     "text": [
      "Batch 185: Loss = 0.2275, Accuracy = 90.62%\n"
     ]
    },
    {
     "output_type": "stream",
     "name": "stderr",
     "text": [
      "Training:  95%|\u2588\u2588\u2588\u2588\u2588\u2588\u2588\u2588\u2588\u258c| 186/195 [31:49<01:33, 10.38s/it, acc=90.23%, loss=0.2215]"
     ]
    },
    {
     "output_type": "stream",
     "name": "stdout",
     "text": [
      "Batch 186: Loss = 0.2215, Accuracy = 90.23%\n"
     ]
    },
    {
     "output_type": "stream",
     "name": "stderr",
     "text": [
      "Training:  96%|\u2588\u2588\u2588\u2588\u2588\u2588\u2588\u2588\u2588\u258c| 187/195 [32:00<01:24, 10.57s/it, acc=90.62%, loss=0.2509]"
     ]
    },
    {
     "output_type": "stream",
     "name": "stdout",
     "text": [
      "Batch 187: Loss = 0.2509, Accuracy = 90.62%\n"
     ]
    },
    {
     "output_type": "stream",
     "name": "stderr",
     "text": [
      "Training:  96%|\u2588\u2588\u2588\u2588\u2588\u2588\u2588\u2588\u2588\u258b| 188/195 [32:10<01:12, 10.33s/it, acc=89.06%, loss=0.2382]"
     ]
    },
    {
     "output_type": "stream",
     "name": "stdout",
     "text": [
      "Batch 188: Loss = 0.2382, Accuracy = 89.06%\n"
     ]
    },
    {
     "output_type": "stream",
     "name": "stderr",
     "text": [
      "Training:  97%|\u2588\u2588\u2588\u2588\u2588\u2588\u2588\u2588\u2588\u258b| 189/195 [32:20<01:00, 10.16s/it, acc=93.36%, loss=0.1809]"
     ]
    },
    {
     "output_type": "stream",
     "name": "stdout",
     "text": [
      "Batch 189: Loss = 0.1809, Accuracy = 93.36%\n"
     ]
    },
    {
     "output_type": "stream",
     "name": "stderr",
     "text": [
      "Training:  97%|\u2588\u2588\u2588\u2588\u2588\u2588\u2588\u2588\u2588\u258b| 190/195 [32:30<00:50, 10.02s/it, acc=91.80%, loss=0.2333]"
     ]
    },
    {
     "output_type": "stream",
     "name": "stdout",
     "text": [
      "Batch 190: Loss = 0.2333, Accuracy = 91.80%\n"
     ]
    },
    {
     "output_type": "stream",
     "name": "stderr",
     "text": [
      "Training:  98%|\u2588\u2588\u2588\u2588\u2588\u2588\u2588\u2588\u2588\u258a| 191/195 [32:47<00:49, 12.36s/it, acc=90.62%, loss=0.1960]"
     ]
    },
    {
     "output_type": "stream",
     "name": "stdout",
     "text": [
      "Batch 191: Loss = 0.1960, Accuracy = 90.62%\n"
     ]
    },
    {
     "output_type": "stream",
     "name": "stderr",
     "text": [
      "Training:  98%|\u2588\u2588\u2588\u2588\u2588\u2588\u2588\u2588\u2588\u258a| 192/195 [32:57<00:34, 11.53s/it, acc=87.50%, loss=0.2703]"
     ]
    },
    {
     "output_type": "stream",
     "name": "stdout",
     "text": [
      "Batch 192: Loss = 0.2703, Accuracy = 87.50%\n"
     ]
    },
    {
     "output_type": "stream",
     "name": "stderr",
     "text": [
      "Training:  99%|\u2588\u2588\u2588\u2588\u2588\u2588\u2588\u2588\u2588\u2589| 193/195 [33:06<00:21, 10.73s/it, acc=88.28%, loss=0.2517]"
     ]
    },
    {
     "output_type": "stream",
     "name": "stdout",
     "text": [
      "Batch 193: Loss = 0.2517, Accuracy = 88.28%\n"
     ]
    },
    {
     "output_type": "stream",
     "name": "stderr",
     "text": [
      "Training:  99%|\u2588\u2588\u2588\u2588\u2588\u2588\u2588\u2588\u2588\u2589| 194/195 [33:16<00:10, 10.56s/it, acc=92.19%, loss=0.1980]"
     ]
    },
    {
     "output_type": "stream",
     "name": "stdout",
     "text": [
      "Batch 194: Loss = 0.1980, Accuracy = 92.19%\n"
     ]
    },
    {
     "output_type": "stream",
     "name": "stderr",
     "text": [
      "Training: 100%|\u2588\u2588\u2588\u2588\u2588\u2588\u2588\u2588\u2588\u2588| 195/195 [33:24<00:00, 10.28s/it, acc=93.07%, loss=0.1871]\n"
     ]
    },
    {
     "output_type": "stream",
     "name": "stdout",
     "text": [
      "Batch 195: Loss = 0.1871, Accuracy = 93.07%\n",
      "\n",
      "Epoch 3 Summary:\n",
      "Training   - Loss: 0.2264, Accuracy: 90.59%\n",
      "Validation - Loss: 0.2216, Accuracy: 90.70%\n",
      "\n",
      "=== Epoch 4 ===\n"
     ]
    },
    {
     "output_type": "stream",
     "name": "stderr",
     "text": [
      "Training:   1%|          | 1/195 [00:10<32:30, 10.05s/it, acc=93.75%, loss=0.1842]"
     ]
    },
    {
     "output_type": "stream",
     "name": "stdout",
     "text": [
      "Batch 1: Loss = 0.1842, Accuracy = 93.75%\n"
     ]
    },
    {
     "output_type": "stream",
     "name": "stderr",
     "text": [
      "Training:   1%|          | 2/195 [00:19<31:17,  9.73s/it, acc=91.80%, loss=0.2196]"
     ]
    },
    {
     "output_type": "stream",
     "name": "stdout",
     "text": [
      "Batch 2: Loss = 0.2196, Accuracy = 91.80%\n"
     ]
    },
    {
     "output_type": "stream",
     "name": "stderr",
     "text": [
      "Training:   2%|\u258f         | 3/195 [00:29<30:48,  9.63s/it, acc=91.41%, loss=0.1958]"
     ]
    },
    {
     "output_type": "stream",
     "name": "stdout",
     "text": [
      "Batch 3: Loss = 0.1958, Accuracy = 91.41%\n"
     ]
    },
    {
     "output_type": "stream",
     "name": "stderr",
     "text": [
      "Training:   2%|\u258f         | 4/195 [00:39<31:28,  9.89s/it, acc=91.80%, loss=0.1641]"
     ]
    },
    {
     "output_type": "stream",
     "name": "stdout",
     "text": [
      "Batch 4: Loss = 0.1641, Accuracy = 91.80%\n"
     ]
    },
    {
     "output_type": "stream",
     "name": "stderr",
     "text": [
      "Training:   3%|\u258e         | 5/195 [00:48<30:53,  9.76s/it, acc=93.36%, loss=0.1856]"
     ]
    },
    {
     "output_type": "stream",
     "name": "stdout",
     "text": [
      "Batch 5: Loss = 0.1856, Accuracy = 93.36%\n"
     ]
    },
    {
     "output_type": "stream",
     "name": "stderr",
     "text": [
      "Training:   3%|\u258e         | 6/195 [00:57<29:59,  9.52s/it, acc=88.67%, loss=0.2421]"
     ]
    },
    {
     "output_type": "stream",
     "name": "stdout",
     "text": [
      "Batch 6: Loss = 0.2421, Accuracy = 88.67%\n"
     ]
    },
    {
     "output_type": "stream",
     "name": "stderr",
     "text": [
      "Training:   4%|\u258e         | 7/195 [01:07<30:10,  9.63s/it, acc=92.19%, loss=0.1904]"
     ]
    },
    {
     "output_type": "stream",
     "name": "stdout",
     "text": [
      "Batch 7: Loss = 0.1904, Accuracy = 92.19%\n"
     ]
    },
    {
     "output_type": "stream",
     "name": "stderr",
     "text": [
      "Training:   4%|\u258d         | 8/195 [01:19<32:06, 10.30s/it, acc=89.45%, loss=0.2322]"
     ]
    },
    {
     "output_type": "stream",
     "name": "stdout",
     "text": [
      "Batch 8: Loss = 0.2322, Accuracy = 89.45%\n"
     ]
    },
    {
     "output_type": "stream",
     "name": "stderr",
     "text": [
      "Training:   5%|\u258d         | 9/195 [01:29<31:17, 10.09s/it, acc=92.58%, loss=0.1821]"
     ]
    },
    {
     "output_type": "stream",
     "name": "stdout",
     "text": [
      "Batch 9: Loss = 0.1821, Accuracy = 92.58%\n"
     ]
    },
    {
     "output_type": "stream",
     "name": "stderr",
     "text": [
      "Training:   5%|\u258c         | 10/195 [01:38<30:48,  9.99s/it, acc=88.67%, loss=0.2267]"
     ]
    },
    {
     "output_type": "stream",
     "name": "stdout",
     "text": [
      "Batch 10: Loss = 0.2267, Accuracy = 88.67%\n"
     ]
    },
    {
     "output_type": "stream",
     "name": "stderr",
     "text": [
      "Training:   6%|\u258c         | 11/195 [01:49<30:55, 10.08s/it, acc=92.97%, loss=0.2439]"
     ]
    },
    {
     "output_type": "stream",
     "name": "stdout",
     "text": [
      "Batch 11: Loss = 0.2439, Accuracy = 92.97%\n"
     ]
    },
    {
     "output_type": "stream",
     "name": "stderr",
     "text": [
      "Training:   6%|\u258c         | 12/195 [02:00<32:18, 10.59s/it, acc=92.58%, loss=0.1781]"
     ]
    },
    {
     "output_type": "stream",
     "name": "stdout",
     "text": [
      "Batch 12: Loss = 0.1781, Accuracy = 92.58%\n"
     ]
    },
    {
     "output_type": "stream",
     "name": "stderr",
     "text": [
      "Training:   7%|\u258b         | 13/195 [02:10<30:55, 10.20s/it, acc=91.41%, loss=0.2264]"
     ]
    },
    {
     "output_type": "stream",
     "name": "stdout",
     "text": [
      "Batch 13: Loss = 0.2264, Accuracy = 91.41%\n"
     ]
    },
    {
     "output_type": "stream",
     "name": "stderr",
     "text": [
      "Training:   7%|\u258b         | 14/195 [02:19<30:00,  9.95s/it, acc=92.58%, loss=0.2226]"
     ]
    },
    {
     "output_type": "stream",
     "name": "stdout",
     "text": [
      "Batch 14: Loss = 0.2226, Accuracy = 92.58%\n"
     ]
    },
    {
     "output_type": "stream",
     "name": "stderr",
     "text": [
      "Training:   8%|\u258a         | 15/195 [02:28<29:06,  9.70s/it, acc=85.94%, loss=0.2510]"
     ]
    },
    {
     "output_type": "stream",
     "name": "stdout",
     "text": [
      "Batch 15: Loss = 0.2510, Accuracy = 85.94%\n"
     ]
    },
    {
     "output_type": "stream",
     "name": "stderr",
     "text": [
      "Training:   8%|\u258a         | 16/195 [02:38<29:10,  9.78s/it, acc=92.19%, loss=0.2120]"
     ]
    },
    {
     "output_type": "stream",
     "name": "stdout",
     "text": [
      "Batch 16: Loss = 0.2120, Accuracy = 92.19%\n"
     ]
    },
    {
     "output_type": "stream",
     "name": "stderr",
     "text": [
      "Training:   9%|\u258a         | 17/195 [02:48<28:49,  9.72s/it, acc=89.84%, loss=0.2712]"
     ]
    },
    {
     "output_type": "stream",
     "name": "stdout",
     "text": [
      "Batch 17: Loss = 0.2712, Accuracy = 89.84%\n"
     ]
    },
    {
     "output_type": "stream",
     "name": "stderr",
     "text": [
      "Training:   9%|\u2589         | 18/195 [02:57<28:25,  9.63s/it, acc=88.67%, loss=0.2413]"
     ]
    },
    {
     "output_type": "stream",
     "name": "stdout",
     "text": [
      "Batch 18: Loss = 0.2413, Accuracy = 88.67%\n"
     ]
    },
    {
     "output_type": "stream",
     "name": "stderr",
     "text": [
      "Training:  10%|\u2589         | 19/195 [03:06<27:30,  9.38s/it, acc=92.97%, loss=0.2231]"
     ]
    },
    {
     "output_type": "stream",
     "name": "stdout",
     "text": [
      "Batch 19: Loss = 0.2231, Accuracy = 92.97%\n"
     ]
    },
    {
     "output_type": "stream",
     "name": "stderr",
     "text": [
      "Training:  10%|\u2588         | 20/195 [03:16<27:30,  9.43s/it, acc=91.41%, loss=0.2236]"
     ]
    },
    {
     "output_type": "stream",
     "name": "stdout",
     "text": [
      "Batch 20: Loss = 0.2236, Accuracy = 91.41%\n"
     ]
    },
    {
     "output_type": "stream",
     "name": "stderr",
     "text": [
      "Training:  11%|\u2588         | 21/195 [03:25<27:41,  9.55s/it, acc=91.02%, loss=0.2007]"
     ]
    },
    {
     "output_type": "stream",
     "name": "stdout",
     "text": [
      "Batch 21: Loss = 0.2007, Accuracy = 91.02%\n"
     ]
    },
    {
     "output_type": "stream",
     "name": "stderr",
     "text": [
      "Training:  11%|\u2588\u258f        | 22/195 [03:35<27:42,  9.61s/it, acc=92.19%, loss=0.2165]"
     ]
    },
    {
     "output_type": "stream",
     "name": "stdout",
     "text": [
      "Batch 22: Loss = 0.2165, Accuracy = 92.19%\n"
     ]
    },
    {
     "output_type": "stream",
     "name": "stderr",
     "text": [
      "Training:  12%|\u2588\u258f        | 23/195 [03:44<27:08,  9.47s/it, acc=92.97%, loss=0.2130]"
     ]
    },
    {
     "output_type": "stream",
     "name": "stdout",
     "text": [
      "Batch 23: Loss = 0.2130, Accuracy = 92.97%\n"
     ]
    },
    {
     "output_type": "stream",
     "name": "stderr",
     "text": [
      "Training:  12%|\u2588\u258f        | 24/195 [03:54<27:23,  9.61s/it, acc=92.19%, loss=0.2016]"
     ]
    },
    {
     "output_type": "stream",
     "name": "stdout",
     "text": [
      "Batch 24: Loss = 0.2016, Accuracy = 92.19%\n"
     ]
    },
    {
     "output_type": "stream",
     "name": "stderr",
     "text": [
      "Training:  13%|\u2588\u258e        | 25/195 [04:04<27:23,  9.67s/it, acc=88.28%, loss=0.2414]"
     ]
    },
    {
     "output_type": "stream",
     "name": "stdout",
     "text": [
      "Batch 25: Loss = 0.2414, Accuracy = 88.28%\n"
     ]
    },
    {
     "output_type": "stream",
     "name": "stderr",
     "text": [
      "Training:  13%|\u2588\u258e        | 26/195 [04:13<26:58,  9.58s/it, acc=88.28%, loss=0.2383]"
     ]
    },
    {
     "output_type": "stream",
     "name": "stdout",
     "text": [
      "Batch 26: Loss = 0.2383, Accuracy = 88.28%\n"
     ]
    },
    {
     "output_type": "stream",
     "name": "stderr",
     "text": [
      "Training:  14%|\u2588\u258d        | 27/195 [04:22<26:10,  9.35s/it, acc=91.02%, loss=0.1846]"
     ]
    },
    {
     "output_type": "stream",
     "name": "stdout",
     "text": [
      "Batch 27: Loss = 0.1846, Accuracy = 91.02%\n"
     ]
    },
    {
     "output_type": "stream",
     "name": "stderr",
     "text": [
      "Training:  14%|\u2588\u258d        | 28/195 [04:31<25:49,  9.28s/it, acc=92.58%, loss=0.1876]"
     ]
    },
    {
     "output_type": "stream",
     "name": "stdout",
     "text": [
      "Batch 28: Loss = 0.1876, Accuracy = 92.58%\n"
     ]
    },
    {
     "output_type": "stream",
     "name": "stderr",
     "text": [
      "Training:  15%|\u2588\u258d        | 29/195 [04:41<25:48,  9.33s/it, acc=95.31%, loss=0.1510]"
     ]
    },
    {
     "output_type": "stream",
     "name": "stdout",
     "text": [
      "Batch 29: Loss = 0.1510, Accuracy = 95.31%\n"
     ]
    },
    {
     "output_type": "stream",
     "name": "stderr",
     "text": [
      "Training:  15%|\u2588\u258c        | 30/195 [04:51<26:37,  9.68s/it, acc=92.19%, loss=0.1812]"
     ]
    },
    {
     "output_type": "stream",
     "name": "stdout",
     "text": [
      "Batch 30: Loss = 0.1812, Accuracy = 92.19%\n"
     ]
    },
    {
     "output_type": "stream",
     "name": "stderr",
     "text": [
      "Training:  16%|\u2588\u258c        | 31/195 [05:00<25:53,  9.47s/it, acc=93.36%, loss=0.2218]"
     ]
    },
    {
     "output_type": "stream",
     "name": "stdout",
     "text": [
      "Batch 31: Loss = 0.2218, Accuracy = 93.36%\n"
     ]
    },
    {
     "output_type": "stream",
     "name": "stderr",
     "text": [
      "Training:  16%|\u2588\u258b        | 32/195 [05:11<26:44,  9.85s/it, acc=92.58%, loss=0.1854]"
     ]
    },
    {
     "output_type": "stream",
     "name": "stdout",
     "text": [
      "Batch 32: Loss = 0.1854, Accuracy = 92.58%\n"
     ]
    },
    {
     "output_type": "stream",
     "name": "stderr",
     "text": [
      "Training:  17%|\u2588\u258b        | 33/195 [05:20<26:17,  9.74s/it, acc=94.14%, loss=0.1724]"
     ]
    },
    {
     "output_type": "stream",
     "name": "stdout",
     "text": [
      "Batch 33: Loss = 0.1724, Accuracy = 94.14%\n"
     ]
    },
    {
     "output_type": "stream",
     "name": "stderr",
     "text": [
      "Training:  17%|\u2588\u258b        | 34/195 [05:30<26:00,  9.69s/it, acc=94.53%, loss=0.1548]"
     ]
    },
    {
     "output_type": "stream",
     "name": "stdout",
     "text": [
      "Batch 34: Loss = 0.1548, Accuracy = 94.53%\n"
     ]
    },
    {
     "output_type": "stream",
     "name": "stderr",
     "text": [
      "Training:  18%|\u2588\u258a        | 35/195 [05:41<26:46, 10.04s/it, acc=92.58%, loss=0.1851]"
     ]
    },
    {
     "output_type": "stream",
     "name": "stdout",
     "text": [
      "Batch 35: Loss = 0.1851, Accuracy = 92.58%\n"
     ]
    },
    {
     "output_type": "stream",
     "name": "stderr",
     "text": [
      "Training:  18%|\u2588\u258a        | 36/195 [05:50<25:55,  9.78s/it, acc=91.80%, loss=0.1740]"
     ]
    },
    {
     "output_type": "stream",
     "name": "stdout",
     "text": [
      "Batch 36: Loss = 0.1740, Accuracy = 91.80%\n"
     ]
    },
    {
     "output_type": "stream",
     "name": "stderr",
     "text": [
      "Training:  19%|\u2588\u2589        | 37/195 [05:59<25:06,  9.53s/it, acc=93.36%, loss=0.1849]"
     ]
    },
    {
     "output_type": "stream",
     "name": "stdout",
     "text": [
      "Batch 37: Loss = 0.1849, Accuracy = 93.36%\n"
     ]
    },
    {
     "output_type": "stream",
     "name": "stderr",
     "text": [
      "Training:  19%|\u2588\u2589        | 38/195 [06:08<24:47,  9.47s/it, acc=90.23%, loss=0.2081]"
     ]
    },
    {
     "output_type": "stream",
     "name": "stdout",
     "text": [
      "Batch 38: Loss = 0.2081, Accuracy = 90.23%\n"
     ]
    },
    {
     "output_type": "stream",
     "name": "stderr",
     "text": [
      "Training:  20%|\u2588\u2588        | 39/195 [06:17<24:17,  9.34s/it, acc=94.53%, loss=0.1751]"
     ]
    },
    {
     "output_type": "stream",
     "name": "stdout",
     "text": [
      "Batch 39: Loss = 0.1751, Accuracy = 94.53%\n"
     ]
    },
    {
     "output_type": "stream",
     "name": "stderr",
     "text": [
      "Training:  21%|\u2588\u2588        | 40/195 [06:27<24:37,  9.53s/it, acc=92.97%, loss=0.1800]"
     ]
    },
    {
     "output_type": "stream",
     "name": "stdout",
     "text": [
      "Batch 40: Loss = 0.1800, Accuracy = 92.97%\n"
     ]
    },
    {
     "output_type": "stream",
     "name": "stderr",
     "text": [
      "Training:  21%|\u2588\u2588        | 41/195 [06:39<26:05, 10.16s/it, acc=87.89%, loss=0.2351]"
     ]
    },
    {
     "output_type": "stream",
     "name": "stdout",
     "text": [
      "Batch 41: Loss = 0.2351, Accuracy = 87.89%\n"
     ]
    },
    {
     "output_type": "stream",
     "name": "stderr",
     "text": [
      "Training:  22%|\u2588\u2588\u258f       | 42/195 [06:50<26:12, 10.28s/it, acc=91.02%, loss=0.2639]"
     ]
    },
    {
     "output_type": "stream",
     "name": "stdout",
     "text": [
      "Batch 42: Loss = 0.2639, Accuracy = 91.02%\n"
     ]
    },
    {
     "output_type": "stream",
     "name": "stderr",
     "text": [
      "Training:  22%|\u2588\u2588\u258f       | 43/195 [06:59<25:26, 10.04s/it, acc=91.02%, loss=0.2151]"
     ]
    },
    {
     "output_type": "stream",
     "name": "stdout",
     "text": [
      "Batch 43: Loss = 0.2151, Accuracy = 91.02%\n"
     ]
    },
    {
     "output_type": "stream",
     "name": "stderr",
     "text": [
      "Training:  23%|\u2588\u2588\u258e       | 44/195 [07:08<24:47,  9.85s/it, acc=89.84%, loss=0.2264]"
     ]
    },
    {
     "output_type": "stream",
     "name": "stdout",
     "text": [
      "Batch 44: Loss = 0.2264, Accuracy = 89.84%\n"
     ]
    },
    {
     "output_type": "stream",
     "name": "stderr",
     "text": [
      "Training:  23%|\u2588\u2588\u258e       | 45/195 [07:17<23:54,  9.56s/it, acc=89.45%, loss=0.2597]"
     ]
    },
    {
     "output_type": "stream",
     "name": "stdout",
     "text": [
      "Batch 45: Loss = 0.2597, Accuracy = 89.45%\n"
     ]
    },
    {
     "output_type": "stream",
     "name": "stderr",
     "text": [
      "Training:  24%|\u2588\u2588\u258e       | 46/195 [07:27<23:38,  9.52s/it, acc=92.19%, loss=0.2066]"
     ]
    },
    {
     "output_type": "stream",
     "name": "stdout",
     "text": [
      "Batch 46: Loss = 0.2066, Accuracy = 92.19%\n"
     ]
    },
    {
     "output_type": "stream",
     "name": "stderr",
     "text": [
      "Training:  24%|\u2588\u2588\u258d       | 47/195 [07:36<23:35,  9.56s/it, acc=89.84%, loss=0.2409]"
     ]
    },
    {
     "output_type": "stream",
     "name": "stdout",
     "text": [
      "Batch 47: Loss = 0.2409, Accuracy = 89.84%\n"
     ]
    },
    {
     "output_type": "stream",
     "name": "stderr",
     "text": [
      "Training:  25%|\u2588\u2588\u258d       | 48/195 [07:47<24:06,  9.84s/it, acc=91.02%, loss=0.2037]"
     ]
    },
    {
     "output_type": "stream",
     "name": "stdout",
     "text": [
      "Batch 48: Loss = 0.2037, Accuracy = 91.02%\n"
     ]
    },
    {
     "output_type": "stream",
     "name": "stderr",
     "text": [
      "Training:  25%|\u2588\u2588\u258c       | 49/195 [07:57<24:10,  9.94s/it, acc=94.14%, loss=0.2006]"
     ]
    },
    {
     "output_type": "stream",
     "name": "stdout",
     "text": [
      "Batch 49: Loss = 0.2006, Accuracy = 94.14%\n"
     ]
    },
    {
     "output_type": "stream",
     "name": "stderr",
     "text": [
      "Training:  26%|\u2588\u2588\u258c       | 50/195 [08:07<23:59,  9.93s/it, acc=87.89%, loss=0.2320]"
     ]
    },
    {
     "output_type": "stream",
     "name": "stdout",
     "text": [
      "Batch 50: Loss = 0.2320, Accuracy = 87.89%\n"
     ]
    },
    {
     "output_type": "stream",
     "name": "stderr",
     "text": [
      "Training:  26%|\u2588\u2588\u258c       | 51/195 [08:17<23:52,  9.95s/it, acc=89.84%, loss=0.2309]"
     ]
    },
    {
     "output_type": "stream",
     "name": "stdout",
     "text": [
      "Batch 51: Loss = 0.2309, Accuracy = 89.84%\n"
     ]
    },
    {
     "output_type": "stream",
     "name": "stderr",
     "text": [
      "Training:  27%|\u2588\u2588\u258b       | 52/195 [08:32<27:04, 11.36s/it, acc=91.80%, loss=0.1793]"
     ]
    },
    {
     "output_type": "stream",
     "name": "stdout",
     "text": [
      "Batch 52: Loss = 0.1793, Accuracy = 91.80%\n"
     ]
    },
    {
     "output_type": "stream",
     "name": "stderr",
     "text": [
      "Training:  27%|\u2588\u2588\u258b       | 53/195 [08:41<25:10, 10.63s/it, acc=93.36%, loss=0.1896]"
     ]
    },
    {
     "output_type": "stream",
     "name": "stdout",
     "text": [
      "Batch 53: Loss = 0.1896, Accuracy = 93.36%\n"
     ]
    },
    {
     "output_type": "stream",
     "name": "stderr",
     "text": [
      "Training:  28%|\u2588\u2588\u258a       | 54/195 [08:50<23:53, 10.17s/it, acc=91.80%, loss=0.1873]"
     ]
    },
    {
     "output_type": "stream",
     "name": "stdout",
     "text": [
      "Batch 54: Loss = 0.1873, Accuracy = 91.80%\n"
     ]
    },
    {
     "output_type": "stream",
     "name": "stderr",
     "text": [
      "Training:  28%|\u2588\u2588\u258a       | 55/195 [09:02<24:55, 10.68s/it, acc=91.80%, loss=0.1839]"
     ]
    },
    {
     "output_type": "stream",
     "name": "stdout",
     "text": [
      "Batch 55: Loss = 0.1839, Accuracy = 91.80%\n"
     ]
    },
    {
     "output_type": "stream",
     "name": "stderr",
     "text": [
      "Training:  29%|\u2588\u2588\u258a       | 56/195 [09:12<24:17, 10.48s/it, acc=91.41%, loss=0.2451]"
     ]
    },
    {
     "output_type": "stream",
     "name": "stdout",
     "text": [
      "Batch 56: Loss = 0.2451, Accuracy = 91.41%\n"
     ]
    },
    {
     "output_type": "stream",
     "name": "stderr",
     "text": [
      "Training:  29%|\u2588\u2588\u2589       | 57/195 [09:21<23:25, 10.18s/it, acc=93.36%, loss=0.1645]"
     ]
    },
    {
     "output_type": "stream",
     "name": "stdout",
     "text": [
      "Batch 57: Loss = 0.1645, Accuracy = 93.36%\n"
     ]
    },
    {
     "output_type": "stream",
     "name": "stderr",
     "text": [
      "Training:  30%|\u2588\u2588\u2589       | 58/195 [09:30<22:29,  9.85s/it, acc=94.53%, loss=0.1664]"
     ]
    },
    {
     "output_type": "stream",
     "name": "stdout",
     "text": [
      "Batch 58: Loss = 0.1664, Accuracy = 94.53%\n"
     ]
    },
    {
     "output_type": "stream",
     "name": "stderr",
     "text": [
      "Training:  30%|\u2588\u2588\u2588       | 59/195 [09:40<22:03,  9.73s/it, acc=91.41%, loss=0.2198]"
     ]
    },
    {
     "output_type": "stream",
     "name": "stdout",
     "text": [
      "Batch 59: Loss = 0.2198, Accuracy = 91.41%\n"
     ]
    },
    {
     "output_type": "stream",
     "name": "stderr",
     "text": [
      "Training:  31%|\u2588\u2588\u2588       | 60/195 [09:48<21:09,  9.41s/it, acc=92.19%, loss=0.1997]"
     ]
    },
    {
     "output_type": "stream",
     "name": "stdout",
     "text": [
      "Batch 60: Loss = 0.1997, Accuracy = 92.19%\n"
     ]
    },
    {
     "output_type": "stream",
     "name": "stderr",
     "text": [
      "Training:  31%|\u2588\u2588\u2588\u258f      | 61/195 [09:58<21:01,  9.41s/it, acc=91.02%, loss=0.2340]"
     ]
    },
    {
     "output_type": "stream",
     "name": "stdout",
     "text": [
      "Batch 61: Loss = 0.2340, Accuracy = 91.02%\n"
     ]
    },
    {
     "output_type": "stream",
     "name": "stderr",
     "text": [
      "Training:  32%|\u2588\u2588\u2588\u258f      | 62/195 [10:07<20:53,  9.42s/it, acc=92.58%, loss=0.1721]"
     ]
    },
    {
     "output_type": "stream",
     "name": "stdout",
     "text": [
      "Batch 62: Loss = 0.1721, Accuracy = 92.58%\n"
     ]
    },
    {
     "output_type": "stream",
     "name": "stderr",
     "text": [
      "Training:  32%|\u2588\u2588\u2588\u258f      | 63/195 [10:18<21:32,  9.79s/it, acc=89.84%, loss=0.2206]"
     ]
    },
    {
     "output_type": "stream",
     "name": "stdout",
     "text": [
      "Batch 63: Loss = 0.2206, Accuracy = 89.84%\n"
     ]
    },
    {
     "output_type": "stream",
     "name": "stderr",
     "text": [
      "Training:  33%|\u2588\u2588\u2588\u258e      | 64/195 [10:27<20:55,  9.58s/it, acc=90.23%, loss=0.2362]"
     ]
    },
    {
     "output_type": "stream",
     "name": "stdout",
     "text": [
      "Batch 64: Loss = 0.2362, Accuracy = 90.23%\n"
     ]
    },
    {
     "output_type": "stream",
     "name": "stderr",
     "text": [
      "Training:  33%|\u2588\u2588\u2588\u258e      | 65/195 [10:36<20:16,  9.36s/it, acc=89.84%, loss=0.2204]"
     ]
    },
    {
     "output_type": "stream",
     "name": "stdout",
     "text": [
      "Batch 65: Loss = 0.2204, Accuracy = 89.84%\n"
     ]
    },
    {
     "output_type": "stream",
     "name": "stderr",
     "text": [
      "Training:  34%|\u2588\u2588\u2588\u258d      | 66/195 [10:45<19:52,  9.25s/it, acc=93.75%, loss=0.1650]"
     ]
    },
    {
     "output_type": "stream",
     "name": "stdout",
     "text": [
      "Batch 66: Loss = 0.1650, Accuracy = 93.75%\n"
     ]
    },
    {
     "output_type": "stream",
     "name": "stderr",
     "text": [
      "Training:  34%|\u2588\u2588\u2588\u258d      | 67/195 [10:54<20:05,  9.42s/it, acc=89.45%, loss=0.1999]"
     ]
    },
    {
     "output_type": "stream",
     "name": "stdout",
     "text": [
      "Batch 67: Loss = 0.1999, Accuracy = 89.45%\n"
     ]
    },
    {
     "output_type": "stream",
     "name": "stderr",
     "text": [
      "Training:  35%|\u2588\u2588\u2588\u258d      | 68/195 [11:05<20:23,  9.63s/it, acc=89.45%, loss=0.2740]"
     ]
    },
    {
     "output_type": "stream",
     "name": "stdout",
     "text": [
      "Batch 68: Loss = 0.2740, Accuracy = 89.45%\n"
     ]
    },
    {
     "output_type": "stream",
     "name": "stderr",
     "text": [
      "Training:  35%|\u2588\u2588\u2588\u258c      | 69/195 [11:14<20:07,  9.58s/it, acc=91.41%, loss=0.1982]"
     ]
    },
    {
     "output_type": "stream",
     "name": "stdout",
     "text": [
      "Batch 69: Loss = 0.1982, Accuracy = 91.41%\n"
     ]
    },
    {
     "output_type": "stream",
     "name": "stderr",
     "text": [
      "Training:  36%|\u2588\u2588\u2588\u258c      | 70/195 [11:23<19:47,  9.50s/it, acc=89.45%, loss=0.2345]"
     ]
    },
    {
     "output_type": "stream",
     "name": "stdout",
     "text": [
      "Batch 70: Loss = 0.2345, Accuracy = 89.45%\n"
     ]
    },
    {
     "output_type": "stream",
     "name": "stderr",
     "text": [
      "Training:  36%|\u2588\u2588\u2588\u258b      | 71/195 [11:34<20:07,  9.74s/it, acc=93.36%, loss=0.1876]"
     ]
    },
    {
     "output_type": "stream",
     "name": "stdout",
     "text": [
      "Batch 71: Loss = 0.1876, Accuracy = 93.36%\n"
     ]
    },
    {
     "output_type": "stream",
     "name": "stderr",
     "text": [
      "Training:  37%|\u2588\u2588\u2588\u258b      | 72/195 [11:45<21:02, 10.26s/it, acc=94.14%, loss=0.1765]"
     ]
    },
    {
     "output_type": "stream",
     "name": "stdout",
     "text": [
      "Batch 72: Loss = 0.1765, Accuracy = 94.14%\n"
     ]
    },
    {
     "output_type": "stream",
     "name": "stderr",
     "text": [
      "Training:  37%|\u2588\u2588\u2588\u258b      | 73/195 [11:54<20:04,  9.87s/it, acc=91.80%, loss=0.2083]"
     ]
    },
    {
     "output_type": "stream",
     "name": "stdout",
     "text": [
      "Batch 73: Loss = 0.2083, Accuracy = 91.80%\n"
     ]
    },
    {
     "output_type": "stream",
     "name": "stderr",
     "text": [
      "Training:  38%|\u2588\u2588\u2588\u258a      | 74/195 [12:03<19:31,  9.68s/it, acc=91.02%, loss=0.2236]"
     ]
    },
    {
     "output_type": "stream",
     "name": "stdout",
     "text": [
      "Batch 74: Loss = 0.2236, Accuracy = 91.02%\n"
     ]
    },
    {
     "output_type": "stream",
     "name": "stderr",
     "text": [
      "Training:  38%|\u2588\u2588\u2588\u258a      | 75/195 [12:13<19:10,  9.59s/it, acc=91.41%, loss=0.1937]"
     ]
    },
    {
     "output_type": "stream",
     "name": "stdout",
     "text": [
      "Batch 75: Loss = 0.1937, Accuracy = 91.41%\n"
     ]
    },
    {
     "output_type": "stream",
     "name": "stderr",
     "text": [
      "Training:  39%|\u2588\u2588\u2588\u2589      | 76/195 [12:23<19:08,  9.65s/it, acc=91.41%, loss=0.2019]"
     ]
    },
    {
     "output_type": "stream",
     "name": "stdout",
     "text": [
      "Batch 76: Loss = 0.2019, Accuracy = 91.41%\n"
     ]
    },
    {
     "output_type": "stream",
     "name": "stderr",
     "text": [
      "Training:  39%|\u2588\u2588\u2588\u2589      | 77/195 [12:32<18:57,  9.64s/it, acc=92.97%, loss=0.1879]"
     ]
    },
    {
     "output_type": "stream",
     "name": "stdout",
     "text": [
      "Batch 77: Loss = 0.1879, Accuracy = 92.97%\n"
     ]
    },
    {
     "output_type": "stream",
     "name": "stderr",
     "text": [
      "Training:  40%|\u2588\u2588\u2588\u2588      | 78/195 [12:42<18:50,  9.67s/it, acc=96.09%, loss=0.1201]"
     ]
    },
    {
     "output_type": "stream",
     "name": "stdout",
     "text": [
      "Batch 78: Loss = 0.1201, Accuracy = 96.09%\n"
     ]
    },
    {
     "output_type": "stream",
     "name": "stderr",
     "text": [
      "Training:  41%|\u2588\u2588\u2588\u2588      | 79/195 [12:52<19:07,  9.89s/it, acc=91.02%, loss=0.2380]"
     ]
    },
    {
     "output_type": "stream",
     "name": "stdout",
     "text": [
      "Batch 79: Loss = 0.2380, Accuracy = 91.02%\n"
     ]
    },
    {
     "output_type": "stream",
     "name": "stderr",
     "text": [
      "Training:  41%|\u2588\u2588\u2588\u2588      | 80/195 [13:02<18:48,  9.81s/it, acc=91.41%, loss=0.2032]"
     ]
    },
    {
     "output_type": "stream",
     "name": "stdout",
     "text": [
      "Batch 80: Loss = 0.2032, Accuracy = 91.41%\n"
     ]
    },
    {
     "output_type": "stream",
     "name": "stderr",
     "text": [
      "Training:  42%|\u2588\u2588\u2588\u2588\u258f     | 81/195 [13:12<18:36,  9.80s/it, acc=92.19%, loss=0.1997]"
     ]
    },
    {
     "output_type": "stream",
     "name": "stdout",
     "text": [
      "Batch 81: Loss = 0.1997, Accuracy = 92.19%\n"
     ]
    },
    {
     "output_type": "stream",
     "name": "stderr",
     "text": [
      "Training:  42%|\u2588\u2588\u2588\u2588\u258f     | 82/195 [13:21<18:10,  9.65s/it, acc=92.97%, loss=0.2190]"
     ]
    },
    {
     "output_type": "stream",
     "name": "stdout",
     "text": [
      "Batch 82: Loss = 0.2190, Accuracy = 92.97%\n"
     ]
    },
    {
     "output_type": "stream",
     "name": "stderr",
     "text": [
      "Training:  43%|\u2588\u2588\u2588\u2588\u258e     | 83/195 [13:30<17:32,  9.40s/it, acc=95.31%, loss=0.1509]"
     ]
    },
    {
     "output_type": "stream",
     "name": "stdout",
     "text": [
      "Batch 83: Loss = 0.1509, Accuracy = 95.31%\n"
     ]
    },
    {
     "output_type": "stream",
     "name": "stderr",
     "text": [
      "Training:  43%|\u2588\u2588\u2588\u2588\u258e     | 84/195 [13:40<17:51,  9.65s/it, acc=90.62%, loss=0.2280]"
     ]
    },
    {
     "output_type": "stream",
     "name": "stdout",
     "text": [
      "Batch 84: Loss = 0.2280, Accuracy = 90.62%\n"
     ]
    },
    {
     "output_type": "stream",
     "name": "stderr",
     "text": [
      "Training:  44%|\u2588\u2588\u2588\u2588\u258e     | 85/195 [13:50<18:04,  9.86s/it, acc=90.23%, loss=0.2506]"
     ]
    },
    {
     "output_type": "stream",
     "name": "stdout",
     "text": [
      "Batch 85: Loss = 0.2506, Accuracy = 90.23%\n"
     ]
    },
    {
     "output_type": "stream",
     "name": "stderr",
     "text": [
      "Training:  44%|\u2588\u2588\u2588\u2588\u258d     | 86/195 [14:00<17:45,  9.78s/it, acc=92.58%, loss=0.1875]"
     ]
    },
    {
     "output_type": "stream",
     "name": "stdout",
     "text": [
      "Batch 86: Loss = 0.1875, Accuracy = 92.58%\n"
     ]
    },
    {
     "output_type": "stream",
     "name": "stderr",
     "text": [
      "Training:  45%|\u2588\u2588\u2588\u2588\u258d     | 87/195 [14:11<18:14, 10.13s/it, acc=92.19%, loss=0.1986]"
     ]
    },
    {
     "output_type": "stream",
     "name": "stdout",
     "text": [
      "Batch 87: Loss = 0.1986, Accuracy = 92.19%\n"
     ]
    },
    {
     "output_type": "stream",
     "name": "stderr",
     "text": [
      "Training:  45%|\u2588\u2588\u2588\u2588\u258c     | 88/195 [14:20<17:33,  9.84s/it, acc=91.41%, loss=0.1971]"
     ]
    },
    {
     "output_type": "stream",
     "name": "stdout",
     "text": [
      "Batch 88: Loss = 0.1971, Accuracy = 91.41%\n"
     ]
    },
    {
     "output_type": "stream",
     "name": "stderr",
     "text": [
      "Training:  46%|\u2588\u2588\u2588\u2588\u258c     | 89/195 [14:30<17:11,  9.73s/it, acc=93.75%, loss=0.1953]"
     ]
    },
    {
     "output_type": "stream",
     "name": "stdout",
     "text": [
      "Batch 89: Loss = 0.1953, Accuracy = 93.75%\n"
     ]
    },
    {
     "output_type": "stream",
     "name": "stderr",
     "text": [
      "Training:  46%|\u2588\u2588\u2588\u2588\u258c     | 90/195 [14:41<17:41, 10.11s/it, acc=89.84%, loss=0.2293]"
     ]
    },
    {
     "output_type": "stream",
     "name": "stdout",
     "text": [
      "Batch 90: Loss = 0.2293, Accuracy = 89.84%\n"
     ]
    },
    {
     "output_type": "stream",
     "name": "stderr",
     "text": [
      "Training:  47%|\u2588\u2588\u2588\u2588\u258b     | 91/195 [14:50<17:11,  9.92s/it, acc=94.53%, loss=0.1738]"
     ]
    },
    {
     "output_type": "stream",
     "name": "stdout",
     "text": [
      "Batch 91: Loss = 0.1738, Accuracy = 94.53%\n"
     ]
    },
    {
     "output_type": "stream",
     "name": "stderr",
     "text": [
      "Training:  47%|\u2588\u2588\u2588\u2588\u258b     | 92/195 [15:00<16:48,  9.79s/it, acc=87.50%, loss=0.2523]"
     ]
    },
    {
     "output_type": "stream",
     "name": "stdout",
     "text": [
      "Batch 92: Loss = 0.2523, Accuracy = 87.50%\n"
     ]
    },
    {
     "output_type": "stream",
     "name": "stderr",
     "text": [
      "Training:  48%|\u2588\u2588\u2588\u2588\u258a     | 93/195 [15:10<16:52,  9.93s/it, acc=89.84%, loss=0.2288]"
     ]
    },
    {
     "output_type": "stream",
     "name": "stdout",
     "text": [
      "Batch 93: Loss = 0.2288, Accuracy = 89.84%\n"
     ]
    },
    {
     "output_type": "stream",
     "name": "stderr",
     "text": [
      "Training:  48%|\u2588\u2588\u2588\u2588\u258a     | 94/195 [15:19<16:18,  9.68s/it, acc=91.80%, loss=0.1973]"
     ]
    },
    {
     "output_type": "stream",
     "name": "stdout",
     "text": [
      "Batch 94: Loss = 0.1973, Accuracy = 91.80%\n"
     ]
    },
    {
     "output_type": "stream",
     "name": "stderr",
     "text": [
      "Training:  49%|\u2588\u2588\u2588\u2588\u258a     | 95/195 [15:30<16:47, 10.08s/it, acc=91.02%, loss=0.2268]"
     ]
    },
    {
     "output_type": "stream",
     "name": "stdout",
     "text": [
      "Batch 95: Loss = 0.2268, Accuracy = 91.02%\n"
     ]
    },
    {
     "output_type": "stream",
     "name": "stderr",
     "text": [
      "Training:  49%|\u2588\u2588\u2588\u2588\u2589     | 96/195 [15:39<16:20,  9.91s/it, acc=88.28%, loss=0.2524]"
     ]
    },
    {
     "output_type": "stream",
     "name": "stdout",
     "text": [
      "Batch 96: Loss = 0.2524, Accuracy = 88.28%\n"
     ]
    },
    {
     "output_type": "stream",
     "name": "stderr",
     "text": [
      "Training:  50%|\u2588\u2588\u2588\u2588\u2589     | 97/195 [15:48<15:44,  9.64s/it, acc=89.06%, loss=0.2398]"
     ]
    },
    {
     "output_type": "stream",
     "name": "stdout",
     "text": [
      "Batch 97: Loss = 0.2398, Accuracy = 89.06%\n"
     ]
    },
    {
     "output_type": "stream",
     "name": "stderr",
     "text": [
      "Training:  50%|\u2588\u2588\u2588\u2588\u2588     | 98/195 [15:59<16:10, 10.00s/it, acc=91.80%, loss=0.1835]"
     ]
    },
    {
     "output_type": "stream",
     "name": "stdout",
     "text": [
      "Batch 98: Loss = 0.1835, Accuracy = 91.80%\n"
     ]
    },
    {
     "output_type": "stream",
     "name": "stderr",
     "text": [
      "Training:  51%|\u2588\u2588\u2588\u2588\u2588     | 99/195 [16:09<15:59, 10.00s/it, acc=91.41%, loss=0.2200]"
     ]
    },
    {
     "output_type": "stream",
     "name": "stdout",
     "text": [
      "Batch 99: Loss = 0.2200, Accuracy = 91.41%\n"
     ]
    },
    {
     "output_type": "stream",
     "name": "stderr",
     "text": [
      "Training:  51%|\u2588\u2588\u2588\u2588\u2588\u258f    | 100/195 [16:20<15:57, 10.08s/it, acc=91.41%, loss=0.2108]"
     ]
    },
    {
     "output_type": "stream",
     "name": "stdout",
     "text": [
      "Batch 100: Loss = 0.2108, Accuracy = 91.41%\n"
     ]
    },
    {
     "output_type": "stream",
     "name": "stderr",
     "text": [
      "Training:  52%|\u2588\u2588\u2588\u2588\u2588\u258f    | 101/195 [16:28<15:13,  9.72s/it, acc=92.19%, loss=0.2181]"
     ]
    },
    {
     "output_type": "stream",
     "name": "stdout",
     "text": [
      "Batch 101: Loss = 0.2181, Accuracy = 92.19%\n"
     ]
    },
    {
     "output_type": "stream",
     "name": "stderr",
     "text": [
      "Training:  52%|\u2588\u2588\u2588\u2588\u2588\u258f    | 102/195 [16:38<14:50,  9.57s/it, acc=90.62%, loss=0.2236]"
     ]
    },
    {
     "output_type": "stream",
     "name": "stdout",
     "text": [
      "Batch 102: Loss = 0.2236, Accuracy = 90.62%\n"
     ]
    },
    {
     "output_type": "stream",
     "name": "stderr",
     "text": [
      "Training:  53%|\u2588\u2588\u2588\u2588\u2588\u258e    | 103/195 [16:47<14:40,  9.57s/it, acc=90.23%, loss=0.2002]"
     ]
    },
    {
     "output_type": "stream",
     "name": "stdout",
     "text": [
      "Batch 103: Loss = 0.2002, Accuracy = 90.23%\n"
     ]
    },
    {
     "output_type": "stream",
     "name": "stderr",
     "text": [
      "Training:  53%|\u2588\u2588\u2588\u2588\u2588\u258e    | 104/195 [16:56<14:19,  9.44s/it, acc=90.23%, loss=0.2692]"
     ]
    },
    {
     "output_type": "stream",
     "name": "stdout",
     "text": [
      "Batch 104: Loss = 0.2692, Accuracy = 90.23%\n"
     ]
    },
    {
     "output_type": "stream",
     "name": "stderr",
     "text": [
      "Training:  54%|\u2588\u2588\u2588\u2588\u2588\u258d    | 105/195 [17:07<14:52,  9.91s/it, acc=94.92%, loss=0.1650]"
     ]
    },
    {
     "output_type": "stream",
     "name": "stdout",
     "text": [
      "Batch 105: Loss = 0.1650, Accuracy = 94.92%\n"
     ]
    },
    {
     "output_type": "stream",
     "name": "stderr",
     "text": [
      "Training:  54%|\u2588\u2588\u2588\u2588\u2588\u258d    | 106/195 [17:17<14:37,  9.86s/it, acc=92.19%, loss=0.2003]"
     ]
    },
    {
     "output_type": "stream",
     "name": "stdout",
     "text": [
      "Batch 106: Loss = 0.2003, Accuracy = 92.19%\n"
     ]
    },
    {
     "output_type": "stream",
     "name": "stderr",
     "text": [
      "Training:  55%|\u2588\u2588\u2588\u2588\u2588\u258d    | 107/195 [17:28<14:56, 10.18s/it, acc=91.80%, loss=0.1899]"
     ]
    },
    {
     "output_type": "stream",
     "name": "stdout",
     "text": [
      "Batch 107: Loss = 0.1899, Accuracy = 91.80%\n"
     ]
    },
    {
     "output_type": "stream",
     "name": "stderr",
     "text": [
      "Training:  55%|\u2588\u2588\u2588\u2588\u2588\u258c    | 108/195 [17:38<14:38, 10.09s/it, acc=88.67%, loss=0.2538]"
     ]
    },
    {
     "output_type": "stream",
     "name": "stdout",
     "text": [
      "Batch 108: Loss = 0.2538, Accuracy = 88.67%\n"
     ]
    },
    {
     "output_type": "stream",
     "name": "stderr",
     "text": [
      "Training:  56%|\u2588\u2588\u2588\u2588\u2588\u258c    | 109/195 [17:47<14:02,  9.79s/it, acc=88.67%, loss=0.2576]"
     ]
    },
    {
     "output_type": "stream",
     "name": "stdout",
     "text": [
      "Batch 109: Loss = 0.2576, Accuracy = 88.67%\n"
     ]
    },
    {
     "output_type": "stream",
     "name": "stderr",
     "text": [
      "Training:  56%|\u2588\u2588\u2588\u2588\u2588\u258b    | 110/195 [17:56<13:34,  9.58s/it, acc=91.02%, loss=0.1954]"
     ]
    },
    {
     "output_type": "stream",
     "name": "stdout",
     "text": [
      "Batch 110: Loss = 0.1954, Accuracy = 91.02%\n"
     ]
    },
    {
     "output_type": "stream",
     "name": "stderr",
     "text": [
      "Training:  57%|\u2588\u2588\u2588\u2588\u2588\u258b    | 111/195 [18:06<13:27,  9.61s/it, acc=91.80%, loss=0.1852]"
     ]
    },
    {
     "output_type": "stream",
     "name": "stdout",
     "text": [
      "Batch 111: Loss = 0.1852, Accuracy = 91.80%\n"
     ]
    },
    {
     "output_type": "stream",
     "name": "stderr",
     "text": [
      "Training:  57%|\u2588\u2588\u2588\u2588\u2588\u258b    | 112/195 [18:14<12:55,  9.34s/it, acc=89.84%, loss=0.2206]"
     ]
    },
    {
     "output_type": "stream",
     "name": "stdout",
     "text": [
      "Batch 112: Loss = 0.2206, Accuracy = 89.84%\n"
     ]
    },
    {
     "output_type": "stream",
     "name": "stderr",
     "text": [
      "Training:  58%|\u2588\u2588\u2588\u2588\u2588\u258a    | 113/195 [18:25<13:17,  9.73s/it, acc=91.41%, loss=0.1953]"
     ]
    },
    {
     "output_type": "stream",
     "name": "stdout",
     "text": [
      "Batch 113: Loss = 0.1953, Accuracy = 91.41%\n"
     ]
    },
    {
     "output_type": "stream",
     "name": "stderr",
     "text": [
      "Training:  58%|\u2588\u2588\u2588\u2588\u2588\u258a    | 114/195 [18:34<12:47,  9.48s/it, acc=89.45%, loss=0.2193]"
     ]
    },
    {
     "output_type": "stream",
     "name": "stdout",
     "text": [
      "Batch 114: Loss = 0.2193, Accuracy = 89.45%\n"
     ]
    },
    {
     "output_type": "stream",
     "name": "stderr",
     "text": [
      "Training:  59%|\u2588\u2588\u2588\u2588\u2588\u2589    | 115/195 [18:45<13:12,  9.91s/it, acc=91.02%, loss=0.2228]"
     ]
    },
    {
     "output_type": "stream",
     "name": "stdout",
     "text": [
      "Batch 115: Loss = 0.2228, Accuracy = 91.02%\n"
     ]
    },
    {
     "output_type": "stream",
     "name": "stderr",
     "text": [
      "Training:  59%|\u2588\u2588\u2588\u2588\u2588\u2589    | 116/195 [18:55<13:06,  9.95s/it, acc=94.14%, loss=0.1826]"
     ]
    },
    {
     "output_type": "stream",
     "name": "stdout",
     "text": [
      "Batch 116: Loss = 0.1826, Accuracy = 94.14%\n"
     ]
    },
    {
     "output_type": "stream",
     "name": "stderr",
     "text": [
      "Training:  60%|\u2588\u2588\u2588\u2588\u2588\u2588    | 117/195 [19:04<12:35,  9.69s/it, acc=90.62%, loss=0.2138]"
     ]
    },
    {
     "output_type": "stream",
     "name": "stdout",
     "text": [
      "Batch 117: Loss = 0.2138, Accuracy = 90.62%\n"
     ]
    },
    {
     "output_type": "stream",
     "name": "stderr",
     "text": [
      "Training:  61%|\u2588\u2588\u2588\u2588\u2588\u2588    | 118/195 [19:14<12:29,  9.74s/it, acc=90.62%, loss=0.2487]"
     ]
    },
    {
     "output_type": "stream",
     "name": "stdout",
     "text": [
      "Batch 118: Loss = 0.2487, Accuracy = 90.62%\n"
     ]
    },
    {
     "output_type": "stream",
     "name": "stderr",
     "text": [
      "Training:  61%|\u2588\u2588\u2588\u2588\u2588\u2588    | 119/195 [19:23<12:03,  9.51s/it, acc=89.06%, loss=0.2347]"
     ]
    },
    {
     "output_type": "stream",
     "name": "stdout",
     "text": [
      "Batch 119: Loss = 0.2347, Accuracy = 89.06%\n"
     ]
    },
    {
     "output_type": "stream",
     "name": "stderr",
     "text": [
      "Training:  62%|\u2588\u2588\u2588\u2588\u2588\u2588\u258f   | 120/195 [19:32<11:39,  9.33s/it, acc=91.41%, loss=0.2093]"
     ]
    },
    {
     "output_type": "stream",
     "name": "stdout",
     "text": [
      "Batch 120: Loss = 0.2093, Accuracy = 91.41%\n"
     ]
    },
    {
     "output_type": "stream",
     "name": "stderr",
     "text": [
      "Training:  62%|\u2588\u2588\u2588\u2588\u2588\u2588\u258f   | 121/195 [19:41<11:33,  9.38s/it, acc=91.80%, loss=0.2069]"
     ]
    },
    {
     "output_type": "stream",
     "name": "stdout",
     "text": [
      "Batch 121: Loss = 0.2069, Accuracy = 91.80%\n"
     ]
    },
    {
     "output_type": "stream",
     "name": "stderr",
     "text": [
      "Training:  63%|\u2588\u2588\u2588\u2588\u2588\u2588\u258e   | 122/195 [19:51<11:30,  9.46s/it, acc=92.58%, loss=0.2307]"
     ]
    },
    {
     "output_type": "stream",
     "name": "stdout",
     "text": [
      "Batch 122: Loss = 0.2307, Accuracy = 92.58%\n"
     ]
    },
    {
     "output_type": "stream",
     "name": "stderr",
     "text": [
      "Training:  63%|\u2588\u2588\u2588\u2588\u2588\u2588\u258e   | 123/195 [20:02<11:55,  9.94s/it, acc=88.67%, loss=0.2328]"
     ]
    },
    {
     "output_type": "stream",
     "name": "stdout",
     "text": [
      "Batch 123: Loss = 0.2328, Accuracy = 88.67%\n"
     ]
    },
    {
     "output_type": "stream",
     "name": "stderr",
     "text": [
      "Training:  64%|\u2588\u2588\u2588\u2588\u2588\u2588\u258e   | 124/195 [20:11<11:22,  9.62s/it, acc=91.41%, loss=0.1817]"
     ]
    },
    {
     "output_type": "stream",
     "name": "stdout",
     "text": [
      "Batch 124: Loss = 0.1817, Accuracy = 91.41%\n"
     ]
    },
    {
     "output_type": "stream",
     "name": "stderr",
     "text": [
      "Training:  64%|\u2588\u2588\u2588\u2588\u2588\u2588\u258d   | 125/195 [20:21<11:19,  9.70s/it, acc=89.45%, loss=0.2353]"
     ]
    },
    {
     "output_type": "stream",
     "name": "stdout",
     "text": [
      "Batch 125: Loss = 0.2353, Accuracy = 89.45%\n"
     ]
    },
    {
     "output_type": "stream",
     "name": "stderr",
     "text": [
      "Training:  65%|\u2588\u2588\u2588\u2588\u2588\u2588\u258d   | 126/195 [20:30<10:52,  9.45s/it, acc=91.41%, loss=0.2302]"
     ]
    },
    {
     "output_type": "stream",
     "name": "stdout",
     "text": [
      "Batch 126: Loss = 0.2302, Accuracy = 91.41%\n"
     ]
    },
    {
     "output_type": "stream",
     "name": "stderr",
     "text": [
      "Training:  65%|\u2588\u2588\u2588\u2588\u2588\u2588\u258c   | 127/195 [20:40<10:52,  9.60s/it, acc=91.02%, loss=0.2130]"
     ]
    },
    {
     "output_type": "stream",
     "name": "stdout",
     "text": [
      "Batch 127: Loss = 0.2130, Accuracy = 91.02%\n"
     ]
    },
    {
     "output_type": "stream",
     "name": "stderr",
     "text": [
      "Training:  66%|\u2588\u2588\u2588\u2588\u2588\u2588\u258c   | 128/195 [20:49<10:44,  9.61s/it, acc=90.23%, loss=0.1932]"
     ]
    },
    {
     "output_type": "stream",
     "name": "stdout",
     "text": [
      "Batch 128: Loss = 0.1932, Accuracy = 90.23%\n"
     ]
    },
    {
     "output_type": "stream",
     "name": "stderr",
     "text": [
      "Training:  66%|\u2588\u2588\u2588\u2588\u2588\u2588\u258c   | 129/195 [20:59<10:35,  9.62s/it, acc=90.62%, loss=0.2310]"
     ]
    },
    {
     "output_type": "stream",
     "name": "stdout",
     "text": [
      "Batch 129: Loss = 0.2310, Accuracy = 90.62%\n"
     ]
    },
    {
     "output_type": "stream",
     "name": "stderr",
     "text": [
      "Training:  67%|\u2588\u2588\u2588\u2588\u2588\u2588\u258b   | 130/195 [21:08<10:19,  9.53s/it, acc=89.84%, loss=0.2198]"
     ]
    },
    {
     "output_type": "stream",
     "name": "stdout",
     "text": [
      "Batch 130: Loss = 0.2198, Accuracy = 89.84%\n"
     ]
    },
    {
     "output_type": "stream",
     "name": "stderr",
     "text": [
      "Training:  67%|\u2588\u2588\u2588\u2588\u2588\u2588\u258b   | 131/195 [21:19<10:42, 10.05s/it, acc=92.97%, loss=0.1998]"
     ]
    },
    {
     "output_type": "stream",
     "name": "stdout",
     "text": [
      "Batch 131: Loss = 0.1998, Accuracy = 92.97%\n"
     ]
    },
    {
     "output_type": "stream",
     "name": "stderr",
     "text": [
      "Training:  68%|\u2588\u2588\u2588\u2588\u2588\u2588\u258a   | 132/195 [21:29<10:16,  9.79s/it, acc=92.58%, loss=0.2071]"
     ]
    },
    {
     "output_type": "stream",
     "name": "stdout",
     "text": [
      "Batch 132: Loss = 0.2071, Accuracy = 92.58%\n"
     ]
    },
    {
     "output_type": "stream",
     "name": "stderr",
     "text": [
      "Training:  68%|\u2588\u2588\u2588\u2588\u2588\u2588\u258a   | 133/195 [21:39<10:17,  9.95s/it, acc=89.06%, loss=0.2247]"
     ]
    },
    {
     "output_type": "stream",
     "name": "stdout",
     "text": [
      "Batch 133: Loss = 0.2247, Accuracy = 89.06%\n"
     ]
    },
    {
     "output_type": "stream",
     "name": "stderr",
     "text": [
      "Training:  69%|\u2588\u2588\u2588\u2588\u2588\u2588\u258a   | 134/195 [21:49<10:01,  9.87s/it, acc=89.45%, loss=0.2254]"
     ]
    },
    {
     "output_type": "stream",
     "name": "stdout",
     "text": [
      "Batch 134: Loss = 0.2254, Accuracy = 89.45%\n"
     ]
    },
    {
     "output_type": "stream",
     "name": "stderr",
     "text": [
      "Training:  69%|\u2588\u2588\u2588\u2588\u2588\u2588\u2589   | 135/195 [21:58<09:35,  9.58s/it, acc=93.75%, loss=0.1920]"
     ]
    },
    {
     "output_type": "stream",
     "name": "stdout",
     "text": [
      "Batch 135: Loss = 0.1920, Accuracy = 93.75%\n"
     ]
    },
    {
     "output_type": "stream",
     "name": "stderr",
     "text": [
      "Training:  70%|\u2588\u2588\u2588\u2588\u2588\u2588\u2589   | 136/195 [22:07<09:25,  9.59s/it, acc=91.41%, loss=0.2093]"
     ]
    },
    {
     "output_type": "stream",
     "name": "stdout",
     "text": [
      "Batch 136: Loss = 0.2093, Accuracy = 91.41%\n"
     ]
    },
    {
     "output_type": "stream",
     "name": "stderr",
     "text": [
      "Training:  70%|\u2588\u2588\u2588\u2588\u2588\u2588\u2588   | 137/195 [22:16<09:08,  9.45s/it, acc=92.97%, loss=0.1924]"
     ]
    },
    {
     "output_type": "stream",
     "name": "stdout",
     "text": [
      "Batch 137: Loss = 0.1924, Accuracy = 92.97%\n"
     ]
    },
    {
     "output_type": "stream",
     "name": "stderr",
     "text": [
      "Training:  71%|\u2588\u2588\u2588\u2588\u2588\u2588\u2588   | 138/195 [22:31<10:36, 11.17s/it, acc=90.23%, loss=0.2080]"
     ]
    },
    {
     "output_type": "stream",
     "name": "stdout",
     "text": [
      "Batch 138: Loss = 0.2080, Accuracy = 90.23%\n"
     ]
    },
    {
     "output_type": "stream",
     "name": "stderr",
     "text": [
      "Training:  71%|\u2588\u2588\u2588\u2588\u2588\u2588\u2588\u258f  | 139/195 [22:41<09:51, 10.57s/it, acc=93.36%, loss=0.2100]"
     ]
    },
    {
     "output_type": "stream",
     "name": "stdout",
     "text": [
      "Batch 139: Loss = 0.2100, Accuracy = 93.36%\n"
     ]
    },
    {
     "output_type": "stream",
     "name": "stderr",
     "text": [
      "Training:  72%|\u2588\u2588\u2588\u2588\u2588\u2588\u2588\u258f  | 140/195 [22:51<09:42, 10.59s/it, acc=89.84%, loss=0.2339]"
     ]
    },
    {
     "output_type": "stream",
     "name": "stdout",
     "text": [
      "Batch 140: Loss = 0.2339, Accuracy = 89.84%\n"
     ]
    },
    {
     "output_type": "stream",
     "name": "stderr",
     "text": [
      "Training:  72%|\u2588\u2588\u2588\u2588\u2588\u2588\u2588\u258f  | 141/195 [23:00<09:08, 10.16s/it, acc=91.02%, loss=0.2066]"
     ]
    },
    {
     "output_type": "stream",
     "name": "stdout",
     "text": [
      "Batch 141: Loss = 0.2066, Accuracy = 91.02%\n"
     ]
    },
    {
     "output_type": "stream",
     "name": "stderr",
     "text": [
      "Training:  73%|\u2588\u2588\u2588\u2588\u2588\u2588\u2588\u258e  | 142/195 [23:10<08:47,  9.95s/it, acc=91.41%, loss=0.2413]"
     ]
    },
    {
     "output_type": "stream",
     "name": "stdout",
     "text": [
      "Batch 142: Loss = 0.2413, Accuracy = 91.41%\n"
     ]
    },
    {
     "output_type": "stream",
     "name": "stderr",
     "text": [
      "Training:  73%|\u2588\u2588\u2588\u2588\u2588\u2588\u2588\u258e  | 143/195 [23:19<08:22,  9.67s/it, acc=93.75%, loss=0.1706]"
     ]
    },
    {
     "output_type": "stream",
     "name": "stdout",
     "text": [
      "Batch 143: Loss = 0.1706, Accuracy = 93.75%\n"
     ]
    },
    {
     "output_type": "stream",
     "name": "stderr",
     "text": [
      "Training:  74%|\u2588\u2588\u2588\u2588\u2588\u2588\u2588\u258d  | 144/195 [23:28<08:06,  9.54s/it, acc=92.19%, loss=0.1966]"
     ]
    },
    {
     "output_type": "stream",
     "name": "stdout",
     "text": [
      "Batch 144: Loss = 0.1966, Accuracy = 92.19%\n"
     ]
    },
    {
     "output_type": "stream",
     "name": "stderr",
     "text": [
      "Training:  74%|\u2588\u2588\u2588\u2588\u2588\u2588\u2588\u258d  | 145/195 [23:38<07:58,  9.57s/it, acc=91.02%, loss=0.2174]"
     ]
    },
    {
     "output_type": "stream",
     "name": "stdout",
     "text": [
      "Batch 145: Loss = 0.2174, Accuracy = 91.02%\n"
     ]
    },
    {
     "output_type": "stream",
     "name": "stderr",
     "text": [
      "Training:  75%|\u2588\u2588\u2588\u2588\u2588\u2588\u2588\u258d  | 146/195 [23:48<07:57,  9.74s/it, acc=89.84%, loss=0.1941]"
     ]
    },
    {
     "output_type": "stream",
     "name": "stdout",
     "text": [
      "Batch 146: Loss = 0.1941, Accuracy = 89.84%\n"
     ]
    },
    {
     "output_type": "stream",
     "name": "stderr",
     "text": [
      "Training:  75%|\u2588\u2588\u2588\u2588\u2588\u2588\u2588\u258c  | 147/195 [23:57<07:42,  9.64s/it, acc=93.75%, loss=0.1783]"
     ]
    },
    {
     "output_type": "stream",
     "name": "stdout",
     "text": [
      "Batch 147: Loss = 0.1783, Accuracy = 93.75%\n"
     ]
    },
    {
     "output_type": "stream",
     "name": "stderr",
     "text": [
      "Training:  76%|\u2588\u2588\u2588\u2588\u2588\u2588\u2588\u258c  | 148/195 [24:08<07:45,  9.91s/it, acc=91.02%, loss=0.1806]"
     ]
    },
    {
     "output_type": "stream",
     "name": "stdout",
     "text": [
      "Batch 148: Loss = 0.1806, Accuracy = 91.02%\n"
     ]
    },
    {
     "output_type": "stream",
     "name": "stderr",
     "text": [
      "Training:  76%|\u2588\u2588\u2588\u2588\u2588\u2588\u2588\u258b  | 149/195 [24:23<08:42, 11.35s/it, acc=93.36%, loss=0.1613]"
     ]
    },
    {
     "output_type": "stream",
     "name": "stdout",
     "text": [
      "Batch 149: Loss = 0.1613, Accuracy = 93.36%\n"
     ]
    },
    {
     "output_type": "stream",
     "name": "stderr",
     "text": [
      "Training:  77%|\u2588\u2588\u2588\u2588\u2588\u2588\u2588\u258b  | 150/195 [24:32<08:07, 10.84s/it, acc=95.31%, loss=0.1570]"
     ]
    },
    {
     "output_type": "stream",
     "name": "stdout",
     "text": [
      "Batch 150: Loss = 0.1570, Accuracy = 95.31%\n"
     ]
    },
    {
     "output_type": "stream",
     "name": "stderr",
     "text": [
      "Training:  77%|\u2588\u2588\u2588\u2588\u2588\u2588\u2588\u258b  | 151/195 [24:42<07:37, 10.40s/it, acc=92.97%, loss=0.1815]"
     ]
    },
    {
     "output_type": "stream",
     "name": "stdout",
     "text": [
      "Batch 151: Loss = 0.1815, Accuracy = 92.97%\n"
     ]
    },
    {
     "output_type": "stream",
     "name": "stderr",
     "text": [
      "Training:  78%|\u2588\u2588\u2588\u2588\u2588\u2588\u2588\u258a  | 152/195 [24:53<07:35, 10.59s/it, acc=92.58%, loss=0.1853]"
     ]
    },
    {
     "output_type": "stream",
     "name": "stdout",
     "text": [
      "Batch 152: Loss = 0.1853, Accuracy = 92.58%\n"
     ]
    },
    {
     "output_type": "stream",
     "name": "stderr",
     "text": [
      "Training:  78%|\u2588\u2588\u2588\u2588\u2588\u2588\u2588\u258a  | 153/195 [25:04<07:28, 10.68s/it, acc=92.58%, loss=0.2160]"
     ]
    },
    {
     "output_type": "stream",
     "name": "stdout",
     "text": [
      "Batch 153: Loss = 0.2160, Accuracy = 92.58%\n"
     ]
    },
    {
     "output_type": "stream",
     "name": "stderr",
     "text": [
      "Training:  79%|\u2588\u2588\u2588\u2588\u2588\u2588\u2588\u2589  | 154/195 [25:13<07:02, 10.31s/it, acc=92.58%, loss=0.1879]"
     ]
    },
    {
     "output_type": "stream",
     "name": "stdout",
     "text": [
      "Batch 154: Loss = 0.1879, Accuracy = 92.58%\n"
     ]
    },
    {
     "output_type": "stream",
     "name": "stderr",
     "text": [
      "Training:  79%|\u2588\u2588\u2588\u2588\u2588\u2588\u2588\u2589  | 155/195 [25:22<06:42, 10.06s/it, acc=90.23%, loss=0.2109]"
     ]
    },
    {
     "output_type": "stream",
     "name": "stdout",
     "text": [
      "Batch 155: Loss = 0.2109, Accuracy = 90.23%\n"
     ]
    },
    {
     "output_type": "stream",
     "name": "stderr",
     "text": [
      "Training:  80%|\u2588\u2588\u2588\u2588\u2588\u2588\u2588\u2588  | 156/195 [25:37<07:28, 11.50s/it, acc=92.97%, loss=0.1815]"
     ]
    },
    {
     "output_type": "stream",
     "name": "stdout",
     "text": [
      "Batch 156: Loss = 0.1815, Accuracy = 92.97%\n"
     ]
    },
    {
     "output_type": "stream",
     "name": "stderr",
     "text": [
      "Training:  81%|\u2588\u2588\u2588\u2588\u2588\u2588\u2588\u2588  | 157/195 [25:47<06:57, 10.97s/it, acc=92.19%, loss=0.1882]"
     ]
    },
    {
     "output_type": "stream",
     "name": "stdout",
     "text": [
      "Batch 157: Loss = 0.1882, Accuracy = 92.19%\n"
     ]
    },
    {
     "output_type": "stream",
     "name": "stderr",
     "text": [
      "Training:  81%|\u2588\u2588\u2588\u2588\u2588\u2588\u2588\u2588  | 158/195 [25:57<06:38, 10.76s/it, acc=88.67%, loss=0.2273]"
     ]
    },
    {
     "output_type": "stream",
     "name": "stdout",
     "text": [
      "Batch 158: Loss = 0.2273, Accuracy = 88.67%\n"
     ]
    },
    {
     "output_type": "stream",
     "name": "stderr",
     "text": [
      "Training:  82%|\u2588\u2588\u2588\u2588\u2588\u2588\u2588\u2588\u258f | 159/195 [26:07<06:14, 10.41s/it, acc=92.58%, loss=0.1939]"
     ]
    },
    {
     "output_type": "stream",
     "name": "stdout",
     "text": [
      "Batch 159: Loss = 0.1939, Accuracy = 92.58%\n"
     ]
    },
    {
     "output_type": "stream",
     "name": "stderr",
     "text": [
      "Training:  82%|\u2588\u2588\u2588\u2588\u2588\u2588\u2588\u2588\u258f | 160/195 [26:16<05:49, 10.00s/it, acc=91.41%, loss=0.1884]"
     ]
    },
    {
     "output_type": "stream",
     "name": "stdout",
     "text": [
      "Batch 160: Loss = 0.1884, Accuracy = 91.41%\n"
     ]
    },
    {
     "output_type": "stream",
     "name": "stderr",
     "text": [
      "Training:  83%|\u2588\u2588\u2588\u2588\u2588\u2588\u2588\u2588\u258e | 161/195 [26:26<05:37,  9.94s/it, acc=89.84%, loss=0.2014]"
     ]
    },
    {
     "output_type": "stream",
     "name": "stdout",
     "text": [
      "Batch 161: Loss = 0.2014, Accuracy = 89.84%\n"
     ]
    },
    {
     "output_type": "stream",
     "name": "stderr",
     "text": [
      "Training:  83%|\u2588\u2588\u2588\u2588\u2588\u2588\u2588\u2588\u258e | 162/195 [26:36<05:30, 10.00s/it, acc=92.58%, loss=0.1843]"
     ]
    },
    {
     "output_type": "stream",
     "name": "stdout",
     "text": [
      "Batch 162: Loss = 0.1843, Accuracy = 92.58%\n"
     ]
    },
    {
     "output_type": "stream",
     "name": "stderr",
     "text": [
      "Training:  84%|\u2588\u2588\u2588\u2588\u2588\u2588\u2588\u2588\u258e | 163/195 [26:47<05:31, 10.36s/it, acc=89.45%, loss=0.2388]"
     ]
    },
    {
     "output_type": "stream",
     "name": "stdout",
     "text": [
      "Batch 163: Loss = 0.2388, Accuracy = 89.45%\n"
     ]
    },
    {
     "output_type": "stream",
     "name": "stderr",
     "text": [
      "Training:  84%|\u2588\u2588\u2588\u2588\u2588\u2588\u2588\u2588\u258d | 164/195 [26:58<05:29, 10.63s/it, acc=91.02%, loss=0.1835]"
     ]
    },
    {
     "output_type": "stream",
     "name": "stdout",
     "text": [
      "Batch 164: Loss = 0.1835, Accuracy = 91.02%\n"
     ]
    },
    {
     "output_type": "stream",
     "name": "stderr",
     "text": [
      "Training:  85%|\u2588\u2588\u2588\u2588\u2588\u2588\u2588\u2588\u258d | 165/195 [27:08<05:06, 10.22s/it, acc=92.19%, loss=0.2046]"
     ]
    },
    {
     "output_type": "stream",
     "name": "stdout",
     "text": [
      "Batch 165: Loss = 0.2046, Accuracy = 92.19%\n"
     ]
    },
    {
     "output_type": "stream",
     "name": "stderr",
     "text": [
      "Training:  85%|\u2588\u2588\u2588\u2588\u2588\u2588\u2588\u2588\u258c | 166/195 [27:18<05:00, 10.35s/it, acc=94.14%, loss=0.1677]"
     ]
    },
    {
     "output_type": "stream",
     "name": "stdout",
     "text": [
      "Batch 166: Loss = 0.1677, Accuracy = 94.14%\n"
     ]
    },
    {
     "output_type": "stream",
     "name": "stderr",
     "text": [
      "Training:  86%|\u2588\u2588\u2588\u2588\u2588\u2588\u2588\u2588\u258c | 167/195 [27:28<04:43, 10.14s/it, acc=90.62%, loss=0.2302]"
     ]
    },
    {
     "output_type": "stream",
     "name": "stdout",
     "text": [
      "Batch 167: Loss = 0.2302, Accuracy = 90.62%\n"
     ]
    },
    {
     "output_type": "stream",
     "name": "stderr",
     "text": [
      "Training:  86%|\u2588\u2588\u2588\u2588\u2588\u2588\u2588\u2588\u258c | 168/195 [27:37<04:28,  9.94s/it, acc=92.97%, loss=0.1658]"
     ]
    },
    {
     "output_type": "stream",
     "name": "stdout",
     "text": [
      "Batch 168: Loss = 0.1658, Accuracy = 92.97%\n"
     ]
    },
    {
     "output_type": "stream",
     "name": "stderr",
     "text": [
      "Training:  87%|\u2588\u2588\u2588\u2588\u2588\u2588\u2588\u2588\u258b | 169/195 [27:48<04:25, 10.21s/it, acc=91.41%, loss=0.1876]"
     ]
    },
    {
     "output_type": "stream",
     "name": "stdout",
     "text": [
      "Batch 169: Loss = 0.1876, Accuracy = 91.41%\n"
     ]
    },
    {
     "output_type": "stream",
     "name": "stderr",
     "text": [
      "Training:  87%|\u2588\u2588\u2588\u2588\u2588\u2588\u2588\u2588\u258b | 170/195 [27:59<04:18, 10.33s/it, acc=89.84%, loss=0.2379]"
     ]
    },
    {
     "output_type": "stream",
     "name": "stdout",
     "text": [
      "Batch 170: Loss = 0.2379, Accuracy = 89.84%\n"
     ]
    },
    {
     "output_type": "stream",
     "name": "stderr",
     "text": [
      "Training:  88%|\u2588\u2588\u2588\u2588\u2588\u2588\u2588\u2588\u258a | 171/195 [28:12<04:30, 11.26s/it, acc=94.53%, loss=0.1488]"
     ]
    },
    {
     "output_type": "stream",
     "name": "stdout",
     "text": [
      "Batch 171: Loss = 0.1488, Accuracy = 94.53%\n"
     ]
    },
    {
     "output_type": "stream",
     "name": "stderr",
     "text": [
      "Training:  88%|\u2588\u2588\u2588\u2588\u2588\u2588\u2588\u2588\u258a | 172/195 [28:22<04:10, 10.90s/it, acc=94.53%, loss=0.1779]"
     ]
    },
    {
     "output_type": "stream",
     "name": "stdout",
     "text": [
      "Batch 172: Loss = 0.1779, Accuracy = 94.53%\n"
     ]
    },
    {
     "output_type": "stream",
     "name": "stderr",
     "text": [
      "Training:  89%|\u2588\u2588\u2588\u2588\u2588\u2588\u2588\u2588\u258a | 173/195 [28:32<03:50, 10.50s/it, acc=91.41%, loss=0.1933]"
     ]
    },
    {
     "output_type": "stream",
     "name": "stdout",
     "text": [
      "Batch 173: Loss = 0.1933, Accuracy = 91.41%\n"
     ]
    },
    {
     "output_type": "stream",
     "name": "stderr",
     "text": [
      "Training:  89%|\u2588\u2588\u2588\u2588\u2588\u2588\u2588\u2588\u2589 | 174/195 [28:41<03:33, 10.16s/it, acc=90.62%, loss=0.2149]"
     ]
    },
    {
     "output_type": "stream",
     "name": "stdout",
     "text": [
      "Batch 174: Loss = 0.2149, Accuracy = 90.62%\n"
     ]
    },
    {
     "output_type": "stream",
     "name": "stderr",
     "text": [
      "Training:  90%|\u2588\u2588\u2588\u2588\u2588\u2588\u2588\u2588\u2589 | 175/195 [28:51<03:23, 10.16s/it, acc=91.02%, loss=0.1940]"
     ]
    },
    {
     "output_type": "stream",
     "name": "stdout",
     "text": [
      "Batch 175: Loss = 0.1940, Accuracy = 91.02%\n"
     ]
    },
    {
     "output_type": "stream",
     "name": "stderr",
     "text": [
      "Training:  90%|\u2588\u2588\u2588\u2588\u2588\u2588\u2588\u2588\u2588 | 176/195 [29:01<03:10, 10.01s/it, acc=89.84%, loss=0.2180]"
     ]
    },
    {
     "output_type": "stream",
     "name": "stdout",
     "text": [
      "Batch 176: Loss = 0.2180, Accuracy = 89.84%\n"
     ]
    },
    {
     "output_type": "stream",
     "name": "stderr",
     "text": [
      "Training:  91%|\u2588\u2588\u2588\u2588\u2588\u2588\u2588\u2588\u2588 | 177/195 [29:11<03:01, 10.10s/it, acc=92.19%, loss=0.2035]"
     ]
    },
    {
     "output_type": "stream",
     "name": "stdout",
     "text": [
      "Batch 177: Loss = 0.2035, Accuracy = 92.19%\n"
     ]
    },
    {
     "output_type": "stream",
     "name": "stderr",
     "text": [
      "Training:  91%|\u2588\u2588\u2588\u2588\u2588\u2588\u2588\u2588\u2588\u258f| 178/195 [29:27<03:19, 11.73s/it, acc=91.80%, loss=0.1690]"
     ]
    },
    {
     "output_type": "stream",
     "name": "stdout",
     "text": [
      "Batch 178: Loss = 0.1690, Accuracy = 91.80%\n"
     ]
    },
    {
     "output_type": "stream",
     "name": "stderr",
     "text": [
      "Training:  92%|\u2588\u2588\u2588\u2588\u2588\u2588\u2588\u2588\u2588\u258f| 179/195 [29:36<02:56, 11.01s/it, acc=90.23%, loss=0.2097]"
     ]
    },
    {
     "output_type": "stream",
     "name": "stdout",
     "text": [
      "Batch 179: Loss = 0.2097, Accuracy = 90.23%\n"
     ]
    },
    {
     "output_type": "stream",
     "name": "stderr",
     "text": [
      "Training:  92%|\u2588\u2588\u2588\u2588\u2588\u2588\u2588\u2588\u2588\u258f| 180/195 [29:46<02:40, 10.72s/it, acc=90.23%, loss=0.2326]"
     ]
    },
    {
     "output_type": "stream",
     "name": "stdout",
     "text": [
      "Batch 180: Loss = 0.2326, Accuracy = 90.23%\n"
     ]
    },
    {
     "output_type": "stream",
     "name": "stderr",
     "text": [
      "Training:  93%|\u2588\u2588\u2588\u2588\u2588\u2588\u2588\u2588\u2588\u258e| 181/195 [29:55<02:22, 10.19s/it, acc=92.19%, loss=0.1652]"
     ]
    },
    {
     "output_type": "stream",
     "name": "stdout",
     "text": [
      "Batch 181: Loss = 0.1652, Accuracy = 92.19%\n"
     ]
    },
    {
     "output_type": "stream",
     "name": "stderr",
     "text": [
      "Training:  93%|\u2588\u2588\u2588\u2588\u2588\u2588\u2588\u2588\u2588\u258e| 182/195 [30:06<02:13, 10.23s/it, acc=92.97%, loss=0.1880]"
     ]
    },
    {
     "output_type": "stream",
     "name": "stdout",
     "text": [
      "Batch 182: Loss = 0.1880, Accuracy = 92.97%\n"
     ]
    },
    {
     "output_type": "stream",
     "name": "stderr",
     "text": [
      "Training:  94%|\u2588\u2588\u2588\u2588\u2588\u2588\u2588\u2588\u2588\u258d| 183/195 [30:15<01:59,  9.92s/it, acc=93.36%, loss=0.1479]"
     ]
    },
    {
     "output_type": "stream",
     "name": "stdout",
     "text": [
      "Batch 183: Loss = 0.1479, Accuracy = 93.36%\n"
     ]
    },
    {
     "output_type": "stream",
     "name": "stderr",
     "text": [
      "Training:  94%|\u2588\u2588\u2588\u2588\u2588\u2588\u2588\u2588\u2588\u258d| 184/195 [30:25<01:50, 10.06s/it, acc=89.45%, loss=0.2438]"
     ]
    },
    {
     "output_type": "stream",
     "name": "stdout",
     "text": [
      "Batch 184: Loss = 0.2438, Accuracy = 89.45%\n"
     ]
    },
    {
     "output_type": "stream",
     "name": "stderr",
     "text": [
      "Training:  95%|\u2588\u2588\u2588\u2588\u2588\u2588\u2588\u2588\u2588\u258d| 185/195 [30:41<01:58, 11.89s/it, acc=92.58%, loss=0.1722]"
     ]
    },
    {
     "output_type": "stream",
     "name": "stdout",
     "text": [
      "Batch 185: Loss = 0.1722, Accuracy = 92.58%\n"
     ]
    },
    {
     "output_type": "stream",
     "name": "stderr",
     "text": [
      "Training:  95%|\u2588\u2588\u2588\u2588\u2588\u2588\u2588\u2588\u2588\u258c| 186/195 [30:52<01:44, 11.61s/it, acc=92.58%, loss=0.2155]"
     ]
    },
    {
     "output_type": "stream",
     "name": "stdout",
     "text": [
      "Batch 186: Loss = 0.2155, Accuracy = 92.58%\n"
     ]
    },
    {
     "output_type": "stream",
     "name": "stderr",
     "text": [
      "Training:  96%|\u2588\u2588\u2588\u2588\u2588\u2588\u2588\u2588\u2588\u258c| 187/195 [31:02<01:28, 11.09s/it, acc=92.19%, loss=0.1999]"
     ]
    },
    {
     "output_type": "stream",
     "name": "stdout",
     "text": [
      "Batch 187: Loss = 0.1999, Accuracy = 92.19%\n"
     ]
    },
    {
     "output_type": "stream",
     "name": "stderr",
     "text": [
      "Training:  96%|\u2588\u2588\u2588\u2588\u2588\u2588\u2588\u2588\u2588\u258b| 188/195 [31:12<01:14, 10.66s/it, acc=92.19%, loss=0.2167]"
     ]
    },
    {
     "output_type": "stream",
     "name": "stdout",
     "text": [
      "Batch 188: Loss = 0.2167, Accuracy = 92.19%\n"
     ]
    },
    {
     "output_type": "stream",
     "name": "stderr",
     "text": [
      "Training:  97%|\u2588\u2588\u2588\u2588\u2588\u2588\u2588\u2588\u2588\u258b| 189/195 [31:21<01:01, 10.28s/it, acc=91.80%, loss=0.1985]"
     ]
    },
    {
     "output_type": "stream",
     "name": "stdout",
     "text": [
      "Batch 189: Loss = 0.1985, Accuracy = 91.80%\n"
     ]
    },
    {
     "output_type": "stream",
     "name": "stderr",
     "text": [
      "Training:  97%|\u2588\u2588\u2588\u2588\u2588\u2588\u2588\u2588\u2588\u258b| 190/195 [31:30<00:49,  9.96s/it, acc=94.92%, loss=0.1328]"
     ]
    },
    {
     "output_type": "stream",
     "name": "stdout",
     "text": [
      "Batch 190: Loss = 0.1328, Accuracy = 94.92%\n"
     ]
    },
    {
     "output_type": "stream",
     "name": "stderr",
     "text": [
      "Training:  98%|\u2588\u2588\u2588\u2588\u2588\u2588\u2588\u2588\u2588\u258a| 191/195 [31:41<00:40, 10.21s/it, acc=92.58%, loss=0.2160]"
     ]
    },
    {
     "output_type": "stream",
     "name": "stdout",
     "text": [
      "Batch 191: Loss = 0.2160, Accuracy = 92.58%\n"
     ]
    },
    {
     "output_type": "stream",
     "name": "stderr",
     "text": [
      "Training:  98%|\u2588\u2588\u2588\u2588\u2588\u2588\u2588\u2588\u2588\u258a| 192/195 [31:51<00:30, 10.16s/it, acc=89.45%, loss=0.2369]"
     ]
    },
    {
     "output_type": "stream",
     "name": "stdout",
     "text": [
      "Batch 192: Loss = 0.2369, Accuracy = 89.45%\n"
     ]
    },
    {
     "output_type": "stream",
     "name": "stderr",
     "text": [
      "Training:  99%|\u2588\u2588\u2588\u2588\u2588\u2588\u2588\u2588\u2588\u2589| 193/195 [32:02<00:20, 10.26s/it, acc=94.53%, loss=0.1630]"
     ]
    },
    {
     "output_type": "stream",
     "name": "stdout",
     "text": [
      "Batch 193: Loss = 0.1630, Accuracy = 94.53%\n"
     ]
    },
    {
     "output_type": "stream",
     "name": "stderr",
     "text": [
      "Training:  99%|\u2588\u2588\u2588\u2588\u2588\u2588\u2588\u2588\u2588\u2589| 194/195 [32:12<00:10, 10.22s/it, acc=94.14%, loss=0.1871]"
     ]
    },
    {
     "output_type": "stream",
     "name": "stdout",
     "text": [
      "Batch 194: Loss = 0.1871, Accuracy = 94.14%\n"
     ]
    },
    {
     "output_type": "stream",
     "name": "stderr",
     "text": [
      "Training: 100%|\u2588\u2588\u2588\u2588\u2588\u2588\u2588\u2588\u2588\u2588| 195/195 [32:20<00:00,  9.95s/it, acc=91.58%, loss=0.2316]\n"
     ]
    },
    {
     "output_type": "stream",
     "name": "stdout",
     "text": [
      "Batch 195: Loss = 0.2316, Accuracy = 91.58%\n",
      "\n",
      "Epoch 4 Summary:\n",
      "Training   - Loss: 0.2056, Accuracy: 91.57%\n",
      "Validation - Loss: 0.2143, Accuracy: 90.98%\n",
      "\n",
      "=== Epoch 5 ===\n"
     ]
    },
    {
     "output_type": "stream",
     "name": "stderr",
     "text": [
      "Training:   1%|          | 1/195 [00:11<36:58, 11.43s/it, acc=92.97%, loss=0.1806]"
     ]
    },
    {
     "output_type": "stream",
     "name": "stdout",
     "text": [
      "Batch 1: Loss = 0.1806, Accuracy = 92.97%\n"
     ]
    },
    {
     "output_type": "stream",
     "name": "stderr",
     "text": [
      "Training:   1%|          | 2/195 [00:20<32:18, 10.04s/it, acc=90.23%, loss=0.2475]"
     ]
    },
    {
     "output_type": "stream",
     "name": "stdout",
     "text": [
      "Batch 2: Loss = 0.2475, Accuracy = 90.23%\n"
     ]
    },
    {
     "output_type": "stream",
     "name": "stderr",
     "text": [
      "Training:   2%|\u258f         | 3/195 [00:30<31:46,  9.93s/it, acc=90.23%, loss=0.2074]"
     ]
    },
    {
     "output_type": "stream",
     "name": "stdout",
     "text": [
      "Batch 3: Loss = 0.2074, Accuracy = 90.23%\n"
     ]
    },
    {
     "output_type": "stream",
     "name": "stderr",
     "text": [
      "Training:   2%|\u258f         | 4/195 [00:41<33:28, 10.52s/it, acc=92.19%, loss=0.1838]"
     ]
    },
    {
     "output_type": "stream",
     "name": "stdout",
     "text": [
      "Batch 4: Loss = 0.1838, Accuracy = 92.19%\n"
     ]
    },
    {
     "output_type": "stream",
     "name": "stderr",
     "text": [
      "Training:   3%|\u258e         | 5/195 [00:51<31:54, 10.08s/it, acc=92.97%, loss=0.1759]"
     ]
    },
    {
     "output_type": "stream",
     "name": "stdout",
     "text": [
      "Batch 5: Loss = 0.1759, Accuracy = 92.97%\n"
     ]
    },
    {
     "output_type": "stream",
     "name": "stderr",
     "text": [
      "Training:   3%|\u258e         | 6/195 [01:00<31:03,  9.86s/it, acc=90.62%, loss=0.1946]"
     ]
    },
    {
     "output_type": "stream",
     "name": "stdout",
     "text": [
      "Batch 6: Loss = 0.1946, Accuracy = 90.62%\n"
     ]
    },
    {
     "output_type": "stream",
     "name": "stderr",
     "text": [
      "Training:   4%|\u258e         | 7/195 [01:09<30:22,  9.70s/it, acc=92.97%, loss=0.1780]"
     ]
    },
    {
     "output_type": "stream",
     "name": "stdout",
     "text": [
      "Batch 7: Loss = 0.1780, Accuracy = 92.97%\n"
     ]
    },
    {
     "output_type": "stream",
     "name": "stderr",
     "text": [
      "Training:   4%|\u258d         | 8/195 [01:19<30:15,  9.71s/it, acc=92.58%, loss=0.1972]"
     ]
    },
    {
     "output_type": "stream",
     "name": "stdout",
     "text": [
      "Batch 8: Loss = 0.1972, Accuracy = 92.58%\n"
     ]
    },
    {
     "output_type": "stream",
     "name": "stderr",
     "text": [
      "Training:   5%|\u258d         | 9/195 [01:29<30:18,  9.78s/it, acc=93.75%, loss=0.1748]"
     ]
    },
    {
     "output_type": "stream",
     "name": "stdout",
     "text": [
      "Batch 9: Loss = 0.1748, Accuracy = 93.75%\n"
     ]
    },
    {
     "output_type": "stream",
     "name": "stderr",
     "text": [
      "Training:   5%|\u258c         | 10/195 [01:39<30:04,  9.75s/it, acc=93.36%, loss=0.1829]"
     ]
    },
    {
     "output_type": "stream",
     "name": "stdout",
     "text": [
      "Batch 10: Loss = 0.1829, Accuracy = 93.36%\n"
     ]
    },
    {
     "output_type": "stream",
     "name": "stderr",
     "text": [
      "Training:   6%|\u258c         | 11/195 [01:50<31:19, 10.21s/it, acc=91.02%, loss=0.2055]"
     ]
    },
    {
     "output_type": "stream",
     "name": "stdout",
     "text": [
      "Batch 11: Loss = 0.2055, Accuracy = 91.02%\n"
     ]
    },
    {
     "output_type": "stream",
     "name": "stderr",
     "text": [
      "Training:   6%|\u258c         | 12/195 [02:00<30:39, 10.05s/it, acc=94.53%, loss=0.1898]"
     ]
    },
    {
     "output_type": "stream",
     "name": "stdout",
     "text": [
      "Batch 12: Loss = 0.1898, Accuracy = 94.53%\n"
     ]
    },
    {
     "output_type": "stream",
     "name": "stderr",
     "text": [
      "Training:   7%|\u258b         | 13/195 [02:09<29:46,  9.81s/it, acc=92.97%, loss=0.1787]"
     ]
    },
    {
     "output_type": "stream",
     "name": "stdout",
     "text": [
      "Batch 13: Loss = 0.1787, Accuracy = 92.97%\n"
     ]
    },
    {
     "output_type": "stream",
     "name": "stderr",
     "text": [
      "Training:   7%|\u258b         | 14/195 [02:19<29:42,  9.85s/it, acc=92.58%, loss=0.1844]"
     ]
    },
    {
     "output_type": "stream",
     "name": "stdout",
     "text": [
      "Batch 14: Loss = 0.1844, Accuracy = 92.58%\n"
     ]
    },
    {
     "output_type": "stream",
     "name": "stderr",
     "text": [
      "Training:   8%|\u258a         | 15/195 [02:30<30:19, 10.11s/it, acc=93.36%, loss=0.1802]"
     ]
    },
    {
     "output_type": "stream",
     "name": "stdout",
     "text": [
      "Batch 15: Loss = 0.1802, Accuracy = 93.36%\n"
     ]
    },
    {
     "output_type": "stream",
     "name": "stderr",
     "text": [
      "Training:   8%|\u258a         | 16/195 [02:39<29:30,  9.89s/it, acc=90.62%, loss=0.2147]"
     ]
    },
    {
     "output_type": "stream",
     "name": "stdout",
     "text": [
      "Batch 16: Loss = 0.2147, Accuracy = 90.62%\n"
     ]
    },
    {
     "output_type": "stream",
     "name": "stderr",
     "text": [
      "Training:   9%|\u258a         | 17/195 [02:48<28:45,  9.69s/it, acc=90.62%, loss=0.2035]"
     ]
    },
    {
     "output_type": "stream",
     "name": "stdout",
     "text": [
      "Batch 17: Loss = 0.2035, Accuracy = 90.62%\n"
     ]
    },
    {
     "output_type": "stream",
     "name": "stderr",
     "text": [
      "Training:   9%|\u2589         | 18/195 [02:58<28:45,  9.75s/it, acc=90.23%, loss=0.2008]"
     ]
    },
    {
     "output_type": "stream",
     "name": "stdout",
     "text": [
      "Batch 18: Loss = 0.2008, Accuracy = 90.23%\n"
     ]
    },
    {
     "output_type": "stream",
     "name": "stderr",
     "text": [
      "Training:  10%|\u2589         | 19/195 [03:08<28:48,  9.82s/it, acc=90.62%, loss=0.2437]"
     ]
    },
    {
     "output_type": "stream",
     "name": "stdout",
     "text": [
      "Batch 19: Loss = 0.2437, Accuracy = 90.62%\n"
     ]
    },
    {
     "output_type": "stream",
     "name": "stderr",
     "text": [
      "Training:  10%|\u2588         | 20/195 [03:18<28:40,  9.83s/it, acc=92.58%, loss=0.1777]"
     ]
    },
    {
     "output_type": "stream",
     "name": "stdout",
     "text": [
      "Batch 20: Loss = 0.1777, Accuracy = 92.58%\n"
     ]
    },
    {
     "output_type": "stream",
     "name": "stderr",
     "text": [
      "Training:  11%|\u2588         | 21/195 [03:27<28:18,  9.76s/it, acc=90.23%, loss=0.1925]"
     ]
    },
    {
     "output_type": "stream",
     "name": "stdout",
     "text": [
      "Batch 21: Loss = 0.1925, Accuracy = 90.23%\n"
     ]
    },
    {
     "output_type": "stream",
     "name": "stderr",
     "text": [
      "Training:  11%|\u2588\u258f        | 22/195 [03:38<28:29,  9.88s/it, acc=91.80%, loss=0.1770]"
     ]
    },
    {
     "output_type": "stream",
     "name": "stdout",
     "text": [
      "Batch 22: Loss = 0.1770, Accuracy = 91.80%\n"
     ]
    },
    {
     "output_type": "stream",
     "name": "stderr",
     "text": [
      "Training:  12%|\u2588\u258f        | 23/195 [03:47<28:19,  9.88s/it, acc=93.75%, loss=0.1753]"
     ]
    },
    {
     "output_type": "stream",
     "name": "stdout",
     "text": [
      "Batch 23: Loss = 0.1753, Accuracy = 93.75%\n"
     ]
    },
    {
     "output_type": "stream",
     "name": "stderr",
     "text": [
      "Training:  12%|\u2588\u258f        | 24/195 [04:02<32:23, 11.37s/it, acc=92.97%, loss=0.1681]"
     ]
    },
    {
     "output_type": "stream",
     "name": "stdout",
     "text": [
      "Batch 24: Loss = 0.1681, Accuracy = 92.97%\n"
     ]
    },
    {
     "output_type": "stream",
     "name": "stderr",
     "text": [
      "Training:  13%|\u2588\u258e        | 25/195 [04:13<31:23, 11.08s/it, acc=92.58%, loss=0.1671]"
     ]
    },
    {
     "output_type": "stream",
     "name": "stdout",
     "text": [
      "Batch 25: Loss = 0.1671, Accuracy = 92.58%\n"
     ]
    },
    {
     "output_type": "stream",
     "name": "stderr",
     "text": [
      "Training:  13%|\u2588\u258e        | 26/195 [04:22<29:40, 10.53s/it, acc=90.23%, loss=0.2015]"
     ]
    },
    {
     "output_type": "stream",
     "name": "stdout",
     "text": [
      "Batch 26: Loss = 0.2015, Accuracy = 90.23%\n"
     ]
    },
    {
     "output_type": "stream",
     "name": "stderr",
     "text": [
      "Training:  14%|\u2588\u258d        | 27/195 [04:32<28:42, 10.25s/it, acc=88.28%, loss=0.2597]"
     ]
    },
    {
     "output_type": "stream",
     "name": "stdout",
     "text": [
      "Batch 27: Loss = 0.2597, Accuracy = 88.28%\n"
     ]
    },
    {
     "output_type": "stream",
     "name": "stderr",
     "text": [
      "Training:  14%|\u2588\u258d        | 28/195 [04:42<28:22, 10.20s/it, acc=91.02%, loss=0.2001]"
     ]
    },
    {
     "output_type": "stream",
     "name": "stdout",
     "text": [
      "Batch 28: Loss = 0.2001, Accuracy = 91.02%\n"
     ]
    },
    {
     "output_type": "stream",
     "name": "stderr",
     "text": [
      "Training:  15%|\u2588\u258d        | 29/195 [04:52<27:59, 10.12s/it, acc=91.41%, loss=0.2053]"
     ]
    },
    {
     "output_type": "stream",
     "name": "stdout",
     "text": [
      "Batch 29: Loss = 0.2053, Accuracy = 91.41%\n"
     ]
    },
    {
     "output_type": "stream",
     "name": "stderr",
     "text": [
      "Training:  15%|\u2588\u258c        | 30/195 [05:01<26:51,  9.77s/it, acc=90.62%, loss=0.2010]"
     ]
    },
    {
     "output_type": "stream",
     "name": "stdout",
     "text": [
      "Batch 30: Loss = 0.2010, Accuracy = 90.62%\n"
     ]
    },
    {
     "output_type": "stream",
     "name": "stderr",
     "text": [
      "Training:  16%|\u2588\u258c        | 31/195 [05:11<27:03,  9.90s/it, acc=92.19%, loss=0.1859]"
     ]
    },
    {
     "output_type": "stream",
     "name": "stdout",
     "text": [
      "Batch 31: Loss = 0.1859, Accuracy = 92.19%\n"
     ]
    },
    {
     "output_type": "stream",
     "name": "stderr",
     "text": [
      "Training:  16%|\u2588\u258b        | 32/195 [05:20<26:11,  9.64s/it, acc=90.62%, loss=0.1797]"
     ]
    },
    {
     "output_type": "stream",
     "name": "stdout",
     "text": [
      "Batch 32: Loss = 0.1797, Accuracy = 90.62%\n"
     ]
    },
    {
     "output_type": "stream",
     "name": "stderr",
     "text": [
      "Training:  17%|\u2588\u258b        | 33/195 [05:31<27:04, 10.03s/it, acc=90.62%, loss=0.2035]"
     ]
    },
    {
     "output_type": "stream",
     "name": "stdout",
     "text": [
      "Batch 33: Loss = 0.2035, Accuracy = 90.62%\n"
     ]
    },
    {
     "output_type": "stream",
     "name": "stderr",
     "text": [
      "Training:  17%|\u2588\u258b        | 34/195 [05:41<26:53, 10.02s/it, acc=96.48%, loss=0.1220]"
     ]
    },
    {
     "output_type": "stream",
     "name": "stdout",
     "text": [
      "Batch 34: Loss = 0.1220, Accuracy = 96.48%\n"
     ]
    },
    {
     "output_type": "stream",
     "name": "stderr",
     "text": [
      "Training:  18%|\u2588\u258a        | 35/195 [05:50<26:15,  9.85s/it, acc=91.41%, loss=0.2034]"
     ]
    },
    {
     "output_type": "stream",
     "name": "stdout",
     "text": [
      "Batch 35: Loss = 0.2034, Accuracy = 91.41%\n"
     ]
    },
    {
     "output_type": "stream",
     "name": "stderr",
     "text": [
      "Training:  18%|\u2588\u258a        | 36/195 [06:00<26:09,  9.87s/it, acc=92.58%, loss=0.2222]"
     ]
    },
    {
     "output_type": "stream",
     "name": "stdout",
     "text": [
      "Batch 36: Loss = 0.2222, Accuracy = 92.58%\n"
     ]
    },
    {
     "output_type": "stream",
     "name": "stderr",
     "text": [
      "Training:  19%|\u2588\u2589        | 37/195 [06:11<26:29, 10.06s/it, acc=92.97%, loss=0.2288]"
     ]
    },
    {
     "output_type": "stream",
     "name": "stdout",
     "text": [
      "Batch 37: Loss = 0.2288, Accuracy = 92.97%\n"
     ]
    },
    {
     "output_type": "stream",
     "name": "stderr",
     "text": [
      "Training:  19%|\u2588\u2589        | 38/195 [06:19<25:18,  9.67s/it, acc=94.92%, loss=0.1301]"
     ]
    },
    {
     "output_type": "stream",
     "name": "stdout",
     "text": [
      "Batch 38: Loss = 0.1301, Accuracy = 94.92%\n"
     ]
    },
    {
     "output_type": "stream",
     "name": "stderr",
     "text": [
      "Training:  20%|\u2588\u2588        | 39/195 [06:30<25:43,  9.90s/it, acc=91.41%, loss=0.2043]"
     ]
    },
    {
     "output_type": "stream",
     "name": "stdout",
     "text": [
      "Batch 39: Loss = 0.2043, Accuracy = 91.41%\n"
     ]
    },
    {
     "output_type": "stream",
     "name": "stderr",
     "text": [
      "Training:  21%|\u2588\u2588        | 40/195 [06:39<24:49,  9.61s/it, acc=92.97%, loss=0.1668]"
     ]
    },
    {
     "output_type": "stream",
     "name": "stdout",
     "text": [
      "Batch 40: Loss = 0.1668, Accuracy = 92.97%\n"
     ]
    },
    {
     "output_type": "stream",
     "name": "stderr",
     "text": [
      "Training:  21%|\u2588\u2588        | 41/195 [06:48<24:20,  9.49s/it, acc=91.80%, loss=0.2270]"
     ]
    },
    {
     "output_type": "stream",
     "name": "stdout",
     "text": [
      "Batch 41: Loss = 0.2270, Accuracy = 91.80%\n"
     ]
    },
    {
     "output_type": "stream",
     "name": "stderr",
     "text": [
      "Training:  22%|\u2588\u2588\u258f       | 42/195 [06:57<23:58,  9.40s/it, acc=92.58%, loss=0.1706]"
     ]
    },
    {
     "output_type": "stream",
     "name": "stdout",
     "text": [
      "Batch 42: Loss = 0.1706, Accuracy = 92.58%\n"
     ]
    },
    {
     "output_type": "stream",
     "name": "stderr",
     "text": [
      "Training:  22%|\u2588\u2588\u258f       | 43/195 [07:06<23:35,  9.31s/it, acc=92.19%, loss=0.2321]"
     ]
    },
    {
     "output_type": "stream",
     "name": "stdout",
     "text": [
      "Batch 43: Loss = 0.2321, Accuracy = 92.19%\n"
     ]
    },
    {
     "output_type": "stream",
     "name": "stderr",
     "text": [
      "Training:  23%|\u2588\u2588\u258e       | 44/195 [07:16<23:34,  9.37s/it, acc=89.06%, loss=0.1927]"
     ]
    },
    {
     "output_type": "stream",
     "name": "stdout",
     "text": [
      "Batch 44: Loss = 0.1927, Accuracy = 89.06%\n"
     ]
    },
    {
     "output_type": "stream",
     "name": "stderr",
     "text": [
      "Training:  23%|\u2588\u2588\u258e       | 45/195 [07:28<25:47, 10.31s/it, acc=94.14%, loss=0.1553]"
     ]
    },
    {
     "output_type": "stream",
     "name": "stdout",
     "text": [
      "Batch 45: Loss = 0.1553, Accuracy = 94.14%\n"
     ]
    },
    {
     "output_type": "stream",
     "name": "stderr",
     "text": [
      "Training:  24%|\u2588\u2588\u258e       | 46/195 [07:37<24:45,  9.97s/it, acc=92.58%, loss=0.2129]"
     ]
    },
    {
     "output_type": "stream",
     "name": "stdout",
     "text": [
      "Batch 46: Loss = 0.2129, Accuracy = 92.58%\n"
     ]
    },
    {
     "output_type": "stream",
     "name": "stderr",
     "text": [
      "Training:  24%|\u2588\u2588\u258d       | 47/195 [07:47<24:36,  9.98s/it, acc=93.36%, loss=0.1458]"
     ]
    },
    {
     "output_type": "stream",
     "name": "stdout",
     "text": [
      "Batch 47: Loss = 0.1458, Accuracy = 93.36%\n"
     ]
    },
    {
     "output_type": "stream",
     "name": "stderr",
     "text": [
      "Training:  25%|\u2588\u2588\u258d       | 48/195 [07:58<24:39, 10.06s/it, acc=92.97%, loss=0.1676]"
     ]
    },
    {
     "output_type": "stream",
     "name": "stdout",
     "text": [
      "Batch 48: Loss = 0.1676, Accuracy = 92.97%\n"
     ]
    },
    {
     "output_type": "stream",
     "name": "stderr",
     "text": [
      "Training:  25%|\u2588\u2588\u258c       | 49/195 [08:07<24:06,  9.91s/it, acc=96.48%, loss=0.1432]"
     ]
    },
    {
     "output_type": "stream",
     "name": "stdout",
     "text": [
      "Batch 49: Loss = 0.1432, Accuracy = 96.48%\n"
     ]
    },
    {
     "output_type": "stream",
     "name": "stderr",
     "text": [
      "Training:  26%|\u2588\u2588\u258c       | 50/195 [08:18<24:28, 10.13s/it, acc=93.75%, loss=0.1584]"
     ]
    },
    {
     "output_type": "stream",
     "name": "stdout",
     "text": [
      "Batch 50: Loss = 0.1584, Accuracy = 93.75%\n"
     ]
    },
    {
     "output_type": "stream",
     "name": "stderr",
     "text": [
      "Training:  26%|\u2588\u2588\u258c       | 51/195 [08:28<24:28, 10.20s/it, acc=91.02%, loss=0.2051]"
     ]
    },
    {
     "output_type": "stream",
     "name": "stdout",
     "text": [
      "Batch 51: Loss = 0.2051, Accuracy = 91.02%\n"
     ]
    },
    {
     "output_type": "stream",
     "name": "stderr",
     "text": [
      "Training:  27%|\u2588\u2588\u258b       | 52/195 [08:38<23:56, 10.05s/it, acc=92.58%, loss=0.1920]"
     ]
    },
    {
     "output_type": "stream",
     "name": "stdout",
     "text": [
      "Batch 52: Loss = 0.1920, Accuracy = 92.58%\n"
     ]
    },
    {
     "output_type": "stream",
     "name": "stderr",
     "text": [
      "Training:  27%|\u2588\u2588\u258b       | 53/195 [08:51<25:38, 10.83s/it, acc=93.36%, loss=0.1717]"
     ]
    },
    {
     "output_type": "stream",
     "name": "stdout",
     "text": [
      "Batch 53: Loss = 0.1717, Accuracy = 93.36%\n"
     ]
    },
    {
     "output_type": "stream",
     "name": "stderr",
     "text": [
      "Training:  28%|\u2588\u2588\u258a       | 54/195 [09:01<25:02, 10.65s/it, acc=93.75%, loss=0.2205]"
     ]
    },
    {
     "output_type": "stream",
     "name": "stdout",
     "text": [
      "Batch 54: Loss = 0.2205, Accuracy = 93.75%\n"
     ]
    },
    {
     "output_type": "stream",
     "name": "stderr",
     "text": [
      "Training:  28%|\u2588\u2588\u258a       | 55/195 [09:10<24:07, 10.34s/it, acc=91.41%, loss=0.1974]"
     ]
    },
    {
     "output_type": "stream",
     "name": "stdout",
     "text": [
      "Batch 55: Loss = 0.1974, Accuracy = 91.41%\n"
     ]
    },
    {
     "output_type": "stream",
     "name": "stderr",
     "text": [
      "Training:  29%|\u2588\u2588\u258a       | 56/195 [09:20<23:25, 10.11s/it, acc=90.62%, loss=0.2567]"
     ]
    },
    {
     "output_type": "stream",
     "name": "stdout",
     "text": [
      "Batch 56: Loss = 0.2567, Accuracy = 90.62%\n"
     ]
    },
    {
     "output_type": "stream",
     "name": "stderr",
     "text": [
      "Training:  29%|\u2588\u2588\u2589       | 57/195 [09:31<24:04, 10.47s/it, acc=92.58%, loss=0.1818]"
     ]
    },
    {
     "output_type": "stream",
     "name": "stdout",
     "text": [
      "Batch 57: Loss = 0.1818, Accuracy = 92.58%\n"
     ]
    },
    {
     "output_type": "stream",
     "name": "stderr",
     "text": [
      "Training:  30%|\u2588\u2588\u2589       | 58/195 [09:41<23:24, 10.26s/it, acc=93.75%, loss=0.1785]"
     ]
    },
    {
     "output_type": "stream",
     "name": "stdout",
     "text": [
      "Batch 58: Loss = 0.1785, Accuracy = 93.75%\n"
     ]
    },
    {
     "output_type": "stream",
     "name": "stderr",
     "text": [
      "Training:  30%|\u2588\u2588\u2588       | 59/195 [09:50<22:32,  9.94s/it, acc=93.75%, loss=0.1483]"
     ]
    },
    {
     "output_type": "stream",
     "name": "stdout",
     "text": [
      "Batch 59: Loss = 0.1483, Accuracy = 93.75%\n"
     ]
    },
    {
     "output_type": "stream",
     "name": "stderr",
     "text": [
      "Training:  31%|\u2588\u2588\u2588       | 60/195 [10:00<22:33, 10.02s/it, acc=92.97%, loss=0.1946]"
     ]
    },
    {
     "output_type": "stream",
     "name": "stdout",
     "text": [
      "Batch 60: Loss = 0.1946, Accuracy = 92.97%\n"
     ]
    },
    {
     "output_type": "stream",
     "name": "stderr",
     "text": [
      "Training:  31%|\u2588\u2588\u2588\u258f      | 61/195 [10:10<22:04,  9.88s/it, acc=93.36%, loss=0.1621]"
     ]
    },
    {
     "output_type": "stream",
     "name": "stdout",
     "text": [
      "Batch 61: Loss = 0.1621, Accuracy = 93.36%\n"
     ]
    },
    {
     "output_type": "stream",
     "name": "stderr",
     "text": [
      "Training:  32%|\u2588\u2588\u2588\u258f      | 62/195 [10:19<21:35,  9.74s/it, acc=92.97%, loss=0.1724]"
     ]
    },
    {
     "output_type": "stream",
     "name": "stdout",
     "text": [
      "Batch 62: Loss = 0.1724, Accuracy = 92.97%\n"
     ]
    },
    {
     "output_type": "stream",
     "name": "stderr",
     "text": [
      "Training:  32%|\u2588\u2588\u2588\u258f      | 63/195 [10:29<21:01,  9.56s/it, acc=94.92%, loss=0.1416]"
     ]
    },
    {
     "output_type": "stream",
     "name": "stdout",
     "text": [
      "Batch 63: Loss = 0.1416, Accuracy = 94.92%\n"
     ]
    },
    {
     "output_type": "stream",
     "name": "stderr",
     "text": [
      "Training:  33%|\u2588\u2588\u2588\u258e      | 64/195 [10:40<22:10, 10.15s/it, acc=91.02%, loss=0.2093]"
     ]
    },
    {
     "output_type": "stream",
     "name": "stdout",
     "text": [
      "Batch 64: Loss = 0.2093, Accuracy = 91.02%\n"
     ]
    },
    {
     "output_type": "stream",
     "name": "stderr",
     "text": [
      "Training:  33%|\u2588\u2588\u2588\u258e      | 65/195 [10:50<21:30,  9.93s/it, acc=92.19%, loss=0.2028]"
     ]
    },
    {
     "output_type": "stream",
     "name": "stdout",
     "text": [
      "Batch 65: Loss = 0.2028, Accuracy = 92.19%\n"
     ]
    },
    {
     "output_type": "stream",
     "name": "stderr",
     "text": [
      "Training:  34%|\u2588\u2588\u2588\u258d      | 66/195 [10:59<21:06,  9.81s/it, acc=94.14%, loss=0.1601]"
     ]
    },
    {
     "output_type": "stream",
     "name": "stdout",
     "text": [
      "Batch 66: Loss = 0.1601, Accuracy = 94.14%\n"
     ]
    },
    {
     "output_type": "stream",
     "name": "stderr",
     "text": [
      "Training:  34%|\u2588\u2588\u2588\u258d      | 67/195 [11:09<21:09,  9.92s/it, acc=92.58%, loss=0.1761]"
     ]
    },
    {
     "output_type": "stream",
     "name": "stdout",
     "text": [
      "Batch 67: Loss = 0.1761, Accuracy = 92.58%\n"
     ]
    },
    {
     "output_type": "stream",
     "name": "stderr",
     "text": [
      "Training:  35%|\u2588\u2588\u2588\u258d      | 68/195 [11:19<20:36,  9.73s/it, acc=94.53%, loss=0.1612]"
     ]
    },
    {
     "output_type": "stream",
     "name": "stdout",
     "text": [
      "Batch 68: Loss = 0.1612, Accuracy = 94.53%\n"
     ]
    },
    {
     "output_type": "stream",
     "name": "stderr",
     "text": [
      "Training:  35%|\u2588\u2588\u2588\u258c      | 69/195 [11:28<20:03,  9.55s/it, acc=93.75%, loss=0.1578]"
     ]
    },
    {
     "output_type": "stream",
     "name": "stdout",
     "text": [
      "Batch 69: Loss = 0.1578, Accuracy = 93.75%\n"
     ]
    },
    {
     "output_type": "stream",
     "name": "stderr",
     "text": [
      "Training:  36%|\u2588\u2588\u2588\u258c      | 70/195 [11:39<21:12, 10.18s/it, acc=91.02%, loss=0.1871]"
     ]
    },
    {
     "output_type": "stream",
     "name": "stdout",
     "text": [
      "Batch 70: Loss = 0.1871, Accuracy = 91.02%\n"
     ]
    },
    {
     "output_type": "stream",
     "name": "stderr",
     "text": [
      "Training:  36%|\u2588\u2588\u2588\u258b      | 71/195 [11:50<21:27, 10.38s/it, acc=91.80%, loss=0.2240]"
     ]
    },
    {
     "output_type": "stream",
     "name": "stdout",
     "text": [
      "Batch 71: Loss = 0.2240, Accuracy = 91.80%\n"
     ]
    },
    {
     "output_type": "stream",
     "name": "stderr",
     "text": [
      "Training:  37%|\u2588\u2588\u2588\u258b      | 72/195 [12:00<20:59, 10.24s/it, acc=93.75%, loss=0.1592]"
     ]
    },
    {
     "output_type": "stream",
     "name": "stdout",
     "text": [
      "Batch 72: Loss = 0.1592, Accuracy = 93.75%\n"
     ]
    },
    {
     "output_type": "stream",
     "name": "stderr",
     "text": [
      "Training:  37%|\u2588\u2588\u2588\u258b      | 73/195 [12:10<20:28, 10.07s/it, acc=91.02%, loss=0.2161]"
     ]
    },
    {
     "output_type": "stream",
     "name": "stdout",
     "text": [
      "Batch 73: Loss = 0.2161, Accuracy = 91.02%\n"
     ]
    },
    {
     "output_type": "stream",
     "name": "stderr",
     "text": [
      "Training:  38%|\u2588\u2588\u2588\u258a      | 74/195 [12:19<19:48,  9.82s/it, acc=95.70%, loss=0.1290]"
     ]
    },
    {
     "output_type": "stream",
     "name": "stdout",
     "text": [
      "Batch 74: Loss = 0.1290, Accuracy = 95.70%\n"
     ]
    },
    {
     "output_type": "stream",
     "name": "stderr",
     "text": [
      "Training:  38%|\u2588\u2588\u2588\u258a      | 75/195 [12:31<20:40, 10.34s/it, acc=94.92%, loss=0.1631]"
     ]
    },
    {
     "output_type": "stream",
     "name": "stdout",
     "text": [
      "Batch 75: Loss = 0.1631, Accuracy = 94.92%\n"
     ]
    },
    {
     "output_type": "stream",
     "name": "stderr",
     "text": [
      "Training:  39%|\u2588\u2588\u2588\u2589      | 76/195 [12:41<20:23, 10.28s/it, acc=94.53%, loss=0.1528]"
     ]
    },
    {
     "output_type": "stream",
     "name": "stdout",
     "text": [
      "Batch 76: Loss = 0.1528, Accuracy = 94.53%\n"
     ]
    },
    {
     "output_type": "stream",
     "name": "stderr",
     "text": [
      "Training:  39%|\u2588\u2588\u2588\u2589      | 77/195 [12:50<19:54, 10.12s/it, acc=93.36%, loss=0.1609]"
     ]
    },
    {
     "output_type": "stream",
     "name": "stdout",
     "text": [
      "Batch 77: Loss = 0.1609, Accuracy = 93.36%\n"
     ]
    },
    {
     "output_type": "stream",
     "name": "stderr",
     "text": [
      "Training:  40%|\u2588\u2588\u2588\u2588      | 78/195 [13:00<19:19,  9.91s/it, acc=95.70%, loss=0.1217]"
     ]
    },
    {
     "output_type": "stream",
     "name": "stdout",
     "text": [
      "Batch 78: Loss = 0.1217, Accuracy = 95.70%\n"
     ]
    },
    {
     "output_type": "stream",
     "name": "stderr",
     "text": [
      "Training:  41%|\u2588\u2588\u2588\u2588      | 79/195 [13:10<19:30, 10.09s/it, acc=92.58%, loss=0.1615]"
     ]
    },
    {
     "output_type": "stream",
     "name": "stdout",
     "text": [
      "Batch 79: Loss = 0.1615, Accuracy = 92.58%\n"
     ]
    },
    {
     "output_type": "stream",
     "name": "stderr",
     "text": [
      "Training:  41%|\u2588\u2588\u2588\u2588      | 80/195 [13:20<18:59,  9.91s/it, acc=90.62%, loss=0.2343]"
     ]
    },
    {
     "output_type": "stream",
     "name": "stdout",
     "text": [
      "Batch 80: Loss = 0.2343, Accuracy = 90.62%\n"
     ]
    },
    {
     "output_type": "stream",
     "name": "stderr",
     "text": [
      "Training:  42%|\u2588\u2588\u2588\u2588\u258f     | 81/195 [13:29<18:28,  9.72s/it, acc=92.58%, loss=0.2024]"
     ]
    },
    {
     "output_type": "stream",
     "name": "stdout",
     "text": [
      "Batch 81: Loss = 0.2024, Accuracy = 92.58%\n"
     ]
    },
    {
     "output_type": "stream",
     "name": "stderr",
     "text": [
      "Training:  42%|\u2588\u2588\u2588\u2588\u258f     | 82/195 [13:40<19:09, 10.18s/it, acc=94.92%, loss=0.1635]"
     ]
    },
    {
     "output_type": "stream",
     "name": "stdout",
     "text": [
      "Batch 82: Loss = 0.1635, Accuracy = 94.92%\n"
     ]
    },
    {
     "output_type": "stream",
     "name": "stderr",
     "text": [
      "Training:  43%|\u2588\u2588\u2588\u2588\u258e     | 83/195 [13:50<18:30,  9.92s/it, acc=86.72%, loss=0.2832]"
     ]
    },
    {
     "output_type": "stream",
     "name": "stdout",
     "text": [
      "Batch 83: Loss = 0.2832, Accuracy = 86.72%\n"
     ]
    },
    {
     "output_type": "stream",
     "name": "stderr",
     "text": [
      "Training:  43%|\u2588\u2588\u2588\u2588\u258e     | 84/195 [14:00<18:21,  9.92s/it, acc=92.58%, loss=0.2247]"
     ]
    },
    {
     "output_type": "stream",
     "name": "stdout",
     "text": [
      "Batch 84: Loss = 0.2247, Accuracy = 92.58%\n"
     ]
    },
    {
     "output_type": "stream",
     "name": "stderr",
     "text": [
      "Training:  44%|\u2588\u2588\u2588\u2588\u258e     | 85/195 [14:09<18:05,  9.87s/it, acc=94.92%, loss=0.1442]"
     ]
    },
    {
     "output_type": "stream",
     "name": "stdout",
     "text": [
      "Batch 85: Loss = 0.1442, Accuracy = 94.92%\n"
     ]
    },
    {
     "output_type": "stream",
     "name": "stderr",
     "text": [
      "Training:  44%|\u2588\u2588\u2588\u2588\u258d     | 86/195 [14:19<17:55,  9.86s/it, acc=93.36%, loss=0.1599]"
     ]
    },
    {
     "output_type": "stream",
     "name": "stdout",
     "text": [
      "Batch 86: Loss = 0.1599, Accuracy = 93.36%\n"
     ]
    },
    {
     "output_type": "stream",
     "name": "stderr",
     "text": [
      "Training:  45%|\u2588\u2588\u2588\u2588\u258d     | 87/195 [14:29<17:52,  9.93s/it, acc=92.58%, loss=0.1677]"
     ]
    },
    {
     "output_type": "stream",
     "name": "stdout",
     "text": [
      "Batch 87: Loss = 0.1677, Accuracy = 92.58%\n"
     ]
    },
    {
     "output_type": "stream",
     "name": "stderr",
     "text": [
      "Training:  45%|\u2588\u2588\u2588\u2588\u258c     | 88/195 [14:39<17:50, 10.00s/it, acc=91.41%, loss=0.2068]"
     ]
    },
    {
     "output_type": "stream",
     "name": "stdout",
     "text": [
      "Batch 88: Loss = 0.2068, Accuracy = 91.41%\n"
     ]
    },
    {
     "output_type": "stream",
     "name": "stderr",
     "text": [
      "Training:  46%|\u2588\u2588\u2588\u2588\u258c     | 89/195 [14:49<17:26,  9.87s/it, acc=91.02%, loss=0.1926]"
     ]
    },
    {
     "output_type": "stream",
     "name": "stdout",
     "text": [
      "Batch 89: Loss = 0.1926, Accuracy = 91.02%\n"
     ]
    },
    {
     "output_type": "stream",
     "name": "stderr",
     "text": [
      "Training:  46%|\u2588\u2588\u2588\u2588\u258c     | 90/195 [14:59<17:12,  9.84s/it, acc=92.58%, loss=0.2045]"
     ]
    },
    {
     "output_type": "stream",
     "name": "stdout",
     "text": [
      "Batch 90: Loss = 0.2045, Accuracy = 92.58%\n"
     ]
    },
    {
     "output_type": "stream",
     "name": "stderr",
     "text": [
      "Training:  47%|\u2588\u2588\u2588\u2588\u258b     | 91/195 [15:08<16:41,  9.63s/it, acc=91.41%, loss=0.1816]"
     ]
    },
    {
     "output_type": "stream",
     "name": "stdout",
     "text": [
      "Batch 91: Loss = 0.1816, Accuracy = 91.41%\n"
     ]
    },
    {
     "output_type": "stream",
     "name": "stderr",
     "text": [
      "Training:  47%|\u2588\u2588\u2588\u2588\u258b     | 92/195 [15:17<16:19,  9.51s/it, acc=92.58%, loss=0.1787]"
     ]
    },
    {
     "output_type": "stream",
     "name": "stdout",
     "text": [
      "Batch 92: Loss = 0.1787, Accuracy = 92.58%\n"
     ]
    },
    {
     "output_type": "stream",
     "name": "stderr",
     "text": [
      "Training:  48%|\u2588\u2588\u2588\u2588\u258a     | 93/195 [15:26<15:48,  9.30s/it, acc=93.36%, loss=0.1723]"
     ]
    },
    {
     "output_type": "stream",
     "name": "stdout",
     "text": [
      "Batch 93: Loss = 0.1723, Accuracy = 93.36%\n"
     ]
    },
    {
     "output_type": "stream",
     "name": "stderr",
     "text": [
      "Training:  48%|\u2588\u2588\u2588\u2588\u258a     | 94/195 [15:36<15:59,  9.50s/it, acc=94.53%, loss=0.1377]"
     ]
    },
    {
     "output_type": "stream",
     "name": "stdout",
     "text": [
      "Batch 94: Loss = 0.1377, Accuracy = 94.53%\n"
     ]
    },
    {
     "output_type": "stream",
     "name": "stderr",
     "text": [
      "Training:  49%|\u2588\u2588\u2588\u2588\u258a     | 95/195 [15:47<16:28,  9.89s/it, acc=93.75%, loss=0.1543]"
     ]
    },
    {
     "output_type": "stream",
     "name": "stdout",
     "text": [
      "Batch 95: Loss = 0.1543, Accuracy = 93.75%\n"
     ]
    },
    {
     "output_type": "stream",
     "name": "stderr",
     "text": [
      "Training:  49%|\u2588\u2588\u2588\u2588\u2589     | 96/195 [15:57<16:38, 10.09s/it, acc=91.41%, loss=0.1968]"
     ]
    },
    {
     "output_type": "stream",
     "name": "stdout",
     "text": [
      "Batch 96: Loss = 0.1968, Accuracy = 91.41%\n"
     ]
    },
    {
     "output_type": "stream",
     "name": "stderr",
     "text": [
      "Training:  50%|\u2588\u2588\u2588\u2588\u2589     | 97/195 [16:08<16:38, 10.18s/it, acc=89.45%, loss=0.2573]"
     ]
    },
    {
     "output_type": "stream",
     "name": "stdout",
     "text": [
      "Batch 97: Loss = 0.2573, Accuracy = 89.45%\n"
     ]
    },
    {
     "output_type": "stream",
     "name": "stderr",
     "text": [
      "Training:  50%|\u2588\u2588\u2588\u2588\u2588     | 98/195 [16:18<16:19, 10.10s/it, acc=92.97%, loss=0.1672]"
     ]
    },
    {
     "output_type": "stream",
     "name": "stdout",
     "text": [
      "Batch 98: Loss = 0.1672, Accuracy = 92.97%\n"
     ]
    },
    {
     "output_type": "stream",
     "name": "stderr",
     "text": [
      "Training:  51%|\u2588\u2588\u2588\u2588\u2588     | 99/195 [16:29<16:38, 10.41s/it, acc=91.41%, loss=0.1922]"
     ]
    },
    {
     "output_type": "stream",
     "name": "stdout",
     "text": [
      "Batch 99: Loss = 0.1922, Accuracy = 91.41%\n"
     ]
    },
    {
     "output_type": "stream",
     "name": "stderr",
     "text": [
      "Training:  51%|\u2588\u2588\u2588\u2588\u2588\u258f    | 100/195 [16:39<16:21, 10.33s/it, acc=89.84%, loss=0.2315]"
     ]
    },
    {
     "output_type": "stream",
     "name": "stdout",
     "text": [
      "Batch 100: Loss = 0.2315, Accuracy = 89.84%\n"
     ]
    },
    {
     "output_type": "stream",
     "name": "stderr",
     "text": [
      "Training:  52%|\u2588\u2588\u2588\u2588\u2588\u258f    | 101/195 [16:51<16:51, 10.76s/it, acc=94.92%, loss=0.1362]"
     ]
    },
    {
     "output_type": "stream",
     "name": "stdout",
     "text": [
      "Batch 101: Loss = 0.1362, Accuracy = 94.92%\n"
     ]
    },
    {
     "output_type": "stream",
     "name": "stderr",
     "text": [
      "Training:  52%|\u2588\u2588\u2588\u2588\u2588\u258f    | 102/195 [17:00<16:04, 10.37s/it, acc=91.41%, loss=0.2077]"
     ]
    },
    {
     "output_type": "stream",
     "name": "stdout",
     "text": [
      "Batch 102: Loss = 0.2077, Accuracy = 91.41%\n"
     ]
    },
    {
     "output_type": "stream",
     "name": "stderr",
     "text": [
      "Training:  53%|\u2588\u2588\u2588\u2588\u2588\u258e    | 103/195 [17:11<15:59, 10.42s/it, acc=92.19%, loss=0.1993]"
     ]
    },
    {
     "output_type": "stream",
     "name": "stdout",
     "text": [
      "Batch 103: Loss = 0.1993, Accuracy = 92.19%\n"
     ]
    },
    {
     "output_type": "stream",
     "name": "stderr",
     "text": [
      "Training:  53%|\u2588\u2588\u2588\u2588\u2588\u258e    | 104/195 [17:20<15:19, 10.10s/it, acc=91.41%, loss=0.2020]"
     ]
    },
    {
     "output_type": "stream",
     "name": "stdout",
     "text": [
      "Batch 104: Loss = 0.2020, Accuracy = 91.41%\n"
     ]
    },
    {
     "output_type": "stream",
     "name": "stderr",
     "text": [
      "Training:  54%|\u2588\u2588\u2588\u2588\u2588\u258d    | 105/195 [17:30<15:11, 10.13s/it, acc=91.41%, loss=0.1865]"
     ]
    },
    {
     "output_type": "stream",
     "name": "stdout",
     "text": [
      "Batch 105: Loss = 0.1865, Accuracy = 91.41%\n"
     ]
    },
    {
     "output_type": "stream",
     "name": "stderr",
     "text": [
      "Training:  54%|\u2588\u2588\u2588\u2588\u2588\u258d    | 106/195 [17:41<15:10, 10.23s/it, acc=93.36%, loss=0.2198]"
     ]
    },
    {
     "output_type": "stream",
     "name": "stdout",
     "text": [
      "Batch 106: Loss = 0.2198, Accuracy = 93.36%\n"
     ]
    },
    {
     "output_type": "stream",
     "name": "stderr",
     "text": [
      "Training:  55%|\u2588\u2588\u2588\u2588\u2588\u258d    | 107/195 [17:50<14:46, 10.07s/it, acc=90.23%, loss=0.2235]"
     ]
    },
    {
     "output_type": "stream",
     "name": "stdout",
     "text": [
      "Batch 107: Loss = 0.2235, Accuracy = 90.23%\n"
     ]
    },
    {
     "output_type": "stream",
     "name": "stderr",
     "text": [
      "Training:  55%|\u2588\u2588\u2588\u2588\u2588\u258c    | 108/195 [18:00<14:26,  9.96s/it, acc=91.02%, loss=0.1920]"
     ]
    },
    {
     "output_type": "stream",
     "name": "stdout",
     "text": [
      "Batch 108: Loss = 0.1920, Accuracy = 91.02%\n"
     ]
    },
    {
     "output_type": "stream",
     "name": "stderr",
     "text": [
      "Training:  56%|\u2588\u2588\u2588\u2588\u2588\u258c    | 109/195 [18:09<13:57,  9.74s/it, acc=90.62%, loss=0.2001]"
     ]
    },
    {
     "output_type": "stream",
     "name": "stdout",
     "text": [
      "Batch 109: Loss = 0.2001, Accuracy = 90.62%\n"
     ]
    },
    {
     "output_type": "stream",
     "name": "stderr",
     "text": [
      "Training:  56%|\u2588\u2588\u2588\u2588\u2588\u258b    | 110/195 [18:19<13:41,  9.66s/it, acc=94.92%, loss=0.1390]"
     ]
    },
    {
     "output_type": "stream",
     "name": "stdout",
     "text": [
      "Batch 110: Loss = 0.1390, Accuracy = 94.92%\n"
     ]
    },
    {
     "output_type": "stream",
     "name": "stderr",
     "text": [
      "Training:  57%|\u2588\u2588\u2588\u2588\u2588\u258b    | 111/195 [18:28<13:25,  9.59s/it, acc=92.19%, loss=0.1950]"
     ]
    },
    {
     "output_type": "stream",
     "name": "stdout",
     "text": [
      "Batch 111: Loss = 0.1950, Accuracy = 92.19%\n"
     ]
    },
    {
     "output_type": "stream",
     "name": "stderr",
     "text": [
      "Training:  57%|\u2588\u2588\u2588\u2588\u2588\u258b    | 112/195 [18:38<13:08,  9.51s/it, acc=91.41%, loss=0.2086]"
     ]
    },
    {
     "output_type": "stream",
     "name": "stdout",
     "text": [
      "Batch 112: Loss = 0.2086, Accuracy = 91.41%\n"
     ]
    },
    {
     "output_type": "stream",
     "name": "stderr",
     "text": [
      "Training:  58%|\u2588\u2588\u2588\u2588\u2588\u258a    | 113/195 [18:47<13:02,  9.54s/it, acc=91.41%, loss=0.2084]"
     ]
    },
    {
     "output_type": "stream",
     "name": "stdout",
     "text": [
      "Batch 113: Loss = 0.2084, Accuracy = 91.41%\n"
     ]
    },
    {
     "output_type": "stream",
     "name": "stderr",
     "text": [
      "Training:  58%|\u2588\u2588\u2588\u2588\u2588\u258a    | 114/195 [18:56<12:47,  9.48s/it, acc=94.53%, loss=0.1504]"
     ]
    },
    {
     "output_type": "stream",
     "name": "stdout",
     "text": [
      "Batch 114: Loss = 0.1504, Accuracy = 94.53%\n"
     ]
    },
    {
     "output_type": "stream",
     "name": "stderr",
     "text": [
      "Training:  59%|\u2588\u2588\u2588\u2588\u2588\u2589    | 115/195 [19:09<13:50, 10.38s/it, acc=94.92%, loss=0.1589]"
     ]
    },
    {
     "output_type": "stream",
     "name": "stdout",
     "text": [
      "Batch 115: Loss = 0.1589, Accuracy = 94.92%\n"
     ]
    },
    {
     "output_type": "stream",
     "name": "stderr",
     "text": [
      "Training:  59%|\u2588\u2588\u2588\u2588\u2588\u2589    | 116/195 [19:19<13:40, 10.38s/it, acc=88.28%, loss=0.2546]"
     ]
    },
    {
     "output_type": "stream",
     "name": "stdout",
     "text": [
      "Batch 116: Loss = 0.2546, Accuracy = 88.28%\n"
     ]
    },
    {
     "output_type": "stream",
     "name": "stderr",
     "text": [
      "Training:  60%|\u2588\u2588\u2588\u2588\u2588\u2588    | 117/195 [19:29<13:23, 10.31s/it, acc=92.97%, loss=0.1827]"
     ]
    },
    {
     "output_type": "stream",
     "name": "stdout",
     "text": [
      "Batch 117: Loss = 0.1827, Accuracy = 92.97%\n"
     ]
    },
    {
     "output_type": "stream",
     "name": "stderr",
     "text": [
      "Training:  61%|\u2588\u2588\u2588\u2588\u2588\u2588    | 118/195 [19:41<13:32, 10.55s/it, acc=92.58%, loss=0.1914]"
     ]
    },
    {
     "output_type": "stream",
     "name": "stdout",
     "text": [
      "Batch 118: Loss = 0.1914, Accuracy = 92.58%\n"
     ]
    },
    {
     "output_type": "stream",
     "name": "stderr",
     "text": [
      "Training:  61%|\u2588\u2588\u2588\u2588\u2588\u2588    | 119/195 [19:51<13:24, 10.58s/it, acc=91.80%, loss=0.1523]"
     ]
    },
    {
     "output_type": "stream",
     "name": "stdout",
     "text": [
      "Batch 119: Loss = 0.1523, Accuracy = 91.80%\n"
     ]
    },
    {
     "output_type": "stream",
     "name": "stderr",
     "text": [
      "Training:  62%|\u2588\u2588\u2588\u2588\u2588\u2588\u258f   | 120/195 [20:01<13:02, 10.44s/it, acc=92.58%, loss=0.1898]"
     ]
    },
    {
     "output_type": "stream",
     "name": "stdout",
     "text": [
      "Batch 120: Loss = 0.1898, Accuracy = 92.58%\n"
     ]
    },
    {
     "output_type": "stream",
     "name": "stderr",
     "text": [
      "Training:  62%|\u2588\u2588\u2588\u2588\u2588\u2588\u258f   | 121/195 [20:13<13:13, 10.72s/it, acc=92.97%, loss=0.1762]"
     ]
    },
    {
     "output_type": "stream",
     "name": "stdout",
     "text": [
      "Batch 121: Loss = 0.1762, Accuracy = 92.97%\n"
     ]
    },
    {
     "output_type": "stream",
     "name": "stderr",
     "text": [
      "Training:  63%|\u2588\u2588\u2588\u2588\u2588\u2588\u258e   | 122/195 [20:23<12:43, 10.45s/it, acc=92.19%, loss=0.1838]"
     ]
    },
    {
     "output_type": "stream",
     "name": "stdout",
     "text": [
      "Batch 122: Loss = 0.1838, Accuracy = 92.19%\n"
     ]
    },
    {
     "output_type": "stream",
     "name": "stderr",
     "text": [
      "Training:  63%|\u2588\u2588\u2588\u2588\u2588\u2588\u258e   | 123/195 [20:34<12:46, 10.64s/it, acc=94.14%, loss=0.1741]"
     ]
    },
    {
     "output_type": "stream",
     "name": "stdout",
     "text": [
      "Batch 123: Loss = 0.1741, Accuracy = 94.14%\n"
     ]
    },
    {
     "output_type": "stream",
     "name": "stderr",
     "text": [
      "Training:  64%|\u2588\u2588\u2588\u2588\u2588\u2588\u258e   | 124/195 [20:45<12:53, 10.90s/it, acc=93.36%, loss=0.1744]"
     ]
    },
    {
     "output_type": "stream",
     "name": "stdout",
     "text": [
      "Batch 124: Loss = 0.1744, Accuracy = 93.36%\n"
     ]
    },
    {
     "output_type": "stream",
     "name": "stderr",
     "text": [
      "Training:  64%|\u2588\u2588\u2588\u2588\u2588\u2588\u258d   | 125/195 [20:56<12:45, 10.94s/it, acc=92.19%, loss=0.1961]"
     ]
    },
    {
     "output_type": "stream",
     "name": "stdout",
     "text": [
      "Batch 125: Loss = 0.1961, Accuracy = 92.19%\n"
     ]
    },
    {
     "output_type": "stream",
     "name": "stderr",
     "text": [
      "Training:  65%|\u2588\u2588\u2588\u2588\u2588\u2588\u258d   | 126/195 [21:05<11:54, 10.36s/it, acc=90.23%, loss=0.2229]"
     ]
    },
    {
     "output_type": "stream",
     "name": "stdout",
     "text": [
      "Batch 126: Loss = 0.2229, Accuracy = 90.23%\n"
     ]
    },
    {
     "output_type": "stream",
     "name": "stderr",
     "text": [
      "Training:  65%|\u2588\u2588\u2588\u2588\u2588\u2588\u258c   | 127/195 [21:15<11:42, 10.33s/it, acc=89.84%, loss=0.2318]"
     ]
    },
    {
     "output_type": "stream",
     "name": "stdout",
     "text": [
      "Batch 127: Loss = 0.2318, Accuracy = 89.84%\n"
     ]
    },
    {
     "output_type": "stream",
     "name": "stderr",
     "text": [
      "Training:  66%|\u2588\u2588\u2588\u2588\u2588\u2588\u258c   | 128/195 [21:25<11:14, 10.07s/it, acc=94.14%, loss=0.1414]"
     ]
    },
    {
     "output_type": "stream",
     "name": "stdout",
     "text": [
      "Batch 128: Loss = 0.1414, Accuracy = 94.14%\n"
     ]
    },
    {
     "output_type": "stream",
     "name": "stderr",
     "text": [
      "Training:  66%|\u2588\u2588\u2588\u2588\u2588\u2588\u258c   | 129/195 [21:35<11:01, 10.03s/it, acc=92.58%, loss=0.2230]"
     ]
    },
    {
     "output_type": "stream",
     "name": "stdout",
     "text": [
      "Batch 129: Loss = 0.2230, Accuracy = 92.58%\n"
     ]
    },
    {
     "output_type": "stream",
     "name": "stderr",
     "text": [
      "Training:  67%|\u2588\u2588\u2588\u2588\u2588\u2588\u258b   | 130/195 [21:44<10:39,  9.84s/it, acc=91.80%, loss=0.2160]"
     ]
    },
    {
     "output_type": "stream",
     "name": "stdout",
     "text": [
      "Batch 130: Loss = 0.2160, Accuracy = 91.80%\n"
     ]
    },
    {
     "output_type": "stream",
     "name": "stderr",
     "text": [
      "Training:  67%|\u2588\u2588\u2588\u2588\u2588\u2588\u258b   | 131/195 [21:54<10:27,  9.80s/it, acc=94.92%, loss=0.1578]"
     ]
    },
    {
     "output_type": "stream",
     "name": "stdout",
     "text": [
      "Batch 131: Loss = 0.1578, Accuracy = 94.92%\n"
     ]
    },
    {
     "output_type": "stream",
     "name": "stderr",
     "text": [
      "Training:  68%|\u2588\u2588\u2588\u2588\u2588\u2588\u258a   | 132/195 [22:09<11:59, 11.42s/it, acc=92.58%, loss=0.1818]"
     ]
    },
    {
     "output_type": "stream",
     "name": "stdout",
     "text": [
      "Batch 132: Loss = 0.1818, Accuracy = 92.58%\n"
     ]
    },
    {
     "output_type": "stream",
     "name": "stderr",
     "text": [
      "Training:  68%|\u2588\u2588\u2588\u2588\u2588\u2588\u258a   | 133/195 [22:19<11:23, 11.02s/it, acc=89.84%, loss=0.2368]"
     ]
    },
    {
     "output_type": "stream",
     "name": "stdout",
     "text": [
      "Batch 133: Loss = 0.2368, Accuracy = 89.84%\n"
     ]
    },
    {
     "output_type": "stream",
     "name": "stderr",
     "text": [
      "Training:  69%|\u2588\u2588\u2588\u2588\u2588\u2588\u258a   | 134/195 [22:29<10:43, 10.55s/it, acc=94.92%, loss=0.1457]"
     ]
    },
    {
     "output_type": "stream",
     "name": "stdout",
     "text": [
      "Batch 134: Loss = 0.1457, Accuracy = 94.92%\n"
     ]
    },
    {
     "output_type": "stream",
     "name": "stderr",
     "text": [
      "Training:  69%|\u2588\u2588\u2588\u2588\u2588\u2588\u2589   | 135/195 [22:38<10:15, 10.26s/it, acc=90.62%, loss=0.2369]"
     ]
    },
    {
     "output_type": "stream",
     "name": "stdout",
     "text": [
      "Batch 135: Loss = 0.2369, Accuracy = 90.62%\n"
     ]
    },
    {
     "output_type": "stream",
     "name": "stderr",
     "text": [
      "Training:  70%|\u2588\u2588\u2588\u2588\u2588\u2588\u2589   | 136/195 [22:48<10:00, 10.19s/it, acc=94.53%, loss=0.1622]"
     ]
    },
    {
     "output_type": "stream",
     "name": "stdout",
     "text": [
      "Batch 136: Loss = 0.1622, Accuracy = 94.53%\n"
     ]
    },
    {
     "output_type": "stream",
     "name": "stderr",
     "text": [
      "Training:  70%|\u2588\u2588\u2588\u2588\u2588\u2588\u2588   | 137/195 [22:58<09:40, 10.02s/it, acc=92.19%, loss=0.1831]"
     ]
    },
    {
     "output_type": "stream",
     "name": "stdout",
     "text": [
      "Batch 137: Loss = 0.1831, Accuracy = 92.19%\n"
     ]
    },
    {
     "output_type": "stream",
     "name": "stderr",
     "text": [
      "Training:  71%|\u2588\u2588\u2588\u2588\u2588\u2588\u2588   | 138/195 [23:13<10:54, 11.47s/it, acc=92.58%, loss=0.1742]"
     ]
    },
    {
     "output_type": "stream",
     "name": "stdout",
     "text": [
      "Batch 138: Loss = 0.1742, Accuracy = 92.58%\n"
     ]
    },
    {
     "output_type": "stream",
     "name": "stderr",
     "text": [
      "Training:  71%|\u2588\u2588\u2588\u2588\u2588\u2588\u2588\u258f  | 139/195 [23:27<11:28, 12.29s/it, acc=91.80%, loss=0.1805]"
     ]
    },
    {
     "output_type": "stream",
     "name": "stdout",
     "text": [
      "Batch 139: Loss = 0.1805, Accuracy = 91.80%\n"
     ]
    },
    {
     "output_type": "stream",
     "name": "stderr",
     "text": [
      "Training:  72%|\u2588\u2588\u2588\u2588\u2588\u2588\u2588\u258f  | 140/195 [23:36<10:19, 11.27s/it, acc=91.02%, loss=0.2150]"
     ]
    },
    {
     "output_type": "stream",
     "name": "stdout",
     "text": [
      "Batch 140: Loss = 0.2150, Accuracy = 91.02%\n"
     ]
    },
    {
     "output_type": "stream",
     "name": "stderr",
     "text": [
      "Training:  72%|\u2588\u2588\u2588\u2588\u2588\u2588\u2588\u258f  | 141/195 [23:45<09:34, 10.63s/it, acc=94.14%, loss=0.1443]"
     ]
    },
    {
     "output_type": "stream",
     "name": "stdout",
     "text": [
      "Batch 141: Loss = 0.1443, Accuracy = 94.14%\n"
     ]
    },
    {
     "output_type": "stream",
     "name": "stderr",
     "text": [
      "Training:  73%|\u2588\u2588\u2588\u2588\u2588\u2588\u2588\u258e  | 142/195 [23:56<09:21, 10.60s/it, acc=94.92%, loss=0.1540]"
     ]
    },
    {
     "output_type": "stream",
     "name": "stdout",
     "text": [
      "Batch 142: Loss = 0.1540, Accuracy = 94.92%\n"
     ]
    },
    {
     "output_type": "stream",
     "name": "stderr",
     "text": [
      "Training:  73%|\u2588\u2588\u2588\u2588\u2588\u2588\u2588\u258e  | 143/195 [24:05<08:53, 10.26s/it, acc=90.62%, loss=0.2044]"
     ]
    },
    {
     "output_type": "stream",
     "name": "stdout",
     "text": [
      "Batch 143: Loss = 0.2044, Accuracy = 90.62%\n"
     ]
    },
    {
     "output_type": "stream",
     "name": "stderr",
     "text": [
      "Training:  74%|\u2588\u2588\u2588\u2588\u2588\u2588\u2588\u258d  | 144/195 [24:15<08:38, 10.16s/it, acc=91.80%, loss=0.1985]"
     ]
    },
    {
     "output_type": "stream",
     "name": "stdout",
     "text": [
      "Batch 144: Loss = 0.1985, Accuracy = 91.80%\n"
     ]
    },
    {
     "output_type": "stream",
     "name": "stderr",
     "text": [
      "Training:  74%|\u2588\u2588\u2588\u2588\u2588\u2588\u2588\u258d  | 145/195 [24:24<08:14,  9.88s/it, acc=92.19%, loss=0.1742]"
     ]
    },
    {
     "output_type": "stream",
     "name": "stdout",
     "text": [
      "Batch 145: Loss = 0.1742, Accuracy = 92.19%\n"
     ]
    },
    {
     "output_type": "stream",
     "name": "stderr",
     "text": [
      "Training:  75%|\u2588\u2588\u2588\u2588\u2588\u2588\u2588\u258d  | 146/195 [24:34<08:11, 10.02s/it, acc=93.36%, loss=0.1550]"
     ]
    },
    {
     "output_type": "stream",
     "name": "stdout",
     "text": [
      "Batch 146: Loss = 0.1550, Accuracy = 93.36%\n"
     ]
    },
    {
     "output_type": "stream",
     "name": "stderr",
     "text": [
      "Training:  75%|\u2588\u2588\u2588\u2588\u2588\u2588\u2588\u258c  | 147/195 [24:45<08:02, 10.06s/it, acc=91.41%, loss=0.2021]"
     ]
    },
    {
     "output_type": "stream",
     "name": "stdout",
     "text": [
      "Batch 147: Loss = 0.2021, Accuracy = 91.41%\n"
     ]
    },
    {
     "output_type": "stream",
     "name": "stderr",
     "text": [
      "Training:  76%|\u2588\u2588\u2588\u2588\u2588\u2588\u2588\u258c  | 148/195 [24:54<07:48,  9.97s/it, acc=93.36%, loss=0.1652]"
     ]
    },
    {
     "output_type": "stream",
     "name": "stdout",
     "text": [
      "Batch 148: Loss = 0.1652, Accuracy = 93.36%\n"
     ]
    },
    {
     "output_type": "stream",
     "name": "stderr",
     "text": [
      "Training:  76%|\u2588\u2588\u2588\u2588\u2588\u2588\u2588\u258b  | 149/195 [25:04<07:33,  9.87s/it, acc=93.75%, loss=0.1933]"
     ]
    },
    {
     "output_type": "stream",
     "name": "stdout",
     "text": [
      "Batch 149: Loss = 0.1933, Accuracy = 93.75%\n"
     ]
    },
    {
     "output_type": "stream",
     "name": "stderr",
     "text": [
      "Training:  77%|\u2588\u2588\u2588\u2588\u2588\u2588\u2588\u258b  | 150/195 [25:13<07:12,  9.62s/it, acc=91.41%, loss=0.2308]"
     ]
    },
    {
     "output_type": "stream",
     "name": "stdout",
     "text": [
      "Batch 150: Loss = 0.2308, Accuracy = 91.41%\n"
     ]
    },
    {
     "output_type": "stream",
     "name": "stderr",
     "text": [
      "Training:  77%|\u2588\u2588\u2588\u2588\u2588\u2588\u2588\u258b  | 151/195 [25:23<07:03,  9.63s/it, acc=94.14%, loss=0.1438]"
     ]
    },
    {
     "output_type": "stream",
     "name": "stdout",
     "text": [
      "Batch 151: Loss = 0.1438, Accuracy = 94.14%\n"
     ]
    },
    {
     "output_type": "stream",
     "name": "stderr",
     "text": [
      "Training:  78%|\u2588\u2588\u2588\u2588\u2588\u2588\u2588\u258a  | 152/195 [25:32<06:54,  9.64s/it, acc=91.80%, loss=0.1805]"
     ]
    },
    {
     "output_type": "stream",
     "name": "stdout",
     "text": [
      "Batch 152: Loss = 0.1805, Accuracy = 91.80%\n"
     ]
    },
    {
     "output_type": "stream",
     "name": "stderr",
     "text": [
      "Training:  78%|\u2588\u2588\u2588\u2588\u2588\u2588\u2588\u258a  | 153/195 [25:42<06:43,  9.60s/it, acc=91.80%, loss=0.2043]"
     ]
    },
    {
     "output_type": "stream",
     "name": "stdout",
     "text": [
      "Batch 153: Loss = 0.2043, Accuracy = 91.80%\n"
     ]
    },
    {
     "output_type": "stream",
     "name": "stderr",
     "text": [
      "Training:  79%|\u2588\u2588\u2588\u2588\u2588\u2588\u2588\u2589  | 154/195 [25:53<06:53, 10.09s/it, acc=89.45%, loss=0.1980]"
     ]
    },
    {
     "output_type": "stream",
     "name": "stdout",
     "text": [
      "Batch 154: Loss = 0.1980, Accuracy = 89.45%\n"
     ]
    },
    {
     "output_type": "stream",
     "name": "stderr",
     "text": [
      "Training:  79%|\u2588\u2588\u2588\u2588\u2588\u2588\u2588\u2589  | 155/195 [26:02<06:26,  9.66s/it, acc=94.92%, loss=0.1453]"
     ]
    },
    {
     "output_type": "stream",
     "name": "stdout",
     "text": [
      "Batch 155: Loss = 0.1453, Accuracy = 94.92%\n"
     ]
    },
    {
     "output_type": "stream",
     "name": "stderr",
     "text": [
      "Training:  80%|\u2588\u2588\u2588\u2588\u2588\u2588\u2588\u2588  | 156/195 [26:12<06:28,  9.96s/it, acc=94.92%, loss=0.1483]"
     ]
    },
    {
     "output_type": "stream",
     "name": "stdout",
     "text": [
      "Batch 156: Loss = 0.1483, Accuracy = 94.92%\n"
     ]
    },
    {
     "output_type": "stream",
     "name": "stderr",
     "text": [
      "Training:  81%|\u2588\u2588\u2588\u2588\u2588\u2588\u2588\u2588  | 157/195 [26:22<06:11,  9.78s/it, acc=94.14%, loss=0.1956]"
     ]
    },
    {
     "output_type": "stream",
     "name": "stdout",
     "text": [
      "Batch 157: Loss = 0.1956, Accuracy = 94.14%\n"
     ]
    },
    {
     "output_type": "stream",
     "name": "stderr",
     "text": [
      "Training:  81%|\u2588\u2588\u2588\u2588\u2588\u2588\u2588\u2588  | 158/195 [26:37<07:07, 11.55s/it, acc=93.75%, loss=0.1815]"
     ]
    },
    {
     "output_type": "stream",
     "name": "stdout",
     "text": [
      "Batch 158: Loss = 0.1815, Accuracy = 93.75%\n"
     ]
    },
    {
     "output_type": "stream",
     "name": "stderr",
     "text": [
      "Training:  82%|\u2588\u2588\u2588\u2588\u2588\u2588\u2588\u2588\u258f | 159/195 [26:47<06:28, 10.80s/it, acc=94.14%, loss=0.1708]"
     ]
    },
    {
     "output_type": "stream",
     "name": "stdout",
     "text": [
      "Batch 159: Loss = 0.1708, Accuracy = 94.14%\n"
     ]
    },
    {
     "output_type": "stream",
     "name": "stderr",
     "text": [
      "Training:  82%|\u2588\u2588\u2588\u2588\u2588\u2588\u2588\u2588\u258f | 160/195 [26:57<06:15, 10.72s/it, acc=91.80%, loss=0.2060]"
     ]
    },
    {
     "output_type": "stream",
     "name": "stdout",
     "text": [
      "Batch 160: Loss = 0.2060, Accuracy = 91.80%\n"
     ]
    },
    {
     "output_type": "stream",
     "name": "stderr",
     "text": [
      "Training:  83%|\u2588\u2588\u2588\u2588\u2588\u2588\u2588\u2588\u258e | 161/195 [27:07<05:53, 10.39s/it, acc=91.80%, loss=0.1940]"
     ]
    },
    {
     "output_type": "stream",
     "name": "stdout",
     "text": [
      "Batch 161: Loss = 0.1940, Accuracy = 91.80%\n"
     ]
    },
    {
     "output_type": "stream",
     "name": "stderr",
     "text": [
      "Training:  83%|\u2588\u2588\u2588\u2588\u2588\u2588\u2588\u2588\u258e | 162/195 [27:18<05:47, 10.53s/it, acc=93.75%, loss=0.1651]"
     ]
    },
    {
     "output_type": "stream",
     "name": "stdout",
     "text": [
      "Batch 162: Loss = 0.1651, Accuracy = 93.75%\n"
     ]
    },
    {
     "output_type": "stream",
     "name": "stderr",
     "text": [
      "Training:  84%|\u2588\u2588\u2588\u2588\u2588\u2588\u2588\u2588\u258e | 163/195 [27:27<05:27, 10.24s/it, acc=89.45%, loss=0.2058]"
     ]
    },
    {
     "output_type": "stream",
     "name": "stdout",
     "text": [
      "Batch 163: Loss = 0.2058, Accuracy = 89.45%\n"
     ]
    },
    {
     "output_type": "stream",
     "name": "stderr",
     "text": [
      "Training:  84%|\u2588\u2588\u2588\u2588\u2588\u2588\u2588\u2588\u258d | 164/195 [27:36<05:07,  9.91s/it, acc=89.84%, loss=0.2161]"
     ]
    },
    {
     "output_type": "stream",
     "name": "stdout",
     "text": [
      "Batch 164: Loss = 0.2161, Accuracy = 89.84%\n"
     ]
    },
    {
     "output_type": "stream",
     "name": "stderr",
     "text": [
      "Training:  85%|\u2588\u2588\u2588\u2588\u2588\u2588\u2588\u2588\u258d | 165/195 [27:47<05:01, 10.04s/it, acc=93.75%, loss=0.1663]"
     ]
    },
    {
     "output_type": "stream",
     "name": "stdout",
     "text": [
      "Batch 165: Loss = 0.1663, Accuracy = 93.75%\n"
     ]
    },
    {
     "output_type": "stream",
     "name": "stderr",
     "text": [
      "Training:  85%|\u2588\u2588\u2588\u2588\u2588\u2588\u2588\u2588\u258c | 166/195 [27:58<05:02, 10.42s/it, acc=93.75%, loss=0.1843]"
     ]
    },
    {
     "output_type": "stream",
     "name": "stdout",
     "text": [
      "Batch 166: Loss = 0.1843, Accuracy = 93.75%\n"
     ]
    },
    {
     "output_type": "stream",
     "name": "stderr",
     "text": [
      "Training:  86%|\u2588\u2588\u2588\u2588\u2588\u2588\u2588\u2588\u258c | 167/195 [28:08<04:48, 10.29s/it, acc=91.41%, loss=0.1873]"
     ]
    },
    {
     "output_type": "stream",
     "name": "stdout",
     "text": [
      "Batch 167: Loss = 0.1873, Accuracy = 91.41%\n"
     ]
    },
    {
     "output_type": "stream",
     "name": "stderr",
     "text": [
      "Training:  86%|\u2588\u2588\u2588\u2588\u2588\u2588\u2588\u2588\u258c | 168/195 [28:18<04:34, 10.18s/it, acc=92.97%, loss=0.1816]"
     ]
    },
    {
     "output_type": "stream",
     "name": "stdout",
     "text": [
      "Batch 168: Loss = 0.1816, Accuracy = 92.97%\n"
     ]
    },
    {
     "output_type": "stream",
     "name": "stderr",
     "text": [
      "Training:  87%|\u2588\u2588\u2588\u2588\u2588\u2588\u2588\u2588\u258b | 169/195 [28:29<04:33, 10.51s/it, acc=94.14%, loss=0.1329]"
     ]
    },
    {
     "output_type": "stream",
     "name": "stdout",
     "text": [
      "Batch 169: Loss = 0.1329, Accuracy = 94.14%\n"
     ]
    },
    {
     "output_type": "stream",
     "name": "stderr",
     "text": [
      "Training:  87%|\u2588\u2588\u2588\u2588\u2588\u2588\u2588\u2588\u258b | 170/195 [28:38<04:12, 10.10s/it, acc=93.75%, loss=0.1707]"
     ]
    },
    {
     "output_type": "stream",
     "name": "stdout",
     "text": [
      "Batch 170: Loss = 0.1707, Accuracy = 93.75%\n"
     ]
    },
    {
     "output_type": "stream",
     "name": "stderr",
     "text": [
      "Training:  88%|\u2588\u2588\u2588\u2588\u2588\u2588\u2588\u2588\u258a | 171/195 [28:47<03:51,  9.67s/it, acc=91.41%, loss=0.1896]"
     ]
    },
    {
     "output_type": "stream",
     "name": "stdout",
     "text": [
      "Batch 171: Loss = 0.1896, Accuracy = 91.41%\n"
     ]
    },
    {
     "output_type": "stream",
     "name": "stderr",
     "text": [
      "Training:  88%|\u2588\u2588\u2588\u2588\u2588\u2588\u2588\u2588\u258a | 172/195 [28:56<03:40,  9.61s/it, acc=89.45%, loss=0.2309]"
     ]
    },
    {
     "output_type": "stream",
     "name": "stdout",
     "text": [
      "Batch 172: Loss = 0.2309, Accuracy = 89.45%\n"
     ]
    },
    {
     "output_type": "stream",
     "name": "stderr",
     "text": [
      "Training:  89%|\u2588\u2588\u2588\u2588\u2588\u2588\u2588\u2588\u258a | 173/195 [29:06<03:34,  9.77s/it, acc=93.36%, loss=0.1665]"
     ]
    },
    {
     "output_type": "stream",
     "name": "stdout",
     "text": [
      "Batch 173: Loss = 0.1665, Accuracy = 93.36%\n"
     ]
    },
    {
     "output_type": "stream",
     "name": "stderr",
     "text": [
      "Training:  89%|\u2588\u2588\u2588\u2588\u2588\u2588\u2588\u2588\u2589 | 174/195 [29:17<03:27,  9.90s/it, acc=89.84%, loss=0.2196]"
     ]
    },
    {
     "output_type": "stream",
     "name": "stdout",
     "text": [
      "Batch 174: Loss = 0.2196, Accuracy = 89.84%\n"
     ]
    },
    {
     "output_type": "stream",
     "name": "stderr",
     "text": [
      "Training:  90%|\u2588\u2588\u2588\u2588\u2588\u2588\u2588\u2588\u2589 | 175/195 [29:26<03:14,  9.71s/it, acc=94.92%, loss=0.1493]"
     ]
    },
    {
     "output_type": "stream",
     "name": "stdout",
     "text": [
      "Batch 175: Loss = 0.1493, Accuracy = 94.92%\n"
     ]
    },
    {
     "output_type": "stream",
     "name": "stderr",
     "text": [
      "Training:  90%|\u2588\u2588\u2588\u2588\u2588\u2588\u2588\u2588\u2588 | 176/195 [29:35<03:01,  9.56s/it, acc=89.06%, loss=0.2028]"
     ]
    },
    {
     "output_type": "stream",
     "name": "stdout",
     "text": [
      "Batch 176: Loss = 0.2028, Accuracy = 89.06%\n"
     ]
    },
    {
     "output_type": "stream",
     "name": "stderr",
     "text": [
      "Training:  91%|\u2588\u2588\u2588\u2588\u2588\u2588\u2588\u2588\u2588 | 177/195 [29:46<02:56,  9.80s/it, acc=91.02%, loss=0.1935]"
     ]
    },
    {
     "output_type": "stream",
     "name": "stdout",
     "text": [
      "Batch 177: Loss = 0.1935, Accuracy = 91.02%\n"
     ]
    },
    {
     "output_type": "stream",
     "name": "stderr",
     "text": [
      "Training:  91%|\u2588\u2588\u2588\u2588\u2588\u2588\u2588\u2588\u2588\u258f| 178/195 [29:55<02:43,  9.65s/it, acc=90.23%, loss=0.2093]"
     ]
    },
    {
     "output_type": "stream",
     "name": "stdout",
     "text": [
      "Batch 178: Loss = 0.2093, Accuracy = 90.23%\n"
     ]
    },
    {
     "output_type": "stream",
     "name": "stderr",
     "text": [
      "Training:  92%|\u2588\u2588\u2588\u2588\u2588\u2588\u2588\u2588\u2588\u258f| 179/195 [30:05<02:38,  9.91s/it, acc=92.58%, loss=0.1869]"
     ]
    },
    {
     "output_type": "stream",
     "name": "stdout",
     "text": [
      "Batch 179: Loss = 0.1869, Accuracy = 92.58%\n"
     ]
    },
    {
     "output_type": "stream",
     "name": "stderr",
     "text": [
      "Training:  92%|\u2588\u2588\u2588\u2588\u2588\u2588\u2588\u2588\u2588\u258f| 180/195 [30:16<02:32, 10.17s/it, acc=92.19%, loss=0.2339]"
     ]
    },
    {
     "output_type": "stream",
     "name": "stdout",
     "text": [
      "Batch 180: Loss = 0.2339, Accuracy = 92.19%\n"
     ]
    },
    {
     "output_type": "stream",
     "name": "stderr",
     "text": [
      "Training:  93%|\u2588\u2588\u2588\u2588\u2588\u2588\u2588\u2588\u2588\u258e| 181/195 [30:32<02:45, 11.83s/it, acc=90.23%, loss=0.2053]"
     ]
    },
    {
     "output_type": "stream",
     "name": "stdout",
     "text": [
      "Batch 181: Loss = 0.2053, Accuracy = 90.23%\n"
     ]
    },
    {
     "output_type": "stream",
     "name": "stderr",
     "text": [
      "Training:  93%|\u2588\u2588\u2588\u2588\u2588\u2588\u2588\u2588\u2588\u258e| 182/195 [30:43<02:30, 11.56s/it, acc=92.58%, loss=0.1952]"
     ]
    },
    {
     "output_type": "stream",
     "name": "stdout",
     "text": [
      "Batch 182: Loss = 0.1952, Accuracy = 92.58%\n"
     ]
    },
    {
     "output_type": "stream",
     "name": "stderr",
     "text": [
      "Training:  94%|\u2588\u2588\u2588\u2588\u2588\u2588\u2588\u2588\u2588\u258d| 183/195 [30:53<02:12, 11.05s/it, acc=93.75%, loss=0.1653]"
     ]
    },
    {
     "output_type": "stream",
     "name": "stdout",
     "text": [
      "Batch 183: Loss = 0.1653, Accuracy = 93.75%\n"
     ]
    },
    {
     "output_type": "stream",
     "name": "stderr",
     "text": [
      "Training:  94%|\u2588\u2588\u2588\u2588\u2588\u2588\u2588\u2588\u2588\u258d| 184/195 [31:02<01:57, 10.69s/it, acc=93.75%, loss=0.1489]"
     ]
    },
    {
     "output_type": "stream",
     "name": "stdout",
     "text": [
      "Batch 184: Loss = 0.1489, Accuracy = 93.75%\n"
     ]
    },
    {
     "output_type": "stream",
     "name": "stderr",
     "text": [
      "Training:  95%|\u2588\u2588\u2588\u2588\u2588\u2588\u2588\u2588\u2588\u258d| 185/195 [31:12<01:44, 10.49s/it, acc=91.02%, loss=0.2246]"
     ]
    },
    {
     "output_type": "stream",
     "name": "stdout",
     "text": [
      "Batch 185: Loss = 0.2246, Accuracy = 91.02%\n"
     ]
    },
    {
     "output_type": "stream",
     "name": "stderr",
     "text": [
      "Training:  95%|\u2588\u2588\u2588\u2588\u2588\u2588\u2588\u2588\u2588\u258c| 186/195 [31:23<01:33, 10.40s/it, acc=92.19%, loss=0.1759]"
     ]
    },
    {
     "output_type": "stream",
     "name": "stdout",
     "text": [
      "Batch 186: Loss = 0.1759, Accuracy = 92.19%\n"
     ]
    },
    {
     "output_type": "stream",
     "name": "stderr",
     "text": [
      "Training:  96%|\u2588\u2588\u2588\u2588\u2588\u2588\u2588\u2588\u2588\u258c| 187/195 [31:32<01:21, 10.14s/it, acc=91.80%, loss=0.2193]"
     ]
    },
    {
     "output_type": "stream",
     "name": "stdout",
     "text": [
      "Batch 187: Loss = 0.2193, Accuracy = 91.80%\n"
     ]
    },
    {
     "output_type": "stream",
     "name": "stderr",
     "text": [
      "Training:  96%|\u2588\u2588\u2588\u2588\u2588\u2588\u2588\u2588\u2588\u258b| 188/195 [31:41<01:09,  9.88s/it, acc=91.80%, loss=0.2154]"
     ]
    },
    {
     "output_type": "stream",
     "name": "stdout",
     "text": [
      "Batch 188: Loss = 0.2154, Accuracy = 91.80%\n"
     ]
    },
    {
     "output_type": "stream",
     "name": "stderr",
     "text": [
      "Training:  97%|\u2588\u2588\u2588\u2588\u2588\u2588\u2588\u2588\u2588\u258b| 189/195 [31:52<00:59,  9.92s/it, acc=91.80%, loss=0.1792]"
     ]
    },
    {
     "output_type": "stream",
     "name": "stdout",
     "text": [
      "Batch 189: Loss = 0.1792, Accuracy = 91.80%\n"
     ]
    },
    {
     "output_type": "stream",
     "name": "stderr",
     "text": [
      "Training:  97%|\u2588\u2588\u2588\u2588\u2588\u2588\u2588\u2588\u2588\u258b| 190/195 [32:01<00:48,  9.77s/it, acc=94.14%, loss=0.1833]"
     ]
    },
    {
     "output_type": "stream",
     "name": "stdout",
     "text": [
      "Batch 190: Loss = 0.1833, Accuracy = 94.14%\n"
     ]
    },
    {
     "output_type": "stream",
     "name": "stderr",
     "text": [
      "Training:  98%|\u2588\u2588\u2588\u2588\u2588\u2588\u2588\u2588\u2588\u258a| 191/195 [32:12<00:40, 10.16s/it, acc=90.62%, loss=0.2084]"
     ]
    },
    {
     "output_type": "stream",
     "name": "stdout",
     "text": [
      "Batch 191: Loss = 0.2084, Accuracy = 90.62%\n"
     ]
    },
    {
     "output_type": "stream",
     "name": "stderr",
     "text": [
      "Training:  98%|\u2588\u2588\u2588\u2588\u2588\u2588\u2588\u2588\u2588\u258a| 192/195 [32:22<00:30, 10.14s/it, acc=91.02%, loss=0.1714]"
     ]
    },
    {
     "output_type": "stream",
     "name": "stdout",
     "text": [
      "Batch 192: Loss = 0.1714, Accuracy = 91.02%\n"
     ]
    },
    {
     "output_type": "stream",
     "name": "stderr",
     "text": [
      "Training:  99%|\u2588\u2588\u2588\u2588\u2588\u2588\u2588\u2588\u2588\u2589| 193/195 [32:31<00:19,  9.83s/it, acc=92.58%, loss=0.1673]"
     ]
    },
    {
     "output_type": "stream",
     "name": "stdout",
     "text": [
      "Batch 193: Loss = 0.1673, Accuracy = 92.58%\n"
     ]
    },
    {
     "output_type": "stream",
     "name": "stderr",
     "text": [
      "Training:  99%|\u2588\u2588\u2588\u2588\u2588\u2588\u2588\u2588\u2588\u2589| 194/195 [32:42<00:10, 10.15s/it, acc=90.62%, loss=0.2411]"
     ]
    },
    {
     "output_type": "stream",
     "name": "stdout",
     "text": [
      "Batch 194: Loss = 0.2411, Accuracy = 90.62%\n"
     ]
    },
    {
     "output_type": "stream",
     "name": "stderr",
     "text": [
      "Training: 100%|\u2588\u2588\u2588\u2588\u2588\u2588\u2588\u2588\u2588\u2588| 195/195 [32:50<00:00, 10.11s/it, acc=92.57%, loss=0.1759]\n"
     ]
    },
    {
     "output_type": "stream",
     "name": "stdout",
     "text": [
      "Batch 195: Loss = 0.1759, Accuracy = 92.57%\n",
      "\n",
      "Epoch 5 Summary:\n",
      "Training   - Loss: 0.1876, Accuracy: 92.37%\n",
      "Validation - Loss: 0.2104, Accuracy: 91.31%\n",
      "\n",
      "Training completed!\n"
     ]
    }
   ]
  },
  {
   "cell_type": "code",
   "source": [
    "from sklearn.metrics import classification_report, confusion_matrix\n",
    "\n",
    "def test_model(model, test_loader, clip_model, device):\n",
    "    \"\"\"\n",
    "    Test the model on the test dataset and return metrics\n",
    "    \"\"\"\n",
    "    model.eval()\n",
    "    test_loss = 0\n",
    "    correct = 0\n",
    "    total = 0\n",
    "\n",
    "    criterion = nn.CrossEntropyLoss()\n",
    "\n",
    "    print(\"\\n=== Testing Model ===\")\n",
    "    progress_bar = tqdm(test_loader, desc=\"Testing\")\n",
    "\n",
    "    all_predictions = []\n",
    "    all_labels = []\n",
    "\n",
    "    with torch.no_grad():\n",
    "        for batch_idx, (images, texts, labels) in enumerate(progress_bar):\n",
    "            images, texts, labels = images.to(device), texts.to(device), labels.to(device)\n",
    "\n",
    "            image_features = clip_model.encode_image(images).float()\n",
    "            text_features = clip_model.encode_text(texts).float()\n",
    "\n",
    "            outputs = model(image_features, text_features)\n",
    "            loss = criterion(outputs, labels)\n",
    "\n",
    "            test_loss += loss.item()\n",
    "            _, predicted = torch.max(outputs.data, 1)\n",
    "            batch_correct = (predicted == labels).sum().item()\n",
    "            batch_total = labels.size(0)\n",
    "            batch_accuracy = 100 * batch_correct / batch_total\n",
    "\n",
    "            correct += batch_correct\n",
    "            total += batch_total\n",
    "\n",
    "            all_predictions.extend(predicted.cpu().numpy())\n",
    "            all_labels.extend(labels.cpu().numpy())\n",
    "\n",
    "            progress_bar.set_postfix(loss=f\"{loss.item():.4f}\", acc=f\"{batch_accuracy:.2f}%\")\n",
    "\n",
    "            print(f\"Batch {batch_idx+1}: Loss = {loss.item():.4f}, Accuracy = {batch_accuracy:.2f}%\")\n",
    "\n",
    "    avg_test_loss = test_loss / len(test_loader)\n",
    "    test_accuracy = 100 * correct / total\n",
    "\n",
    "    print(\"\\n=== Test Results ===\")\n",
    "    print(f\"Test Loss: {avg_test_loss:.4f}\")\n",
    "    print(f\"Test Accuracy: {test_accuracy:.2f}%\")\n",
    "\n",
    "    all_predictions = np.array(all_predictions)\n",
    "    all_labels = np.array(all_labels)\n",
    "\n",
    "    print(\"\\n=== Classification Report ===\")\n",
    "    print(classification_report(all_labels, all_predictions))\n",
    "\n",
    "    print(\"\\n=== Confusion Matrix ===\")\n",
    "    cm = confusion_matrix(all_labels, all_predictions)\n",
    "    print(cm)\n",
    "\n",
    "    return avg_test_loss, test_accuracy, all_predictions, all_labels\n",
    "\n",
    "print(\"\\nEvaluating on test set...\")\n",
    "test_loss, test_acc, predictions, true_labels = test_model(model, test_loader, clip_model, device)\n",
    "\n",
    "torch.save({\n",
    "    'model_state_dict': model.state_dict(),\n",
    "    'optimizer_state_dict': optimizer.state_dict(),\n",
    "    'train_losses': train_losses,\n",
    "    'val_losses': val_losses,\n",
    "    'train_accuracies': train_accuracies,\n",
    "    'val_accuracies': val_accuracies,\n",
    "    'test_loss': test_loss,\n",
    "    'test_accuracy': test_acc\n",
    "}, 'fake_news_classifier.pth')\n",
    "\n",
    "print(\"\\nModel saved successfully!\")\n",
    "\n",
    "def plot_metrics(train_losses, val_losses, train_accuracies, val_accuracies):\n",
    "    plt.figure(figsize=(12, 5))\n",
    "\n",
    "    plt.subplot(1, 2, 1)\n",
    "    plt.plot(train_losses, label='Training Loss')\n",
    "    plt.plot(val_losses, label='Validation Loss')\n",
    "    plt.xlabel('Epoch')\n",
    "    plt.ylabel('Loss')\n",
    "    plt.title('Training and Validation Loss')\n",
    "    plt.legend()\n",
    "\n",
    "    plt.subplot(1, 2, 2)\n",
    "    plt.plot(train_accuracies, label='Training Accuracy')\n",
    "    plt.plot(val_accuracies, label='Validation Accuracy')\n",
    "    plt.xlabel('Epoch')\n",
    "    plt.ylabel('Accuracy (%)')\n",
    "    plt.title('Training and Validation Accuracy')\n",
    "    plt.legend()\n",
    "\n",
    "    plt.tight_layout()\n",
    "    plt.savefig('training_metrics.png')\n",
    "    plt.show()\n",
    "\n",
    "plot_metrics(train_losses, val_losses, train_accuracies, val_accuracies)"
   ],
   "metadata": {
    "id": "r9tL6NWat7SW",
    "colab": {
     "base_uri": "https://localhost:8080/",
     "height": 1000
    },
    "outputId": "10b82a12-49ca-4c5c-bcbe-9a95c979ef5c"
   },
   "execution_count": null,
   "outputs": [
    {
     "output_type": "stream",
     "name": "stdout",
     "text": [
      "\n",
      "Evaluating on test set...\n",
      "\n",
      "=== Testing Model ===\n"
     ]
    },
    {
     "output_type": "stream",
     "name": "stderr",
     "text": [
      "Testing:   3%|\u258e         | 1/32 [00:29<15:23, 29.79s/it, acc=92.19%, loss=0.2006]"
     ]
    },
    {
     "output_type": "stream",
     "name": "stdout",
     "text": [
      "Batch 1: Loss = 0.2006, Accuracy = 92.19%\n"
     ]
    },
    {
     "output_type": "stream",
     "name": "stderr",
     "text": [
      "Testing:   6%|\u258b         | 2/32 [00:57<14:17, 28.59s/it, acc=90.62%, loss=0.2159]"
     ]
    },
    {
     "output_type": "stream",
     "name": "stdout",
     "text": [
      "Batch 2: Loss = 0.2159, Accuracy = 90.62%\n"
     ]
    },
    {
     "output_type": "stream",
     "name": "stderr",
     "text": [
      "Testing:   9%|\u2589         | 3/32 [01:24<13:32, 28.01s/it, acc=89.45%, loss=0.2374]"
     ]
    },
    {
     "output_type": "stream",
     "name": "stdout",
     "text": [
      "Batch 3: Loss = 0.2374, Accuracy = 89.45%\n"
     ]
    },
    {
     "output_type": "stream",
     "name": "stderr",
     "text": [
      "Testing:  12%|\u2588\u258e        | 4/32 [01:52<13:00, 27.87s/it, acc=94.92%, loss=0.1681]"
     ]
    },
    {
     "output_type": "stream",
     "name": "stdout",
     "text": [
      "Batch 4: Loss = 0.1681, Accuracy = 94.92%\n"
     ]
    },
    {
     "output_type": "stream",
     "name": "stderr",
     "text": [
      "Testing:  16%|\u2588\u258c        | 5/32 [02:14<11:32, 25.66s/it, acc=90.23%, loss=0.2469]"
     ]
    },
    {
     "output_type": "stream",
     "name": "stdout",
     "text": [
      "Batch 5: Loss = 0.2469, Accuracy = 90.23%\n"
     ]
    },
    {
     "output_type": "stream",
     "name": "stderr",
     "text": [
      "Testing:  19%|\u2588\u2589        | 6/32 [02:37<10:43, 24.75s/it, acc=92.58%, loss=0.1885]"
     ]
    },
    {
     "output_type": "stream",
     "name": "stdout",
     "text": [
      "Batch 6: Loss = 0.1885, Accuracy = 92.58%\n"
     ]
    },
    {
     "output_type": "stream",
     "name": "stderr",
     "text": [
      "Testing:  22%|\u2588\u2588\u258f       | 7/32 [03:01<10:16, 24.66s/it, acc=93.36%, loss=0.1475]"
     ]
    },
    {
     "output_type": "stream",
     "name": "stdout",
     "text": [
      "Batch 7: Loss = 0.1475, Accuracy = 93.36%\n"
     ]
    },
    {
     "output_type": "stream",
     "name": "stderr",
     "text": [
      "Testing:  25%|\u2588\u2588\u258c       | 8/32 [03:25<09:47, 24.48s/it, acc=88.28%, loss=0.2796]"
     ]
    },
    {
     "output_type": "stream",
     "name": "stdout",
     "text": [
      "Batch 8: Loss = 0.2796, Accuracy = 88.28%\n"
     ]
    },
    {
     "output_type": "stream",
     "name": "stderr",
     "text": [
      "Testing:  28%|\u2588\u2588\u258a       | 9/32 [03:48<09:13, 24.06s/it, acc=91.80%, loss=0.2172]"
     ]
    },
    {
     "output_type": "stream",
     "name": "stdout",
     "text": [
      "Batch 9: Loss = 0.2172, Accuracy = 91.80%\n"
     ]
    },
    {
     "output_type": "stream",
     "name": "stderr",
     "text": [
      "Testing:  31%|\u2588\u2588\u2588\u258f      | 10/32 [04:12<08:46, 23.93s/it, acc=89.84%, loss=0.2289]"
     ]
    },
    {
     "output_type": "stream",
     "name": "stdout",
     "text": [
      "Batch 10: Loss = 0.2289, Accuracy = 89.84%\n"
     ]
    },
    {
     "output_type": "stream",
     "name": "stderr",
     "text": [
      "Testing:  34%|\u2588\u2588\u2588\u258d      | 11/32 [04:34<08:10, 23.37s/it, acc=90.62%, loss=0.2330]"
     ]
    },
    {
     "output_type": "stream",
     "name": "stdout",
     "text": [
      "Batch 11: Loss = 0.2330, Accuracy = 90.62%\n"
     ]
    },
    {
     "output_type": "stream",
     "name": "stderr",
     "text": [
      "Testing:  38%|\u2588\u2588\u2588\u258a      | 12/32 [04:56<07:36, 22.84s/it, acc=87.89%, loss=0.2702]"
     ]
    },
    {
     "output_type": "stream",
     "name": "stdout",
     "text": [
      "Batch 12: Loss = 0.2702, Accuracy = 87.89%\n"
     ]
    },
    {
     "output_type": "stream",
     "name": "stderr",
     "text": [
      "Testing:  41%|\u2588\u2588\u2588\u2588      | 13/32 [05:17<07:04, 22.34s/it, acc=93.36%, loss=0.1763]"
     ]
    },
    {
     "output_type": "stream",
     "name": "stdout",
     "text": [
      "Batch 13: Loss = 0.1763, Accuracy = 93.36%\n"
     ]
    },
    {
     "output_type": "stream",
     "name": "stderr",
     "text": [
      "Testing:  44%|\u2588\u2588\u2588\u2588\u258d     | 14/32 [05:39<06:42, 22.36s/it, acc=89.84%, loss=0.2306]"
     ]
    },
    {
     "output_type": "stream",
     "name": "stdout",
     "text": [
      "Batch 14: Loss = 0.2306, Accuracy = 89.84%\n"
     ]
    },
    {
     "output_type": "stream",
     "name": "stderr",
     "text": [
      "Testing:  47%|\u2588\u2588\u2588\u2588\u258b     | 15/32 [06:02<06:23, 22.57s/it, acc=92.19%, loss=0.1756]"
     ]
    },
    {
     "output_type": "stream",
     "name": "stdout",
     "text": [
      "Batch 15: Loss = 0.1756, Accuracy = 92.19%\n"
     ]
    },
    {
     "output_type": "stream",
     "name": "stderr",
     "text": [
      "Testing:  50%|\u2588\u2588\u2588\u2588\u2588     | 16/32 [06:27<06:11, 23.23s/it, acc=92.19%, loss=0.1957]"
     ]
    },
    {
     "output_type": "stream",
     "name": "stdout",
     "text": [
      "Batch 16: Loss = 0.1957, Accuracy = 92.19%\n"
     ]
    },
    {
     "output_type": "stream",
     "name": "stderr",
     "text": [
      "Testing:  53%|\u2588\u2588\u2588\u2588\u2588\u258e    | 17/32 [06:49<05:40, 22.73s/it, acc=89.45%, loss=0.2284]"
     ]
    },
    {
     "output_type": "stream",
     "name": "stdout",
     "text": [
      "Batch 17: Loss = 0.2284, Accuracy = 89.45%\n"
     ]
    },
    {
     "output_type": "stream",
     "name": "stderr",
     "text": [
      "Testing:  56%|\u2588\u2588\u2588\u2588\u2588\u258b    | 18/32 [07:13<05:26, 23.31s/it, acc=89.84%, loss=0.2232]"
     ]
    },
    {
     "output_type": "stream",
     "name": "stdout",
     "text": [
      "Batch 18: Loss = 0.2232, Accuracy = 89.84%\n"
     ]
    },
    {
     "output_type": "stream",
     "name": "stderr",
     "text": [
      "Testing:  59%|\u2588\u2588\u2588\u2588\u2588\u2589    | 19/32 [07:35<04:57, 22.91s/it, acc=89.84%, loss=0.2167]"
     ]
    },
    {
     "output_type": "stream",
     "name": "stdout",
     "text": [
      "Batch 19: Loss = 0.2167, Accuracy = 89.84%\n"
     ]
    },
    {
     "output_type": "stream",
     "name": "stderr",
     "text": [
      "Testing:  62%|\u2588\u2588\u2588\u2588\u2588\u2588\u258e   | 20/32 [07:57<04:31, 22.64s/it, acc=93.36%, loss=0.1949]"
     ]
    },
    {
     "output_type": "stream",
     "name": "stdout",
     "text": [
      "Batch 20: Loss = 0.1949, Accuracy = 93.36%\n"
     ]
    },
    {
     "output_type": "stream",
     "name": "stderr",
     "text": [
      "Testing:  66%|\u2588\u2588\u2588\u2588\u2588\u2588\u258c   | 21/32 [08:21<04:13, 23.03s/it, acc=90.23%, loss=0.2644]"
     ]
    },
    {
     "output_type": "stream",
     "name": "stdout",
     "text": [
      "Batch 21: Loss = 0.2644, Accuracy = 90.23%\n"
     ]
    },
    {
     "output_type": "stream",
     "name": "stderr",
     "text": [
      "Testing:  69%|\u2588\u2588\u2588\u2588\u2588\u2588\u2589   | 22/32 [08:48<04:00, 24.04s/it, acc=92.58%, loss=0.1573]"
     ]
    },
    {
     "output_type": "stream",
     "name": "stdout",
     "text": [
      "Batch 22: Loss = 0.1573, Accuracy = 92.58%\n"
     ]
    },
    {
     "output_type": "stream",
     "name": "stderr",
     "text": [
      "Testing:  72%|\u2588\u2588\u2588\u2588\u2588\u2588\u2588\u258f  | 23/32 [09:11<03:33, 23.75s/it, acc=91.02%, loss=0.2367]"
     ]
    },
    {
     "output_type": "stream",
     "name": "stdout",
     "text": [
      "Batch 23: Loss = 0.2367, Accuracy = 91.02%\n"
     ]
    },
    {
     "output_type": "stream",
     "name": "stderr",
     "text": [
      "Testing:  75%|\u2588\u2588\u2588\u2588\u2588\u2588\u2588\u258c  | 24/32 [09:33<03:06, 23.34s/it, acc=91.41%, loss=0.2117]"
     ]
    },
    {
     "output_type": "stream",
     "name": "stdout",
     "text": [
      "Batch 24: Loss = 0.2117, Accuracy = 91.41%\n"
     ]
    },
    {
     "output_type": "stream",
     "name": "stderr",
     "text": [
      "Testing:  78%|\u2588\u2588\u2588\u2588\u2588\u2588\u2588\u258a  | 25/32 [09:59<02:47, 23.95s/it, acc=94.14%, loss=0.1656]"
     ]
    },
    {
     "output_type": "stream",
     "name": "stdout",
     "text": [
      "Batch 25: Loss = 0.1656, Accuracy = 94.14%\n"
     ]
    },
    {
     "output_type": "stream",
     "name": "stderr",
     "text": [
      "Testing:  81%|\u2588\u2588\u2588\u2588\u2588\u2588\u2588\u2588\u258f | 26/32 [10:26<02:30, 25.02s/it, acc=90.23%, loss=0.2609]"
     ]
    },
    {
     "output_type": "stream",
     "name": "stdout",
     "text": [
      "Batch 26: Loss = 0.2609, Accuracy = 90.23%\n"
     ]
    },
    {
     "output_type": "stream",
     "name": "stderr",
     "text": [
      "Testing:  84%|\u2588\u2588\u2588\u2588\u2588\u2588\u2588\u2588\u258d | 27/32 [10:53<02:07, 25.54s/it, acc=93.36%, loss=0.1672]"
     ]
    },
    {
     "output_type": "stream",
     "name": "stdout",
     "text": [
      "Batch 27: Loss = 0.1672, Accuracy = 93.36%\n"
     ]
    },
    {
     "output_type": "stream",
     "name": "stderr",
     "text": [
      "Testing:  88%|\u2588\u2588\u2588\u2588\u2588\u2588\u2588\u2588\u258a | 28/32 [11:33<01:59, 29.95s/it, acc=90.62%, loss=0.1958]"
     ]
    },
    {
     "output_type": "stream",
     "name": "stdout",
     "text": [
      "Batch 28: Loss = 0.1958, Accuracy = 90.62%\n"
     ]
    },
    {
     "output_type": "stream",
     "name": "stderr",
     "text": [
      "Testing:  91%|\u2588\u2588\u2588\u2588\u2588\u2588\u2588\u2588\u2588 | 29/32 [12:21<01:46, 35.47s/it, acc=89.06%, loss=0.2300]"
     ]
    },
    {
     "output_type": "stream",
     "name": "stdout",
     "text": [
      "Batch 29: Loss = 0.2300, Accuracy = 89.06%\n"
     ]
    },
    {
     "output_type": "stream",
     "name": "stderr",
     "text": [
      "Testing:  94%|\u2588\u2588\u2588\u2588\u2588\u2588\u2588\u2588\u2588\u258d| 30/32 [13:07<01:17, 38.59s/it, acc=89.84%, loss=0.2327]"
     ]
    },
    {
     "output_type": "stream",
     "name": "stdout",
     "text": [
      "Batch 30: Loss = 0.2327, Accuracy = 89.84%\n"
     ]
    },
    {
     "output_type": "stream",
     "name": "stderr",
     "text": [
      "Testing:  97%|\u2588\u2588\u2588\u2588\u2588\u2588\u2588\u2588\u2588\u258b| 31/32 [13:49<00:39, 39.49s/it, acc=93.75%, loss=0.1640]"
     ]
    },
    {
     "output_type": "stream",
     "name": "stdout",
     "text": [
      "Batch 31: Loss = 0.1640, Accuracy = 93.75%\n"
     ]
    },
    {
     "output_type": "stream",
     "name": "stderr",
     "text": [
      "Testing: 100%|\u2588\u2588\u2588\u2588\u2588\u2588\u2588\u2588\u2588\u2588| 32/32 [13:57<00:00, 26.17s/it, acc=93.18%, loss=0.1757]\n"
     ]
    },
    {
     "output_type": "stream",
     "name": "stdout",
     "text": [
      "Batch 32: Loss = 0.1757, Accuracy = 93.18%\n",
      "\n",
      "=== Test Results ===\n",
      "Test Loss: 0.2105\n",
      "Test Accuracy: 91.24%\n",
      "\n",
      "=== Classification Report ===\n",
      "              precision    recall  f1-score   support\n",
      "\n",
      "           0       0.94      0.91      0.93      4844\n",
      "           1       0.87      0.91      0.89      3136\n",
      "\n",
      "    accuracy                           0.91      7980\n",
      "   macro avg       0.91      0.91      0.91      7980\n",
      "weighted avg       0.91      0.91      0.91      7980\n",
      "\n",
      "\n",
      "=== Confusion Matrix ===\n",
      "[[4430  414]\n",
      " [ 285 2851]]\n",
      "\n",
      "Model saved successfully!\n"
     ]
    },
    {
     "output_type": "display_data",
     "data": {
      "text/plain": [
       "<Figure size 1200x500 with 2 Axes>"
      ],
      "image/png": "[encoded data removed]"
     },
     "metadata": {}
    }
   ]
  },
  {
   "cell_type": "code",
   "source": [
    "def generate_roc_curve(model, test_loader, clip_model, device):\n",
    "    \"\"\"\n",
    "    Generate ROC curve data for the model on the test dataset\n",
    "    \"\"\"\n",
    "    model.eval()\n",
    "\n",
    "    all_labels = []\n",
    "    all_probs = []\n",
    "\n",
    "    print(\"\\n=== Generating ROC Curve Data ===\")\n",
    "    progress_bar = tqdm(test_loader, desc=\"Processing\")\n",
    "\n",
    "    with torch.no_grad():\n",
    "        for images, texts, labels in progress_bar:\n",
    "            images, texts, labels = images.to(device), texts.to(device), labels.to(device)\n",
    "\n",
    "            image_features = clip_model.encode_image(images).float()\n",
    "            text_features = clip_model.encode_text(texts).float()\n",
    "\n",
    "            outputs = model(image_features, text_features)\n",
    "            probabilities = torch.softmax(outputs, dim=1)\n",
    "\n",
    "            all_labels.extend(labels.cpu().numpy())\n",
    "            all_probs.extend(probabilities.cpu().numpy())\n",
    "\n",
    "    all_labels = np.array(all_labels)\n",
    "    all_probs = np.array(all_probs)\n",
    "\n",
    "    return all_labels, all_probs\n",
    "\n",
    "\n",
    "def plot_roc_curve(true_labels, predicted_probs):\n",
    "    \"\"\"\n",
    "    Plot ROC curve and calculate AUC for binary and multiclass classification\n",
    "    \"\"\"\n",
    "    if len(true_labels.shape) > 1 and true_labels.shape[1] > 1:\n",
    "        true_labels = np.argmax(true_labels, axis=1)\n",
    "\n",
    "    num_classes = predicted_probs.shape[1]\n",
    "\n",
    "    plt.figure(figsize=(10, 8))\n",
    "\n",
    "    if num_classes == 2:\n",
    "        fpr, tpr, thresholds = roc_curve(true_labels, predicted_probs[:, 1])\n",
    "        roc_auc = auc(fpr, tpr)\n",
    "\n",
    "        plt.plot(fpr, tpr, color='darkorange', lw=2,\n",
    "                 label=f'ROC curve (area = {roc_auc:.3f})')\n",
    "        plt.plot([0, 1], [0, 1], color='navy', lw=2, linestyle='--')\n",
    "\n",
    "    else:\n",
    "        fpr = dict()\n",
    "        tpr = dict()\n",
    "        roc_auc = dict()\n",
    "\n",
    "        for i in range(num_classes):\n",
    "            fpr[i], tpr[i], _ = roc_curve((true_labels == i).astype(int), predicted_probs[:, i])\n",
    "            roc_auc[i] = auc(fpr[i], tpr[i])\n",
    "            plt.plot(fpr[i], tpr[i], lw=2,\n",
    "                     label=f'Class {i} (area = {roc_auc[i]:.3f})')\n",
    "\n",
    "        y_test_bin = label_binarize(true_labels, classes=list(range(num_classes)))\n",
    "        fpr[\"micro\"], tpr[\"micro\"], _ = roc_curve(y_test_bin.ravel(), predicted_probs.ravel())\n",
    "        roc_auc[\"micro\"] = auc(fpr[\"micro\"], tpr[\"micro\"])\n",
    "\n",
    "        plt.plot(fpr[\"micro\"], tpr[\"micro\"], color='deeppink', linestyle=':', linewidth=4,\n",
    "                 label=f'Micro-average (area = {roc_auc[\"micro\"]:.3f})')\n",
    "\n",
    "        all_fpr = np.unique(np.concatenate([fpr[i] for i in range(num_classes)]))\n",
    "\n",
    "        mean_tpr = np.zeros_like(all_fpr)\n",
    "        for i in range(num_classes):\n",
    "            mean_tpr += np.interp(all_fpr, fpr[i], tpr[i])\n",
    "\n",
    "        mean_tpr /= num_classes\n",
    "\n",
    "        fpr[\"macro\"] = all_fpr\n",
    "        tpr[\"macro\"] = mean_tpr\n",
    "        roc_auc[\"macro\"] = auc(fpr[\"macro\"], tpr[\"macro\"])\n",
    "\n",
    "        plt.plot(fpr[\"macro\"], tpr[\"macro\"], color='navy', linestyle='--', linewidth=4,\n",
    "                 label=f'Macro-average (area = {roc_auc[\"macro\"]:.3f})')\n",
    "\n",
    "    plt.plot([0, 1], [0, 1], color='gray', lw=1, linestyle='--')\n",
    "    plt.xlim([0.0, 1.0])\n",
    "    plt.ylim([0.0, 1.05])\n",
    "    plt.xlabel('False Positive Rate')\n",
    "    plt.ylabel('True Positive Rate')\n",
    "    plt.title('Receiver Operating Characteristic (ROC) Curve')\n",
    "    plt.legend(loc=\"lower right\")\n",
    "    plt.grid(alpha=0.3)\n",
    "\n",
    "    plt.tight_layout()\n",
    "    plt.savefig('roc_curve.png', dpi=300)\n",
    "    plt.show()\n",
    "\n",
    "    return roc_auc\n",
    "\n",
    "print(\"Generating ROC curve...\")\n",
    "true_labels, pred_probs = generate_roc_curve(model, test_loader, clip_model, device)\n",
    "roc_auc_values = plot_roc_curve(true_labels, pred_probs)\n",
    "\n",
    "print(\"\\n=== ROC AUC Scores ===\")\n",
    "if isinstance(roc_auc_values, dict):\n",
    "    for key, value in roc_auc_values.items():\n",
    "        if key not in [\"micro\", \"macro\"]:\n",
    "            print(f\"Class {key}: {value:.4f}\")\n",
    "    print(f\"Micro-average: {roc_auc_values['micro']:.4f}\")\n",
    "    print(f\"Macro-average: {roc_auc_values['macro']:.4f}\")\n",
    "else:\n",
    "    print(f\"ROC AUC: {roc_auc_values:.4f}\")"
   ],
   "metadata": {
    "id": "3tiSXclCwHZk",
    "colab": {
     "base_uri": "https://localhost:8080/",
     "height": 928
    },
    "outputId": "0754303e-367b-492f-ea4d-b99169aed568"
   },
   "execution_count": null,
   "outputs": [
    {
     "output_type": "stream",
     "name": "stdout",
     "text": [
      "Generating ROC curve...\n",
      "\n",
      "=== Generating ROC Curve Data ===\n"
     ]
    },
    {
     "output_type": "stream",
     "name": "stderr",
     "text": [
      "Processing: 100%|\u2588\u2588\u2588\u2588\u2588\u2588\u2588\u2588\u2588\u2588| 32/32 [05:29<00:00, 10.31s/it]\n"
     ]
    },
    {
     "output_type": "display_data",
     "data": {
      "text/plain": [
       "<Figure size 1000x800 with 1 Axes>"
      ],
      "image/png": "[encoded data removed]"
     },
     "metadata": {}
    },
    {
     "output_type": "stream",
     "name": "stdout",
     "text": [
      "\n",
      "=== ROC AUC Scores ===\n",
      "ROC AUC: 0.9715\n"
     ]
    }
   ]
  },
  {
   "cell_type": "code",
   "source": [
    "torch.save(model.state_dict(), \"clip_fakenews_classifier.pth\")\n",
    "print(\" Model saved.\")"
   ],
   "metadata": {
    "id": "NVIY5E-ZwLV9",
    "colab": {
     "base_uri": "https://localhost:8080/"
    },
    "outputId": "1a3de009-e8f1-4bde-90a1-f1487d071c28"
   },
   "execution_count": null,
   "outputs": [
    {
     "output_type": "stream",
     "name": "stdout",
     "text": [
      " Model saved.\n"
     ]
    }
   ]
  },
  {
   "cell_type": "code",
   "source": [
    "from google.colab import files\n",
    "files.download(\"clip_fakenews_classifier.pth\")"
   ],
   "metadata": {
    "id": "6z2mk1gSwXcB",
    "colab": {
     "base_uri": "https://localhost:8080/",
     "height": 17
    },
    "outputId": "ddd26d3f-5c37-49b7-e194-fec151cb4fbe"
   },
   "execution_count": null,
   "outputs": [
    {
     "output_type": "display_data",
     "data": {
      "text/plain": [
       "<IPython.core.display.Javascript object>"
      ],
      "application/javascript": [
       "\n",
       "    async function download(id, filename, size) {\n",
       "      if (!google.colab.kernel.accessAllowed) {\n",
       "        return;\n",
       "      }\n",
       "      const div = document.createElement('div');\n",
       "      const label = document.createElement('label');\n",
       "      label.textContent = `Downloading \"${filename}\": `;\n",
       "      div.appendChild(label);\n",
       "      const progress = document.createElement('progress');\n",
       "      progress.max = size;\n",
       "      div.appendChild(progress);\n",
       "      document.body.appendChild(div);\n",
       "\n",
       "      const buffers = [];\n",
       "      let downloaded = 0;\n",
       "\n",
       "      const channel = await google.colab.kernel.comms.open(id);\n",
       "      // Send a message to notify the kernel that we're ready.\n",
       "      channel.send({})\n",
       "\n",
       "      for await (const message of channel.messages) {\n",
       "        // Send a message to notify the kernel that we're ready.\n",
       "        channel.send({})\n",
       "        if (message.buffers) {\n",
       "          for (const buffer of message.buffers) {\n",
       "            buffers.push(buffer);\n",
       "            downloaded += buffer.byteLength;\n",
       "            progress.value = downloaded;\n",
       "          }\n",
       "        }\n",
       "      }\n",
       "      const blob = new Blob(buffers, {type: 'application/binary'});\n",
       "      const a = document.createElement('a');\n",
       "      a.href = window.URL.createObjectURL(blob);\n",
       "      a.download = filename;\n",
       "      div.appendChild(a);\n",
       "      a.click();\n",
       "      div.remove();\n",
       "    }\n",
       "  "
      ]
     },
     "metadata": {}
    },
    {
     "output_type": "display_data",
     "data": {
      "text/plain": [
       "<IPython.core.display.Javascript object>"
      ],
      "application/javascript": [
       "download(\"download_b685efb2-4cf6-4453-92d1-9fecb01d5be3\", \"clip_fakenews_classifier.pth\", 6596252)"
      ]
     },
     "metadata": {}
    }
   ]
  },
  {
   "cell_type": "code",
   "source": [
    "device = \"cuda\" if torch.cuda.is_available() else \"cpu\"\n",
    "model = FakeNewsClassifier().to(device)\n",
    "model.load_state_dict(torch.load(\"/content/clip_fakenews_classifier.pth\"))\n",
    "model.eval()"
   ],
   "metadata": {
    "id": "LN1A6YxnwbqF",
    "colab": {
     "base_uri": "https://localhost:8080/"
    },
    "outputId": "df0783bf-e752-4d66-dc9e-6eb2349f28c8"
   },
   "execution_count": null,
   "outputs": [
    {
     "output_type": "execute_result",
     "data": {
      "text/plain": [
       "FakeNewsClassifier(\n",
       "  (classifier): Sequential(\n",
       "    (0): Linear(in_features=1024, out_features=1024, bias=True)\n",
       "    (1): BatchNorm1d(1024, eps=1e-05, momentum=0.1, affine=True, track_running_stats=True)\n",
       "    (2): ReLU()\n",
       "    (3): Dropout(p=0.4, inplace=False)\n",
       "    (4): Linear(in_features=1024, out_features=512, bias=True)\n",
       "    (5): BatchNorm1d(512, eps=1e-05, momentum=0.1, affine=True, track_running_stats=True)\n",
       "    (6): ReLU()\n",
       "    (7): Dropout(p=0.4, inplace=False)\n",
       "    (8): Linear(in_features=512, out_features=128, bias=True)\n",
       "    (9): BatchNorm1d(128, eps=1e-05, momentum=0.1, affine=True, track_running_stats=True)\n",
       "    (10): ReLU()\n",
       "    (11): Dropout(p=0.3, inplace=False)\n",
       "    (12): Linear(in_features=128, out_features=2, bias=True)\n",
       "  )\n",
       ")"
      ]
     },
     "metadata": {},
     "execution_count": 24
    }
   ]
  },
  {
   "cell_type": "code",
   "source": [
    "!pip install gradio"
   ],
   "metadata": {
    "id": "sHx4cJiwwclV",
    "colab": {
     "base_uri": "https://localhost:8080/"
    },
    "outputId": "0d5ad13b-5e2f-4cf0-c3aa-a7a8cb2c3bc9"
   },
   "execution_count": null,
   "outputs": [
    {
     "output_type": "stream",
     "name": "stdout",
     "text": [
      "Collecting gradio\n",
      "  Downloading gradio-5.28.0-py3-none-any.whl.metadata (16 kB)\n",
      "Collecting aiofiles<25.0,>=22.0 (from gradio)\n",
      "  Downloading aiofiles-24.1.0-py3-none-any.whl.metadata (10 kB)\n",
      "Requirement already satisfied: anyio<5.0,>=3.0 in /usr/local/lib/python3.11/dist-packages (from gradio) (4.9.0)\n",
      "Collecting fastapi<1.0,>=0.115.2 (from gradio)\n",
      "  Downloading fastapi-0.115.12-py3-none-any.whl.metadata (27 kB)\n",
      "Collecting ffmpy (from gradio)\n",
      "  Downloading ffmpy-0.5.0-py3-none-any.whl.metadata (3.0 kB)\n",
      "Collecting gradio-client==1.10.0 (from gradio)\n",
      "  Downloading gradio_client-1.10.0-py3-none-any.whl.metadata (7.1 kB)\n",
      "Collecting groovy~=0.1 (from gradio)\n",
      "  Downloading groovy-0.1.2-py3-none-any.whl.metadata (6.1 kB)\n",
      "Requirement already satisfied: httpx>=0.24.1 in /usr/local/lib/python3.11/dist-packages (from gradio) (0.28.1)\n",
      "Requirement already satisfied: huggingface-hub>=0.28.1 in /usr/local/lib/python3.11/dist-packages (from gradio) (0.30.2)\n",
      "Requirement already satisfied: jinja2<4.0 in /usr/local/lib/python3.11/dist-packages (from gradio) (3.1.6)\n",
      "Requirement already satisfied: markupsafe<4.0,>=2.0 in /usr/local/lib/python3.11/dist-packages (from gradio) (3.0.2)\n",
      "Requirement already satisfied: numpy<3.0,>=1.0 in /usr/local/lib/python3.11/dist-packages (from gradio) (2.0.2)\n",
      "Requirement already satisfied: orjson~=3.0 in /usr/local/lib/python3.11/dist-packages (from gradio) (3.10.16)\n",
      "Requirement already satisfied: packaging in /usr/local/lib/python3.11/dist-packages (from gradio) (24.2)\n",
      "Requirement already satisfied: pandas<3.0,>=1.0 in /usr/local/lib/python3.11/dist-packages (from gradio) (2.2.2)\n",
      "Requirement already satisfied: pillow<12.0,>=8.0 in /usr/local/lib/python3.11/dist-packages (from gradio) (11.2.1)\n",
      "Requirement already satisfied: pydantic<2.12,>=2.0 in /usr/local/lib/python3.11/dist-packages (from gradio) (2.11.3)\n",
      "Collecting pydub (from gradio)\n",
      "  Downloading pydub-0.25.1-py2.py3-none-any.whl.metadata (1.4 kB)\n",
      "Collecting python-multipart>=0.0.18 (from gradio)\n",
      "  Downloading python_multipart-0.0.20-py3-none-any.whl.metadata (1.8 kB)\n",
      "Requirement already satisfied: pyyaml<7.0,>=5.0 in /usr/local/lib/python3.11/dist-packages (from gradio) (6.0.2)\n",
      "Collecting ruff>=0.9.3 (from gradio)\n",
      "  Downloading ruff-0.11.7-py3-none-manylinux_2_17_x86_64.manylinux2014_x86_64.whl.metadata (25 kB)\n",
      "Collecting safehttpx<0.2.0,>=0.1.6 (from gradio)\n",
      "  Downloading safehttpx-0.1.6-py3-none-any.whl.metadata (4.2 kB)\n",
      "Collecting semantic-version~=2.0 (from gradio)\n",
      "  Downloading semantic_version-2.10.0-py2.py3-none-any.whl.metadata (9.7 kB)\n",
      "Collecting starlette<1.0,>=0.40.0 (from gradio)\n",
      "  Downloading starlette-0.46.2-py3-none-any.whl.metadata (6.2 kB)\n",
      "Collecting tomlkit<0.14.0,>=0.12.0 (from gradio)\n",
      "  Downloading tomlkit-0.13.2-py3-none-any.whl.metadata (2.7 kB)\n",
      "Requirement already satisfied: typer<1.0,>=0.12 in /usr/local/lib/python3.11/dist-packages (from gradio) (0.15.2)\n",
      "Requirement already satisfied: typing-extensions~=4.0 in /usr/local/lib/python3.11/dist-packages (from gradio) (4.13.2)\n",
      "Collecting uvicorn>=0.14.0 (from gradio)\n",
      "  Downloading uvicorn-0.34.2-py3-none-any.whl.metadata (6.5 kB)\n",
      "Requirement already satisfied: fsspec in /usr/local/lib/python3.11/dist-packages (from gradio-client==1.10.0->gradio) (2025.3.2)\n",
      "Requirement already satisfied: websockets<16.0,>=10.0 in /usr/local/lib/python3.11/dist-packages (from gradio-client==1.10.0->gradio) (15.0.1)\n",
      "Requirement already satisfied: idna>=2.8 in /usr/local/lib/python3.11/dist-packages (from anyio<5.0,>=3.0->gradio) (3.10)\n",
      "Requirement already satisfied: sniffio>=1.1 in /usr/local/lib/python3.11/dist-packages (from anyio<5.0,>=3.0->gradio) (1.3.1)\n",
      "Requirement already satisfied: certifi in /usr/local/lib/python3.11/dist-packages (from httpx>=0.24.1->gradio) (2025.1.31)\n",
      "Requirement already satisfied: httpcore==1.* in /usr/local/lib/python3.11/dist-packages (from httpx>=0.24.1->gradio) (1.0.9)\n",
      "Requirement already satisfied: h11>=0.16 in /usr/local/lib/python3.11/dist-packages (from httpcore==1.*->httpx>=0.24.1->gradio) (0.16.0)\n",
      "Requirement already satisfied: filelock in /usr/local/lib/python3.11/dist-packages (from huggingface-hub>=0.28.1->gradio) (3.18.0)\n",
      "Requirement already satisfied: requests in /usr/local/lib/python3.11/dist-packages (from huggingface-hub>=0.28.1->gradio) (2.32.3)\n",
      "Requirement already satisfied: tqdm>=4.42.1 in /usr/local/lib/python3.11/dist-packages (from huggingface-hub>=0.28.1->gradio) (4.67.1)\n",
      "Requirement already satisfied: python-dateutil>=2.8.2 in /usr/local/lib/python3.11/dist-packages (from pandas<3.0,>=1.0->gradio) (2.9.0.post0)\n",
      "Requirement already satisfied: pytz>=2020.1 in /usr/local/lib/python3.11/dist-packages (from pandas<3.0,>=1.0->gradio) (2025.2)\n",
      "Requirement already satisfied: tzdata>=2022.7 in /usr/local/lib/python3.11/dist-packages (from pandas<3.0,>=1.0->gradio) (2025.2)\n",
      "Requirement already satisfied: annotated-types>=0.6.0 in /usr/local/lib/python3.11/dist-packages (from pydantic<2.12,>=2.0->gradio) (0.7.0)\n",
      "Requirement already satisfied: pydantic-core==2.33.1 in /usr/local/lib/python3.11/dist-packages (from pydantic<2.12,>=2.0->gradio) (2.33.1)\n",
      "Requirement already satisfied: typing-inspection>=0.4.0 in /usr/local/lib/python3.11/dist-packages (from pydantic<2.12,>=2.0->gradio) (0.4.0)\n",
      "Requirement already satisfied: click>=8.0.0 in /usr/local/lib/python3.11/dist-packages (from typer<1.0,>=0.12->gradio) (8.1.8)\n",
      "Requirement already satisfied: shellingham>=1.3.0 in /usr/local/lib/python3.11/dist-packages (from typer<1.0,>=0.12->gradio) (1.5.4)\n",
      "Requirement already satisfied: rich>=10.11.0 in /usr/local/lib/python3.11/dist-packages (from typer<1.0,>=0.12->gradio) (13.9.4)\n",
      "Requirement already satisfied: six>=1.5 in /usr/local/lib/python3.11/dist-packages (from python-dateutil>=2.8.2->pandas<3.0,>=1.0->gradio) (1.17.0)\n",
      "Requirement already satisfied: markdown-it-py>=2.2.0 in /usr/local/lib/python3.11/dist-packages (from rich>=10.11.0->typer<1.0,>=0.12->gradio) (3.0.0)\n",
      "Requirement already satisfied: pygments<3.0.0,>=2.13.0 in /usr/local/lib/python3.11/dist-packages (from rich>=10.11.0->typer<1.0,>=0.12->gradio) (2.19.1)\n",
      "Requirement already satisfied: charset-normalizer<4,>=2 in /usr/local/lib/python3.11/dist-packages (from requests->huggingface-hub>=0.28.1->gradio) (3.4.1)\n",
      "Requirement already satisfied: urllib3<3,>=1.21.1 in /usr/local/lib/python3.11/dist-packages (from requests->huggingface-hub>=0.28.1->gradio) (2.4.0)\n",
      "Requirement already satisfied: mdurl~=0.1 in /usr/local/lib/python3.11/dist-packages (from markdown-it-py>=2.2.0->rich>=10.11.0->typer<1.0,>=0.12->gradio) (0.1.2)\n",
      "Downloading gradio-5.28.0-py3-none-any.whl (54.1 MB)\n",
      "\u001b[2K   \u001b[90m\u2501\u2501\u2501\u2501\u2501\u2501\u2501\u2501\u2501\u2501\u2501\u2501\u2501\u2501\u2501\u2501\u2501\u2501\u2501\u2501\u2501\u2501\u2501\u2501\u2501\u2501\u2501\u2501\u2501\u2501\u2501\u2501\u2501\u2501\u2501\u2501\u2501\u2501\u2501\u2501\u001b[0m \u001b[32m54.1/54.1 MB\u001b[0m \u001b[31m15.6 MB/s\u001b[0m eta \u001b[36m0:00:00\u001b[0m\n",
      "\u001b[?25hDownloading gradio_client-1.10.0-py3-none-any.whl (322 kB)\n",
      "\u001b[2K   \u001b[90m\u2501\u2501\u2501\u2501\u2501\u2501\u2501\u2501\u2501\u2501\u2501\u2501\u2501\u2501\u2501\u2501\u2501\u2501\u2501\u2501\u2501\u2501\u2501\u2501\u2501\u2501\u2501\u2501\u2501\u2501\u2501\u2501\u2501\u2501\u2501\u2501\u2501\u2501\u2501\u2501\u001b[0m \u001b[32m322.9/322.9 kB\u001b[0m \u001b[31m26.6 MB/s\u001b[0m eta \u001b[36m0:00:00\u001b[0m\n",
      "\u001b[?25hDownloading aiofiles-24.1.0-py3-none-any.whl (15 kB)\n",
      "Downloading fastapi-0.115.12-py3-none-any.whl (95 kB)\n",
      "\u001b[2K   \u001b[90m\u2501\u2501\u2501\u2501\u2501\u2501\u2501\u2501\u2501\u2501\u2501\u2501\u2501\u2501\u2501\u2501\u2501\u2501\u2501\u2501\u2501\u2501\u2501\u2501\u2501\u2501\u2501\u2501\u2501\u2501\u2501\u2501\u2501\u2501\u2501\u2501\u2501\u2501\u2501\u2501\u001b[0m \u001b[32m95.2/95.2 kB\u001b[0m \u001b[31m9.3 MB/s\u001b[0m eta \u001b[36m0:00:00\u001b[0m\n",
      "\u001b[?25hDownloading groovy-0.1.2-py3-none-any.whl (14 kB)\n",
      "Downloading python_multipart-0.0.20-py3-none-any.whl (24 kB)\n",
      "Downloading ruff-0.11.7-py3-none-manylinux_2_17_x86_64.manylinux2014_x86_64.whl (11.5 MB)\n",
      "\u001b[2K   \u001b[90m\u2501\u2501\u2501\u2501\u2501\u2501\u2501\u2501\u2501\u2501\u2501\u2501\u2501\u2501\u2501\u2501\u2501\u2501\u2501\u2501\u2501\u2501\u2501\u2501\u2501\u2501\u2501\u2501\u2501\u2501\u2501\u2501\u2501\u2501\u2501\u2501\u2501\u2501\u2501\u2501\u001b[0m \u001b[32m11.5/11.5 MB\u001b[0m \u001b[31m97.4 MB/s\u001b[0m eta \u001b[36m0:00:00\u001b[0m\n",
      "\u001b[?25hDownloading safehttpx-0.1.6-py3-none-any.whl (8.7 kB)\n",
      "Downloading semantic_version-2.10.0-py2.py3-none-any.whl (15 kB)\n",
      "Downloading starlette-0.46.2-py3-none-any.whl (72 kB)\n",
      "\u001b[2K   \u001b[90m\u2501\u2501\u2501\u2501\u2501\u2501\u2501\u2501\u2501\u2501\u2501\u2501\u2501\u2501\u2501\u2501\u2501\u2501\u2501\u2501\u2501\u2501\u2501\u2501\u2501\u2501\u2501\u2501\u2501\u2501\u2501\u2501\u2501\u2501\u2501\u2501\u2501\u2501\u2501\u2501\u001b[0m \u001b[32m72.0/72.0 kB\u001b[0m \u001b[31m6.3 MB/s\u001b[0m eta \u001b[36m0:00:00\u001b[0m\n",
      "\u001b[?25hDownloading tomlkit-0.13.2-py3-none-any.whl (37 kB)\n",
      "Downloading uvicorn-0.34.2-py3-none-any.whl (62 kB)\n",
      "\u001b[2K   \u001b[90m\u2501\u2501\u2501\u2501\u2501\u2501\u2501\u2501\u2501\u2501\u2501\u2501\u2501\u2501\u2501\u2501\u2501\u2501\u2501\u2501\u2501\u2501\u2501\u2501\u2501\u2501\u2501\u2501\u2501\u2501\u2501\u2501\u2501\u2501\u2501\u2501\u2501\u2501\u2501\u2501\u001b[0m \u001b[32m62.5/62.5 kB\u001b[0m \u001b[31m5.4 MB/s\u001b[0m eta \u001b[36m0:00:00\u001b[0m\n",
      "\u001b[?25hDownloading ffmpy-0.5.0-py3-none-any.whl (6.0 kB)\n",
      "Downloading pydub-0.25.1-py2.py3-none-any.whl (32 kB)\n",
      "Installing collected packages: pydub, uvicorn, tomlkit, semantic-version, ruff, python-multipart, groovy, ffmpy, aiofiles, starlette, safehttpx, gradio-client, fastapi, gradio\n",
      "Successfully installed aiofiles-24.1.0 fastapi-0.115.12 ffmpy-0.5.0 gradio-5.28.0 gradio-client-1.10.0 groovy-0.1.2 pydub-0.25.1 python-multipart-0.0.20 ruff-0.11.7 safehttpx-0.1.6 semantic-version-2.10.0 starlette-0.46.2 tomlkit-0.13.2 uvicorn-0.34.2\n"
     ]
    }
   ]
  },
  {
   "cell_type": "code",
   "source": [
    "import gradio as gr\n",
    "\n",
    "def predict_from_gradio(text, image):\n",
    "    model.eval()\n",
    "\n",
    "    try:\n",
    "        image_input = preprocess(image).unsqueeze(0).to(device)\n",
    "    except:\n",
    "        image_input = preprocess(Image.new(\"RGB\", (224, 224), (255, 255, 255))).unsqueeze(0).to(device)\n",
    "\n",
    "    text_input = clip.tokenize([text]).to(device)\n",
    "\n",
    "    with torch.no_grad():\n",
    "        image_features = clip_model.encode_image(image_input).float()\n",
    "        text_features = clip_model.encode_text(text_input).float()\n",
    "        outputs = model(image_features, text_features)\n",
    "        _, predicted = torch.max(outputs, 1)\n",
    "\n",
    "    label = predicted.item()\n",
    "    return \"Fake News\" if label == 0 else \"Real News\""
   ],
   "metadata": {
    "id": "DQfYvLQIwfTl"
   },
   "execution_count": null,
   "outputs": []
  },
  {
   "cell_type": "code",
   "source": [
    "interface = gr.Interface(\n",
    "    fn=predict_from_gradio,\n",
    "    inputs=[\n",
    "        gr.Textbox(label=\"News Headline / Description\", placeholder=\"Enter the news content here...\"),\n",
    "        gr.Image(type=\"pil\", label=\"Associated Image\", sources=[\"upload\", \"clipboard\"])\n",
    "    ],\n",
    "    outputs=gr.Textbox(label=\"Result\"),\n",
    "    title=\"\ud83d\udcf0 Fake News Detection\",\n",
    "    description=\"This app uses OpenAI's CLIP model to detect fake news based on text + image.\"\n",
    ")\n",
    "\n",
    "interface.launch()"
   ],
   "metadata": {
    "id": "WvqGWgIxw_7Q",
    "colab": {
     "base_uri": "https://localhost:8080/",
     "height": 646
    },
    "outputId": "2398036c-c19d-4fae-8ecc-ae0c2c91b540"
   },
   "execution_count": null,
   "outputs": [
    {
     "output_type": "stream",
     "name": "stdout",
     "text": [
      "It looks like you are running Gradio on a hosted a Jupyter notebook. For the Gradio app to work, sharing must be enabled. Automatically setting `share=True` (you can turn this off by setting `share=False` in `launch()` explicitly).\n",
      "\n",
      "Colab notebook detected. To show errors in colab notebook, set debug=True in launch()\n",
      "* Running on public URL: https://f132d1ec215799f3a4.gradio.live\n",
      "\n",
      "This share link expires in 1 week. For free permanent hosting and GPU upgrades, run `gradio deploy` from the terminal in the working directory to deploy to Hugging Face Spaces (https://huggingface.co/spaces)\n"
     ]
    },
    {
     "output_type": "display_data",
     "data": {
      "text/plain": [
       "<IPython.core.display.HTML object>"
      ],
      "text/html": [
       "<div><iframe src=\"https://f132d1ec215799f3a4.gradio.live\" width=\"100%\" height=\"500\" allow=\"autoplay; camera; microphone; clipboard-read; clipboard-write;\" frameborder=\"0\" allowfullscreen></iframe></div>"
      ]
     },
     "metadata": {}
    },
    {
     "output_type": "execute_result",
     "data": {
      "text/plain": []
     },
     "metadata": {},
     "execution_count": 29
    }
   ]
  }
 ]
}